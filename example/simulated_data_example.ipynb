{
 "cells": [
  {
   "cell_type": "markdown",
   "metadata": {},
   "source": [
    "# <center> RCA$^{++}$ on simulated data </center>"
   ]
  },
  {
   "cell_type": "code",
   "execution_count": 1,
   "metadata": {},
   "outputs": [],
   "source": [
    "import numpy as np\n",
    "import os\n",
    "from astropy.io import fits\n",
    "import matplotlib.pyplot as plt\n",
    "import rca"
   ]
  },
  {
   "cell_type": "markdown",
   "metadata": {},
   "source": [
    "Define a function for visual inspection:"
   ]
  },
  {
   "cell_type": "code",
   "execution_count": 2,
   "metadata": {},
   "outputs": [],
   "source": [
    "def plot_func(im, cmap='gist_stern', title=''):\n",
    "    plt.imshow(im, cmap=cmap, interpolation='Nearest')\n",
    "    plt.title(title)\n",
    "    plt.colorbar()\n",
    "    plt.xticks([])\n",
    "    plt.yticks([])\n",
    "    plt.show()\n",
    "    plt.close()"
   ]
  },
  {
   "cell_type": "markdown",
   "metadata": {},
   "source": [
    "# Prepare data"
   ]
  },
  {
   "cell_type": "markdown",
   "metadata": {},
   "source": [
    "Load data; `RCADECONV_data.fits` is splitted into 2 hdu, the first one contains 625 simulated observed stars and their positions and the second one contains 625 simulated observed galaxies and their positions.`RCADECONV_groundtruth.fits` is also splitted into 2 hdu, the first one contains 625 simulated PSFs and their positions and the second one contains 625 simulated true galaxies and their positions.\n",
    "All the data are simulated at the same positions."
   ]
  },
  {
   "cell_type": "code",
   "execution_count": 3,
   "metadata": {},
   "outputs": [],
   "source": [
    "hdulist1 = fits.open('RCADECONV_data.fits')\n",
    "hdulist2 = fits.open('RCADECONV_groundtruth.fits')"
   ]
  },
  {
   "cell_type": "code",
   "execution_count": 4,
   "metadata": {},
   "outputs": [],
   "source": [
    "hdu1_1 = hdulist1[0]\n",
    "hdu1_2 = hdulist1[1]\n",
    "hdu2_1 = hdulist2[0]\n",
    "hdu2_2 = hdulist2[1]"
   ]
  },
  {
   "cell_type": "markdown",
   "metadata": {},
   "source": [
    "For each hdu, retrieve the data and their related positons in arrays:"
   ]
  },
  {
   "cell_type": "code",
   "execution_count": 5,
   "metadata": {},
   "outputs": [],
   "source": [
    "def separate(hdu):\n",
    "    obs, obs_pos = [], []\n",
    "    for m in range(25):\n",
    "        for n in range(25):\n",
    "            obs.append([[hdu.data[51*m+i][51*n+j] for i in range(51)] for j in range(51)])\n",
    "            obs_pos.append([51*m+12, 51*n+12])\n",
    "    return np.array(obs), np.array(obs_pos)"
   ]
  },
  {
   "cell_type": "code",
   "execution_count": 6,
   "metadata": {},
   "outputs": [],
   "source": [
    "galaxies, galaxies_pos = separate(hdu1_1)\n",
    "stars, stars_pos = separate(hdu1_2)\n",
    "galaxies_truth, _ = separate(hdu2_1)\n",
    "PSFs_truth, _ = separate(hdu2_2)"
   ]
  },
  {
   "cell_type": "markdown",
   "metadata": {},
   "source": [
    "Split them into stars and 'train' and 'test' galaxies:"
   ]
  },
  {
   "cell_type": "code",
   "execution_count": 7,
   "metadata": {},
   "outputs": [],
   "source": [
    "gal_idx = np.random.choice(galaxies.shape[0], 156 , False)\n",
    "star_idx = np.random.choice(list(set(range(galaxies.shape[0])) - set(gal_idx)),313,False)\n",
    "test_idx = list(set(range(galaxies.shape[0])) - set(gal_idx)- set(star_idx))"
   ]
  },
  {
   "cell_type": "code",
   "execution_count": 8,
   "metadata": {},
   "outputs": [],
   "source": [
    "train_galaxies, train_galaxies_pos = galaxies[gal_idx], galaxies_pos[gal_idx]\n",
    "test_galaxies, test_galaxies_pos = galaxies[test_idx], galaxies_pos[test_idx]\n",
    "stars, stars_pos = stars[star_idx], stars_pos[star_idx]"
   ]
  },
  {
   "cell_type": "markdown",
   "metadata": {},
   "source": [
    "Retrieve the ground truth PSFs at the positions of the 'test' galaxies set to compare the PSFs estimate model:"
   ]
  },
  {
   "cell_type": "code",
   "execution_count": 9,
   "metadata": {},
   "outputs": [],
   "source": [
    "test_PSFs_truth = PSFs_truth[test_idx]"
   ]
  },
  {
   "cell_type": "markdown",
   "metadata": {},
   "source": [
    "# Run RCA$^{++}$"
   ]
  },
  {
   "cell_type": "markdown",
   "metadata": {},
   "source": [
    "RCA$^{++}$ needs data to be in $(p\\times p\\times n_\\rm{stars})$ format:"
   ]
  },
  {
   "cell_type": "code",
   "execution_count": 10,
   "metadata": {},
   "outputs": [],
   "source": [
    "stars = rca.utils.rca_format(stars)\n",
    "train_galaxies = rca.utils.rca_format(train_galaxies)"
   ]
  },
  {
   "cell_type": "markdown",
   "metadata": {},
   "source": [
    "RCA$^{++}$ expects at least one parameter: `n_comp` is the number of eigenPSFs."
   ]
  },
  {
   "cell_type": "code",
   "execution_count": 11,
   "metadata": {},
   "outputs": [],
   "source": [
    "n_comp = 4"
   ]
  },
  {
   "cell_type": "code",
   "execution_count": 12,
   "metadata": {},
   "outputs": [],
   "source": [
    "rca_runner = rca.RCA(n_comp)"
   ]
  },
  {
   "cell_type": "code",
   "execution_count": null,
   "metadata": {
    "scrolled": true
   },
   "outputs": [
    {
     "name": "stdout",
     "output_type": "stream",
     "text": [
      "WARNING: neither shifts nor an estimated PSF size were provided to RCA;\n",
      "the shifts will be estimated from the data using the default Gaussian\n",
      "window of 7.5 pixels.\n",
      "Running basic initialization tasks...\n"
     ]
    },
    {
     "name": "stderr",
     "output_type": "stream",
     "text": [
      "/Users/charles/anaconda2/lib/python2.7/site-packages/modopt/signal/wavelet.py:160: FutureWarning: Using a non-tuple sequence for multidimensional indexing is deprecated; use `arr[tuple(seq)]` instead of `arr[seq]`. In the future this will be interpreted as an array index, `arr[np.array(seq)]`, which will result either in an error or a different result.\n",
      "  fake_data[list(zip(data_shape // 2))] = 1\n"
     ]
    },
    {
     "name": "stdout",
     "output_type": "stream",
     "text": [
      "... Done.\n",
      "Constructing graph constraint...\n",
      " > power max =  4.899635092318147\n",
      " > selected e: 0.0199024747603\tselected a: 0.613757535399\t chosen index: 4/5\n",
      " > selected e: 1.23694267422\tselected a: 0.613757535399\t chosen index: 1/5\n",
      " > selected e: 1.23694267422\tselected a: 0.340854253267\t chosen index: 0/5\n",
      " > selected e: 1.23694267422\tselected a: 0.613757535399\t chosen index: 2/5\n",
      "... Done.\n"
     ]
    },
    {
     "name": "stderr",
     "output_type": "stream",
     "text": [
      "/Users/charles/anaconda2/lib/python2.7/site-packages/modopt/base/types.py:137: FutureWarning: Conversion of the second argument of issubdtype from `'float'` to `np.floating` is deprecated. In future, it will be treated as `np.float64 == np.dtype('float').type`.\n",
      "  (not np.issubdtype(val.dtype, dtype))):\n",
      "WARNING: Making input data immutable.\n",
      "N/A% (0 of 200) |                        | Elapsed Time: 0:00:00 ETA:  --:--:--"
     ]
    },
    {
     "name": "stdout",
     "output_type": "stream",
     "text": [
      " - ITERATION: 1\n",
      " - COST: 2450.524855175574\n",
      "\n"
     ]
    },
    {
     "name": "stderr",
     "output_type": "stream",
     "text": [
      "\r",
      "                                                                               \r",
      "\r",
      "N/A% (0 of 200) |                        | Elapsed Time: 0:00:03 ETA:  --:--:--"
     ]
    },
    {
     "name": "stdout",
     "output_type": "stream",
     "text": [
      " - ITERATION: 2\n"
     ]
    },
    {
     "name": "stderr",
     "output_type": "stream",
     "text": [
      "\r",
      "                                                                               \r",
      "\r",
      "  0% (1 of 200) |                        | Elapsed Time: 0:00:07 ETA:   0:12:11"
     ]
    },
    {
     "name": "stdout",
     "output_type": "stream",
     "text": [
      " - COST: 2381.730852384805\n",
      "\n",
      " - ITERATION: 3\n"
     ]
    },
    {
     "name": "stderr",
     "output_type": "stream",
     "text": [
      "\r",
      "                                                                               \r",
      "\r",
      "  1% (2 of 200) |                        | Elapsed Time: 0:00:11 ETA:   0:12:41"
     ]
    },
    {
     "name": "stdout",
     "output_type": "stream",
     "text": [
      " - COST: 2324.5325425430015\n",
      "\n",
      " - ITERATION: 4\n"
     ]
    },
    {
     "name": "stderr",
     "output_type": "stream",
     "text": [
      "\r",
      "                                                                               \r",
      "\r",
      "  1% (3 of 200) |                        | Elapsed Time: 0:00:15 ETA:   0:14:22"
     ]
    },
    {
     "name": "stdout",
     "output_type": "stream",
     "text": [
      " - COST: 2276.757772840566\n",
      "\n",
      " - CONVERGENCE TEST - \n",
      " - CHANGE IN COST: 0.05019578777818516\n",
      "\n",
      " - ITERATION: 5\n"
     ]
    },
    {
     "name": "stderr",
     "output_type": "stream",
     "text": [
      "\r",
      "                                                                               \r",
      "\r",
      "  2% (4 of 200) |                        | Elapsed Time: 0:00:19 ETA:   0:12:08"
     ]
    },
    {
     "name": "stdout",
     "output_type": "stream",
     "text": [
      " - COST: 2236.675982355011\n",
      "\n",
      " - ITERATION: 6\n"
     ]
    },
    {
     "name": "stderr",
     "output_type": "stream",
     "text": [
      "\r",
      "                                                                               \r",
      "\r",
      "  2% (5 of 200) |                        | Elapsed Time: 0:00:22 ETA:   0:11:44"
     ]
    },
    {
     "name": "stdout",
     "output_type": "stream",
     "text": [
      " - COST: 2202.903107415718\n",
      "\n",
      " - ITERATION: 7\n"
     ]
    },
    {
     "name": "stderr",
     "output_type": "stream",
     "text": [
      "\r",
      "                                                                               \r",
      "\r",
      "  3% (6 of 200) |                        | Elapsed Time: 0:00:26 ETA:   0:11:56"
     ]
    },
    {
     "name": "stdout",
     "output_type": "stream",
     "text": [
      " - COST: 2174.3277911000023\n",
      "\n",
      " - ITERATION: 8\n"
     ]
    },
    {
     "name": "stderr",
     "output_type": "stream",
     "text": [
      "\r",
      "                                                                               \r",
      "\r",
      "  3% (7 of 200) |                        | Elapsed Time: 0:00:30 ETA:   0:13:28"
     ]
    },
    {
     "name": "stdout",
     "output_type": "stream",
     "text": [
      " - COST: 2150.053728872236\n",
      "\n",
      " - CONVERGENCE TEST - \n",
      " - CHANGE IN COST: 0.026639085674205136\n",
      "\n",
      " - ITERATION: 9\n"
     ]
    },
    {
     "name": "stderr",
     "output_type": "stream",
     "text": [
      "\r",
      "                                                                               \r",
      "\r",
      "  4% (8 of 200) |                        | Elapsed Time: 0:00:34 ETA:   0:11:27"
     ]
    },
    {
     "name": "stdout",
     "output_type": "stream",
     "text": [
      " - COST: 2129.3548514414533\n",
      "\n",
      " - ITERATION: 10\n"
     ]
    },
    {
     "name": "stderr",
     "output_type": "stream",
     "text": [
      "\r",
      "                                                                               \r",
      "\r",
      "  4% (9 of 200) |#                       | Elapsed Time: 0:00:37 ETA:   0:11:28"
     ]
    },
    {
     "name": "stdout",
     "output_type": "stream",
     "text": [
      " - COST: 2111.6407482994077\n",
      "\n",
      " - ITERATION: 11\n"
     ]
    },
    {
     "name": "stderr",
     "output_type": "stream",
     "text": [
      "\r",
      "                                                                               \r",
      "\r",
      "  5% (10 of 200) |#                      | Elapsed Time: 0:00:41 ETA:   0:11:30"
     ]
    },
    {
     "name": "stdout",
     "output_type": "stream",
     "text": [
      " - COST: 2096.4287102402664\n",
      "\n",
      " - ITERATION: 12\n"
     ]
    },
    {
     "name": "stderr",
     "output_type": "stream",
     "text": [
      "\r",
      "                                                                               \r",
      "\r",
      "  5% (11 of 200) |#                      | Elapsed Time: 0:00:45 ETA:   0:11:27"
     ]
    },
    {
     "name": "stdout",
     "output_type": "stream",
     "text": [
      " - COST: 2083.322210829029\n",
      "\n",
      " - CONVERGENCE TEST - \n",
      " - CHANGE IN COST: 0.014652710132281827\n",
      "\n",
      " - ITERATION: 13\n"
     ]
    },
    {
     "name": "stderr",
     "output_type": "stream",
     "text": [
      "\r",
      "                                                                               \r",
      "\r",
      "  6% (12 of 200) |#                      | Elapsed Time: 0:00:48 ETA:   0:11:32"
     ]
    },
    {
     "name": "stdout",
     "output_type": "stream",
     "text": [
      " - COST: 2071.9944956971576\n",
      "\n",
      " - ITERATION: 14\n"
     ]
    },
    {
     "name": "stderr",
     "output_type": "stream",
     "text": [
      "\r",
      "                                                                               \r",
      "\r",
      "  6% (13 of 200) |#                      | Elapsed Time: 0:00:52 ETA:   0:11:15"
     ]
    },
    {
     "name": "stdout",
     "output_type": "stream",
     "text": [
      " - COST: 2062.175139688748\n",
      "\n",
      " - ITERATION: 15\n"
     ]
    },
    {
     "name": "stderr",
     "output_type": "stream",
     "text": [
      "\r",
      "                                                                               \r",
      "\r",
      "  7% (14 of 200) |#                      | Elapsed Time: 0:00:57 ETA:   0:15:21"
     ]
    },
    {
     "name": "stdout",
     "output_type": "stream",
     "text": [
      " - COST: 2053.6393696476002\n",
      "\n",
      " - ITERATION: 16\n"
     ]
    },
    {
     "name": "stderr",
     "output_type": "stream",
     "text": [
      "\r",
      "                                                                               \r",
      "\r",
      "  7% (15 of 200) |#                      | Elapsed Time: 0:01:01 ETA:   0:11:05"
     ]
    },
    {
     "name": "stdout",
     "output_type": "stream",
     "text": [
      " - COST: 2046.1994928211184\n",
      "\n",
      " - CONVERGENCE TEST - \n",
      " - CHANGE IN COST: 0.008373688349428246\n",
      "\n",
      " - ITERATION: 17\n"
     ]
    },
    {
     "name": "stderr",
     "output_type": "stream",
     "text": [
      "\r",
      "                                                                               \r",
      "\r",
      "  8% (16 of 200) |#                      | Elapsed Time: 0:01:04 ETA:   0:11:12"
     ]
    },
    {
     "name": "stdout",
     "output_type": "stream",
     "text": [
      " - COST: 2039.6984011504899\n",
      "\n",
      " - ITERATION: 18\n"
     ]
    },
    {
     "name": "stderr",
     "output_type": "stream",
     "text": [
      "\r",
      "                                                                               \r",
      "\r",
      "  8% (17 of 200) |#                      | Elapsed Time: 0:01:08 ETA:   0:10:54"
     ]
    },
    {
     "name": "stdout",
     "output_type": "stream",
     "text": [
      " - COST: 2034.0039808864722\n",
      "\n",
      " - ITERATION: 19\n"
     ]
    },
    {
     "name": "stderr",
     "output_type": "stream",
     "text": [
      "\r",
      "                                                                               \r",
      "\r",
      "  9% (18 of 200) |##                     | Elapsed Time: 0:01:12 ETA:   0:11:12"
     ]
    },
    {
     "name": "stdout",
     "output_type": "stream",
     "text": [
      " - COST: 2029.004605392358\n",
      "\n",
      " - ITERATION: 20\n"
     ]
    },
    {
     "name": "stderr",
     "output_type": "stream",
     "text": [
      "\r",
      "                                                                               \r",
      "\r",
      "  9% (19 of 200) |##                     | Elapsed Time: 0:01:15 ETA:   0:10:52"
     ]
    },
    {
     "name": "stdout",
     "output_type": "stream",
     "text": [
      " - COST: 2024.605923852426\n",
      "\n",
      " - CONVERGENCE TEST - \n",
      " - CHANGE IN COST: 0.0049565326138823204\n",
      "\n",
      " - ITERATION: 21\n"
     ]
    },
    {
     "name": "stderr",
     "output_type": "stream",
     "text": [
      "\r",
      "                                                                               \r",
      "\r",
      " 10% (20 of 200) |##                     | Elapsed Time: 0:01:19 ETA:   0:11:02"
     ]
    },
    {
     "name": "stdout",
     "output_type": "stream",
     "text": [
      " - COST: 2020.7277916913604\n",
      "\n",
      " - ITERATION: 22\n"
     ]
    },
    {
     "name": "stderr",
     "output_type": "stream",
     "text": [
      "\r",
      "                                                                               \r",
      "\r",
      " 10% (21 of 200) |##                     | Elapsed Time: 0:01:22 ETA:   0:10:48"
     ]
    },
    {
     "name": "stdout",
     "output_type": "stream",
     "text": [
      " - COST: 2017.3019201729198\n",
      "\n",
      " - ITERATION: 23\n"
     ]
    },
    {
     "name": "stderr",
     "output_type": "stream",
     "text": [
      "\r",
      "                                                                               \r",
      "\r",
      " 11% (22 of 200) |##                     | Elapsed Time: 0:01:27 ETA:   0:12:08"
     ]
    },
    {
     "name": "stdout",
     "output_type": "stream",
     "text": [
      " - COST: 2014.2699446631593\n",
      "\n",
      " - ITERATION: 24\n"
     ]
    },
    {
     "name": "stderr",
     "output_type": "stream",
     "text": [
      "\r",
      "                                                                               \r",
      "\r",
      " 11% (23 of 200) |##                     | Elapsed Time: 0:01:30 ETA:   0:10:53"
     ]
    },
    {
     "name": "stdout",
     "output_type": "stream",
     "text": [
      " - COST: 2011.581596584352\n",
      "\n",
      " - CONVERGENCE TEST - \n",
      " - CHANGE IN COST: 0.0030249924747585834\n",
      "\n",
      " - ITERATION: 25\n"
     ]
    },
    {
     "name": "stderr",
     "output_type": "stream",
     "text": [
      "\r",
      "                                                                               \r",
      "\r",
      " 12% (24 of 200) |##                     | Elapsed Time: 0:01:34 ETA:   0:10:35"
     ]
    },
    {
     "name": "stdout",
     "output_type": "stream",
     "text": [
      " - COST: 2009.1937594583871\n",
      "\n",
      " - ITERATION: 26\n"
     ]
    },
    {
     "name": "stderr",
     "output_type": "stream",
     "text": [
      "\r",
      "                                                                               \r",
      "\r",
      " 12% (25 of 200) |##                     | Elapsed Time: 0:01:38 ETA:   0:10:56"
     ]
    },
    {
     "name": "stdout",
     "output_type": "stream",
     "text": [
      " - COST: 2007.0693686285897\n",
      "\n",
      " - ITERATION: 27\n"
     ]
    },
    {
     "name": "stderr",
     "output_type": "stream",
     "text": [
      "\r",
      "                                                                               \r",
      "\r",
      " 13% (26 of 200) |##                     | Elapsed Time: 0:01:41 ETA:   0:10:35"
     ]
    },
    {
     "name": "stdout",
     "output_type": "stream",
     "text": [
      " - COST: 2005.1764043844591\n",
      "\n",
      " - ITERATION: 28\n"
     ]
    },
    {
     "name": "stderr",
     "output_type": "stream",
     "text": [
      "\r",
      "                                                                               \r",
      "\r",
      " 13% (27 of 200) |###                    | Elapsed Time: 0:01:45 ETA:   0:10:22"
     ]
    },
    {
     "name": "stdout",
     "output_type": "stream",
     "text": [
      " - COST: 2003.487221474303\n",
      "\n",
      " - CONVERGENCE TEST - \n",
      " - CHANGE IN COST: 0.0018957694976431247\n",
      "\n",
      " - ITERATION: 29\n"
     ]
    },
    {
     "name": "stderr",
     "output_type": "stream",
     "text": [
      " 14% (28 of 200) |###                    | Elapsed Time: 0:01:49 ETA:   0:10:33"
     ]
    },
    {
     "name": "stdout",
     "output_type": "stream",
     "text": [
      " - COST: 2001.9776691958864\n",
      "\n",
      " - ITERATION: 30\n",
      " - COST: 2000.6268517610356\n"
     ]
    },
    {
     "name": "stderr",
     "output_type": "stream",
     "text": [
      "\r",
      "                                                                               \r",
      "\r",
      " 14% (29 of 200) |###                    | Elapsed Time: 0:01:52 ETA:   0:10:30"
     ]
    },
    {
     "name": "stdout",
     "output_type": "stream",
     "text": [
      "\n",
      " - ITERATION: 31\n"
     ]
    },
    {
     "name": "stderr",
     "output_type": "stream",
     "text": [
      "\r",
      "                                                                               \r",
      "\r",
      " 15% (30 of 200) |###                    | Elapsed Time: 0:01:56 ETA:   0:10:43"
     ]
    },
    {
     "name": "stdout",
     "output_type": "stream",
     "text": [
      " - COST: 1999.416463775343\n",
      "\n",
      " - ITERATION: 32\n"
     ]
    },
    {
     "name": "stderr",
     "output_type": "stream",
     "text": [
      "\r",
      "                                                                               \r",
      "\r",
      " 15% (31 of 200) |###                    | Elapsed Time: 0:02:00 ETA:   0:10:07"
     ]
    },
    {
     "name": "stdout",
     "output_type": "stream",
     "text": [
      " - COST: 1998.3305251430518\n",
      "\n",
      " - CONVERGENCE TEST - \n",
      " - CHANGE IN COST: 0.0012150673997108857\n",
      "\n",
      " - ITERATION: 33\n"
     ]
    },
    {
     "name": "stderr",
     "output_type": "stream",
     "text": [
      "\r",
      "                                                                               \r",
      "\r",
      " 16% (32 of 200) |###                    | Elapsed Time: 0:02:03 ETA:   0:10:12"
     ]
    },
    {
     "name": "stdout",
     "output_type": "stream",
     "text": [
      " - COST: 1997.3550830166357\n",
      "\n",
      " - ITERATION: 34\n"
     ]
    },
    {
     "name": "stderr",
     "output_type": "stream",
     "text": [
      "\r",
      "                                                                               \r",
      "\r",
      " 16% (33 of 200) |###                    | Elapsed Time: 0:02:07 ETA:   0:10:14"
     ]
    },
    {
     "name": "stdout",
     "output_type": "stream",
     "text": [
      " - COST: 1996.4779175631477\n",
      "\n",
      " - ITERATION: 35\n"
     ]
    },
    {
     "name": "stderr",
     "output_type": "stream",
     "text": [
      "\r",
      "                                                                               \r",
      "\r",
      " 17% (34 of 200) |###                    | Elapsed Time: 0:02:11 ETA:   0:10:01"
     ]
    },
    {
     "name": "stdout",
     "output_type": "stream",
     "text": [
      " - COST: 1995.6881723481017\n",
      "\n",
      " - ITERATION: 36\n"
     ]
    },
    {
     "name": "stderr",
     "output_type": "stream",
     "text": [
      "\r",
      "                                                                               \r",
      "\r",
      " 17% (35 of 200) |####                   | Elapsed Time: 0:02:14 ETA:   0:10:18"
     ]
    },
    {
     "name": "stdout",
     "output_type": "stream",
     "text": [
      " - COST: 1994.9761778385493\n",
      "\n",
      " - CONVERGENCE TEST - \n",
      " - CHANGE IN COST: 0.0007940157615571289\n",
      "\n",
      " - ITERATION: 37\n"
     ]
    },
    {
     "name": "stderr",
     "output_type": "stream",
     "text": [
      "\r",
      "                                                                               \r",
      "\r",
      " 18% (36 of 200) |####                   | Elapsed Time: 0:02:18 ETA:   0:10:17"
     ]
    },
    {
     "name": "stdout",
     "output_type": "stream",
     "text": [
      " - COST: 1994.3335668454602\n",
      "\n",
      " - ITERATION: 38\n"
     ]
    },
    {
     "name": "stderr",
     "output_type": "stream",
     "text": [
      "\r",
      "                                                                               \r",
      "\r",
      " 18% (37 of 200) |####                   | Elapsed Time: 0:02:22 ETA:   0:11:59"
     ]
    },
    {
     "name": "stdout",
     "output_type": "stream",
     "text": [
      " - COST: 1993.7530665414374\n",
      "\n",
      " - ITERATION: 39\n"
     ]
    },
    {
     "name": "stderr",
     "output_type": "stream",
     "text": [
      "\r",
      "                                                                               \r",
      "\r",
      " 19% (38 of 200) |####                   | Elapsed Time: 0:02:26 ETA:   0:09:52"
     ]
    },
    {
     "name": "stdout",
     "output_type": "stream",
     "text": [
      " - COST: 1993.2281193252834\n",
      "\n",
      " - ITERATION: 40\n"
     ]
    },
    {
     "name": "stderr",
     "output_type": "stream",
     "text": [
      "\r",
      "                                                                               \r",
      "\r",
      " 19% (39 of 200) |####                   | Elapsed Time: 0:02:30 ETA:   0:10:05"
     ]
    },
    {
     "name": "stdout",
     "output_type": "stream",
     "text": [
      " - COST: 1992.7529898103726\n",
      "\n",
      " - CONVERGENCE TEST - \n",
      " - CHANGE IN COST: 0.0005282323707997148\n",
      "\n",
      " - ITERATION: 41\n"
     ]
    },
    {
     "name": "stderr",
     "output_type": "stream",
     "text": [
      "\r",
      "                                                                               \r",
      "\r",
      " 20% (40 of 200) |####                   | Elapsed Time: 0:02:33 ETA:   0:09:41"
     ]
    },
    {
     "name": "stdout",
     "output_type": "stream",
     "text": [
      " - COST: 1992.3225853568808\n",
      "\n",
      " - ITERATION: 42\n"
     ]
    },
    {
     "name": "stderr",
     "output_type": "stream",
     "text": [
      "\r",
      "                                                                               \r",
      "\r",
      " 20% (41 of 200) |####                   | Elapsed Time: 0:02:37 ETA:   0:09:29"
     ]
    },
    {
     "name": "stdout",
     "output_type": "stream",
     "text": [
      " - COST: 1991.9323358385814\n",
      "\n",
      " - ITERATION: 43\n"
     ]
    },
    {
     "name": "stderr",
     "output_type": "stream",
     "text": [
      "\r",
      "                                                                               \r",
      "\r",
      " 21% (42 of 200) |####                   | Elapsed Time: 0:02:42 ETA:   0:11:55"
     ]
    },
    {
     "name": "stdout",
     "output_type": "stream",
     "text": [
      " - COST: 1991.5781730072727\n",
      "\n",
      " - ITERATION: 44\n"
     ]
    },
    {
     "name": "stderr",
     "output_type": "stream",
     "text": [
      "\r",
      "                                                                               \r",
      "\r",
      " 21% (43 of 200) |####                   | Elapsed Time: 0:02:45 ETA:   0:09:28"
     ]
    },
    {
     "name": "stdout",
     "output_type": "stream",
     "text": [
      " - COST: 1991.256432086957\n",
      "\n",
      " - CONVERGENCE TEST - \n",
      " - CHANGE IN COST: 0.0003566093604328314\n",
      "\n",
      " - ITERATION: 45\n"
     ]
    },
    {
     "name": "stderr",
     "output_type": "stream",
     "text": [
      "\r",
      "                                                                               \r",
      "\r",
      " 22% (44 of 200) |#####                  | Elapsed Time: 0:02:49 ETA:   0:09:25"
     ]
    },
    {
     "name": "stdout",
     "output_type": "stream",
     "text": [
      " - COST: 1990.963726202085\n",
      "\n",
      " - ITERATION: 46\n"
     ]
    },
    {
     "name": "stderr",
     "output_type": "stream",
     "text": [
      "\r",
      "                                                                               \r",
      "\r",
      " 22% (45 of 200) |#####                  | Elapsed Time: 0:02:53 ETA:   0:09:28"
     ]
    },
    {
     "name": "stdout",
     "output_type": "stream",
     "text": [
      " - COST: 1990.6972114553307\n",
      "\n",
      " - ITERATION: 47\n"
     ]
    },
    {
     "name": "stderr",
     "output_type": "stream",
     "text": [
      "\r",
      "                                                                               \r",
      "\r",
      " 23% (46 of 200) |#####                  | Elapsed Time: 0:02:57 ETA:   0:10:50"
     ]
    },
    {
     "name": "stdout",
     "output_type": "stream",
     "text": [
      " - COST: 1990.4543318772894\n",
      "\n",
      " - ITERATION: 48\n"
     ]
    },
    {
     "name": "stderr",
     "output_type": "stream",
     "text": [
      "\r",
      "                                                                               \r",
      "\r",
      " 23% (47 of 200) |#####                  | Elapsed Time: 0:03:00 ETA:   0:09:05"
     ]
    },
    {
     "name": "stdout",
     "output_type": "stream",
     "text": [
      " - COST: 1990.2326811703429\n",
      "\n",
      " - CONVERGENCE TEST - \n",
      " - CHANGE IN COST: 0.00024466244308861445\n",
      "\n",
      " - ITERATION: 49\n"
     ]
    },
    {
     "name": "stderr",
     "output_type": "stream",
     "text": [
      "\r",
      "                                                                               \r",
      "\r",
      " 24% (48 of 200) |#####                  | Elapsed Time: 0:03:04 ETA:   0:09:28"
     ]
    },
    {
     "name": "stdout",
     "output_type": "stream",
     "text": [
      " - COST: 1990.0302751228687\n",
      "\n",
      " - ITERATION: 50\n"
     ]
    },
    {
     "name": "stderr",
     "output_type": "stream",
     "text": [
      "\r",
      "                                                                               \r",
      "\r",
      " 24% (49 of 200) |#####                  | Elapsed Time: 0:03:08 ETA:   0:09:02"
     ]
    },
    {
     "name": "stdout",
     "output_type": "stream",
     "text": [
      " - COST: 1989.8451862767915\n",
      "\n",
      " - ITERATION: 51\n"
     ]
    },
    {
     "name": "stderr",
     "output_type": "stream",
     "text": [
      "\r",
      "                                                                               \r",
      "\r",
      " 25% (50 of 200) |#####                  | Elapsed Time: 0:03:11 ETA:   0:09:09"
     ]
    },
    {
     "name": "stdout",
     "output_type": "stream",
     "text": [
      " - COST: 1989.6758007483074\n",
      "\n",
      " - ITERATION: 52\n"
     ]
    },
    {
     "name": "stderr",
     "output_type": "stream",
     "text": [
      "\r",
      "                                                                               \r",
      "\r",
      " 25% (51 of 200) |#####                  | Elapsed Time: 0:03:15 ETA:   0:08:56"
     ]
    },
    {
     "name": "stdout",
     "output_type": "stream",
     "text": [
      " - COST: 1989.520487729106\n",
      "\n",
      " - CONVERGENCE TEST - \n",
      " - CHANGE IN COST: 0.00017068092976803395\n",
      "\n",
      " - ITERATION: 53\n"
     ]
    },
    {
     "name": "stderr",
     "output_type": "stream",
     "text": [
      "\r",
      "                                                                               \r",
      "\r",
      " 26% (52 of 200) |#####                  | Elapsed Time: 0:03:19 ETA:   0:09:09"
     ]
    },
    {
     "name": "stdout",
     "output_type": "stream",
     "text": [
      " - COST: 1989.3780535694696\n",
      "\n",
      " - ITERATION: 54\n"
     ]
    },
    {
     "name": "stderr",
     "output_type": "stream",
     "text": [
      "\r",
      "                                                                               \r",
      "\r",
      " 26% (53 of 200) |######                 | Elapsed Time: 0:03:22 ETA:   0:09:25"
     ]
    },
    {
     "name": "stdout",
     "output_type": "stream",
     "text": [
      " - COST: 1989.2472012333526\n",
      "\n",
      " - ITERATION: 55\n"
     ]
    },
    {
     "name": "stderr",
     "output_type": "stream",
     "text": [
      "\r",
      "                                                                               \r",
      "\r",
      " 27% (54 of 200) |######                 | Elapsed Time: 0:03:26 ETA:   0:08:52"
     ]
    },
    {
     "name": "stdout",
     "output_type": "stream",
     "text": [
      " - COST: 1989.1269696070638\n",
      "\n",
      " - ITERATION: 56\n"
     ]
    },
    {
     "name": "stderr",
     "output_type": "stream",
     "text": [
      "\r",
      "                                                                               \r",
      "\r",
      " 27% (55 of 200) |######                 | Elapsed Time: 0:03:30 ETA:   0:08:45"
     ]
    },
    {
     "name": "stdout",
     "output_type": "stream",
     "text": [
      " - COST: 1989.0164466259316\n",
      "\n",
      " - CONVERGENCE TEST - \n",
      " - CHANGE IN COST: 0.0001211214678337307\n",
      "\n",
      " - ITERATION: 57\n"
     ]
    },
    {
     "name": "stderr",
     "output_type": "stream",
     "text": [
      "\r",
      "                                                                               \r",
      "\r",
      " 28% (56 of 200) |######                 | Elapsed Time: 0:03:33 ETA:   0:08:41"
     ]
    },
    {
     "name": "stdout",
     "output_type": "stream",
     "text": [
      " - COST: 1988.9147764934203\n",
      "\n",
      " - ITERATION: 58\n"
     ]
    },
    {
     "name": "stderr",
     "output_type": "stream",
     "text": [
      "\r",
      "                                                                               \r",
      "\r",
      " 28% (57 of 200) |######                 | Elapsed Time: 0:03:37 ETA:   0:08:46"
     ]
    },
    {
     "name": "stdout",
     "output_type": "stream",
     "text": [
      " - COST: 1988.8210896004728\n",
      "\n",
      " - ITERATION: 59\n"
     ]
    },
    {
     "name": "stderr",
     "output_type": "stream",
     "text": [
      "100% (200 of 200) |######################| Elapsed Time: 0:03:41 Time:  0:03:41\n"
     ]
    },
    {
     "name": "stdout",
     "output_type": "stream",
     "text": [
      " - COST: 1988.7346348457456\n",
      "\n",
      " - ITERATION: 60\n",
      " - COST: 1988.6547170459821\n",
      "\n",
      " - CONVERGENCE TEST - \n",
      " - CHANGE IN COST: 8.712101620141843e-05\n",
      "\n",
      " - Converged!\n",
      " - Noise Estimate: 0.036258404779806734\n"
     ]
    },
    {
     "name": "stderr",
     "output_type": "stream",
     "text": [
      "/Users/charles/anaconda2/lib/python2.7/site-packages/modopt/base/types.py:137: FutureWarning: Conversion of the second argument of issubdtype from `float` to `np.floating` is deprecated. In future, it will be treated as `np.float64 == np.dtype(float).type`.\n",
      "  (not np.issubdtype(val.dtype, dtype))):\n",
      "WARNING: Making input data immutable.\n",
      "WARNING: Making input data immutable.\n"
     ]
    },
    {
     "name": "stdout",
     "output_type": "stream",
     "text": [
      " - Spectral Radius: 0.9999991075692088\n",
      " - tau: 0.5\n",
      " - sigma: 0.5\n",
      " - rho: 0.8\n",
      " - 1/tau - sigma||L||^2 >= beta/2: False\n",
      " - Primal Variable Shape: (156, 51, 51)\n",
      " - Dual Variable Shape: (156, 3, 51, 51)\n",
      " ----------------------------------------------------------------------\n",
      " - ITERATION: 1\n",
      " - DATA FIDELITY (X): 72352.52000562275\n",
      " - Min (X): 0.5926452765263877\n"
     ]
    },
    {
     "name": "stderr",
     "output_type": "stream",
     "text": [
      "\r",
      "                                                                               \r",
      "\r",
      "N/A% (0 of 150) |                        | Elapsed Time: 0:00:00 ETA:  --:--:--"
     ]
    },
    {
     "name": "stdout",
     "output_type": "stream",
     "text": [
      " - L1 NORM (X): 5.060204412765327\n",
      " - COST: 72357.5802100355\n",
      "\n"
     ]
    },
    {
     "name": "stderr",
     "output_type": "stream",
     "text": [
      "\r",
      "                                                                               \r",
      "\r",
      "N/A% (0 of 150) |                        | Elapsed Time: 0:00:01 ETA:  --:--:--"
     ]
    },
    {
     "name": "stdout",
     "output_type": "stream",
     "text": [
      " - ITERATION: 2\n"
     ]
    },
    {
     "name": "stderr",
     "output_type": "stream",
     "text": [
      "\r",
      "                                                                               \r",
      "\r",
      "N/A% (0 of 150) |                        | Elapsed Time: 0:00:02 ETA:  --:--:--"
     ]
    },
    {
     "name": "stdout",
     "output_type": "stream",
     "text": [
      " - DATA FIDELITY (X): 26501.576832219536\n"
     ]
    },
    {
     "name": "stderr",
     "output_type": "stream",
     "text": [
      "\r",
      "                                                                               \r",
      "\r",
      "N/A% (0 of 150) |                        | Elapsed Time: 0:00:02 ETA:  --:--:--"
     ]
    },
    {
     "name": "stdout",
     "output_type": "stream",
     "text": [
      " - Min (X): 0.3461457163593983\n",
      " - L1 NORM (X): 9.431090710174887\n"
     ]
    },
    {
     "name": "stderr",
     "output_type": "stream",
     "text": [
      "\r",
      "                                                                               \r",
      "\r",
      "  0% (1 of 150) |                        | Elapsed Time: 0:00:05 ETA:   0:06:11"
     ]
    },
    {
     "name": "stdout",
     "output_type": "stream",
     "text": [
      " - COST: 26511.00792292971\n",
      "\n",
      " - ITERATION: 3\n"
     ]
    },
    {
     "name": "stderr",
     "output_type": "stream",
     "text": [
      "\r",
      "                                                                               \r",
      "\r",
      "  0% (1 of 150) |                        | Elapsed Time: 0:00:05 ETA:   0:06:49"
     ]
    },
    {
     "name": "stdout",
     "output_type": "stream",
     "text": [
      " - DATA FIDELITY (X): 9930.918540413215\n"
     ]
    },
    {
     "name": "stderr",
     "output_type": "stream",
     "text": [
      "\r",
      "                                                                               \r",
      "\r",
      "  0% (1 of 150) |                        | Elapsed Time: 0:00:06 ETA:   0:08:25"
     ]
    },
    {
     "name": "stdout",
     "output_type": "stream",
     "text": [
      " - Min (X): 0.19645020262687907\n",
      " - L1 NORM (X): 13.251277996125388\n"
     ]
    },
    {
     "name": "stderr",
     "output_type": "stream",
     "text": [
      "\r",
      "                                                                               \r",
      "\r",
      "  1% (2 of 150) |                        | Elapsed Time: 0:00:08 ETA:   0:05:04"
     ]
    },
    {
     "name": "stdout",
     "output_type": "stream",
     "text": [
      " - COST: 9944.16981840934\n",
      "\n",
      " - ITERATION: 4\n"
     ]
    },
    {
     "name": "stderr",
     "output_type": "stream",
     "text": [
      "\r",
      "                                                                               \r",
      "\r",
      "  1% (2 of 150) |                        | Elapsed Time: 0:00:08 ETA:   0:05:45"
     ]
    },
    {
     "name": "stdout",
     "output_type": "stream",
     "text": [
      " - DATA FIDELITY (X): 3920.5719816376286\n"
     ]
    },
    {
     "name": "stderr",
     "output_type": "stream",
     "text": [
      "\r",
      "                                                                               \r",
      "\r",
      "  1% (2 of 150) |                        | Elapsed Time: 0:00:09 ETA:   0:07:23"
     ]
    },
    {
     "name": "stdout",
     "output_type": "stream",
     "text": [
      " - Min (X): 0.10506343608504956\n",
      " - L1 NORM (X): 16.624853064211315\n"
     ]
    },
    {
     "name": "stderr",
     "output_type": "stream",
     "text": [
      "\r",
      "                                                                               \r",
      "\r",
      "  2% (3 of 150) |                        | Elapsed Time: 0:00:11 ETA:   0:06:00"
     ]
    },
    {
     "name": "stdout",
     "output_type": "stream",
     "text": [
      " - COST: 3937.19683470184\n",
      "\n",
      " - CONVERGENCE TEST - \n",
      " - CHANGE IN COST: 6.122395842113007\n",
      "\n",
      " - ITERATION: 5\n"
     ]
    },
    {
     "name": "stderr",
     "output_type": "stream",
     "text": [
      "\r",
      "                                                                               \r",
      "\r",
      "  2% (3 of 150) |                        | Elapsed Time: 0:00:11 ETA:   0:05:03"
     ]
    },
    {
     "name": "stdout",
     "output_type": "stream",
     "text": [
      " - DATA FIDELITY (X): 1724.8766253198205\n"
     ]
    },
    {
     "name": "stderr",
     "output_type": "stream",
     "text": [
      "\r",
      "                                                                               \r",
      "\r",
      "  2% (3 of 150) |                        | Elapsed Time: 0:00:12 ETA:   0:07:44"
     ]
    },
    {
     "name": "stdout",
     "output_type": "stream",
     "text": [
      " - Min (X): 0.048394749680396566\n",
      " - L1 NORM (X): 19.59759312289165\n"
     ]
    },
    {
     "name": "stderr",
     "output_type": "stream",
     "text": [
      "\r",
      "                                                                               \r",
      "\r",
      "  2% (4 of 150) |                        | Elapsed Time: 0:00:14 ETA:   0:07:18"
     ]
    },
    {
     "name": "stdout",
     "output_type": "stream",
     "text": [
      " - COST: 1744.474218442712\n",
      "\n",
      " - ITERATION: 6\n"
     ]
    },
    {
     "name": "stderr",
     "output_type": "stream",
     "text": [
      "\r",
      "                                                                               \r",
      "\r",
      "  2% (4 of 150) |                        | Elapsed Time: 0:00:14 ETA:   0:05:14"
     ]
    },
    {
     "name": "stdout",
     "output_type": "stream",
     "text": [
      " - DATA FIDELITY (X): 910.962015391745\n"
     ]
    },
    {
     "name": "stderr",
     "output_type": "stream",
     "text": [
      "\r",
      "                                                                               \r",
      "\r",
      "  2% (4 of 150) |                        | Elapsed Time: 0:00:15 ETA:   0:06:50"
     ]
    },
    {
     "name": "stdout",
     "output_type": "stream",
     "text": [
      " - Min (X): 0.013703982371303672\n",
      " - L1 NORM (X): 22.142682519732702\n"
     ]
    },
    {
     "name": "stderr",
     "output_type": "stream",
     "text": [
      "\r",
      "                                                                               \r",
      "\r",
      "  3% (5 of 150) |                        | Elapsed Time: 0:00:17 ETA:   0:06:00"
     ]
    },
    {
     "name": "stdout",
     "output_type": "stream",
     "text": [
      " - COST: 933.1046979114777\n",
      "\n",
      " - ITERATION: 7\n"
     ]
    },
    {
     "name": "stderr",
     "output_type": "stream",
     "text": [
      "\r",
      "                                                                               \r",
      "\r",
      "  3% (5 of 150) |                        | Elapsed Time: 0:00:17 ETA:   0:05:00"
     ]
    },
    {
     "name": "stdout",
     "output_type": "stream",
     "text": [
      " - DATA FIDELITY (X): 600.0548021683086\n"
     ]
    },
    {
     "name": "stderr",
     "output_type": "stream",
     "text": [
      "\r",
      "                                                                               \r",
      "\r",
      "  3% (5 of 150) |                        | Elapsed Time: 0:00:18 ETA:   0:07:47"
     ]
    },
    {
     "name": "stdout",
     "output_type": "stream",
     "text": [
      " - Min (X): 0.0027407964742607338\n",
      " - L1 NORM (X): 24.211969816091678\n"
     ]
    },
    {
     "name": "stderr",
     "output_type": "stream",
     "text": [
      "\r",
      "                                                                               \r",
      "\r",
      "  4% (6 of 150) |                        | Elapsed Time: 0:00:20 ETA:   0:07:29"
     ]
    },
    {
     "name": "stdout",
     "output_type": "stream",
     "text": [
      " - COST: 624.2667719844003\n",
      "\n",
      " - ITERATION: 8\n"
     ]
    },
    {
     "name": "stderr",
     "output_type": "stream",
     "text": [
      "\r",
      "                                                                               \r",
      "\r",
      "  4% (6 of 150) |                        | Elapsed Time: 0:00:20 ETA:   0:05:18"
     ]
    },
    {
     "name": "stdout",
     "output_type": "stream",
     "text": [
      " - DATA FIDELITY (X): 475.28604594616377\n"
     ]
    },
    {
     "name": "stderr",
     "output_type": "stream",
     "text": [
      "\r",
      "                                                                               \r",
      "\r",
      "  4% (6 of 150) |                        | Elapsed Time: 0:00:22 ETA:   0:08:37"
     ]
    },
    {
     "name": "stdout",
     "output_type": "stream",
     "text": [
      " - Min (X): 0.0005481592948521466\n",
      " - L1 NORM (X): 25.669263746375318\n"
     ]
    },
    {
     "name": "stderr",
     "output_type": "stream",
     "text": [
      "\r",
      "                                                                               \r",
      "\r",
      "  4% (7 of 150) |#                       | Elapsed Time: 0:00:23 ETA:   0:07:47"
     ]
    },
    {
     "name": "stdout",
     "output_type": "stream",
     "text": [
      " - COST: 500.95530969253906\n",
      "\n",
      " - CONVERGENCE TEST - \n",
      " - CHANGE IN COST: 1.3796004006282427\n",
      "\n",
      " - ITERATION: 9\n"
     ]
    },
    {
     "name": "stderr",
     "output_type": "stream",
     "text": [
      "\r",
      "                                                                               \r",
      "\r",
      "  4% (7 of 150) |#                       | Elapsed Time: 0:00:24 ETA:   0:05:09"
     ]
    },
    {
     "name": "stdout",
     "output_type": "stream",
     "text": [
      " - DATA FIDELITY (X): 421.488583505716\n"
     ]
    },
    {
     "name": "stderr",
     "output_type": "stream",
     "text": [
      "\r",
      "                                                                               \r",
      "\r",
      "  4% (7 of 150) |#                       | Elapsed Time: 0:00:24 ETA:   0:06:40"
     ]
    },
    {
     "name": "stdout",
     "output_type": "stream",
     "text": [
      " - Min (X): 0.0001096318589704293\n",
      " - L1 NORM (X): 26.25227552770731\n"
     ]
    },
    {
     "name": "stderr",
     "output_type": "stream",
     "text": [
      "\r",
      "                                                                               \r",
      "\r",
      "  5% (8 of 150) |#                       | Elapsed Time: 0:00:26 ETA:   0:04:45"
     ]
    },
    {
     "name": "stdout",
     "output_type": "stream",
     "text": [
      " - COST: 447.7408590334233\n",
      "\n",
      " - ITERATION: 10\n"
     ]
    },
    {
     "name": "stderr",
     "output_type": "stream",
     "text": [
      "\r",
      "                                                                               \r",
      "\r",
      "  5% (8 of 150) |#                       | Elapsed Time: 0:00:27 ETA:   0:05:20"
     ]
    },
    {
     "name": "stdout",
     "output_type": "stream",
     "text": [
      " - DATA FIDELITY (X): 394.1246765014217\n"
     ]
    },
    {
     "name": "stderr",
     "output_type": "stream",
     "text": [
      "\r",
      "                                                                               \r",
      "\r",
      "  5% (8 of 150) |#                       | Elapsed Time: 0:00:27 ETA:   0:06:54"
     ]
    },
    {
     "name": "stdout",
     "output_type": "stream",
     "text": [
      " - Min (X): 2.1926371794085854e-05\n",
      " - L1 NORM (X): 26.289931187469527\n"
     ]
    },
    {
     "name": "stderr",
     "output_type": "stream",
     "text": [
      "\r",
      "                                                                               \r",
      "\r",
      "  6% (9 of 150) |#                       | Elapsed Time: 0:00:29 ETA:   0:05:52"
     ]
    },
    {
     "name": "stdout",
     "output_type": "stream",
     "text": [
      " - COST: 420.4146076888912\n",
      "\n",
      " - ITERATION: 11\n"
     ]
    },
    {
     "name": "stderr",
     "output_type": "stream",
     "text": [
      "\r",
      "                                                                               \r",
      "\r",
      "  6% (9 of 150) |#                       | Elapsed Time: 0:00:29 ETA:   0:04:55"
     ]
    },
    {
     "name": "stdout",
     "output_type": "stream",
     "text": [
      " - DATA FIDELITY (X): 376.9132957033658\n"
     ]
    },
    {
     "name": "stderr",
     "output_type": "stream",
     "text": [
      "\r",
      "                                                                               \r",
      "\r",
      "  6% (9 of 150) |#                       | Elapsed Time: 0:00:30 ETA:   0:06:35"
     ]
    },
    {
     "name": "stdout",
     "output_type": "stream",
     "text": [
      " - Min (X): 4.38527435881717e-06\n",
      " - L1 NORM (X): 26.19648990434147\n"
     ]
    },
    {
     "name": "stderr",
     "output_type": "stream",
     "text": [
      "\r",
      "                                                                               \r",
      "\r",
      "  6% (10 of 150) |#                      | Elapsed Time: 0:00:32 ETA:   0:05:55"
     ]
    },
    {
     "name": "stdout",
     "output_type": "stream",
     "text": [
      " - COST: 403.1097856077073\n",
      "\n",
      " - ITERATION: 12\n"
     ]
    },
    {
     "name": "stderr",
     "output_type": "stream",
     "text": [
      "\r",
      "                                                                               \r",
      "\r",
      "  6% (10 of 150) |#                      | Elapsed Time: 0:00:32 ETA:   0:04:50"
     ]
    },
    {
     "name": "stdout",
     "output_type": "stream",
     "text": [
      " - DATA FIDELITY (X): 364.2685464851143\n"
     ]
    },
    {
     "name": "stderr",
     "output_type": "stream",
     "text": [
      "\r",
      "                                                                               \r",
      "\r",
      "  6% (10 of 150) |#                      | Elapsed Time: 0:00:33 ETA:   0:06:26"
     ]
    },
    {
     "name": "stdout",
     "output_type": "stream",
     "text": [
      " - Min (X): 8.770548717634338e-07\n",
      " - L1 NORM (X): 26.14193323540664\n"
     ]
    },
    {
     "name": "stderr",
     "output_type": "stream",
     "text": [
      "\r",
      "                                                                               \r",
      "\r",
      "  7% (11 of 150) |#                      | Elapsed Time: 0:00:35 ETA:   0:06:04"
     ]
    },
    {
     "name": "stdout",
     "output_type": "stream",
     "text": [
      " - COST: 390.4104797205209\n",
      "\n",
      " - CONVERGENCE TEST - \n",
      " - CHANGE IN COST: 0.09405582271199399\n",
      "\n",
      " - ITERATION: 13\n"
     ]
    },
    {
     "name": "stderr",
     "output_type": "stream",
     "text": [
      "\r",
      "                                                                               \r",
      "\r",
      "  7% (11 of 150) |#                      | Elapsed Time: 0:00:35 ETA:   0:05:03"
     ]
    },
    {
     "name": "stdout",
     "output_type": "stream",
     "text": [
      " - DATA FIDELITY (X): 354.1631103241213\n"
     ]
    },
    {
     "name": "stderr",
     "output_type": "stream",
     "text": [
      "  8% (12 of 150) |#                      | Elapsed Time: 0:00:36 ETA:   0:06:28"
     ]
    },
    {
     "name": "stdout",
     "output_type": "stream",
     "text": [
      " - Min (X): 1.7541097435268672e-07\n",
      " - L1 NORM (X): 26.157565605230047\n",
      " - COST: 380.32067592935135\n",
      "\n"
     ]
    },
    {
     "name": "stderr",
     "output_type": "stream",
     "text": [
      "\r",
      "                                                                               \r",
      "\r",
      "  8% (12 of 150) |#                      | Elapsed Time: 0:00:38 ETA:   0:06:00"
     ]
    },
    {
     "name": "stdout",
     "output_type": "stream",
     "text": [
      " - ITERATION: 14\n"
     ]
    },
    {
     "name": "stderr",
     "output_type": "stream",
     "text": [
      "\r",
      "                                                                               \r",
      "\r",
      "  8% (12 of 150) |#                      | Elapsed Time: 0:00:38 ETA:   0:05:06"
     ]
    },
    {
     "name": "stdout",
     "output_type": "stream",
     "text": [
      " - DATA FIDELITY (X): 345.72669709032596\n"
     ]
    },
    {
     "name": "stderr",
     "output_type": "stream",
     "text": [
      "\r",
      "                                                                               \r",
      "\r",
      "  8% (12 of 150) |#                      | Elapsed Time: 0:00:39 ETA:   0:06:36"
     ]
    },
    {
     "name": "stdout",
     "output_type": "stream",
     "text": [
      " - Min (X): 3.5082194870537336e-08\n",
      " - L1 NORM (X): 26.229732922320643\n"
     ]
    },
    {
     "name": "stderr",
     "output_type": "stream",
     "text": [
      "\r",
      "                                                                               \r",
      "\r",
      "  8% (13 of 150) |#                      | Elapsed Time: 0:00:40 ETA:   0:05:59"
     ]
    },
    {
     "name": "stdout",
     "output_type": "stream",
     "text": [
      " - COST: 371.9564300126466\n",
      "\n",
      " - ITERATION: 15\n"
     ]
    },
    {
     "name": "stderr",
     "output_type": "stream",
     "text": [
      "\r",
      "                                                                               \r",
      "\r",
      "  8% (13 of 150) |#                      | Elapsed Time: 0:00:41 ETA:   0:05:04"
     ]
    },
    {
     "name": "stdout",
     "output_type": "stream",
     "text": [
      " - DATA FIDELITY (X): 338.5107562328723\n"
     ]
    },
    {
     "name": "stderr",
     "output_type": "stream",
     "text": [
      "\r",
      "                                                                               \r",
      "\r",
      "  8% (13 of 150) |#                      | Elapsed Time: 0:00:41 ETA:   0:06:38"
     ]
    },
    {
     "name": "stdout",
     "output_type": "stream",
     "text": [
      " - Min (X): 7.016438974107466e-09\n",
      " - L1 NORM (X): 26.338215685901506\n"
     ]
    },
    {
     "name": "stderr",
     "output_type": "stream",
     "text": [
      "\r",
      "                                                                               \r",
      "\r",
      "  9% (14 of 150) |##                     | Elapsed Time: 0:00:43 ETA:   0:05:41"
     ]
    },
    {
     "name": "stdout",
     "output_type": "stream",
     "text": [
      " - COST: 364.8489719187738\n",
      "\n",
      " - ITERATION: 16\n"
     ]
    },
    {
     "name": "stderr",
     "output_type": "stream",
     "text": [
      "\r",
      "                                                                               \r",
      "\r",
      "  9% (14 of 150) |##                     | Elapsed Time: 0:00:43 ETA:   0:04:40"
     ]
    },
    {
     "name": "stdout",
     "output_type": "stream",
     "text": [
      " - DATA FIDELITY (X): 332.2445042376468\n"
     ]
    },
    {
     "name": "stderr",
     "output_type": "stream",
     "text": [
      "\r",
      "                                                                               \r",
      "\r",
      "  9% (14 of 150) |##                     | Elapsed Time: 0:00:44 ETA:   0:06:06"
     ]
    },
    {
     "name": "stdout",
     "output_type": "stream",
     "text": [
      " - Min (X): 1.4032877948214928e-09\n",
      " - L1 NORM (X): 26.46773969085855\n"
     ]
    },
    {
     "name": "stderr",
     "output_type": "stream",
     "text": [
      "\r",
      "                                                                               \r",
      "\r",
      " 10% (15 of 150) |##                     | Elapsed Time: 0:00:46 ETA:   0:05:30"
     ]
    },
    {
     "name": "stdout",
     "output_type": "stream",
     "text": [
      " - COST: 358.71224392850536\n",
      "\n",
      " - CONVERGENCE TEST - \n",
      " - CHANGE IN COST: 0.03968688407530637\n",
      "\n",
      " - ITERATION: 17\n"
     ]
    },
    {
     "name": "stderr",
     "output_type": "stream",
     "text": [
      "\r",
      "                                                                               \r",
      "\r",
      " 10% (15 of 150) |##                     | Elapsed Time: 0:00:46 ETA:   0:04:39"
     ]
    },
    {
     "name": "stdout",
     "output_type": "stream",
     "text": [
      " - DATA FIDELITY (X): 326.7368829169118\n"
     ]
    },
    {
     "name": "stderr",
     "output_type": "stream",
     "text": [
      "\r",
      "                                                                               \r",
      "\r",
      " 10% (15 of 150) |##                     | Elapsed Time: 0:00:47 ETA:   0:06:05"
     ]
    },
    {
     "name": "stdout",
     "output_type": "stream",
     "text": [
      " - Min (X): 2.806575589642985e-10\n",
      " - L1 NORM (X): 26.607866490648988\n"
     ]
    },
    {
     "name": "stderr",
     "output_type": "stream",
     "text": [
      "\r",
      "                                                                               \r",
      "\r",
      " 10% (16 of 150) |##                     | Elapsed Time: 0:00:49 ETA:   0:05:28"
     ]
    },
    {
     "name": "stdout",
     "output_type": "stream",
     "text": [
      " - COST: 353.34474940756076\n",
      "\n",
      " - ITERATION: 18\n"
     ]
    },
    {
     "name": "stderr",
     "output_type": "stream",
     "text": [
      "\r",
      "                                                                               \r",
      "\r",
      " 10% (16 of 150) |##                     | Elapsed Time: 0:00:49 ETA:   0:04:36"
     ]
    },
    {
     "name": "stdout",
     "output_type": "stream",
     "text": [
      " - DATA FIDELITY (X): 321.84281183382217\n"
     ]
    },
    {
     "name": "stderr",
     "output_type": "stream",
     "text": [
      "\r",
      "                                                                               \r",
      "\r",
      " 10% (16 of 150) |##                     | Elapsed Time: 0:00:50 ETA:   0:06:04"
     ]
    },
    {
     "name": "stdout",
     "output_type": "stream",
     "text": [
      " - Min (X): 5.613151179285969e-11\n",
      " - L1 NORM (X): 26.752677212381954\n"
     ]
    },
    {
     "name": "stderr",
     "output_type": "stream",
     "text": [
      "\r",
      "                                                                               \r",
      "\r",
      " 11% (17 of 150) |##                     | Elapsed Time: 0:00:51 ETA:   0:05:24"
     ]
    },
    {
     "name": "stdout",
     "output_type": "stream",
     "text": [
      " - COST: 348.59548904620414\n",
      "\n",
      " - ITERATION: 19\n"
     ]
    },
    {
     "name": "stderr",
     "output_type": "stream",
     "text": [
      "\r",
      "                                                                               \r",
      "\r",
      " 11% (17 of 150) |##                     | Elapsed Time: 0:00:52 ETA:   0:04:28"
     ]
    },
    {
     "name": "stdout",
     "output_type": "stream",
     "text": [
      " - DATA FIDELITY (X): 317.4673545741648\n"
     ]
    },
    {
     "name": "stderr",
     "output_type": "stream",
     "text": [
      "\r",
      "                                                                               \r",
      "\r",
      " 11% (17 of 150) |##                     | Elapsed Time: 0:00:52 ETA:   0:05:51"
     ]
    },
    {
     "name": "stdout",
     "output_type": "stream",
     "text": [
      " - Min (X): 1.1226302358571936e-11\n",
      " - L1 NORM (X): 26.898750602022407\n"
     ]
    },
    {
     "name": "stderr",
     "output_type": "stream",
     "text": [
      "\r",
      "                                                                               \r",
      "\r",
      " 12% (18 of 150) |##                     | Elapsed Time: 0:00:54 ETA:   0:05:23"
     ]
    },
    {
     "name": "stdout",
     "output_type": "stream",
     "text": [
      " - COST: 344.3661051761872\n",
      "\n",
      " - ITERATION: 20\n"
     ]
    },
    {
     "name": "stderr",
     "output_type": "stream",
     "text": [
      "\r",
      "                                                                               \r",
      "\r",
      " 12% (18 of 150) |##                     | Elapsed Time: 0:00:54 ETA:   0:04:31"
     ]
    },
    {
     "name": "stdout",
     "output_type": "stream",
     "text": [
      " - DATA FIDELITY (X): 313.53745400993387\n"
     ]
    },
    {
     "name": "stderr",
     "output_type": "stream",
     "text": [
      "\r",
      "                                                                               \r",
      "\r",
      " 12% (18 of 150) |##                     | Elapsed Time: 0:00:55 ETA:   0:05:59"
     ]
    },
    {
     "name": "stdout",
     "output_type": "stream",
     "text": [
      " - Min (X): 2.245260471714387e-12\n",
      " - L1 NORM (X): 27.043397841303975\n"
     ]
    },
    {
     "name": "stderr",
     "output_type": "stream",
     "text": [
      "\r",
      "                                                                               \r",
      "\r",
      " 12% (19 of 150) |##                     | Elapsed Time: 0:00:57 ETA:   0:05:21"
     ]
    },
    {
     "name": "stdout",
     "output_type": "stream",
     "text": [
      " - COST: 340.58085185123787\n",
      "\n",
      " - CONVERGENCE TEST - \n",
      " - CHANGE IN COST: 0.024809631245152713\n",
      "\n",
      " - ITERATION: 21\n"
     ]
    },
    {
     "name": "stderr",
     "output_type": "stream",
     "text": [
      "\r",
      "                                                                               \r",
      "\r",
      " 12% (19 of 150) |##                     | Elapsed Time: 0:00:57 ETA:   0:04:27"
     ]
    },
    {
     "name": "stdout",
     "output_type": "stream",
     "text": [
      " - DATA FIDELITY (X): 309.9833795676664\n"
     ]
    },
    {
     "name": "stderr",
     "output_type": "stream",
     "text": [
      "\r",
      "                                                                               \r",
      "\r",
      " 12% (19 of 150) |##                     | Elapsed Time: 0:00:58 ETA:   0:05:52"
     ]
    },
    {
     "name": "stdout",
     "output_type": "stream",
     "text": [
      " - Min (X): 4.4905209434287725e-13\n",
      " - L1 NORM (X): 27.186092986664757\n"
     ]
    },
    {
     "name": "stderr",
     "output_type": "stream",
     "text": [
      "\r",
      "                                                                               \r",
      "\r",
      " 13% (20 of 150) |###                    | Elapsed Time: 0:00:59 ETA:   0:05:26"
     ]
    },
    {
     "name": "stdout",
     "output_type": "stream",
     "text": [
      " - COST: 337.16947255433115\n",
      "\n",
      " - ITERATION: 22\n"
     ]
    },
    {
     "name": "stderr",
     "output_type": "stream",
     "text": [
      "\r",
      "                                                                               \r",
      "\r",
      " 13% (20 of 150) |###                    | Elapsed Time: 0:01:00 ETA:   0:04:33"
     ]
    },
    {
     "name": "stdout",
     "output_type": "stream",
     "text": [
      " - DATA FIDELITY (X): 306.757228533787\n"
     ]
    },
    {
     "name": "stderr",
     "output_type": "stream",
     "text": [
      "\r",
      "                                                                               \r",
      "\r",
      " 13% (20 of 150) |###                    | Elapsed Time: 0:01:00 ETA:   0:05:57"
     ]
    },
    {
     "name": "stdout",
     "output_type": "stream",
     "text": [
      " - Min (X): 8.981041886857542e-14\n",
      " - L1 NORM (X): 27.326092913724274\n"
     ]
    },
    {
     "name": "stderr",
     "output_type": "stream",
     "text": [
      "\r",
      "                                                                               \r",
      "\r",
      " 14% (21 of 150) |###                    | Elapsed Time: 0:01:02 ETA:   0:05:18"
     ]
    },
    {
     "name": "stdout",
     "output_type": "stream",
     "text": [
      " - COST: 334.08332144751125\n",
      "\n",
      " - ITERATION: 23\n"
     ]
    },
    {
     "name": "stderr",
     "output_type": "stream",
     "text": [
      "\r",
      "                                                                               \r",
      "\r",
      " 14% (21 of 150) |###                    | Elapsed Time: 0:01:02 ETA:   0:04:27"
     ]
    },
    {
     "name": "stdout",
     "output_type": "stream",
     "text": [
      " - DATA FIDELITY (X): 303.8167649718639\n"
     ]
    },
    {
     "name": "stderr",
     "output_type": "stream",
     "text": [
      "\r",
      "                                                                               \r",
      "\r",
      " 14% (21 of 150) |###                    | Elapsed Time: 0:01:03 ETA:   0:05:49"
     ]
    },
    {
     "name": "stdout",
     "output_type": "stream",
     "text": [
      " - Min (X): 1.7962083773715082e-14\n",
      " - L1 NORM (X): 27.462456280849853\n"
     ]
    },
    {
     "name": "stderr",
     "output_type": "stream",
     "text": [
      "\r",
      "                                                                               \r",
      "\r",
      " 14% (22 of 150) |###                    | Elapsed Time: 0:01:06 ETA:   0:06:05"
     ]
    },
    {
     "name": "stdout",
     "output_type": "stream",
     "text": [
      " - COST: 331.27922125271374\n",
      "\n",
      " - ITERATION: 24\n"
     ]
    },
    {
     "name": "stderr",
     "output_type": "stream",
     "text": [
      "\r",
      "                                                                               \r",
      "\r",
      " 14% (22 of 150) |###                    | Elapsed Time: 0:01:06 ETA:   0:07:06"
     ]
    },
    {
     "name": "stdout",
     "output_type": "stream",
     "text": [
      " - DATA FIDELITY (X): 301.1271392069923\n"
     ]
    },
    {
     "name": "stderr",
     "output_type": "stream",
     "text": [
      "\r",
      "                                                                               \r",
      "\r",
      " 14% (22 of 150) |###                    | Elapsed Time: 0:01:07 ETA:   0:08:51"
     ]
    },
    {
     "name": "stdout",
     "output_type": "stream",
     "text": [
      " - Min (X): 3.592416754743016e-15\n",
      " - L1 NORM (X): 27.595353832309545\n"
     ]
    },
    {
     "name": "stderr",
     "output_type": "stream",
     "text": [
      "\r",
      "                                                                               \r",
      "\r",
      " 15% (23 of 150) |###                    | Elapsed Time: 0:01:09 ETA:   0:05:33"
     ]
    },
    {
     "name": "stdout",
     "output_type": "stream",
     "text": [
      " - COST: 328.72249303930187\n",
      "\n",
      " - CONVERGENCE TEST - \n",
      " - CHANGE IN COST: 0.017047046191229816\n",
      "\n",
      " - ITERATION: 25\n"
     ]
    },
    {
     "name": "stderr",
     "output_type": "stream",
     "text": [
      "\r",
      "                                                                               \r",
      "\r",
      " 15% (23 of 150) |###                    | Elapsed Time: 0:01:09 ETA:   0:04:37"
     ]
    },
    {
     "name": "stdout",
     "output_type": "stream",
     "text": [
      " - DATA FIDELITY (X): 298.6491656073763\n"
     ]
    },
    {
     "name": "stderr",
     "output_type": "stream",
     "text": [
      "\r",
      "                                                                               \r",
      "\r",
      " 15% (23 of 150) |###                    | Elapsed Time: 0:01:10 ETA:   0:06:02"
     ]
    },
    {
     "name": "stdout",
     "output_type": "stream",
     "text": [
      " - Min (X): 7.1848335094860305e-16\n",
      " - L1 NORM (X): 27.724660239797483\n"
     ]
    },
    {
     "name": "stderr",
     "output_type": "stream",
     "text": [
      "\r",
      "                                                                               \r",
      "\r",
      " 16% (24 of 150) |###                    | Elapsed Time: 0:01:13 ETA:   0:05:18"
     ]
    },
    {
     "name": "stdout",
     "output_type": "stream",
     "text": [
      " - COST: 326.37382584717375\n",
      "\n",
      " - ITERATION: 26\n"
     ]
    },
    {
     "name": "stderr",
     "output_type": "stream",
     "text": [
      "\r",
      "                                                                               \r",
      "\r",
      " 16% (24 of 150) |###                    | Elapsed Time: 0:01:13 ETA:   0:05:52"
     ]
    },
    {
     "name": "stdout",
     "output_type": "stream",
     "text": [
      " - DATA FIDELITY (X): 296.35673882966967\n"
     ]
    },
    {
     "name": "stderr",
     "output_type": "stream",
     "text": [
      "\r",
      "                                                                               \r",
      "\r",
      " 16% (24 of 150) |###                    | Elapsed Time: 0:01:14 ETA:   0:07:18"
     ]
    },
    {
     "name": "stdout",
     "output_type": "stream",
     "text": [
      " - Min (X): 1.4369667018972059e-16\n",
      " - L1 NORM (X): 27.850188928884965\n"
     ]
    },
    {
     "name": "stderr",
     "output_type": "stream",
     "text": [
      "\r",
      "                                                                               \r",
      "\r",
      " 16% (25 of 150) |###                    | Elapsed Time: 0:01:16 ETA:   0:05:10"
     ]
    },
    {
     "name": "stdout",
     "output_type": "stream",
     "text": [
      " - COST: 324.2069277585546\n",
      "\n",
      " - ITERATION: 27\n"
     ]
    },
    {
     "name": "stderr",
     "output_type": "stream",
     "text": [
      "\r",
      "                                                                               \r",
      "\r",
      " 16% (25 of 150) |###                    | Elapsed Time: 0:01:16 ETA:   0:05:56"
     ]
    },
    {
     "name": "stdout",
     "output_type": "stream",
     "text": [
      " - DATA FIDELITY (X): 294.2279242999503\n"
     ]
    },
    {
     "name": "stderr",
     "output_type": "stream",
     "text": [
      "\r",
      "                                                                               \r",
      "\r",
      " 16% (25 of 150) |###                    | Elapsed Time: 0:01:17 ETA:   0:07:13"
     ]
    },
    {
     "name": "stdout",
     "output_type": "stream",
     "text": [
      " - Min (X): 2.873933403794411e-17\n",
      " - L1 NORM (X): 27.97151483068206\n"
     ]
    },
    {
     "name": "stderr",
     "output_type": "stream",
     "text": [
      "\r",
      "                                                                               \r",
      "\r",
      " 17% (26 of 150) |###                    | Elapsed Time: 0:01:19 ETA:   0:05:06"
     ]
    },
    {
     "name": "stdout",
     "output_type": "stream",
     "text": [
      " - COST: 322.19943913063236\n",
      "\n",
      " - ITERATION: 28\n"
     ]
    },
    {
     "name": "stderr",
     "output_type": "stream",
     "text": [
      "\r",
      "                                                                               \r",
      "\r",
      " 17% (26 of 150) |###                    | Elapsed Time: 0:01:19 ETA:   0:04:27"
     ]
    },
    {
     "name": "stdout",
     "output_type": "stream",
     "text": [
      " - DATA FIDELITY (X): 292.24315737969704\n"
     ]
    },
    {
     "name": "stderr",
     "output_type": "stream",
     "text": [
      "\r",
      "                                                                               \r",
      "\r",
      " 17% (26 of 150) |###                    | Elapsed Time: 0:01:20 ETA:   0:05:46"
     ]
    },
    {
     "name": "stdout",
     "output_type": "stream",
     "text": [
      " - Min (X): 5.747866807588821e-18\n",
      " - L1 NORM (X): 28.088829260971746\n"
     ]
    },
    {
     "name": "stderr",
     "output_type": "stream",
     "text": [
      "\r",
      "                                                                               \r",
      "\r",
      " 18% (27 of 150) |####                   | Elapsed Time: 0:01:22 ETA:   0:05:17"
     ]
    },
    {
     "name": "stdout",
     "output_type": "stream",
     "text": [
      " - COST: 320.3319866406688\n",
      "\n",
      " - CONVERGENCE TEST - \n",
      " - CHANGE IN COST: 0.012527523964706843\n",
      "\n",
      " - ITERATION: 29\n"
     ]
    },
    {
     "name": "stderr",
     "output_type": "stream",
     "text": [
      "\r",
      "                                                                               \r",
      "\r",
      " 18% (27 of 150) |####                   | Elapsed Time: 0:01:22 ETA:   0:04:29"
     ]
    },
    {
     "name": "stdout",
     "output_type": "stream",
     "text": [
      " - DATA FIDELITY (X): 290.3934349256695\n"
     ]
    },
    {
     "name": "stderr",
     "output_type": "stream",
     "text": [
      "\r",
      "                                                                               \r",
      "\r",
      " 18% (27 of 150) |####                   | Elapsed Time: 0:01:23 ETA:   0:05:48"
     ]
    },
    {
     "name": "stdout",
     "output_type": "stream",
     "text": [
      " - Min (X): 1.1495733615177639e-18\n",
      " - L1 NORM (X): 28.202290017127115\n"
     ]
    },
    {
     "name": "stderr",
     "output_type": "stream",
     "text": [
      "\r",
      "                                                                               \r",
      "\r",
      " 18% (28 of 150) |####                   | Elapsed Time: 0:01:24 ETA:   0:04:57"
     ]
    },
    {
     "name": "stdout",
     "output_type": "stream",
     "text": [
      " - COST: 318.5957249427966\n",
      "\n",
      " - ITERATION: 30\n"
     ]
    },
    {
     "name": "stderr",
     "output_type": "stream",
     "text": [
      "\r",
      "                                                                               \r",
      "\r",
      " 18% (28 of 150) |####                   | Elapsed Time: 0:01:25 ETA:   0:04:09"
     ]
    },
    {
     "name": "stdout",
     "output_type": "stream",
     "text": [
      " - DATA FIDELITY (X): 288.6679070376476\n"
     ]
    },
    {
     "name": "stderr",
     "output_type": "stream",
     "text": [
      "\r",
      "                                                                               \r",
      "\r",
      " 18% (28 of 150) |####                   | Elapsed Time: 0:01:25 ETA:   0:05:36"
     ]
    },
    {
     "name": "stdout",
     "output_type": "stream",
     "text": [
      " - Min (X): 2.2991467230355274e-19\n",
      " - L1 NORM (X): 28.31201736293946\n"
     ]
    },
    {
     "name": "stderr",
     "output_type": "stream",
     "text": [
      "\r",
      "                                                                               \r",
      "\r",
      " 19% (29 of 150) |####                   | Elapsed Time: 0:01:27 ETA:   0:04:04"
     ]
    },
    {
     "name": "stdout",
     "output_type": "stream",
     "text": [
      " - COST: 316.97992440058704\n",
      "\n",
      " - ITERATION: 31\n"
     ]
    },
    {
     "name": "stderr",
     "output_type": "stream",
     "text": [
      "\r",
      "                                                                               \r",
      "\r",
      " 19% (29 of 150) |####                   | Elapsed Time: 0:01:28 ETA:   0:04:36"
     ]
    },
    {
     "name": "stdout",
     "output_type": "stream",
     "text": [
      " - DATA FIDELITY (X): 287.0566300891916\n"
     ]
    },
    {
     "name": "stderr",
     "output_type": "stream",
     "text": [
      "\r",
      "                                                                               \r",
      "\r",
      " 19% (29 of 150) |####                   | Elapsed Time: 0:01:28 ETA:   0:06:01"
     ]
    },
    {
     "name": "stdout",
     "output_type": "stream",
     "text": [
      " - Min (X): 4.5982934460710537e-20\n",
      " - L1 NORM (X): 28.417958608184268\n"
     ]
    },
    {
     "name": "stderr",
     "output_type": "stream",
     "text": [
      "\r",
      "                                                                               \r",
      "\r",
      " 20% (30 of 150) |####                   | Elapsed Time: 0:01:30 ETA:   0:04:09"
     ]
    },
    {
     "name": "stdout",
     "output_type": "stream",
     "text": [
      " - COST: 315.47458869737585\n",
      "\n",
      " - ITERATION: 32\n"
     ]
    },
    {
     "name": "stderr",
     "output_type": "stream",
     "text": [
      "\r",
      "                                                                               \r",
      "\r",
      " 20% (30 of 150) |####                   | Elapsed Time: 0:01:31 ETA:   0:04:39"
     ]
    },
    {
     "name": "stdout",
     "output_type": "stream",
     "text": [
      " - DATA FIDELITY (X): 285.5421886588438\n"
     ]
    },
    {
     "name": "stderr",
     "output_type": "stream",
     "text": [
      "\r",
      "                                                                               \r",
      "\r",
      " 20% (30 of 150) |####                   | Elapsed Time: 0:01:32 ETA:   0:06:13"
     ]
    },
    {
     "name": "stdout",
     "output_type": "stream",
     "text": [
      " - Min (X): 9.196586892142105e-21\n",
      " - L1 NORM (X): 28.520578419855653\n"
     ]
    },
    {
     "name": "stderr",
     "output_type": "stream",
     "text": [
      "\r",
      "                                                                               \r",
      "\r",
      " 20% (31 of 150) |####                   | Elapsed Time: 0:01:33 ETA:   0:05:16"
     ]
    },
    {
     "name": "stdout",
     "output_type": "stream",
     "text": [
      " - COST: 314.0627670786995\n",
      "\n",
      " - CONVERGENCE TEST - \n",
      " - CHANGE IN COST: 0.009591636639043393\n",
      "\n",
      " - ITERATION: 33\n"
     ]
    },
    {
     "name": "stderr",
     "output_type": "stream",
     "text": [
      "\r",
      "                                                                               \r",
      "\r",
      " 20% (31 of 150) |####                   | Elapsed Time: 0:01:34 ETA:   0:04:30"
     ]
    },
    {
     "name": "stdout",
     "output_type": "stream",
     "text": [
      " - DATA FIDELITY (X): 284.11484624325345\n"
     ]
    },
    {
     "name": "stderr",
     "output_type": "stream",
     "text": [
      "\r",
      "                                                                               \r",
      "\r",
      " 20% (31 of 150) |####                   | Elapsed Time: 0:01:35 ETA:   0:06:00"
     ]
    },
    {
     "name": "stdout",
     "output_type": "stream",
     "text": [
      " - Min (X): 1.8393173784284205e-21\n",
      " - L1 NORM (X): 28.619795406776163\n"
     ]
    },
    {
     "name": "stderr",
     "output_type": "stream",
     "text": [
      "\r",
      "                                                                               \r",
      "\r",
      " 21% (32 of 150) |####                   | Elapsed Time: 0:01:37 ETA:   0:03:59"
     ]
    },
    {
     "name": "stdout",
     "output_type": "stream",
     "text": [
      " - COST: 312.73464165002963\n",
      "\n",
      " - ITERATION: 34\n"
     ]
    },
    {
     "name": "stderr",
     "output_type": "stream",
     "text": [
      "\r",
      "                                                                               \r",
      "\r",
      " 21% (32 of 150) |####                   | Elapsed Time: 0:01:37 ETA:   0:04:29"
     ]
    },
    {
     "name": "stdout",
     "output_type": "stream",
     "text": [
      " - DATA FIDELITY (X): 282.7677038472146\n"
     ]
    },
    {
     "name": "stderr",
     "output_type": "stream",
     "text": [
      "\r",
      "                                                                               \r",
      "\r",
      " 21% (32 of 150) |####                   | Elapsed Time: 0:01:37 ETA:   0:05:44"
     ]
    },
    {
     "name": "stdout",
     "output_type": "stream",
     "text": [
      " - Min (X): 3.67863475685684e-22\n",
      " - L1 NORM (X): 28.71590523721046\n"
     ]
    },
    {
     "name": "stderr",
     "output_type": "stream",
     "text": [
      "\r",
      "                                                                               \r",
      "\r",
      " 22% (33 of 150) |#####                  | Elapsed Time: 0:01:39 ETA:   0:04:51"
     ]
    },
    {
     "name": "stdout",
     "output_type": "stream",
     "text": [
      " - COST: 311.48360908442504\n",
      "\n",
      " - ITERATION: 35\n"
     ]
    },
    {
     "name": "stderr",
     "output_type": "stream",
     "text": [
      "\r",
      "                                                                               \r",
      "\r",
      " 22% (33 of 150) |#####                  | Elapsed Time: 0:01:40 ETA:   0:04:06"
     ]
    },
    {
     "name": "stdout",
     "output_type": "stream",
     "text": [
      " - DATA FIDELITY (X): 281.49400715176233\n"
     ]
    },
    {
     "name": "stderr",
     "output_type": "stream",
     "text": [
      "\r",
      "                                                                               \r",
      "\r",
      " 22% (33 of 150) |#####                  | Elapsed Time: 0:01:40 ETA:   0:05:21"
     ]
    },
    {
     "name": "stdout",
     "output_type": "stream",
     "text": [
      " - Min (X): 7.357269513713678e-23\n",
      " - L1 NORM (X): 28.808798027542352\n"
     ]
    },
    {
     "name": "stderr",
     "output_type": "stream",
     "text": [
      "\r",
      "                                                                               \r",
      "\r",
      " 22% (34 of 150) |#####                  | Elapsed Time: 0:01:42 ETA:   0:04:41"
     ]
    },
    {
     "name": "stdout",
     "output_type": "stream",
     "text": [
      " - COST: 310.3028051793047\n",
      "\n",
      " - ITERATION: 36\n"
     ]
    },
    {
     "name": "stderr",
     "output_type": "stream",
     "text": [
      "\r",
      "                                                                               \r",
      "\r",
      " 22% (34 of 150) |#####                  | Elapsed Time: 0:01:42 ETA:   0:03:55"
     ]
    },
    {
     "name": "stdout",
     "output_type": "stream",
     "text": [
      " - DATA FIDELITY (X): 280.28842440091984\n"
     ]
    },
    {
     "name": "stderr",
     "output_type": "stream",
     "text": [
      "\r",
      "                                                                               \r",
      "\r",
      " 22% (34 of 150) |#####                  | Elapsed Time: 0:01:43 ETA:   0:05:15"
     ]
    },
    {
     "name": "stdout",
     "output_type": "stream",
     "text": [
      " - Min (X): 1.4714539027427354e-23\n",
      " - L1 NORM (X): 28.898451470981765\n"
     ]
    },
    {
     "name": "stderr",
     "output_type": "stream",
     "text": [
      "\r",
      "                                                                               \r",
      "\r",
      " 23% (35 of 150) |#####                  | Elapsed Time: 0:01:45 ETA:   0:04:54"
     ]
    },
    {
     "name": "stdout",
     "output_type": "stream",
     "text": [
      " - COST: 309.1868758719016\n",
      "\n",
      " - CONVERGENCE TEST - \n",
      " - CHANGE IN COST: 0.0076330079868715045\n",
      "\n",
      " - ITERATION: 37\n"
     ]
    },
    {
     "name": "stderr",
     "output_type": "stream",
     "text": [
      "\r",
      "                                                                               \r",
      "\r",
      " 23% (35 of 150) |#####                  | Elapsed Time: 0:01:45 ETA:   0:04:02"
     ]
    },
    {
     "name": "stdout",
     "output_type": "stream",
     "text": [
      " - DATA FIDELITY (X): 279.1440382873916\n"
     ]
    },
    {
     "name": "stderr",
     "output_type": "stream",
     "text": [
      "\r",
      "                                                                               \r",
      "\r",
      " 23% (35 of 150) |#####                  | Elapsed Time: 0:01:46 ETA:   0:05:16"
     ]
    },
    {
     "name": "stdout",
     "output_type": "stream",
     "text": [
      " - Min (X): 2.9429078054854704e-24\n",
      " - L1 NORM (X): 28.985449541813267\n"
     ]
    },
    {
     "name": "stderr",
     "output_type": "stream",
     "text": [
      "\r",
      "                                                                               \r",
      "\r",
      " 24% (36 of 150) |#####                  | Elapsed Time: 0:01:47 ETA:   0:04:38"
     ]
    },
    {
     "name": "stdout",
     "output_type": "stream",
     "text": [
      " - COST: 308.1294878292049\n",
      "\n",
      " - ITERATION: 38\n"
     ]
    },
    {
     "name": "stderr",
     "output_type": "stream",
     "text": [
      "\r",
      "                                                                               \r",
      "\r",
      " 24% (36 of 150) |#####                  | Elapsed Time: 0:01:48 ETA:   0:03:55"
     ]
    },
    {
     "name": "stdout",
     "output_type": "stream",
     "text": [
      " - DATA FIDELITY (X): 278.0578798894825\n"
     ]
    },
    {
     "name": "stderr",
     "output_type": "stream",
     "text": [
      "\r",
      "                                                                               \r",
      "\r",
      " 24% (36 of 150) |#####                  | Elapsed Time: 0:01:48 ETA:   0:05:06"
     ]
    },
    {
     "name": "stdout",
     "output_type": "stream",
     "text": [
      " - Min (X): 5.88581561097094e-25\n",
      " - L1 NORM (X): 29.069900378946887\n"
     ]
    },
    {
     "name": "stderr",
     "output_type": "stream",
     "text": [
      "\r",
      "                                                                               \r",
      "\r",
      " 24% (37 of 150) |#####                  | Elapsed Time: 0:01:50 ETA:   0:04:53"
     ]
    },
    {
     "name": "stdout",
     "output_type": "stream",
     "text": [
      " - COST: 307.1277802684294\n",
      "\n",
      " - ITERATION: 39\n"
     ]
    },
    {
     "name": "stderr",
     "output_type": "stream",
     "text": [
      "\r",
      "                                                                               \r",
      "\r",
      " 24% (37 of 150) |#####                  | Elapsed Time: 0:01:51 ETA:   0:04:11"
     ]
    },
    {
     "name": "stdout",
     "output_type": "stream",
     "text": [
      " - DATA FIDELITY (X): 277.0253669915567\n"
     ]
    },
    {
     "name": "stderr",
     "output_type": "stream",
     "text": [
      "\r",
      "                                                                               \r",
      "\r",
      " 24% (37 of 150) |#####                  | Elapsed Time: 0:01:51 ETA:   0:05:24"
     ]
    },
    {
     "name": "stdout",
     "output_type": "stream",
     "text": [
      " - Min (X): 1.1771631221941876e-25\n",
      " - L1 NORM (X): 29.15195905205659\n"
     ]
    },
    {
     "name": "stderr",
     "output_type": "stream",
     "text": [
      "\r",
      "                                                                               \r",
      "\r",
      " 25% (38 of 150) |#####                  | Elapsed Time: 0:01:53 ETA:   0:04:46"
     ]
    },
    {
     "name": "stdout",
     "output_type": "stream",
     "text": [
      " - COST: 306.17732604361333\n",
      "\n",
      " - ITERATION: 40\n"
     ]
    },
    {
     "name": "stderr",
     "output_type": "stream",
     "text": [
      "\r",
      "                                                                               \r",
      "\r",
      " 25% (38 of 150) |#####                  | Elapsed Time: 0:01:54 ETA:   0:04:14"
     ]
    },
    {
     "name": "stdout",
     "output_type": "stream",
     "text": [
      " - DATA FIDELITY (X): 276.0436265514502\n"
     ]
    },
    {
     "name": "stderr",
     "output_type": "stream",
     "text": [
      "\r",
      "                                                                               \r",
      "\r",
      " 25% (38 of 150) |#####                  | Elapsed Time: 0:01:54 ETA:   0:05:41"
     ]
    },
    {
     "name": "stdout",
     "output_type": "stream",
     "text": [
      " - Min (X): 2.3543262443883747e-26\n",
      " - L1 NORM (X): 29.231790918677977\n"
     ]
    },
    {
     "name": "stderr",
     "output_type": "stream",
     "text": [
      "\r",
      "                                                                               \r",
      "\r",
      " 26% (39 of 150) |#####                  | Elapsed Time: 0:01:56 ETA:   0:05:03"
     ]
    },
    {
     "name": "stdout",
     "output_type": "stream",
     "text": [
      " - COST: 305.27541747012816\n",
      "\n",
      " - CONVERGENCE TEST - \n",
      " - CHANGE IN COST: 0.006222107307966098\n",
      "\n",
      " - ITERATION: 41\n"
     ]
    },
    {
     "name": "stderr",
     "output_type": "stream",
     "text": [
      "\r",
      "                                                                               \r",
      "\r",
      " 26% (39 of 150) |#####                  | Elapsed Time: 0:01:57 ETA:   0:04:04"
     ]
    },
    {
     "name": "stdout",
     "output_type": "stream",
     "text": [
      " - DATA FIDELITY (X): 275.10769433222976\n"
     ]
    },
    {
     "name": "stderr",
     "output_type": "stream",
     "text": [
      "\r",
      "                                                                               \r",
      "\r",
      " 26% (39 of 150) |#####                  | Elapsed Time: 0:01:57 ETA:   0:05:21"
     ]
    },
    {
     "name": "stdout",
     "output_type": "stream",
     "text": [
      " - Min (X): 4.7086524887767485e-27\n",
      " - L1 NORM (X): 29.309360591294666\n"
     ]
    },
    {
     "name": "stderr",
     "output_type": "stream",
     "text": [
      "\r",
      "                                                                               \r",
      "\r",
      " 26% (40 of 150) |######                 | Elapsed Time: 0:01:59 ETA:   0:04:47"
     ]
    },
    {
     "name": "stdout",
     "output_type": "stream",
     "text": [
      " - COST: 304.4170549235244\n",
      "\n",
      " - ITERATION: 42\n"
     ]
    },
    {
     "name": "stderr",
     "output_type": "stream",
     "text": [
      "\r",
      "                                                                               \r",
      "\r",
      " 26% (40 of 150) |######                 | Elapsed Time: 0:01:59 ETA:   0:04:08"
     ]
    },
    {
     "name": "stdout",
     "output_type": "stream",
     "text": [
      " - DATA FIDELITY (X): 274.21459787716094\n"
     ]
    },
    {
     "name": "stderr",
     "output_type": "stream",
     "text": [
      "\r",
      "                                                                               \r",
      "\r",
      " 26% (40 of 150) |######                 | Elapsed Time: 0:02:00 ETA:   0:05:24"
     ]
    },
    {
     "name": "stdout",
     "output_type": "stream",
     "text": [
      " - Min (X): 9.417304977553495e-28\n",
      " - L1 NORM (X): 29.384640194232098\n"
     ]
    },
    {
     "name": "stderr",
     "output_type": "stream",
     "text": [
      "\r",
      "                                                                               \r",
      "\r",
      " 27% (41 of 150) |######                 | Elapsed Time: 0:02:02 ETA:   0:03:58"
     ]
    },
    {
     "name": "stdout",
     "output_type": "stream",
     "text": [
      " - COST: 303.599238071393\n",
      "\n",
      " - ITERATION: 43\n"
     ]
    },
    {
     "name": "stderr",
     "output_type": "stream",
     "text": [
      "\r",
      "                                                                               \r",
      "\r",
      " 27% (41 of 150) |######                 | Elapsed Time: 0:02:03 ETA:   0:04:26"
     ]
    },
    {
     "name": "stdout",
     "output_type": "stream",
     "text": [
      " - DATA FIDELITY (X): 273.35905974738125\n"
     ]
    },
    {
     "name": "stderr",
     "output_type": "stream",
     "text": [
      "\r",
      "                                                                               \r",
      "\r",
      " 27% (41 of 150) |######                 | Elapsed Time: 0:02:03 ETA:   0:05:47"
     ]
    },
    {
     "name": "stdout",
     "output_type": "stream",
     "text": [
      " - Min (X): 1.8834609955106986e-28\n",
      " - L1 NORM (X): 29.457647453562043\n"
     ]
    },
    {
     "name": "stderr",
     "output_type": "stream",
     "text": [
      "\r",
      "                                                                               \r",
      "\r",
      " 28% (42 of 150) |######                 | Elapsed Time: 0:02:05 ETA:   0:04:42"
     ]
    },
    {
     "name": "stdout",
     "output_type": "stream",
     "text": [
      " - COST: 302.8167072009433\n",
      "\n",
      " - ITERATION: 44\n"
     ]
    },
    {
     "name": "stderr",
     "output_type": "stream",
     "text": [
      "\r",
      "                                                                               \r",
      "\r",
      " 28% (42 of 150) |######                 | Elapsed Time: 0:02:05 ETA:   0:03:48"
     ]
    },
    {
     "name": "stdout",
     "output_type": "stream",
     "text": [
      " - DATA FIDELITY (X): 272.5406639041619\n"
     ]
    },
    {
     "name": "stderr",
     "output_type": "stream",
     "text": [
      "\r",
      "                                                                               \r",
      "\r",
      " 28% (42 of 150) |######                 | Elapsed Time: 0:02:06 ETA:   0:04:56"
     ]
    },
    {
     "name": "stdout",
     "output_type": "stream",
     "text": [
      " - Min (X): 3.7669219910213966e-29\n",
      " - L1 NORM (X): 29.528541425337394\n"
     ]
    },
    {
     "name": "stderr",
     "output_type": "stream",
     "text": [
      "\r",
      "                                                                               \r",
      "\r",
      " 28% (43 of 150) |######                 | Elapsed Time: 0:02:08 ETA:   0:04:31"
     ]
    },
    {
     "name": "stdout",
     "output_type": "stream",
     "text": [
      " - COST: 302.06920532949925\n",
      "\n",
      " - CONVERGENCE TEST - \n",
      " - CHANGE IN COST: 0.005175158487952662\n",
      "\n",
      " - ITERATION: 45\n"
     ]
    },
    {
     "name": "stderr",
     "output_type": "stream",
     "text": [
      "\r",
      "                                                                               \r",
      "\r",
      " 28% (43 of 150) |######                 | Elapsed Time: 0:02:08 ETA:   0:03:53"
     ]
    },
    {
     "name": "stdout",
     "output_type": "stream",
     "text": [
      " - DATA FIDELITY (X): 271.75858452232063\n"
     ]
    },
    {
     "name": "stderr",
     "output_type": "stream",
     "text": [
      "\r",
      "                                                                               \r",
      "\r",
      " 28% (43 of 150) |######                 | Elapsed Time: 0:02:09 ETA:   0:05:01"
     ]
    },
    {
     "name": "stdout",
     "output_type": "stream",
     "text": [
      " - Min (X): 7.533843982042792e-30\n",
      " - L1 NORM (X): 29.59749570341344\n"
     ]
    },
    {
     "name": "stderr",
     "output_type": "stream",
     "text": [
      "\r",
      "                                                                               \r",
      "\r",
      " 29% (44 of 150) |######                 | Elapsed Time: 0:02:11 ETA:   0:04:15"
     ]
    },
    {
     "name": "stdout",
     "output_type": "stream",
     "text": [
      " - COST: 301.35608022573405\n",
      "\n",
      " - ITERATION: 46\n"
     ]
    },
    {
     "name": "stderr",
     "output_type": "stream",
     "text": [
      "\r",
      "                                                                               \r",
      "\r",
      " 29% (44 of 150) |######                 | Elapsed Time: 0:02:11 ETA:   0:03:37"
     ]
    },
    {
     "name": "stdout",
     "output_type": "stream",
     "text": [
      " - DATA FIDELITY (X): 271.009995912368\n"
     ]
    },
    {
     "name": "stderr",
     "output_type": "stream",
     "text": [
      "\r",
      "                                                                               \r",
      "\r",
      " 29% (44 of 150) |######                 | Elapsed Time: 0:02:12 ETA:   0:04:54"
     ]
    },
    {
     "name": "stdout",
     "output_type": "stream",
     "text": [
      " - Min (X): 1.5067687964085581e-30\n",
      " - L1 NORM (X): 29.664524394760605\n"
     ]
    },
    {
     "name": "stderr",
     "output_type": "stream",
     "text": [
      "\r",
      "                                                                               \r",
      "\r",
      " 30% (45 of 150) |######                 | Elapsed Time: 0:02:14 ETA:   0:04:29"
     ]
    },
    {
     "name": "stdout",
     "output_type": "stream",
     "text": [
      " - COST: 300.67452030712866\n",
      "\n",
      " - ITERATION: 47\n"
     ]
    },
    {
     "name": "stderr",
     "output_type": "stream",
     "text": [
      "\r",
      "                                                                               \r",
      "\r",
      " 30% (45 of 150) |######                 | Elapsed Time: 0:02:14 ETA:   0:03:41"
     ]
    },
    {
     "name": "stdout",
     "output_type": "stream",
     "text": [
      " - DATA FIDELITY (X): 270.29541207092853\n"
     ]
    },
    {
     "name": "stderr",
     "output_type": "stream",
     "text": [
      "\r",
      "                                                                               \r",
      "\r",
      " 30% (45 of 150) |######                 | Elapsed Time: 0:02:14 ETA:   0:04:49"
     ]
    },
    {
     "name": "stdout",
     "output_type": "stream",
     "text": [
      " - Min (X): 3.0135375928171156e-31\n",
      " - L1 NORM (X): 29.729687973509737\n"
     ]
    },
    {
     "name": "stderr",
     "output_type": "stream",
     "text": [
      "\r",
      "                                                                               \r",
      "\r",
      " 30% (46 of 150) |#######                | Elapsed Time: 0:02:16 ETA:   0:04:17"
     ]
    },
    {
     "name": "stdout",
     "output_type": "stream",
     "text": [
      " - COST: 300.02510004443826\n",
      "\n",
      " - ITERATION: 48\n"
     ]
    },
    {
     "name": "stderr",
     "output_type": "stream",
     "text": [
      "\r",
      "                                                                               \r",
      "\r",
      " 30% (46 of 150) |#######                | Elapsed Time: 0:02:17 ETA:   0:03:39"
     ]
    },
    {
     "name": "stdout",
     "output_type": "stream",
     "text": [
      " - DATA FIDELITY (X): 269.6122420135854\n"
     ]
    },
    {
     "name": "stderr",
     "output_type": "stream",
     "text": [
      "\r",
      "                                                                               \r",
      "\r",
      " 30% (46 of 150) |#######                | Elapsed Time: 0:02:17 ETA:   0:04:55"
     ]
    },
    {
     "name": "stdout",
     "output_type": "stream",
     "text": [
      " - Min (X): 6.02707518563423e-32\n",
      " - L1 NORM (X): 29.79317337280628\n"
     ]
    },
    {
     "name": "stderr",
     "output_type": "stream",
     "text": [
      "\r",
      "                                                                               \r",
      "\r",
      " 31% (47 of 150) |#######                | Elapsed Time: 0:02:19 ETA:   0:04:26"
     ]
    },
    {
     "name": "stdout",
     "output_type": "stream",
     "text": [
      " - COST: 299.40541538639167\n",
      "\n",
      " - CONVERGENCE TEST - \n",
      " - CHANGE IN COST: 0.004337592156388753\n",
      "\n",
      " - ITERATION: 49\n"
     ]
    },
    {
     "name": "stderr",
     "output_type": "stream",
     "text": [
      "\r",
      "                                                                               \r",
      "\r",
      " 31% (47 of 150) |#######                | Elapsed Time: 0:02:19 ETA:   0:03:38"
     ]
    },
    {
     "name": "stdout",
     "output_type": "stream",
     "text": [
      " - DATA FIDELITY (X): 268.95683487768883\n"
     ]
    },
    {
     "name": "stderr",
     "output_type": "stream",
     "text": [
      "\r",
      "                                                                               \r",
      "\r",
      " 31% (47 of 150) |#######                | Elapsed Time: 0:02:20 ETA:   0:04:47"
     ]
    },
    {
     "name": "stdout",
     "output_type": "stream",
     "text": [
      " - Min (X): 1.2054150371268458e-32\n",
      " - L1 NORM (X): 29.85505325935242\n"
     ]
    },
    {
     "name": "stderr",
     "output_type": "stream",
     "text": [
      "\r",
      "                                                                               \r",
      "\r",
      " 32% (48 of 150) |#######                | Elapsed Time: 0:02:22 ETA:   0:04:11"
     ]
    },
    {
     "name": "stdout",
     "output_type": "stream",
     "text": [
      " - COST: 298.81188813704125\n",
      "\n",
      " - ITERATION: 50\n"
     ]
    },
    {
     "name": "stderr",
     "output_type": "stream",
     "text": [
      "\r",
      "                                                                               \r",
      "\r",
      " 32% (48 of 150) |#######                | Elapsed Time: 0:02:22 ETA:   0:03:30"
     ]
    },
    {
     "name": "stdout",
     "output_type": "stream",
     "text": [
      " - DATA FIDELITY (X): 268.3274389703145\n"
     ]
    },
    {
     "name": "stderr",
     "output_type": "stream",
     "text": [
      "\r",
      "                                                                               \r",
      "\r",
      " 32% (48 of 150) |#######                | Elapsed Time: 0:02:23 ETA:   0:04:35"
     ]
    },
    {
     "name": "stdout",
     "output_type": "stream",
     "text": [
      " - Min (X): 2.410830074253691e-33\n",
      " - L1 NORM (X): 29.915396854376347\n"
     ]
    },
    {
     "name": "stderr",
     "output_type": "stream",
     "text": [
      "\r",
      "                                                                               \r",
      "\r",
      " 32% (49 of 150) |#######                | Elapsed Time: 0:02:25 ETA:   0:04:15"
     ]
    },
    {
     "name": "stdout",
     "output_type": "stream",
     "text": [
      " - COST: 298.24283582469087\n",
      "\n",
      " - ITERATION: 51\n"
     ]
    },
    {
     "name": "stderr",
     "output_type": "stream",
     "text": [
      "\r",
      "                                                                               \r",
      "\r",
      " 32% (49 of 150) |#######                | Elapsed Time: 0:02:25 ETA:   0:03:35"
     ]
    },
    {
     "name": "stdout",
     "output_type": "stream",
     "text": [
      " - DATA FIDELITY (X): 267.7215817369041\n"
     ]
    },
    {
     "name": "stderr",
     "output_type": "stream",
     "text": [
      "\r",
      "                                                                               \r",
      "\r",
      " 32% (49 of 150) |#######                | Elapsed Time: 0:02:26 ETA:   0:04:39"
     ]
    },
    {
     "name": "stdout",
     "output_type": "stream",
     "text": [
      " - Min (X): 4.821660148507381e-34\n",
      " - L1 NORM (X): 29.974182737246558\n"
     ]
    },
    {
     "name": "stderr",
     "output_type": "stream",
     "text": [
      "\r",
      "                                                                               \r",
      "\r",
      " 33% (50 of 150) |#######                | Elapsed Time: 0:02:27 ETA:   0:04:03"
     ]
    },
    {
     "name": "stdout",
     "output_type": "stream",
     "text": [
      " - COST: 297.6957644741507\n",
      "\n",
      " - ITERATION: 52\n"
     ]
    },
    {
     "name": "stderr",
     "output_type": "stream",
     "text": [
      "\r",
      "                                                                               \r",
      "\r",
      " 33% (50 of 150) |#######                | Elapsed Time: 0:02:28 ETA:   0:03:26"
     ]
    },
    {
     "name": "stdout",
     "output_type": "stream",
     "text": [
      " - DATA FIDELITY (X): 267.1385526301351\n"
     ]
    },
    {
     "name": "stderr",
     "output_type": "stream",
     "text": [
      "\r",
      "                                                                               \r",
      "\r",
      " 33% (50 of 150) |#######                | Elapsed Time: 0:02:28 ETA:   0:04:47"
     ]
    },
    {
     "name": "stdout",
     "output_type": "stream",
     "text": [
      " - Min (X): 9.64332029701476e-35\n",
      " - L1 NORM (X): 30.031410811250865\n"
     ]
    },
    {
     "name": "stderr",
     "output_type": "stream",
     "text": [
      "\r",
      "                                                                               \r",
      "\r",
      " 34% (51 of 150) |#######                | Elapsed Time: 0:02:31 ETA:   0:04:24"
     ]
    },
    {
     "name": "stdout",
     "output_type": "stream",
     "text": [
      " - COST: 297.16996344138596\n",
      "\n",
      " - CONVERGENCE TEST - \n",
      " - CHANGE IN COST: 0.003679815365840689\n",
      "\n",
      " - ITERATION: 53\n"
     ]
    },
    {
     "name": "stderr",
     "output_type": "stream",
     "text": [
      "\r",
      "                                                                               \r",
      "\r",
      " 34% (51 of 150) |#######                | Elapsed Time: 0:02:31 ETA:   0:04:50"
     ]
    },
    {
     "name": "stdout",
     "output_type": "stream",
     "text": [
      " - DATA FIDELITY (X): 266.5770431316133\n"
     ]
    },
    {
     "name": "stderr",
     "output_type": "stream",
     "text": [
      "\r",
      "                                                                               \r",
      "\r",
      " 34% (51 of 150) |#######                | Elapsed Time: 0:02:32 ETA:   0:05:54"
     ]
    },
    {
     "name": "stdout",
     "output_type": "stream",
     "text": [
      " - Min (X): 1.9286640594029514e-35\n",
      " - L1 NORM (X): 30.08713710647502\n"
     ]
    },
    {
     "name": "stderr",
     "output_type": "stream",
     "text": [
      "\r",
      "                                                                               \r",
      "\r",
      " 34% (52 of 150) |#######                | Elapsed Time: 0:02:34 ETA:   0:04:03"
     ]
    },
    {
     "name": "stdout",
     "output_type": "stream",
     "text": [
      " - COST: 296.66418023808836\n",
      "\n",
      " - ITERATION: 54\n"
     ]
    },
    {
     "name": "stderr",
     "output_type": "stream",
     "text": [
      "\r",
      "                                                                               \r",
      "\r",
      " 34% (52 of 150) |#######                | Elapsed Time: 0:02:34 ETA:   0:03:23"
     ]
    },
    {
     "name": "stdout",
     "output_type": "stream",
     "text": [
      " - DATA FIDELITY (X): 266.03547957664443\n"
     ]
    },
    {
     "name": "stderr",
     "output_type": "stream",
     "text": [
      "\r",
      "                                                                               \r",
      "\r",
      " 34% (52 of 150) |#######                | Elapsed Time: 0:02:35 ETA:   0:04:36"
     ]
    },
    {
     "name": "stdout",
     "output_type": "stream",
     "text": [
      " - Min (X): 3.857328118805902e-36\n",
      " - L1 NORM (X): 30.141402868868273\n"
     ]
    },
    {
     "name": "stderr",
     "output_type": "stream",
     "text": [
      "\r",
      "                                                                               \r",
      "\r",
      " 35% (53 of 150) |########               | Elapsed Time: 0:02:37 ETA:   0:04:10"
     ]
    },
    {
     "name": "stdout",
     "output_type": "stream",
     "text": [
      " - COST: 296.1768824455127\n",
      "\n",
      " - ITERATION: 55\n"
     ]
    },
    {
     "name": "stderr",
     "output_type": "stream",
     "text": [
      "\r",
      "                                                                               \r",
      "\r",
      " 35% (53 of 150) |########               | Elapsed Time: 0:02:37 ETA:   0:03:22"
     ]
    },
    {
     "name": "stdout",
     "output_type": "stream",
     "text": [
      " - DATA FIDELITY (X): 265.51333759703243\n"
     ]
    },
    {
     "name": "stderr",
     "output_type": "stream",
     "text": [
      "\r",
      "                                                                               \r",
      "\r",
      " 35% (53 of 150) |########               | Elapsed Time: 0:02:38 ETA:   0:04:25"
     ]
    },
    {
     "name": "stdout",
     "output_type": "stream",
     "text": [
      " - Min (X): 7.714656237611802e-37\n",
      " - L1 NORM (X): 30.194281721804472\n"
     ]
    },
    {
     "name": "stderr",
     "output_type": "stream",
     "text": [
      "\r",
      "                                                                               \r",
      "\r",
      " 36% (54 of 150) |########               | Elapsed Time: 0:02:39 ETA:   0:04:04"
     ]
    },
    {
     "name": "stdout",
     "output_type": "stream",
     "text": [
      " - COST: 295.7076193188369\n",
      "\n",
      " - ITERATION: 56\n"
     ]
    },
    {
     "name": "stderr",
     "output_type": "stream",
     "text": [
      "\r",
      "                                                                               \r",
      "\r",
      " 36% (54 of 150) |########               | Elapsed Time: 0:02:40 ETA:   0:03:27"
     ]
    },
    {
     "name": "stdout",
     "output_type": "stream",
     "text": [
      " - DATA FIDELITY (X): 265.01132750757654\n"
     ]
    },
    {
     "name": "stderr",
     "output_type": "stream",
     "text": [
      "\r",
      "                                                                               \r",
      "\r",
      " 36% (54 of 150) |########               | Elapsed Time: 0:02:40 ETA:   0:04:30"
     ]
    },
    {
     "name": "stdout",
     "output_type": "stream",
     "text": [
      " - Min (X): 1.54293124752236e-37\n",
      " - L1 NORM (X): 30.245942619053235\n"
     ]
    },
    {
     "name": "stderr",
     "output_type": "stream",
     "text": [
      "\r",
      "                                                                               \r",
      "\r",
      " 36% (55 of 150) |########               | Elapsed Time: 0:02:42 ETA:   0:03:53"
     ]
    },
    {
     "name": "stdout",
     "output_type": "stream",
     "text": [
      " - COST: 295.25727012662975\n",
      "\n",
      " - CONVERGENCE TEST - \n",
      " - CHANGE IN COST: 0.0031747626155842657\n",
      "\n",
      " - ITERATION: 57\n"
     ]
    },
    {
     "name": "stderr",
     "output_type": "stream",
     "text": [
      "\r",
      "                                                                               \r",
      "\r",
      " 36% (55 of 150) |########               | Elapsed Time: 0:02:42 ETA:   0:03:16"
     ]
    },
    {
     "name": "stdout",
     "output_type": "stream",
     "text": [
      " - DATA FIDELITY (X): 264.53007553060786\n"
     ]
    },
    {
     "name": "stderr",
     "output_type": "stream",
     "text": [
      "\r",
      "                                                                               \r",
      "\r",
      " 36% (55 of 150) |########               | Elapsed Time: 0:02:43 ETA:   0:04:20"
     ]
    },
    {
     "name": "stdout",
     "output_type": "stream",
     "text": [
      " - Min (X): 3.0858624950447193e-38\n",
      " - L1 NORM (X): 30.296499704577702\n"
     ]
    },
    {
     "name": "stderr",
     "output_type": "stream",
     "text": [
      "\r",
      "                                                                               \r",
      "\r",
      " 37% (56 of 150) |########               | Elapsed Time: 0:02:45 ETA:   0:03:56"
     ]
    },
    {
     "name": "stdout",
     "output_type": "stream",
     "text": [
      " - COST: 294.82657523518554\n",
      "\n",
      " - ITERATION: 58\n"
     ]
    },
    {
     "name": "stderr",
     "output_type": "stream",
     "text": [
      "\r",
      "                                                                               \r",
      "\r",
      " 37% (56 of 150) |########               | Elapsed Time: 0:02:45 ETA:   0:03:16"
     ]
    },
    {
     "name": "stdout",
     "output_type": "stream",
     "text": [
      " - DATA FIDELITY (X): 264.0668179406259\n"
     ]
    },
    {
     "name": "stderr",
     "output_type": "stream",
     "text": [
      "\r",
      "                                                                               \r",
      "\r",
      " 37% (56 of 150) |########               | Elapsed Time: 0:02:46 ETA:   0:04:15"
     ]
    },
    {
     "name": "stdout",
     "output_type": "stream",
     "text": [
      " - Min (X): 6.171724990089437e-39\n",
      " - L1 NORM (X): 30.345814429611178\n"
     ]
    },
    {
     "name": "stderr",
     "output_type": "stream",
     "text": [
      "\r",
      "                                                                               \r",
      "\r",
      " 38% (57 of 150) |########               | Elapsed Time: 0:02:48 ETA:   0:03:55"
     ]
    },
    {
     "name": "stdout",
     "output_type": "stream",
     "text": [
      " - COST: 294.4126323702371\n",
      "\n",
      " - ITERATION: 59\n"
     ]
    },
    {
     "name": "stderr",
     "output_type": "stream",
     "text": [
      "\r",
      "                                                                               \r",
      "\r",
      " 38% (57 of 150) |########               | Elapsed Time: 0:02:48 ETA:   0:03:20"
     ]
    },
    {
     "name": "stdout",
     "output_type": "stream",
     "text": [
      " - DATA FIDELITY (X): 263.6201235572853\n"
     ]
    },
    {
     "name": "stderr",
     "output_type": "stream",
     "text": [
      "\r",
      "                                                                               \r",
      "\r",
      " 38% (57 of 150) |########               | Elapsed Time: 0:02:49 ETA:   0:04:18"
     ]
    },
    {
     "name": "stdout",
     "output_type": "stream",
     "text": [
      " - Min (X): 1.2343449980178872e-39\n",
      " - L1 NORM (X): 30.39399464288343\n"
     ]
    },
    {
     "name": "stderr",
     "output_type": "stream",
     "text": [
      "\r",
      "                                                                               \r",
      "\r",
      " 38% (58 of 150) |########               | Elapsed Time: 0:02:50 ETA:   0:03:47"
     ]
    },
    {
     "name": "stdout",
     "output_type": "stream",
     "text": [
      " - COST: 294.01411820016875\n",
      "\n",
      " - ITERATION: 60\n"
     ]
    },
    {
     "name": "stderr",
     "output_type": "stream",
     "text": [
      "\r",
      "                                                                               \r",
      "\r",
      " 38% (58 of 150) |########               | Elapsed Time: 0:02:51 ETA:   0:03:24"
     ]
    },
    {
     "name": "stdout",
     "output_type": "stream",
     "text": [
      " - DATA FIDELITY (X): 263.1886269473019\n"
     ]
    },
    {
     "name": "stderr",
     "output_type": "stream",
     "text": [
      "\r",
      "                                                                               \r",
      "\r",
      " 38% (58 of 150) |########               | Elapsed Time: 0:02:51 ETA:   0:04:27"
     ]
    },
    {
     "name": "stdout",
     "output_type": "stream",
     "text": [
      " - Min (X): 2.4686899960357736e-40\n",
      " - L1 NORM (X): 30.441024799265563\n"
     ]
    },
    {
     "name": "stderr",
     "output_type": "stream",
     "text": [
      "\r",
      "                                                                               \r",
      "\r",
      " 39% (59 of 150) |#########              | Elapsed Time: 0:02:53 ETA:   0:03:59"
     ]
    },
    {
     "name": "stdout",
     "output_type": "stream",
     "text": [
      " - COST: 293.62965174656745\n",
      "\n",
      " - CONVERGENCE TEST - \n",
      " - CHANGE IN COST: 0.002714974173606868\n",
      "\n",
      " - ITERATION: 61\n"
     ]
    },
    {
     "name": "stderr",
     "output_type": "stream",
     "text": [
      "\r",
      "                                                                               \r",
      "\r",
      " 39% (59 of 150) |#########              | Elapsed Time: 0:02:54 ETA:   0:03:20"
     ]
    },
    {
     "name": "stdout",
     "output_type": "stream",
     "text": [
      " - DATA FIDELITY (X): 262.7709389916078\n"
     ]
    },
    {
     "name": "stderr",
     "output_type": "stream",
     "text": [
      "\r",
      "                                                                               \r",
      "\r",
      " 39% (59 of 150) |#########              | Elapsed Time: 0:02:54 ETA:   0:04:18"
     ]
    },
    {
     "name": "stdout",
     "output_type": "stream",
     "text": [
      " - Min (X): 4.937379992071546e-41\n",
      " - L1 NORM (X): 30.486971044299754\n"
     ]
    },
    {
     "name": "stderr",
     "output_type": "stream",
     "text": [
      "\r",
      "                                                                               \r",
      "\r",
      " 40% (60 of 150) |#########              | Elapsed Time: 0:02:56 ETA:   0:03:02"
     ]
    },
    {
     "name": "stdout",
     "output_type": "stream",
     "text": [
      " - COST: 293.25791003590757\n",
      "\n",
      " - ITERATION: 62\n"
     ]
    },
    {
     "name": "stderr",
     "output_type": "stream",
     "text": [
      "\r",
      "                                                                               \r",
      "\r",
      " 40% (60 of 150) |#########              | Elapsed Time: 0:02:57 ETA:   0:03:26"
     ]
    },
    {
     "name": "stdout",
     "output_type": "stream",
     "text": [
      " - DATA FIDELITY (X): 262.36519572551384\n"
     ]
    },
    {
     "name": "stderr",
     "output_type": "stream",
     "text": [
      "\r",
      "                                                                               \r",
      "\r",
      " 40% (60 of 150) |#########              | Elapsed Time: 0:02:57 ETA:   0:04:23"
     ]
    },
    {
     "name": "stdout",
     "output_type": "stream",
     "text": [
      " - Min (X): 9.874759984143089e-42\n",
      " - L1 NORM (X): 30.531858745723333\n"
     ]
    },
    {
     "name": "stderr",
     "output_type": "stream",
     "text": [
      "\r",
      "                                                                               \r",
      "\r",
      " 40% (61 of 150) |#########              | Elapsed Time: 0:02:59 ETA:   0:03:40"
     ]
    },
    {
     "name": "stdout",
     "output_type": "stream",
     "text": [
      " - COST: 292.8970544712372\n",
      "\n",
      " - ITERATION: 63\n"
     ]
    },
    {
     "name": "stderr",
     "output_type": "stream",
     "text": [
      "\r",
      "                                                                               \r",
      "\r",
      " 40% (61 of 150) |#########              | Elapsed Time: 0:02:59 ETA:   0:03:07"
     ]
    },
    {
     "name": "stdout",
     "output_type": "stream",
     "text": [
      " - DATA FIDELITY (X): 261.971750228325\n"
     ]
    },
    {
     "name": "stderr",
     "output_type": "stream",
     "text": [
      "\r",
      "                                                                               \r",
      "\r",
      " 40% (61 of 150) |#########              | Elapsed Time: 0:03:00 ETA:   0:04:37"
     ]
    },
    {
     "name": "stdout",
     "output_type": "stream",
     "text": [
      " - Min (X): 1.9749519968286173e-42\n",
      " - L1 NORM (X): 30.575755483630097\n"
     ]
    },
    {
     "name": "stderr",
     "output_type": "stream",
     "text": [
      "\r",
      "                                                                               \r",
      "\r",
      " 41% (62 of 150) |#########              | Elapsed Time: 0:03:02 ETA:   0:04:24"
     ]
    },
    {
     "name": "stdout",
     "output_type": "stream",
     "text": [
      " - COST: 292.54750571195507\n",
      "\n",
      " - ITERATION: 64\n"
     ]
    },
    {
     "name": "stderr",
     "output_type": "stream",
     "text": [
      "\r",
      "                                                                               \r",
      "\r",
      " 41% (62 of 150) |#########              | Elapsed Time: 0:03:03 ETA:   0:03:17"
     ]
    },
    {
     "name": "stdout",
     "output_type": "stream",
     "text": [
      " - DATA FIDELITY (X): 261.5905447481298\n"
     ]
    },
    {
     "name": "stderr",
     "output_type": "stream",
     "text": [
      "\r",
      "                                                                               \r",
      "\r",
      " 41% (62 of 150) |#########              | Elapsed Time: 0:03:03 ETA:   0:04:14"
     ]
    },
    {
     "name": "stdout",
     "output_type": "stream",
     "text": [
      " - Min (X): 3.949903993657233e-43\n",
      " - L1 NORM (X): 30.6186526802271\n"
     ]
    },
    {
     "name": "stderr",
     "output_type": "stream",
     "text": [
      "\r",
      "                                                                               \r",
      "\r",
      " 42% (63 of 150) |#########              | Elapsed Time: 0:03:07 ETA:   0:05:14"
     ]
    },
    {
     "name": "stdout",
     "output_type": "stream",
     "text": [
      " - COST: 292.2091974283569\n",
      "\n",
      " - CONVERGENCE TEST - \n",
      " - CHANGE IN COST: 0.002391184845464331\n",
      "\n",
      " - ITERATION: 65\n"
     ]
    },
    {
     "name": "stderr",
     "output_type": "stream",
     "text": [
      "\r",
      "                                                                               \r",
      "\r",
      " 42% (63 of 150) |#########              | Elapsed Time: 0:03:07 ETA:   0:05:36"
     ]
    },
    {
     "name": "stdout",
     "output_type": "stream",
     "text": [
      " - DATA FIDELITY (X): 261.2205877575114\n"
     ]
    },
    {
     "name": "stderr",
     "output_type": "stream",
     "text": [
      "\r",
      "                                                                               \r",
      "\r",
      " 42% (63 of 150) |#########              | Elapsed Time: 0:03:08 ETA:   0:06:50"
     ]
    },
    {
     "name": "stdout",
     "output_type": "stream",
     "text": [
      " - Min (X): 7.899807987314465e-44\n",
      " - L1 NORM (X): 30.660632126960806\n"
     ]
    },
    {
     "name": "stderr",
     "output_type": "stream",
     "text": [
      "\r",
      "                                                                               \r",
      "\r",
      " 42% (64 of 150) |#########              | Elapsed Time: 0:03:10 ETA:   0:03:55"
     ]
    },
    {
     "name": "stdout",
     "output_type": "stream",
     "text": [
      " - COST: 291.8812198844722\n",
      "\n",
      " - ITERATION: 66\n"
     ]
    },
    {
     "name": "stderr",
     "output_type": "stream",
     "text": [
      "\r",
      "                                                                               \r",
      "\r",
      " 42% (64 of 150) |#########              | Elapsed Time: 0:03:10 ETA:   0:03:04"
     ]
    },
    {
     "name": "stdout",
     "output_type": "stream",
     "text": [
      " - DATA FIDELITY (X): 260.8613156254208\n"
     ]
    },
    {
     "name": "stderr",
     "output_type": "stream",
     "text": [
      "\r",
      "                                                                               \r",
      "\r",
      " 42% (64 of 150) |#########              | Elapsed Time: 0:03:11 ETA:   0:04:01"
     ]
    },
    {
     "name": "stdout",
     "output_type": "stream",
     "text": [
      " - Min (X): 1.5799615974628927e-44\n",
      " - L1 NORM (X): 30.701713217516115\n"
     ]
    },
    {
     "name": "stderr",
     "output_type": "stream",
     "text": [
      "\r",
      "                                                                               \r",
      "\r",
      " 43% (65 of 150) |#########              | Elapsed Time: 0:03:13 ETA:   0:03:29"
     ]
    },
    {
     "name": "stdout",
     "output_type": "stream",
     "text": [
      " - COST: 291.5630288429369\n",
      "\n",
      " - ITERATION: 67\n"
     ]
    },
    {
     "name": "stderr",
     "output_type": "stream",
     "text": [
      "\r",
      "                                                                               \r",
      "\r",
      " 43% (65 of 150) |#########              | Elapsed Time: 0:03:13 ETA:   0:02:54"
     ]
    },
    {
     "name": "stdout",
     "output_type": "stream",
     "text": [
      " - DATA FIDELITY (X): 260.5116595955353\n"
     ]
    },
    {
     "name": "stderr",
     "output_type": "stream",
     "text": [
      "\r",
      "                                                                               \r",
      "\r",
      " 43% (65 of 150) |#########              | Elapsed Time: 0:03:14 ETA:   0:03:50"
     ]
    },
    {
     "name": "stdout",
     "output_type": "stream",
     "text": [
      " - Min (X): 3.1599231949257843e-45\n",
      " - L1 NORM (X): 30.741970719172688\n"
     ]
    },
    {
     "name": "stderr",
     "output_type": "stream",
     "text": [
      "\r",
      "                                                                               \r",
      "\r",
      " 44% (66 of 150) |##########             | Elapsed Time: 0:03:15 ETA:   0:03:29"
     ]
    },
    {
     "name": "stdout",
     "output_type": "stream",
     "text": [
      " - COST: 291.253630314708\n",
      "\n",
      " - ITERATION: 68\n"
     ]
    },
    {
     "name": "stderr",
     "output_type": "stream",
     "text": [
      "\r",
      "                                                                               \r",
      "\r",
      " 44% (66 of 150) |##########             | Elapsed Time: 0:03:16 ETA:   0:02:55"
     ]
    },
    {
     "name": "stdout",
     "output_type": "stream",
     "text": [
      " - DATA FIDELITY (X): 260.17201613742554\n"
     ]
    },
    {
     "name": "stderr",
     "output_type": "stream",
     "text": [
      "\r",
      "                                                                               \r",
      "\r",
      " 44% (66 of 150) |##########             | Elapsed Time: 0:03:16 ETA:   0:03:54"
     ]
    },
    {
     "name": "stdout",
     "output_type": "stream",
     "text": [
      " - Min (X): 6.319846389851567e-46\n",
      " - L1 NORM (X): 30.781407514803327\n"
     ]
    },
    {
     "name": "stderr",
     "output_type": "stream",
     "text": [
      "\r",
      "                                                                               \r",
      "\r",
      " 44% (67 of 150) |##########             | Elapsed Time: 0:03:18 ETA:   0:03:28"
     ]
    },
    {
     "name": "stdout",
     "output_type": "stream",
     "text": [
      " - COST: 290.9534236522289\n",
      "\n",
      " - CONVERGENCE TEST - \n",
      " - CHANGE IN COST: 0.0021250081943227027\n",
      "\n",
      " - ITERATION: 69\n"
     ]
    },
    {
     "name": "stderr",
     "output_type": "stream",
     "text": [
      "\r",
      "                                                                               \r",
      "\r",
      " 44% (67 of 150) |##########             | Elapsed Time: 0:03:18 ETA:   0:02:51"
     ]
    },
    {
     "name": "stdout",
     "output_type": "stream",
     "text": [
      " - DATA FIDELITY (X): 259.8429175819734\n"
     ]
    },
    {
     "name": "stderr",
     "output_type": "stream",
     "text": [
      "\r",
      "                                                                               \r",
      "\r",
      " 44% (67 of 150) |##########             | Elapsed Time: 0:03:19 ETA:   0:03:45"
     ]
    },
    {
     "name": "stdout",
     "output_type": "stream",
     "text": [
      " - Min (X): 1.2639692779703132e-46\n",
      " - L1 NORM (X): 30.820079934305845\n"
     ]
    },
    {
     "name": "stderr",
     "output_type": "stream",
     "text": [
      "\r",
      "                                                                               \r",
      "\r",
      " 45% (68 of 150) |##########             | Elapsed Time: 0:03:21 ETA:   0:03:20"
     ]
    },
    {
     "name": "stdout",
     "output_type": "stream",
     "text": [
      " - COST: 290.66299751627923\n",
      "\n",
      " - ITERATION: 70\n"
     ]
    },
    {
     "name": "stderr",
     "output_type": "stream",
     "text": [
      "\r",
      "                                                                               \r",
      "\r",
      " 45% (68 of 150) |##########             | Elapsed Time: 0:03:21 ETA:   0:02:49"
     ]
    },
    {
     "name": "stdout",
     "output_type": "stream",
     "text": [
      " - DATA FIDELITY (X): 259.52234508544404\n"
     ]
    },
    {
     "name": "stderr",
     "output_type": "stream",
     "text": [
      "\r",
      "                                                                               \r",
      "\r",
      " 45% (68 of 150) |##########             | Elapsed Time: 0:03:22 ETA:   0:03:43"
     ]
    },
    {
     "name": "stdout",
     "output_type": "stream",
     "text": [
      " - Min (X): 2.5279385559406256e-47\n",
      " - L1 NORM (X): 30.857934160967837\n"
     ]
    },
    {
     "name": "stderr",
     "output_type": "stream",
     "text": [
      "\r",
      "                                                                               \r",
      "\r",
      " 46% (69 of 150) |##########             | Elapsed Time: 0:03:24 ETA:   0:03:29"
     ]
    },
    {
     "name": "stdout",
     "output_type": "stream",
     "text": [
      " - COST: 290.3802792464119\n",
      "\n",
      " - ITERATION: 71\n"
     ]
    },
    {
     "name": "stderr",
     "output_type": "stream",
     "text": [
      "\r",
      "                                                                               \r",
      "\r",
      " 46% (69 of 150) |##########             | Elapsed Time: 0:03:24 ETA:   0:02:57"
     ]
    },
    {
     "name": "stdout",
     "output_type": "stream",
     "text": [
      " - DATA FIDELITY (X): 259.2101806408332\n"
     ]
    },
    {
     "name": "stderr",
     "output_type": "stream",
     "text": [
      "\r",
      "                                                                               \r",
      "\r",
      " 46% (69 of 150) |##########             | Elapsed Time: 0:03:25 ETA:   0:03:48"
     ]
    },
    {
     "name": "stdout",
     "output_type": "stream",
     "text": [
      " - Min (X): 5.05587711188125e-48\n",
      " - L1 NORM (X): 30.895070915988025\n"
     ]
    },
    {
     "name": "stderr",
     "output_type": "stream",
     "text": [
      "\r",
      "                                                                               \r",
      "\r",
      " 46% (70 of 150) |##########             | Elapsed Time: 0:03:27 ETA:   0:02:44"
     ]
    },
    {
     "name": "stdout",
     "output_type": "stream",
     "text": [
      " - COST: 290.1052515568212\n",
      "\n",
      " - ITERATION: 72\n"
     ]
    },
    {
     "name": "stderr",
     "output_type": "stream",
     "text": [
      "\r",
      "                                                                               \r",
      "\r",
      " 46% (70 of 150) |##########             | Elapsed Time: 0:03:27 ETA:   0:03:06"
     ]
    },
    {
     "name": "stdout",
     "output_type": "stream",
     "text": [
      " - DATA FIDELITY (X): 258.90597292708884\n"
     ]
    },
    {
     "name": "stderr",
     "output_type": "stream",
     "text": [
      "\r",
      "                                                                               \r",
      "\r",
      " 46% (70 of 150) |##########             | Elapsed Time: 0:03:28 ETA:   0:04:00"
     ]
    },
    {
     "name": "stdout",
     "output_type": "stream",
     "text": [
      " - Min (X): 1.0111754223762498e-48\n",
      " - L1 NORM (X): 30.931543559026835\n"
     ]
    },
    {
     "name": "stderr",
     "output_type": "stream",
     "text": [
      "\r",
      "                                                                               \r",
      "\r",
      " 47% (71 of 150) |##########             | Elapsed Time: 0:03:29 ETA:   0:03:16"
     ]
    },
    {
     "name": "stdout",
     "output_type": "stream",
     "text": [
      " - COST: 289.83751648611565\n",
      "\n",
      " - CONVERGENCE TEST - \n",
      " - CHANGE IN COST: 0.001897616075924107\n",
      "\n",
      " - ITERATION: 73\n"
     ]
    },
    {
     "name": "stderr",
     "output_type": "stream",
     "text": [
      "\r",
      "                                                                               \r",
      "\r",
      " 47% (71 of 150) |##########             | Elapsed Time: 0:03:30 ETA:   0:02:43"
     ]
    },
    {
     "name": "stdout",
     "output_type": "stream",
     "text": [
      " - DATA FIDELITY (X): 258.6100623508347\n"
     ]
    },
    {
     "name": "stderr",
     "output_type": "stream",
     "text": [
      "\r",
      "                                                                               \r",
      "\r",
      " 47% (71 of 150) |##########             | Elapsed Time: 0:03:30 ETA:   0:03:36"
     ]
    },
    {
     "name": "stdout",
     "output_type": "stream",
     "text": [
      " - Min (X): 2.022350844752499e-49\n",
      " - L1 NORM (X): 30.967350721938267\n"
     ]
    },
    {
     "name": "stderr",
     "output_type": "stream",
     "text": [
      "\r",
      "                                                                               \r",
      "\r",
      " 48% (72 of 150) |###########            | Elapsed Time: 0:03:32 ETA:   0:03:10"
     ]
    },
    {
     "name": "stdout",
     "output_type": "stream",
     "text": [
      " - COST: 289.57741307277297\n",
      "\n",
      " - ITERATION: 74\n"
     ]
    },
    {
     "name": "stderr",
     "output_type": "stream",
     "text": [
      "\r",
      "                                                                               \r",
      "\r",
      " 48% (72 of 150) |###########            | Elapsed Time: 0:03:32 ETA:   0:02:38"
     ]
    },
    {
     "name": "stdout",
     "output_type": "stream",
     "text": [
      " - DATA FIDELITY (X): 258.32202813350284\n"
     ]
    },
    {
     "name": "stderr",
     "output_type": "stream",
     "text": [
      "\r",
      "                                                                               \r",
      "\r",
      " 48% (72 of 150) |###########            | Elapsed Time: 0:03:33 ETA:   0:03:27"
     ]
    },
    {
     "name": "stdout",
     "output_type": "stream",
     "text": [
      " - Min (X): 4.0447016895049973e-50\n",
      " - L1 NORM (X): 31.002462721222344\n"
     ]
    },
    {
     "name": "stderr",
     "output_type": "stream",
     "text": [
      "\r",
      "                                                                               \r",
      "\r",
      " 48% (73 of 150) |###########            | Elapsed Time: 0:03:35 ETA:   0:03:12"
     ]
    },
    {
     "name": "stdout",
     "output_type": "stream",
     "text": [
      " - COST: 289.3244908547252\n",
      "\n",
      " - ITERATION: 75\n"
     ]
    },
    {
     "name": "stderr",
     "output_type": "stream",
     "text": [
      "\r",
      "                                                                               \r",
      "\r",
      " 48% (73 of 150) |###########            | Elapsed Time: 0:03:35 ETA:   0:02:45"
     ]
    },
    {
     "name": "stdout",
     "output_type": "stream",
     "text": [
      " - DATA FIDELITY (X): 258.041672061778\n"
     ]
    },
    {
     "name": "stderr",
     "output_type": "stream",
     "text": [
      "\r",
      "                                                                               \r",
      "\r",
      " 48% (73 of 150) |###########            | Elapsed Time: 0:03:36 ETA:   0:03:40"
     ]
    },
    {
     "name": "stdout",
     "output_type": "stream",
     "text": [
      " - Min (X): 8.089403379009992e-51\n",
      " - L1 NORM (X): 31.036966502431603\n"
     ]
    },
    {
     "name": "stderr",
     "output_type": "stream",
     "text": [
      "\r",
      "                                                                               \r",
      "\r",
      " 49% (74 of 150) |###########            | Elapsed Time: 0:03:38 ETA:   0:03:11"
     ]
    },
    {
     "name": "stdout",
     "output_type": "stream",
     "text": [
      " - COST: 289.0786385642096\n",
      "\n",
      " - ITERATION: 76\n"
     ]
    },
    {
     "name": "stderr",
     "output_type": "stream",
     "text": [
      "\r",
      "                                                                               \r",
      "\r",
      " 49% (74 of 150) |###########            | Elapsed Time: 0:03:38 ETA:   0:02:37"
     ]
    },
    {
     "name": "stdout",
     "output_type": "stream",
     "text": [
      " - DATA FIDELITY (X): 257.7687794795102\n"
     ]
    },
    {
     "name": "stderr",
     "output_type": "stream",
     "text": [
      "\r",
      "                                                                               \r",
      "\r",
      " 49% (74 of 150) |###########            | Elapsed Time: 0:03:39 ETA:   0:03:27"
     ]
    },
    {
     "name": "stdout",
     "output_type": "stream",
     "text": [
      " - Min (X): 1.617880675801998e-51\n",
      " - L1 NORM (X): 31.070872444419294\n"
     ]
    },
    {
     "name": "stderr",
     "output_type": "stream",
     "text": [
      "\r",
      "                                                                               \r",
      "\r",
      " 50% (75 of 150) |###########            | Elapsed Time: 0:03:41 ETA:   0:02:34"
     ]
    },
    {
     "name": "stdout",
     "output_type": "stream",
     "text": [
      " - COST: 288.8396519239295\n",
      "\n",
      " - CONVERGENCE TEST - \n",
      " - CHANGE IN COST: 0.0017019939592640735\n",
      "\n",
      " - ITERATION: 77\n"
     ]
    },
    {
     "name": "stderr",
     "output_type": "stream",
     "text": [
      "\r",
      "                                                                               \r",
      "\r",
      " 50% (75 of 150) |###########            | Elapsed Time: 0:03:41 ETA:   0:02:54"
     ]
    },
    {
     "name": "stdout",
     "output_type": "stream",
     "text": [
      " - DATA FIDELITY (X): 257.50245379843454\n"
     ]
    },
    {
     "name": "stderr",
     "output_type": "stream",
     "text": [
      "\r",
      "                                                                               \r",
      "\r",
      " 50% (75 of 150) |###########            | Elapsed Time: 0:03:42 ETA:   0:03:46"
     ]
    },
    {
     "name": "stdout",
     "output_type": "stream",
     "text": [
      " - Min (X): 3.2357613516039956e-52\n",
      " - L1 NORM (X): 31.104216910335925\n"
     ]
    },
    {
     "name": "stderr",
     "output_type": "stream",
     "text": [
      "\r",
      "                                                                               \r",
      "\r",
      " 50% (76 of 150) |###########            | Elapsed Time: 0:03:44 ETA:   0:03:17"
     ]
    },
    {
     "name": "stdout",
     "output_type": "stream",
     "text": [
      " - COST: 288.6066707087705\n",
      "\n",
      " - ITERATION: 78\n"
     ]
    },
    {
     "name": "stderr",
     "output_type": "stream",
     "text": [
      "\r",
      "                                                                               \r",
      "\r",
      " 50% (76 of 150) |###########            | Elapsed Time: 0:03:45 ETA:   0:03:37"
     ]
    },
    {
     "name": "stdout",
     "output_type": "stream",
     "text": [
      " - DATA FIDELITY (X): 257.24266621061923\n"
     ]
    },
    {
     "name": "stderr",
     "output_type": "stream",
     "text": [
      "\r",
      "                                                                               \r",
      "\r",
      " 50% (76 of 150) |###########            | Elapsed Time: 0:03:45 ETA:   0:04:30"
     ]
    },
    {
     "name": "stdout",
     "output_type": "stream",
     "text": [
      " - Min (X): 6.47152270320799e-53\n",
      " - L1 NORM (X): 31.13701161549185\n"
     ]
    },
    {
     "name": "stderr",
     "output_type": "stream",
     "text": [
      "\r",
      "                                                                               \r",
      "\r",
      " 51% (77 of 150) |###########            | Elapsed Time: 0:03:47 ETA:   0:03:05"
     ]
    },
    {
     "name": "stdout",
     "output_type": "stream",
     "text": [
      " - COST: 288.3796778261111\n",
      "\n",
      " - ITERATION: 79\n"
     ]
    },
    {
     "name": "stderr",
     "output_type": "stream",
     "text": [
      "\r",
      "                                                                               \r",
      "\r",
      " 51% (77 of 150) |###########            | Elapsed Time: 0:03:47 ETA:   0:02:31"
     ]
    },
    {
     "name": "stdout",
     "output_type": "stream",
     "text": [
      " - DATA FIDELITY (X): 256.98917914316655\n"
     ]
    },
    {
     "name": "stderr",
     "output_type": "stream",
     "text": [
      "\r",
      "                                                                               \r",
      "\r",
      " 51% (77 of 150) |###########            | Elapsed Time: 0:03:48 ETA:   0:03:20"
     ]
    },
    {
     "name": "stdout",
     "output_type": "stream",
     "text": [
      " - Min (X): 1.2943045406415977e-53\n",
      " - L1 NORM (X): 31.169214539771893\n"
     ]
    },
    {
     "name": "stderr",
     "output_type": "stream",
     "text": [
      "\r",
      "                                                                               \r",
      "\r",
      " 52% (78 of 150) |###########            | Elapsed Time: 0:03:52 ETA:   0:05:00"
     ]
    },
    {
     "name": "stdout",
     "output_type": "stream",
     "text": [
      " - COST: 288.1583936829384\n",
      "\n",
      " - ITERATION: 80\n"
     ]
    },
    {
     "name": "stderr",
     "output_type": "stream",
     "text": [
      "\r",
      "                                                                               \r",
      "\r",
      " 52% (78 of 150) |###########            | Elapsed Time: 0:03:53 ETA:   0:05:55"
     ]
    },
    {
     "name": "stdout",
     "output_type": "stream",
     "text": [
      " - DATA FIDELITY (X): 256.74123572173266\n"
     ]
    },
    {
     "name": "stderr",
     "output_type": "stream",
     "text": [
      "\r",
      "                                                                               \r",
      "\r",
      " 52% (78 of 150) |###########            | Elapsed Time: 0:03:54 ETA:   0:06:45"
     ]
    },
    {
     "name": "stdout",
     "output_type": "stream",
     "text": [
      " - Min (X): 2.588609081283195e-54\n",
      " - L1 NORM (X): 31.200846246133935\n"
     ]
    },
    {
     "name": "stderr",
     "output_type": "stream",
     "text": [
      "\r",
      "                                                                               \r",
      "\r",
      " 52% (79 of 150) |############           | Elapsed Time: 0:03:56 ETA:   0:02:53"
     ]
    },
    {
     "name": "stdout",
     "output_type": "stream",
     "text": [
      " - COST: 287.9420819678666\n",
      "\n",
      " - CONVERGENCE TEST - \n",
      " - CHANGE IN COST: 0.0015377055245021304\n",
      "\n",
      " - ITERATION: 81\n"
     ]
    },
    {
     "name": "stderr",
     "output_type": "stream",
     "text": [
      "\r",
      "                                                                               \r",
      "\r",
      " 52% (79 of 150) |############           | Elapsed Time: 0:03:56 ETA:   0:03:11"
     ]
    },
    {
     "name": "stdout",
     "output_type": "stream",
     "text": [
      " - DATA FIDELITY (X): 256.4988836451248\n"
     ]
    },
    {
     "name": "stderr",
     "output_type": "stream",
     "text": [
      "\r",
      "                                                                               \r",
      "\r",
      " 52% (79 of 150) |############           | Elapsed Time: 0:03:57 ETA:   0:04:00"
     ]
    },
    {
     "name": "stdout",
     "output_type": "stream",
     "text": [
      " - Min (X): 5.177218162566389e-55\n",
      " - L1 NORM (X): 31.231943643724616\n"
     ]
    },
    {
     "name": "stderr",
     "output_type": "stream",
     "text": [
      "\r",
      "                                                                               \r",
      "\r",
      " 53% (80 of 150) |############           | Elapsed Time: 0:04:07 ETA:   0:11:15"
     ]
    },
    {
     "name": "stdout",
     "output_type": "stream",
     "text": [
      " - COST: 287.7308272888494\n",
      "\n",
      " - ITERATION: 82\n"
     ]
    },
    {
     "name": "stderr",
     "output_type": "stream",
     "text": [
      "\r",
      "                                                                               \r",
      "\r",
      " 53% (80 of 150) |############           | Elapsed Time: 0:04:07 ETA:   0:11:46"
     ]
    },
    {
     "name": "stdout",
     "output_type": "stream",
     "text": [
      " - DATA FIDELITY (X): 256.26216386280544\n"
     ]
    },
    {
     "name": "stderr",
     "output_type": "stream",
     "text": [
      "\r",
      "                                                                               \r",
      "\r",
      " 53% (80 of 150) |############           | Elapsed Time: 0:04:08 ETA:   0:12:51"
     ]
    },
    {
     "name": "stdout",
     "output_type": "stream",
     "text": [
      " - Min (X): 1.0354436325132776e-55\n",
      " - L1 NORM (X): 31.262562219045055\n"
     ]
    },
    {
     "name": "stderr",
     "output_type": "stream",
     "text": [
      "\r",
      "                                                                               \r",
      "\r",
      " 54% (81 of 150) |############           | Elapsed Time: 0:04:12 ETA:   0:04:16"
     ]
    },
    {
     "name": "stdout",
     "output_type": "stream",
     "text": [
      " - COST: 287.5247260818505\n",
      "\n",
      " - ITERATION: 83\n"
     ]
    },
    {
     "name": "stderr",
     "output_type": "stream",
     "text": [
      "\r",
      "                                                                               \r",
      "\r",
      " 54% (81 of 150) |############           | Elapsed Time: 0:04:13 ETA:   0:05:15"
     ]
    },
    {
     "name": "stdout",
     "output_type": "stream",
     "text": [
      " - DATA FIDELITY (X): 256.03140341160287\n"
     ]
    },
    {
     "name": "stderr",
     "output_type": "stream",
     "text": [
      "\r",
      "                                                                               \r",
      "\r",
      " 54% (81 of 150) |############           | Elapsed Time: 0:04:14 ETA:   0:06:36"
     ]
    },
    {
     "name": "stdout",
     "output_type": "stream",
     "text": [
      " - Min (X): 2.070887265026555e-56\n",
      " - L1 NORM (X): 31.292738081520007\n"
     ]
    },
    {
     "name": "stderr",
     "output_type": "stream",
     "text": [
      "\r",
      "                                                                               \r",
      "\r",
      " 54% (82 of 150) |############           | Elapsed Time: 0:04:17 ETA:   0:03:58"
     ]
    },
    {
     "name": "stdout",
     "output_type": "stream",
     "text": [
      " - COST: 287.32414149312285\n",
      "\n",
      " - ITERATION: 84\n"
     ]
    },
    {
     "name": "stderr",
     "output_type": "stream",
     "text": [
      "\r",
      "                                                                               \r",
      "\r",
      " 54% (82 of 150) |############           | Elapsed Time: 0:04:17 ETA:   0:04:12"
     ]
    },
    {
     "name": "stdout",
     "output_type": "stream",
     "text": [
      " - DATA FIDELITY (X): 255.80634023058005\n"
     ]
    },
    {
     "name": "stderr",
     "output_type": "stream",
     "text": [
      "\r",
      "                                                                               \r",
      "\r",
      " 54% (82 of 150) |############           | Elapsed Time: 0:04:18 ETA:   0:04:58"
     ]
    },
    {
     "name": "stdout",
     "output_type": "stream",
     "text": [
      " - Min (X): 4.141774530053109e-57\n",
      " - L1 NORM (X): 31.32242964896081\n"
     ]
    },
    {
     "name": "stderr",
     "output_type": "stream",
     "text": [
      "\r",
      "                                                                               \r",
      "\r",
      " 55% (83 of 150) |############           | Elapsed Time: 0:04:20 ETA:   0:02:29"
     ]
    },
    {
     "name": "stdout",
     "output_type": "stream",
     "text": [
      " - COST: 287.12876987954087\n",
      "\n",
      " - CONVERGENCE TEST - \n",
      " - CHANGE IN COST: 0.0013972285319578941\n",
      "\n",
      " - ITERATION: 85\n"
     ]
    },
    {
     "name": "stderr",
     "output_type": "stream",
     "text": [
      "\r",
      "                                                                               \r",
      "\r",
      " 55% (83 of 150) |############           | Elapsed Time: 0:04:21 ETA:   0:02:44"
     ]
    },
    {
     "name": "stdout",
     "output_type": "stream",
     "text": [
      " - DATA FIDELITY (X): 255.58640262062602\n"
     ]
    },
    {
     "name": "stderr",
     "output_type": "stream",
     "text": [
      "\r",
      "                                                                               \r",
      "\r",
      " 55% (83 of 150) |############           | Elapsed Time: 0:04:21 ETA:   0:03:30"
     ]
    },
    {
     "name": "stdout",
     "output_type": "stream",
     "text": [
      " - Min (X): 8.283549060106216e-58\n",
      " - L1 NORM (X): 31.35161558537411\n"
     ]
    },
    {
     "name": "stderr",
     "output_type": "stream",
     "text": [
      "\r",
      "                                                                               \r",
      "\r",
      " 56% (84 of 150) |############           | Elapsed Time: 0:04:23 ETA:   0:02:16"
     ]
    },
    {
     "name": "stdout",
     "output_type": "stream",
     "text": [
      " - COST: 286.93801820600015\n",
      "\n",
      " - ITERATION: 86\n"
     ]
    },
    {
     "name": "stderr",
     "output_type": "stream",
     "text": [
      "\r",
      "                                                                               \r",
      "\r",
      " 56% (84 of 150) |############           | Elapsed Time: 0:04:24 ETA:   0:02:30"
     ]
    },
    {
     "name": "stdout",
     "output_type": "stream",
     "text": [
      " - DATA FIDELITY (X): 255.37104149885744\n"
     ]
    },
    {
     "name": "stderr",
     "output_type": "stream",
     "text": [
      "\r",
      "                                                                               \r",
      "\r",
      " 56% (84 of 150) |############           | Elapsed Time: 0:04:24 ETA:   0:03:09"
     ]
    },
    {
     "name": "stdout",
     "output_type": "stream",
     "text": [
      " - Min (X): 1.656709812021243e-58\n",
      " - L1 NORM (X): 31.38029827216934\n"
     ]
    },
    {
     "name": "stderr",
     "output_type": "stream",
     "text": [
      "\r",
      "                                                                               \r",
      "\r",
      " 56% (85 of 150) |#############          | Elapsed Time: 0:04:26 ETA:   0:02:42"
     ]
    },
    {
     "name": "stdout",
     "output_type": "stream",
     "text": [
      " - COST: 286.7513397710268\n",
      "\n",
      " - ITERATION: 87\n"
     ]
    },
    {
     "name": "stderr",
     "output_type": "stream",
     "text": [
      "\r",
      "                                                                               \r",
      "\r",
      " 56% (85 of 150) |#############          | Elapsed Time: 0:04:26 ETA:   0:02:30"
     ]
    },
    {
     "name": "stdout",
     "output_type": "stream",
     "text": [
      " - DATA FIDELITY (X): 255.16035178861492\n"
     ]
    },
    {
     "name": "stderr",
     "output_type": "stream",
     "text": [
      "\r",
      "                                                                               \r",
      "\r",
      " 56% (85 of 150) |#############          | Elapsed Time: 0:04:28 ETA:   0:03:48"
     ]
    },
    {
     "name": "stdout",
     "output_type": "stream",
     "text": [
      " - Min (X): 3.313419624042485e-59\n",
      " - L1 NORM (X): 31.408527093416094\n"
     ]
    },
    {
     "name": "stderr",
     "output_type": "stream",
     "text": [
      "\r",
      "                                                                               \r",
      "\r",
      " 57% (86 of 150) |#############          | Elapsed Time: 0:04:30 ETA:   0:02:43"
     ]
    },
    {
     "name": "stdout",
     "output_type": "stream",
     "text": [
      " - COST: 286.568878882031\n",
      "\n",
      " - ITERATION: 88\n"
     ]
    },
    {
     "name": "stderr",
     "output_type": "stream",
     "text": [
      "\r",
      "                                                                               \r",
      "\r",
      " 57% (86 of 150) |#############          | Elapsed Time: 0:04:31 ETA:   0:03:05"
     ]
    },
    {
     "name": "stdout",
     "output_type": "stream",
     "text": [
      " - DATA FIDELITY (X): 254.95431685897054\n"
     ]
    },
    {
     "name": "stderr",
     "output_type": "stream",
     "text": [
      "\r",
      "                                                                               \r",
      "\r",
      " 57% (86 of 150) |#############          | Elapsed Time: 0:04:31 ETA:   0:03:47"
     ]
    },
    {
     "name": "stdout",
     "output_type": "stream",
     "text": [
      " - Min (X): 6.626839248084969e-60\n",
      " - L1 NORM (X): 31.43633395902594\n"
     ]
    },
    {
     "name": "stderr",
     "output_type": "stream",
     "text": [
      "\r",
      "                                                                               \r",
      "\r",
      " 57% (87 of 150) |#############          | Elapsed Time: 0:04:33 ETA:   0:02:46"
     ]
    },
    {
     "name": "stdout",
     "output_type": "stream",
     "text": [
      " - COST: 286.39065081799646\n",
      "\n",
      " - CONVERGENCE TEST - \n",
      " - CHANGE IN COST: 0.0012737867845248282\n",
      "\n",
      " - ITERATION: 89\n"
     ]
    },
    {
     "name": "stderr",
     "output_type": "stream",
     "text": [
      "\r",
      "                                                                               \r",
      "\r",
      " 57% (87 of 150) |#############          | Elapsed Time: 0:04:33 ETA:   0:02:18"
     ]
    },
    {
     "name": "stdout",
     "output_type": "stream",
     "text": [
      " - DATA FIDELITY (X): 254.753008365722\n"
     ]
    },
    {
     "name": "stderr",
     "output_type": "stream",
     "text": [
      "\r",
      "                                                                               \r",
      "\r",
      " 57% (87 of 150) |#############          | Elapsed Time: 0:04:34 ETA:   0:03:00"
     ]
    },
    {
     "name": "stdout",
     "output_type": "stream",
     "text": [
      " - Min (X): 1.3253678496169936e-60\n",
      " - L1 NORM (X): 31.463694645476977\n"
     ]
    },
    {
     "name": "stderr",
     "output_type": "stream",
     "text": [
      "\r",
      "                                                                               \r",
      "\r",
      " 58% (88 of 150) |#############          | Elapsed Time: 0:04:39 ETA:   0:05:30"
     ]
    },
    {
     "name": "stdout",
     "output_type": "stream",
     "text": [
      " - COST: 286.216703011199\n",
      "\n",
      " - ITERATION: 90\n"
     ]
    },
    {
     "name": "stderr",
     "output_type": "stream",
     "text": [
      "\r",
      "                                                                               \r",
      "\r",
      " 58% (88 of 150) |#############          | Elapsed Time: 0:04:40 ETA:   0:06:14"
     ]
    },
    {
     "name": "stdout",
     "output_type": "stream",
     "text": [
      " - DATA FIDELITY (X): 254.55602157832217\n"
     ]
    },
    {
     "name": "stderr",
     "output_type": "stream",
     "text": [
      "\r",
      "                                                                               \r",
      "\r",
      " 58% (88 of 150) |#############          | Elapsed Time: 0:04:41 ETA:   0:06:55"
     ]
    },
    {
     "name": "stdout",
     "output_type": "stream",
     "text": [
      " - Min (X): 2.6507356992339866e-61\n",
      " - L1 NORM (X): 31.490634193269603\n"
     ]
    },
    {
     "name": "stderr",
     "output_type": "stream",
     "text": [
      "\r",
      "                                                                               \r",
      "\r",
      " 59% (89 of 150) |#############          | Elapsed Time: 0:04:43 ETA:   0:02:07"
     ]
    },
    {
     "name": "stdout",
     "output_type": "stream",
     "text": [
      " - COST: 286.04665577159176\n",
      "\n",
      " - ITERATION: 91\n"
     ]
    },
    {
     "name": "stderr",
     "output_type": "stream",
     "text": [
      "\r",
      "                                                                               \r",
      "\r",
      " 59% (89 of 150) |#############          | Elapsed Time: 0:04:43 ETA:   0:02:21"
     ]
    },
    {
     "name": "stdout",
     "output_type": "stream",
     "text": [
      " - DATA FIDELITY (X): 254.3636583454926\n"
     ]
    },
    {
     "name": "stderr",
     "output_type": "stream",
     "text": [
      "\r",
      "                                                                               \r",
      "\r",
      " 59% (89 of 150) |#############          | Elapsed Time: 0:04:44 ETA:   0:02:57"
     ]
    },
    {
     "name": "stdout",
     "output_type": "stream",
     "text": [
      " - Min (X): 5.301471398467972e-62\n",
      " - L1 NORM (X): 31.51711723680475\n"
     ]
    },
    {
     "name": "stderr",
     "output_type": "stream",
     "text": [
      "\r",
      "                                                                               \r",
      "\r",
      " 60% (90 of 150) |#############          | Elapsed Time: 0:04:47 ETA:   0:03:26"
     ]
    },
    {
     "name": "stdout",
     "output_type": "stream",
     "text": [
      " - COST: 285.88077558229736\n",
      "\n",
      " - ITERATION: 92\n"
     ]
    },
    {
     "name": "stderr",
     "output_type": "stream",
     "text": [
      "\r",
      "                                                                               \r",
      "\r",
      " 60% (90 of 150) |#############          | Elapsed Time: 0:04:48 ETA:   0:04:41"
     ]
    },
    {
     "name": "stdout",
     "output_type": "stream",
     "text": [
      " - DATA FIDELITY (X): 254.17588684752224\n"
     ]
    },
    {
     "name": "stderr",
     "output_type": "stream",
     "text": [
      "\r",
      "                                                                               \r",
      "\r",
      " 60% (90 of 150) |#############          | Elapsed Time: 0:04:49 ETA:   0:05:40"
     ]
    },
    {
     "name": "stdout",
     "output_type": "stream",
     "text": [
      " - Min (X): 1.0602942796935941e-62\n",
      " - L1 NORM (X): 31.543162969361106\n"
     ]
    },
    {
     "name": "stderr",
     "output_type": "stream",
     "text": [
      "                                                                               \r"
     ]
    },
    {
     "name": "stdout",
     "output_type": "stream",
     "text": [
      " - COST: 285.71904981688334\n",
      "\n",
      " - CONVERGENCE TEST - \n",
      " - CHANGE IN COST: 0.0011608355253550546\n",
      "\n",
      " - ITERATION: 93\n"
     ]
    },
    {
     "name": "stderr",
     "output_type": "stream",
     "text": [
      "\r",
      " 60% (91 of 150) |#############          | Elapsed Time: 0:04:52 ETA:   0:02:06"
     ]
    },
    {
     "name": "stdout",
     "output_type": "stream",
     "text": [
      " - DATA FIDELITY (X): 253.99176843665325\n"
     ]
    },
    {
     "name": "stderr",
     "output_type": "stream",
     "text": [
      "\r",
      "                                                                               \r",
      "\r",
      " 60% (91 of 150) |#############          | Elapsed Time: 0:04:52 ETA:   0:02:42"
     ]
    },
    {
     "name": "stdout",
     "output_type": "stream",
     "text": [
      " - Min (X): 2.1205885593871877e-63\n",
      " - L1 NORM (X): 31.568745805708886\n"
     ]
    },
    {
     "name": "stderr",
     "output_type": "stream",
     "text": [
      "\r",
      "                                                                               \r",
      "\r",
      " 61% (92 of 150) |##############         | Elapsed Time: 0:04:54 ETA:   0:02:03"
     ]
    },
    {
     "name": "stdout",
     "output_type": "stream",
     "text": [
      " - COST: 285.56051424236216\n",
      "\n",
      " - ITERATION: 94\n"
     ]
    },
    {
     "name": "stderr",
     "output_type": "stream",
     "text": [
      "\r",
      "                                                                               \r",
      "\r",
      " 61% (92 of 150) |##############         | Elapsed Time: 0:04:54 ETA:   0:02:16"
     ]
    },
    {
     "name": "stdout",
     "output_type": "stream",
     "text": [
      " - DATA FIDELITY (X): 253.8111492968363\n"
     ]
    },
    {
     "name": "stderr",
     "output_type": "stream",
     "text": [
      "\r",
      "                                                                               \r",
      "\r",
      " 61% (92 of 150) |##############         | Elapsed Time: 0:04:55 ETA:   0:02:57"
     ]
    },
    {
     "name": "stdout",
     "output_type": "stream",
     "text": [
      " - Min (X): 4.241177118774374e-64\n",
      " - L1 NORM (X): 31.593912081768657\n"
     ]
    },
    {
     "name": "stderr",
     "output_type": "stream",
     "text": [
      "\r",
      "                                                                               \r",
      "\r",
      " 62% (93 of 150) |##############         | Elapsed Time: 0:04:58 ETA:   0:02:14"
     ]
    },
    {
     "name": "stdout",
     "output_type": "stream",
     "text": [
      " - COST: 285.40506137860496\n",
      "\n",
      " - ITERATION: 95\n"
     ]
    },
    {
     "name": "stderr",
     "output_type": "stream",
     "text": [
      "\r",
      "                                                                               \r",
      "\r",
      " 62% (93 of 150) |##############         | Elapsed Time: 0:04:58 ETA:   0:02:33"
     ]
    },
    {
     "name": "stdout",
     "output_type": "stream",
     "text": [
      " - DATA FIDELITY (X): 253.634647661225\n"
     ]
    },
    {
     "name": "stderr",
     "output_type": "stream",
     "text": [
      "\r",
      "                                                                               \r",
      "\r",
      " 62% (93 of 150) |##############         | Elapsed Time: 0:04:59 ETA:   0:03:30"
     ]
    },
    {
     "name": "stdout",
     "output_type": "stream",
     "text": [
      " - Min (X): 8.482354237548747e-65\n",
      " - L1 NORM (X): 31.61873647483863\n"
     ]
    },
    {
     "name": "stderr",
     "output_type": "stream",
     "text": [
      "\r",
      "                                                                               \r",
      "\r",
      " 62% (94 of 150) |##############         | Elapsed Time: 0:05:01 ETA:   0:01:54"
     ]
    },
    {
     "name": "stdout",
     "output_type": "stream",
     "text": [
      " - COST: 285.25338413606363\n",
      "\n",
      " - ITERATION: 96\n"
     ]
    },
    {
     "name": "stderr",
     "output_type": "stream",
     "text": [
      "\r",
      "                                                                               \r",
      "\r",
      " 62% (94 of 150) |##############         | Elapsed Time: 0:05:01 ETA:   0:02:13"
     ]
    },
    {
     "name": "stdout",
     "output_type": "stream",
     "text": [
      " - DATA FIDELITY (X): 253.46234439956524\n"
     ]
    },
    {
     "name": "stderr",
     "output_type": "stream",
     "text": [
      "\r",
      "                                                                               \r",
      "\r",
      " 62% (94 of 150) |##############         | Elapsed Time: 0:05:02 ETA:   0:02:52"
     ]
    },
    {
     "name": "stdout",
     "output_type": "stream",
     "text": [
      " - Min (X): 1.696470847509749e-65\n",
      " - L1 NORM (X): 31.643232311776714\n"
     ]
    }
   ],
   "source": [
    "S, A = rca_runner.fit(stars, train_galaxies, stars_pos, train_galaxies_pos)"
   ]
  },
  {
   "cell_type": "code",
   "execution_count": null,
   "metadata": {},
   "outputs": [],
   "source": [
    "rca_runner.quicksave('simulated_data_fitted_model')"
   ]
  },
  {
   "cell_type": "markdown",
   "metadata": {},
   "source": [
    "To compare estimate PSFs with true PSFs, we need their shifts:"
   ]
  },
  {
   "cell_type": "code",
   "execution_count": null,
   "metadata": {},
   "outputs": [],
   "source": [
    "cents = []\n",
    "for psf in test_PSFs_truth:\n",
    "    cents += [rca.utils.CentroidEstimator(psf)]\n",
    "test_shifts = np.array([ce.return_shifts() for ce in cents])"
   ]
  },
  {
   "cell_type": "markdown",
   "metadata": {},
   "source": [
    "Estimate PSF all the positions. `shifts` are set to get PSFs estimate sampled on the right grid for comparisons with true PSFs."
   ]
  },
  {
   "cell_type": "code",
   "execution_count": null,
   "metadata": {},
   "outputs": [],
   "source": [
    "test_PSFs_estimate = rca_runner.estimate_psf(test_galaxies_pos, apply_degradation=True, shifts=test_shifts)"
   ]
  },
  {
   "cell_type": "markdown",
   "metadata": {},
   "source": [
    "Normalize all the PSFs for comparisons:"
   ]
  },
  {
   "cell_type": "code",
   "execution_count": null,
   "metadata": {},
   "outputs": [],
   "source": [
    "for j in range(test_PSFs_estimate.shape[0]):\n",
    "    test_PSFs_estimate[j] /= test_PSFs_estimate[j].sum()\n",
    "    test_PSFs_truth[j] /= test_PSFs_truth[j].sum()"
   ]
  },
  {
   "cell_type": "markdown",
   "metadata": {},
   "source": [
    "## EigenPSFs"
   ]
  },
  {
   "cell_type": "code",
   "execution_count": null,
   "metadata": {},
   "outputs": [],
   "source": [
    "eigenPSFs = rca.utils.reg_format(S)\n",
    "for epsf in eigenPSFs:\n",
    "    plot_func(abs(epsf))"
   ]
  },
  {
   "cell_type": "markdown",
   "metadata": {},
   "source": [
    "## Few examples"
   ]
  },
  {
   "cell_type": "code",
   "execution_count": null,
   "metadata": {},
   "outputs": [],
   "source": [
    "for j in np.random.choice(test_galaxies.shape[0], 3, False):\n",
    "    true_psf = test_PSFs_truth[j]\n",
    "    plot_func(true_psf, title='True PSF')\n",
    "    est_psf = test_PSFs_estimate[j]\n",
    "    plot_func(est_psf, title=r'$RCA^{++}$ PSF model')\n",
    "    plot_func(np.abs(true_psf-est_psf), title='residual')\n",
    "    print j"
   ]
  }
 ],
 "metadata": {
  "kernelspec": {
   "display_name": "Python 2",
   "language": "python",
   "name": "python2"
  },
  "language_info": {
   "codemirror_mode": {
    "name": "ipython",
    "version": 2
   },
   "file_extension": ".py",
   "mimetype": "text/x-python",
   "name": "python",
   "nbconvert_exporter": "python",
   "pygments_lexer": "ipython2",
   "version": "2.7.15"
  }
 },
 "nbformat": 4,
 "nbformat_minor": 2
}
