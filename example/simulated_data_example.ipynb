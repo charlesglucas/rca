{
 "cells": [
  {
   "cell_type": "markdown",
   "metadata": {},
   "source": [
    "#  RCA II on simulated data\n",
    "---"
   ]
  },
  {
   "cell_type": "markdown",
   "metadata": {},
   "source": [
    "This notebook presents an example of the use of RCA II to model the PSF from simulated data."
   ]
  },
  {
   "cell_type": "markdown",
   "metadata": {},
   "source": [
    "## Contents\n",
    "1. [Data preparation](#1-DATA-PREPARATION)\n",
    "    1. [Load simulated data](#Load-simulated-data)\n",
    "    1. [Split data](#SPLIT-DATA)\n",
    "1. [RCA II](#2-RCA$^{++}$)\n",
    "    1. [Fit model](#FIT-MODEL)\n",
    "    1. [PSF estimation](#PSF-Estimation)\n",
    "    1. [EigenPSFs](#EigenPSFs)\n",
    "    1. [Few examples](#Few-examples)\n",
    "---"
   ]
  },
  {
   "cell_type": "code",
   "execution_count": 1,
   "metadata": {},
   "outputs": [],
   "source": [
    "import numpy as np\n",
    "import os\n",
    "from astropy.io import fits\n",
    "import matplotlib.pyplot as plt\n",
    "import rca"
   ]
  },
  {
   "cell_type": "markdown",
   "metadata": {},
   "source": [
    "Define a function for visual inspection:"
   ]
  },
  {
   "cell_type": "code",
   "execution_count": 2,
   "metadata": {},
   "outputs": [],
   "source": [
    "def plot_func(im, cmap='gist_stern', title=''):\n",
    "    plt.imshow(im, cmap=cmap, interpolation='Nearest')\n",
    "    plt.title(title)\n",
    "    plt.colorbar()\n",
    "    plt.xticks([])\n",
    "    plt.yticks([])\n",
    "    plt.show()\n",
    "    plt.close()"
   ]
  },
  {
   "cell_type": "markdown",
   "metadata": {},
   "source": [
    "---\n",
    "## 1 Data preparation"
   ]
  },
  {
   "cell_type": "markdown",
   "metadata": {},
   "source": [
    "### Load simulated data"
   ]
  },
  {
   "cell_type": "markdown",
   "metadata": {},
   "source": [
    "Load data; `RCADECONV_data.fits` is splitted into 2 hdu, the first one contains 625 simulated observed stars and their positions and the second one contains 625 simulated observed galaxies and their positions.`RCADECONV_groundtruth.fits` is also splitted into 2 hdu, the first one contains 625 simulated PSFs and their positions and the second one contains 625 simulated true galaxies and their positions.\n",
    "All the data are simulated at the same positions."
   ]
  },
  {
   "cell_type": "code",
   "execution_count": 3,
   "metadata": {},
   "outputs": [],
   "source": [
    "hdulist1 = fits.open('RCADECONV_data.fits')\n",
    "hdulist2 = fits.open('RCADECONV_groundtruth.fits')"
   ]
  },
  {
   "cell_type": "code",
   "execution_count": 4,
   "metadata": {},
   "outputs": [],
   "source": [
    "hdu1_1 = hdulist1[0]\n",
    "hdu1_2 = hdulist1[1]\n",
    "hdu2_1 = hdulist2[0]\n",
    "hdu2_2 = hdulist2[1]"
   ]
  },
  {
   "cell_type": "markdown",
   "metadata": {},
   "source": [
    "For each hdu, retrieve the data and their related positons in arrays:"
   ]
  },
  {
   "cell_type": "code",
   "execution_count": 5,
   "metadata": {},
   "outputs": [],
   "source": [
    "def separate(hdu):\n",
    "    obs, obs_pos = [], []\n",
    "    for m in range(25):\n",
    "        for n in range(25):\n",
    "            obs.append([[hdu.data[51*m+i][51*n+j] for i in range(51)] for j in range(51)])\n",
    "            obs_pos.append([51*m+12, 51*n+12])\n",
    "    return np.array(obs), np.array(obs_pos)"
   ]
  },
  {
   "cell_type": "code",
   "execution_count": 6,
   "metadata": {},
   "outputs": [],
   "source": [
    "galaxies, galaxies_pos = separate(hdu1_1)\n",
    "stars, stars_pos = separate(hdu1_2)\n",
    "galaxies_truth, _ = separate(hdu2_1)\n",
    "PSFs_truth, _ = separate(hdu2_2)"
   ]
  },
  {
   "cell_type": "markdown",
   "metadata": {},
   "source": [
    "### Split data"
   ]
  },
  {
   "cell_type": "markdown",
   "metadata": {},
   "source": [
    "Split them into stars and 'train' and 'test' galaxies:"
   ]
  },
  {
   "cell_type": "code",
   "execution_count": 7,
   "metadata": {},
   "outputs": [],
   "source": [
    "gal_idx = np.random.choice(galaxies.shape[0], 156 , False)\n",
    "star_idx = np.random.choice(list(set(range(galaxies.shape[0])) - set(gal_idx)),313,False)\n",
    "test_idx = list(set(range(galaxies.shape[0])) - set(gal_idx)- set(star_idx))"
   ]
  },
  {
   "cell_type": "code",
   "execution_count": 8,
   "metadata": {},
   "outputs": [],
   "source": [
    "train_galaxies, train_galaxies_pos = galaxies[gal_idx], galaxies_pos[gal_idx]\n",
    "test_galaxies, test_galaxies_pos = galaxies[test_idx], galaxies_pos[test_idx]\n",
    "stars, stars_pos = stars[star_idx], stars_pos[star_idx]"
   ]
  },
  {
   "cell_type": "markdown",
   "metadata": {},
   "source": [
    "Retrieve the ground truth PSFs at the positions of the 'test' galaxies set to compare the PSFs estimate model:"
   ]
  },
  {
   "cell_type": "code",
   "execution_count": 9,
   "metadata": {},
   "outputs": [],
   "source": [
    "test_PSFs_truth = PSFs_truth[test_idx]"
   ]
  },
  {
   "cell_type": "markdown",
   "metadata": {},
   "source": [
    "---\n",
    "## 2 RCA II"
   ]
  },
  {
   "cell_type": "markdown",
   "metadata": {},
   "source": [
    "### Fit model"
   ]
  },
  {
   "cell_type": "markdown",
   "metadata": {},
   "source": [
    "RCA II needs stars and galaxies to be respectively in $(p\\times p\\times n_\\rm{stars})$ and $(p\\times p\\times n_\\rm{galaxies})$ format:"
   ]
  },
  {
   "cell_type": "code",
   "execution_count": 10,
   "metadata": {},
   "outputs": [],
   "source": [
    "stars = rca.utils.rca_format(stars)\n",
    "train_galaxies = rca.utils.rca_format(train_galaxies)"
   ]
  },
  {
   "cell_type": "markdown",
   "metadata": {},
   "source": [
    "RCA II expects at least one parameter: `n_comp` is the number of eigenPSFs."
   ]
  },
  {
   "cell_type": "code",
   "execution_count": 11,
   "metadata": {},
   "outputs": [],
   "source": [
    "n_comp = 4"
   ]
  },
  {
   "cell_type": "code",
   "execution_count": 12,
   "metadata": {},
   "outputs": [],
   "source": [
    "rca_runner = rca.RCA(n_comp)"
   ]
  },
  {
   "cell_type": "code",
   "execution_count": null,
   "metadata": {},
   "outputs": [],
   "source": [
    "S, A = rca_runner.fit(stars, train_galaxies, stars_pos, train_galaxies_pos)"
   ]
  },
  {
   "cell_type": "code",
   "execution_count": 14,
   "metadata": {},
   "outputs": [],
   "source": [
    "rca_runner.quicksave('simulated_data_fitted_model')"
   ]
  },
  {
   "cell_type": "markdown",
   "metadata": {},
   "source": [
    "### PSF estimation"
   ]
  },
  {
   "cell_type": "markdown",
   "metadata": {},
   "source": [
    "To compare estimate PSFs with true PSFs, we need their shifts:"
   ]
  },
  {
   "cell_type": "code",
   "execution_count": 15,
   "metadata": {},
   "outputs": [],
   "source": [
    "cents = []\n",
    "for psf in test_PSFs_truth:\n",
    "    cents += [rca.utils.CentroidEstimator(psf)]\n",
    "test_shifts = np.array([ce.return_shifts() for ce in cents])"
   ]
  },
  {
   "cell_type": "markdown",
   "metadata": {},
   "source": [
    "Estimate PSF all the positions. `shifts` are set to get PSFs estimate sampled on the right grid for comparisons with true PSFs."
   ]
  },
  {
   "cell_type": "code",
   "execution_count": 16,
   "metadata": {},
   "outputs": [],
   "source": [
    "test_PSFs_estimate = rca_runner.estimate_psf(test_galaxies_pos, apply_degradation=True, shifts=test_shifts)"
   ]
  },
  {
   "cell_type": "markdown",
   "metadata": {},
   "source": [
    "Normalize all the PSFs for comparisons:"
   ]
  },
  {
   "cell_type": "code",
   "execution_count": 17,
   "metadata": {},
   "outputs": [],
   "source": [
    "for j in range(test_PSFs_estimate.shape[0]):\n",
    "    test_PSFs_estimate[j] /= test_PSFs_estimate[j].sum()\n",
    "    test_PSFs_truth[j] /= test_PSFs_truth[j].sum()"
   ]
  },
  {
   "cell_type": "markdown",
   "metadata": {},
   "source": [
    "### EigenPSFs"
   ]
  },
  {
   "cell_type": "code",
   "execution_count": 18,
   "metadata": {},
   "outputs": [
    {
     "data": {
      "image/png": "[encoded data removed]",
      "text/plain": [
       "<Figure size 432x288 with 2 Axes>"
      ]
     },
     "metadata": {
      "needs_background": "light"
     },
     "output_type": "display_data"
    },
    {
     "data": {
      "image/png": "[encoded data removed]",
      "text/plain": [
       "<Figure size 432x288 with 2 Axes>"
      ]
     },
     "metadata": {
      "needs_background": "light"
     },
     "output_type": "display_data"
    },
    {
     "data": {
      "image/png": "[encoded data removed]",
      "text/plain": [
       "<Figure size 432x288 with 2 Axes>"
      ]
     },
     "metadata": {
      "needs_background": "light"
     },
     "output_type": "display_data"
    },
    {
     "data": {
      "image/png": "[encoded data removed]",
      "text/plain": [
       "<Figure size 432x288 with 2 Axes>"
      ]
     },
     "metadata": {
      "needs_background": "light"
     },
     "output_type": "display_data"
    }
   ],
   "source": [
    "eigenPSFs = rca.utils.reg_format(S)\n",
    "for epsf in eigenPSFs:\n",
    "    plot_func(abs(epsf))"
   ]
  },
  {
   "cell_type": "markdown",
   "metadata": {},
   "source": [
    "### Few examples"
   ]
  },
  {
   "cell_type": "code",
   "execution_count": 19,
   "metadata": {
    "scrolled": false
   },
   "outputs": [
    {
     "data": {
      "image/png": "[encoded data removed]",
      "text/plain": [
       "<Figure size 432x288 with 2 Axes>"
      ]
     },
     "metadata": {
      "needs_background": "light"
     },
     "output_type": "display_data"
    },
    {
     "data": {
      "image/png": "[encoded data removed]",
      "text/plain": [
       "<Figure size 432x288 with 2 Axes>"
      ]
     },
     "metadata": {
      "needs_background": "light"
     },
     "output_type": "display_data"
    },
    {
     "data": {
      "image/png": "[encoded data removed]",
      "text/plain": [
       "<Figure size 432x288 with 2 Axes>"
      ]
     },
     "metadata": {
      "needs_background": "light"
     },
     "output_type": "display_data"
    },
    {
     "name": "stdout",
     "output_type": "stream",
     "text": [
      "7\n"
     ]
    },
    {
     "data": {
      "image/png": "[encoded data removed]",
      "text/plain": [
       "<Figure size 432x288 with 2 Axes>"
      ]
     },
     "metadata": {
      "needs_background": "light"
     },
     "output_type": "display_data"
    },
    {
     "data": {
      "image/png": "[encoded data removed]",
      "text/plain": [
       "<Figure size 432x288 with 2 Axes>"
      ]
     },
     "metadata": {
      "needs_background": "light"
     },
     "output_type": "display_data"
    },
    {
     "data": {
      "image/png": "[encoded data removed]",
      "text/plain": [
       "<Figure size 432x288 with 2 Axes>"
      ]
     },
     "metadata": {
      "needs_background": "light"
     },
     "output_type": "display_data"
    },
    {
     "name": "stdout",
     "output_type": "stream",
     "text": [
      "67\n"
     ]
    },
    {
     "data": {
      "image/png": "[encoded data removed]",
      "text/plain": [
       "<Figure size 432x288 with 2 Axes>"
      ]
     },
     "metadata": {
      "needs_background": "light"
     },
     "output_type": "display_data"
    },
    {
     "data": {
      "image/png": "[encoded data removed]",
      "text/plain": [
       "<Figure size 432x288 with 2 Axes>"
      ]
     },
     "metadata": {
      "needs_background": "light"
     },
     "output_type": "display_data"
    },
    {
     "data": {
      "image/png": "[encoded data removed]",
      "text/plain": [
       "<Figure size 432x288 with 2 Axes>"
      ]
     },
     "metadata": {
      "needs_background": "light"
     },
     "output_type": "display_data"
    },
    {
     "name": "stdout",
     "output_type": "stream",
     "text": [
      "21\n"
     ]
    }
   ],
   "source": [
    "for j in np.random.choice(test_galaxies.shape[0], 3, False):\n",
    "    true_psf = test_PSFs_truth[j]\n",
    "    plot_func(true_psf, title='True PSF')\n",
    "    est_psf = test_PSFs_estimate[j]\n",
    "    plot_func(est_psf, title=r'$RCA^{++}$ PSF model')\n",
    "    plot_func(np.abs(true_psf-est_psf), title='residual')\n",
    "    print j"
   ]
  }
 ],
 "metadata": {
  "kernelspec": {
   "display_name": "Python 2",
   "language": "python",
   "name": "python2"
  },
  "language_info": {
   "codemirror_mode": {
    "name": "ipython",
    "version": 2
   },
   "file_extension": ".py",
   "mimetype": "text/x-python",
   "name": "python",
   "nbconvert_exporter": "python",
   "pygments_lexer": "ipython2",
   "version": "2.7.15"
  }
 },
 "nbformat": 4,
 "nbformat_minor": 2
}
