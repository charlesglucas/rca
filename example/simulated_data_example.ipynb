{
 "cells": [
  {
   "cell_type": "markdown",
   "metadata": {},
   "source": [
    "# <center> RCA II ON SIMULATED DATA </center>\n",
    "---"
   ]
  },
  {
   "cell_type": "markdown",
   "metadata": {},
   "source": [
    "1. [DATA PREPARATION](#1-DATA-PREPARATION)\n",
    "    1. [Load simulated data](#Load-simulated-data)\n",
    "    1. [Split data](#SPLIT-DATA)\n",
    "1. [RCA II](#2-RCA$^{++}$)\n",
    "    1. [Fit model](#FIT-MODEL)\n",
    "    1. [PSF estimation](#PSF-Estimation)\n",
    "    1. [EigenPSFs](#EigenPSFs)\n",
    "    1. [Few examples](#Few-examples)"
   ]
  },
  {
   "cell_type": "code",
   "execution_count": 1,
   "metadata": {},
   "outputs": [],
   "source": [
    "import numpy as np\n",
    "import os\n",
    "from astropy.io import fits\n",
    "import matplotlib.pyplot as plt\n",
    "import rca"
   ]
  },
  {
   "cell_type": "markdown",
   "metadata": {},
   "source": [
    "Define a function for visual inspection:"
   ]
  },
  {
   "cell_type": "code",
   "execution_count": 2,
   "metadata": {},
   "outputs": [],
   "source": [
    "def plot_func(im, cmap='gist_stern', title=''):\n",
    "    plt.imshow(im, cmap=cmap, interpolation='Nearest')\n",
    "    plt.title(title)\n",
    "    plt.colorbar()\n",
    "    plt.xticks([])\n",
    "    plt.yticks([])\n",
    "    plt.show()\n",
    "    plt.close()"
   ]
  },
  {
   "cell_type": "markdown",
   "metadata": {},
   "source": [
    "# 1 DATA PREPARATION\n",
    "---"
   ]
  },
  {
   "cell_type": "markdown",
   "metadata": {},
   "source": [
    "## Load simulated data"
   ]
  },
  {
   "cell_type": "markdown",
   "metadata": {},
   "source": [
    "Load data; `RCADECONV_data.fits` is splitted into 2 hdu, the first one contains 625 simulated observed stars and their positions and the second one contains 625 simulated observed galaxies and their positions.`RCADECONV_groundtruth.fits` is also splitted into 2 hdu, the first one contains 625 simulated PSFs and their positions and the second one contains 625 simulated true galaxies and their positions.\n",
    "All the data are simulated at the same positions."
   ]
  },
  {
   "cell_type": "code",
   "execution_count": 3,
   "metadata": {},
   "outputs": [],
   "source": [
    "hdulist1 = fits.open('RCADECONV_data.fits')\n",
    "hdulist2 = fits.open('RCADECONV_groundtruth.fits')"
   ]
  },
  {
   "cell_type": "code",
   "execution_count": 4,
   "metadata": {},
   "outputs": [],
   "source": [
    "hdu1_1 = hdulist1[0]\n",
    "hdu1_2 = hdulist1[1]\n",
    "hdu2_1 = hdulist2[0]\n",
    "hdu2_2 = hdulist2[1]"
   ]
  },
  {
   "cell_type": "markdown",
   "metadata": {},
   "source": [
    "For each hdu, retrieve the data and their related positons in arrays:"
   ]
  },
  {
   "cell_type": "code",
   "execution_count": 5,
   "metadata": {},
   "outputs": [],
   "source": [
    "def separate(hdu):\n",
    "    obs, obs_pos = [], []\n",
    "    for m in range(25):\n",
    "        for n in range(25):\n",
    "            obs.append([[hdu.data[51*m+i][51*n+j] for i in range(51)] for j in range(51)])\n",
    "            obs_pos.append([51*m+12, 51*n+12])\n",
    "    return np.array(obs), np.array(obs_pos)"
   ]
  },
  {
   "cell_type": "code",
   "execution_count": 6,
   "metadata": {},
   "outputs": [],
   "source": [
    "galaxies, galaxies_pos = separate(hdu1_1)\n",
    "stars, stars_pos = separate(hdu1_2)\n",
    "galaxies_truth, _ = separate(hdu2_1)\n",
    "PSFs_truth, _ = separate(hdu2_2)"
   ]
  },
  {
   "cell_type": "markdown",
   "metadata": {},
   "source": [
    "## Split data"
   ]
  },
  {
   "cell_type": "markdown",
   "metadata": {},
   "source": [
    "Split them into stars and 'train' and 'test' galaxies:"
   ]
  },
  {
   "cell_type": "code",
   "execution_count": 7,
   "metadata": {},
   "outputs": [],
   "source": [
    "gal_idx = np.random.choice(galaxies.shape[0], 156 , False)\n",
    "star_idx = np.random.choice(list(set(range(galaxies.shape[0])) - set(gal_idx)),313,False)\n",
    "test_idx = list(set(range(galaxies.shape[0])) - set(gal_idx)- set(star_idx))"
   ]
  },
  {
   "cell_type": "code",
   "execution_count": 8,
   "metadata": {},
   "outputs": [],
   "source": [
    "train_galaxies, train_galaxies_pos = galaxies[gal_idx], galaxies_pos[gal_idx]\n",
    "test_galaxies, test_galaxies_pos = galaxies[test_idx], galaxies_pos[test_idx]\n",
    "stars, stars_pos = stars[star_idx], stars_pos[star_idx]"
   ]
  },
  {
   "cell_type": "markdown",
   "metadata": {},
   "source": [
    "Retrieve the ground truth PSFs at the positions of the 'test' galaxies set to compare the PSFs estimate model:"
   ]
  },
  {
   "cell_type": "code",
   "execution_count": 9,
   "metadata": {},
   "outputs": [],
   "source": [
    "test_PSFs_truth = PSFs_truth[test_idx]"
   ]
  },
  {
   "cell_type": "markdown",
   "metadata": {},
   "source": [
    "# 2 RCA II\n",
    "---"
   ]
  },
  {
   "cell_type": "markdown",
   "metadata": {},
   "source": [
    "## Fit model"
   ]
  },
  {
   "cell_type": "markdown",
   "metadata": {},
   "source": [
    "RCA$^{++}$ needs stars and galaxies to be respectively in $(p\\times p\\times n_\\rm{stars})$ and $(p\\times p\\times n_\\rm{galaxies})$ format:"
   ]
  },
  {
   "cell_type": "code",
   "execution_count": 10,
   "metadata": {},
   "outputs": [],
   "source": [
    "stars = rca.utils.rca_format(stars)\n",
    "train_galaxies = rca.utils.rca_format(train_galaxies)"
   ]
  },
  {
   "cell_type": "markdown",
   "metadata": {},
   "source": [
    "RCA$^{++}$ expects at least one parameter: `n_comp` is the number of eigenPSFs."
   ]
  },
  {
   "cell_type": "code",
   "execution_count": 11,
   "metadata": {},
   "outputs": [],
   "source": [
    "n_comp = 4"
   ]
  },
  {
   "cell_type": "code",
   "execution_count": 12,
   "metadata": {},
   "outputs": [],
   "source": [
    "rca_runner = rca.RCA(n_comp)"
   ]
  },
  {
   "cell_type": "code",
   "execution_count": 13,
   "metadata": {
    "collapsed": true
   },
   "outputs": [
    {
     "name": "stdout",
     "output_type": "stream",
     "text": [
      "WARNING: neither shifts nor an estimated PSF size were provided to RCA;\n",
      "the shifts will be estimated from the data using the default Gaussian\n",
      "window of 7.5 pixels.\n",
      "Running basic initialization tasks...\n"
     ]
    },
    {
     "name": "stderr",
     "output_type": "stream",
     "text": [
      "/Users/charles/anaconda2/lib/python2.7/site-packages/modopt/signal/wavelet.py:160: FutureWarning: Using a non-tuple sequence for multidimensional indexing is deprecated; use `arr[tuple(seq)]` instead of `arr[seq]`. In the future this will be interpreted as an array index, `arr[np.array(seq)]`, which will result either in an error or a different result.\n",
      "  fake_data[list(zip(data_shape // 2))] = 1\n"
     ]
    },
    {
     "name": "stdout",
     "output_type": "stream",
     "text": [
      "... Done.\n",
      "Constructing graph constraint...\n",
      " > power max =  4.899635092318147\n",
      " > selected e: 0.0788353945515\tselected a: 1.99\t chosen index: 4/5\n",
      " > selected e: 1.23694267422\tselected a: 0.613757535399\t chosen index: 1/5\n",
      " > selected e: 1.23694267422\tselected a: 0.613757535399\t chosen index: 0/5\n",
      " > selected e: 0.01\tselected a: 0.105126566038\t chosen index: 2/5\n",
      "... Done.\n"
     ]
    },
    {
     "name": "stderr",
     "output_type": "stream",
     "text": [
      "/Users/charles/anaconda2/lib/python2.7/site-packages/modopt/base/types.py:137: FutureWarning: Conversion of the second argument of issubdtype from `'float'` to `np.floating` is deprecated. In future, it will be treated as `np.float64 == np.dtype('float').type`.\n",
      "  (not np.issubdtype(val.dtype, dtype))):\n",
      "WARNING: Making input data immutable.\n",
      "N/A% (0 of 200) |                        | Elapsed Time: 0:00:00 ETA:  --:--:--"
     ]
    },
    {
     "name": "stdout",
     "output_type": "stream",
     "text": [
      " - ITERATION: 1\n",
      " - COST: 2650.7524570045925\n",
      "\n"
     ]
    },
    {
     "name": "stderr",
     "output_type": "stream",
     "text": [
      "\r",
      "                                                                               \r",
      "\r",
      "N/A% (0 of 200) |                        | Elapsed Time: 0:00:03 ETA:  --:--:--"
     ]
    },
    {
     "name": "stdout",
     "output_type": "stream",
     "text": [
      " - ITERATION: 2\n"
     ]
    },
    {
     "name": "stderr",
     "output_type": "stream",
     "text": [
      "\r",
      "                                                                               \r",
      "\r",
      "  0% (1 of 200) |                        | Elapsed Time: 0:00:07 ETA:   0:12:10"
     ]
    },
    {
     "name": "stdout",
     "output_type": "stream",
     "text": [
      " - COST: 2583.827756131371\n",
      "\n",
      " - ITERATION: 3\n"
     ]
    },
    {
     "name": "stderr",
     "output_type": "stream",
     "text": [
      "\r",
      "                                                                               \r",
      "\r",
      "  1% (2 of 200) |                        | Elapsed Time: 0:00:11 ETA:   0:11:47"
     ]
    },
    {
     "name": "stdout",
     "output_type": "stream",
     "text": [
      " - COST: 2528.097791135946\n",
      "\n",
      " - ITERATION: 4\n"
     ]
    },
    {
     "name": "stderr",
     "output_type": "stream",
     "text": [
      "\r",
      "                                                                               \r",
      "\r",
      "  1% (3 of 200) |                        | Elapsed Time: 0:00:14 ETA:   0:11:48"
     ]
    },
    {
     "name": "stdout",
     "output_type": "stream",
     "text": [
      " - COST: 2481.4654969664857\n",
      "\n",
      " - CONVERGENCE TEST - \n",
      " - CHANGE IN COST: 0.044917473259184056\n",
      "\n",
      " - ITERATION: 5\n"
     ]
    },
    {
     "name": "stderr",
     "output_type": "stream",
     "text": [
      "\r",
      "                                                                               \r",
      "\r",
      "  2% (4 of 200) |                        | Elapsed Time: 0:00:18 ETA:   0:11:51"
     ]
    },
    {
     "name": "stdout",
     "output_type": "stream",
     "text": [
      " - COST: 2442.2634443938496\n",
      "\n",
      " - ITERATION: 6\n"
     ]
    },
    {
     "name": "stderr",
     "output_type": "stream",
     "text": [
      "\r",
      "                                                                               \r",
      "\r",
      "  2% (5 of 200) |                        | Elapsed Time: 0:00:22 ETA:   0:11:34"
     ]
    },
    {
     "name": "stdout",
     "output_type": "stream",
     "text": [
      " - COST: 2409.1597323274773\n",
      "\n",
      " - ITERATION: 7\n"
     ]
    },
    {
     "name": "stderr",
     "output_type": "stream",
     "text": [
      "\r",
      "                                                                               \r",
      "\r",
      "  3% (6 of 200) |                        | Elapsed Time: 0:00:25 ETA:   0:11:24"
     ]
    },
    {
     "name": "stdout",
     "output_type": "stream",
     "text": [
      " - COST: 2381.0866252368364\n",
      "\n",
      " - ITERATION: 8\n"
     ]
    },
    {
     "name": "stderr",
     "output_type": "stream",
     "text": [
      "\r",
      "                                                                               \r",
      "\r",
      "  3% (7 of 200) |                        | Elapsed Time: 0:00:29 ETA:   0:11:34"
     ]
    },
    {
     "name": "stdout",
     "output_type": "stream",
     "text": [
      " - COST: 2357.1822690440945\n",
      "\n",
      " - CONVERGENCE TEST - \n",
      " - CHANGE IN COST: 0.02388093309287969\n",
      "\n",
      " - ITERATION: 9\n"
     ]
    },
    {
     "name": "stderr",
     "output_type": "stream",
     "text": [
      "\r",
      "                                                                               \r",
      "\r",
      "  4% (8 of 200) |                        | Elapsed Time: 0:00:32 ETA:   0:11:33"
     ]
    },
    {
     "name": "stdout",
     "output_type": "stream",
     "text": [
      " - COST: 2336.7482886367516\n",
      "\n",
      " - ITERATION: 10\n"
     ]
    },
    {
     "name": "stderr",
     "output_type": "stream",
     "text": [
      "\r",
      "                                                                               \r",
      "\r",
      "  4% (9 of 200) |#                       | Elapsed Time: 0:00:36 ETA:   0:12:16"
     ]
    },
    {
     "name": "stdout",
     "output_type": "stream",
     "text": [
      " - COST: 2319.2163731195055\n",
      "\n",
      " - ITERATION: 11\n"
     ]
    },
    {
     "name": "stderr",
     "output_type": "stream",
     "text": [
      "\r",
      "                                                                               \r",
      "\r",
      "  5% (10 of 200) |#                      | Elapsed Time: 0:00:40 ETA:   0:11:24"
     ]
    },
    {
     "name": "stdout",
     "output_type": "stream",
     "text": [
      " - COST: 2304.12182634281\n",
      "\n",
      " - ITERATION: 12\n"
     ]
    },
    {
     "name": "stderr",
     "output_type": "stream",
     "text": [
      "\r",
      "                                                                               \r",
      "\r",
      "  5% (11 of 200) |#                      | Elapsed Time: 0:00:43 ETA:   0:11:13"
     ]
    },
    {
     "name": "stdout",
     "output_type": "stream",
     "text": [
      " - COST: 2291.0828773516273\n",
      "\n",
      " - CONVERGENCE TEST - \n",
      " - CHANGE IN COST: 0.013222470375034902\n",
      "\n",
      " - ITERATION: 13\n"
     ]
    },
    {
     "name": "stderr",
     "output_type": "stream",
     "text": [
      "\r",
      "                                                                               \r",
      "\r",
      "  6% (12 of 200) |#                      | Elapsed Time: 0:00:47 ETA:   0:11:08"
     ]
    },
    {
     "name": "stdout",
     "output_type": "stream",
     "text": [
      " - COST: 2279.784491593552\n",
      "\n",
      " - ITERATION: 14\n"
     ]
    },
    {
     "name": "stderr",
     "output_type": "stream",
     "text": [
      "\r",
      "                                                                               \r",
      "\r",
      "  6% (13 of 200) |#                      | Elapsed Time: 0:00:50 ETA:   0:11:20"
     ]
    },
    {
     "name": "stdout",
     "output_type": "stream",
     "text": [
      " - COST: 2269.9663306043863\n",
      "\n",
      " - ITERATION: 15\n"
     ]
    },
    {
     "name": "stderr",
     "output_type": "stream",
     "text": [
      "\r",
      "                                                                               \r",
      "\r",
      "  7% (14 of 200) |#                      | Elapsed Time: 0:00:54 ETA:   0:11:06"
     ]
    },
    {
     "name": "stdout",
     "output_type": "stream",
     "text": [
      " - COST: 2261.410937920975\n",
      "\n",
      " - ITERATION: 16\n"
     ]
    },
    {
     "name": "stderr",
     "output_type": "stream",
     "text": [
      "\r",
      "                                                                               \r",
      "\r",
      "  7% (15 of 200) |#                      | Elapsed Time: 0:00:58 ETA:   0:11:05"
     ]
    },
    {
     "name": "stdout",
     "output_type": "stream",
     "text": [
      " - COST: 2253.936739848765\n",
      "\n",
      " - CONVERGENCE TEST - \n",
      " - CHANGE IN COST: 0.007619157345861745\n",
      "\n",
      " - ITERATION: 17\n"
     ]
    },
    {
     "name": "stderr",
     "output_type": "stream",
     "text": [
      "\r",
      "                                                                               \r",
      "\r",
      "  8% (16 of 200) |#                      | Elapsed Time: 0:01:01 ETA:   0:10:54"
     ]
    },
    {
     "name": "stdout",
     "output_type": "stream",
     "text": [
      " - COST: 2247.3904594015103\n",
      "\n",
      " - ITERATION: 18\n"
     ]
    },
    {
     "name": "stderr",
     "output_type": "stream",
     "text": [
      "\r",
      "                                                                               \r",
      "\r",
      "  8% (17 of 200) |#                      | Elapsed Time: 0:01:05 ETA:   0:10:54"
     ]
    },
    {
     "name": "stdout",
     "output_type": "stream",
     "text": [
      " - COST: 2241.643284682622\n",
      "\n",
      " - ITERATION: 19\n"
     ]
    },
    {
     "name": "stderr",
     "output_type": "stream",
     "text": [
      "\r",
      "                                                                               \r",
      "\r",
      "  9% (18 of 200) |##                     | Elapsed Time: 0:01:08 ETA:   0:10:49"
     ]
    },
    {
     "name": "stdout",
     "output_type": "stream",
     "text": [
      " - COST: 2236.5861854893947\n",
      "\n",
      " - ITERATION: 20\n"
     ]
    },
    {
     "name": "stderr",
     "output_type": "stream",
     "text": [
      "\r",
      "                                                                               \r",
      "\r",
      "  9% (19 of 200) |##                     | Elapsed Time: 0:01:12 ETA:   0:10:44"
     ]
    },
    {
     "name": "stdout",
     "output_type": "stream",
     "text": [
      " - COST: 2232.126749613404\n",
      "\n",
      " - CONVERGENCE TEST - \n",
      " - CHANGE IN COST: 0.004547351614758824\n",
      "\n",
      " - ITERATION: 21\n"
     ]
    },
    {
     "name": "stderr",
     "output_type": "stream",
     "text": [
      "\r",
      "                                                                               \r",
      "\r",
      " 10% (20 of 200) |##                     | Elapsed Time: 0:01:15 ETA:   0:10:39"
     ]
    },
    {
     "name": "stdout",
     "output_type": "stream",
     "text": [
      " - COST: 2228.1864203994223\n",
      "\n",
      " - ITERATION: 22\n"
     ]
    },
    {
     "name": "stderr",
     "output_type": "stream",
     "text": [
      "\r",
      "                                                                               \r",
      "\r",
      " 10% (21 of 200) |##                     | Elapsed Time: 0:01:19 ETA:   0:10:43"
     ]
    },
    {
     "name": "stdout",
     "output_type": "stream",
     "text": [
      " - COST: 2224.697909199123\n",
      "\n",
      " - ITERATION: 23\n"
     ]
    },
    {
     "name": "stderr",
     "output_type": "stream",
     "text": [
      "\r",
      "                                                                               \r",
      "\r",
      " 11% (22 of 200) |##                     | Elapsed Time: 0:01:23 ETA:   0:11:15"
     ]
    },
    {
     "name": "stdout",
     "output_type": "stream",
     "text": [
      " - COST: 2221.603808765571\n",
      "\n",
      " - ITERATION: 24\n"
     ]
    },
    {
     "name": "stderr",
     "output_type": "stream",
     "text": [
      "\r",
      "                                                                               \r",
      "\r",
      " 11% (23 of 200) |##                     | Elapsed Time: 0:01:26 ETA:   0:10:28"
     ]
    },
    {
     "name": "stdout",
     "output_type": "stream",
     "text": [
      " - COST: 2218.8550088408588\n",
      "\n",
      " - CONVERGENCE TEST - \n",
      " - CHANGE IN COST: 0.0027982495734107937\n",
      "\n",
      " - ITERATION: 25\n"
     ]
    },
    {
     "name": "stderr",
     "output_type": "stream",
     "text": [
      "\r",
      "                                                                               \r",
      "\r",
      " 12% (24 of 200) |##                     | Elapsed Time: 0:01:30 ETA:   0:10:24"
     ]
    },
    {
     "name": "stdout",
     "output_type": "stream",
     "text": [
      " - COST: 2216.4088304164425\n",
      "\n",
      " - ITERATION: 26\n"
     ]
    },
    {
     "name": "stderr",
     "output_type": "stream",
     "text": [
      "\r",
      "                                                                               \r",
      "\r",
      " 12% (25 of 200) |##                     | Elapsed Time: 0:01:33 ETA:   0:10:22"
     ]
    },
    {
     "name": "stdout",
     "output_type": "stream",
     "text": [
      " - COST: 2214.2283282084645\n",
      "\n",
      " - ITERATION: 27\n"
     ]
    },
    {
     "name": "stderr",
     "output_type": "stream",
     "text": [
      "\r",
      "                                                                               \r",
      "\r",
      " 13% (26 of 200) |##                     | Elapsed Time: 0:01:37 ETA:   0:10:23"
     ]
    },
    {
     "name": "stdout",
     "output_type": "stream",
     "text": [
      " - COST: 2212.28169210076\n",
      "\n",
      " - ITERATION: 28\n"
     ]
    },
    {
     "name": "stderr",
     "output_type": "stream",
     "text": [
      "\r",
      "                                                                               \r",
      "\r",
      " 13% (27 of 200) |###                    | Elapsed Time: 0:01:41 ETA:   0:10:16"
     ]
    },
    {
     "name": "stdout",
     "output_type": "stream",
     "text": [
      " - COST: 2210.541336950348\n",
      "\n",
      " - CONVERGENCE TEST - \n",
      " - CHANGE IN COST: 0.001766774189804105\n",
      "\n",
      " - ITERATION: 29\n"
     ]
    },
    {
     "name": "stderr",
     "output_type": "stream",
     "text": [
      "\r",
      "                                                                               \r",
      "\r",
      " 14% (28 of 200) |###                    | Elapsed Time: 0:01:44 ETA:   0:10:09"
     ]
    },
    {
     "name": "stdout",
     "output_type": "stream",
     "text": [
      " - COST: 2208.9831620655204\n",
      "\n",
      " - ITERATION: 30\n"
     ]
    },
    {
     "name": "stderr",
     "output_type": "stream",
     "text": [
      "\r",
      "                                                                               \r",
      "\r",
      " 14% (29 of 200) |###                    | Elapsed Time: 0:01:48 ETA:   0:10:10"
     ]
    },
    {
     "name": "stdout",
     "output_type": "stream",
     "text": [
      " - COST: 2207.586250570691\n",
      "\n",
      " - ITERATION: 31\n"
     ]
    },
    {
     "name": "stderr",
     "output_type": "stream",
     "text": [
      "\r",
      "                                                                               \r",
      "\r",
      " 15% (30 of 200) |###                    | Elapsed Time: 0:01:52 ETA:   0:11:33"
     ]
    },
    {
     "name": "stdout",
     "output_type": "stream",
     "text": [
      " - COST: 2206.3324770361023\n",
      "\n",
      " - ITERATION: 32\n"
     ]
    },
    {
     "name": "stderr",
     "output_type": "stream",
     "text": [
      "\r",
      "                                                                               \r",
      "\r",
      " 15% (31 of 200) |###                    | Elapsed Time: 0:01:55 ETA:   0:10:03"
     ]
    },
    {
     "name": "stdout",
     "output_type": "stream",
     "text": [
      " - COST: 2205.2058096986507\n",
      "\n",
      " - CONVERGENCE TEST - \n",
      " - CHANGE IN COST: 0.0011404470673159856\n",
      "\n",
      " - ITERATION: 33\n"
     ]
    },
    {
     "name": "stderr",
     "output_type": "stream",
     "text": [
      " 16% (33 of 200) |###                    | Elapsed Time: 0:01:59 ETA:   0:09:52"
     ]
    },
    {
     "name": "stdout",
     "output_type": "stream",
     "text": [
      " - COST: 2204.192168592111\n",
      "\n",
      " - ITERATION: 34\n",
      " - COST: 2203.2790071485138\n",
      "\n"
     ]
    },
    {
     "name": "stderr",
     "output_type": "stream",
     "text": [
      "\r",
      "                                                                               \r",
      "\r",
      " 16% (33 of 200) |###                    | Elapsed Time: 0:02:03 ETA:   0:11:05"
     ]
    },
    {
     "name": "stdout",
     "output_type": "stream",
     "text": [
      " - ITERATION: 35\n"
     ]
    },
    {
     "name": "stderr",
     "output_type": "stream",
     "text": [
      "\r",
      "                                                                               \r",
      "\r",
      " 17% (34 of 200) |###                    | Elapsed Time: 0:02:07 ETA:   0:10:15"
     ]
    },
    {
     "name": "stdout",
     "output_type": "stream",
     "text": [
      " - COST: 2202.455450260289\n",
      "\n",
      " - ITERATION: 36\n"
     ]
    },
    {
     "name": "stderr",
     "output_type": "stream",
     "text": [
      "\r",
      "                                                                               \r",
      "\r",
      " 17% (35 of 200) |####                   | Elapsed Time: 0:02:10 ETA:   0:10:03"
     ]
    },
    {
     "name": "stdout",
     "output_type": "stream",
     "text": [
      " - COST: 2201.7118803820094\n",
      "\n",
      " - CONVERGENCE TEST - \n",
      " - CHANGE IN COST: 0.000750163390782184\n",
      "\n",
      " - ITERATION: 37\n"
     ]
    },
    {
     "name": "stderr",
     "output_type": "stream",
     "text": [
      "\r",
      "                                                                               \r",
      "\r",
      " 18% (36 of 200) |####                   | Elapsed Time: 0:02:14 ETA:   0:09:39"
     ]
    },
    {
     "name": "stdout",
     "output_type": "stream",
     "text": [
      " - COST: 2201.039956286202\n",
      "\n",
      " - ITERATION: 38\n"
     ]
    },
    {
     "name": "stderr",
     "output_type": "stream",
     "text": [
      "\r",
      "                                                                               \r",
      "\r",
      " 18% (37 of 200) |####                   | Elapsed Time: 0:02:17 ETA:   0:09:37"
     ]
    },
    {
     "name": "stdout",
     "output_type": "stream",
     "text": [
      " - COST: 2200.43212662672\n",
      "\n",
      " - ITERATION: 39\n"
     ]
    },
    {
     "name": "stderr",
     "output_type": "stream",
     "text": [
      "\r",
      "                                                                               \r",
      "\r",
      " 19% (38 of 200) |####                   | Elapsed Time: 0:02:22 ETA:   0:11:11"
     ]
    },
    {
     "name": "stdout",
     "output_type": "stream",
     "text": [
      " - COST: 2199.8817162795035\n",
      "\n",
      " - ITERATION: 40\n"
     ]
    },
    {
     "name": "stderr",
     "output_type": "stream",
     "text": [
      "\r",
      "                                                                               \r",
      "\r",
      " 19% (39 of 200) |####                   | Elapsed Time: 0:02:25 ETA:   0:09:19"
     ]
    },
    {
     "name": "stdout",
     "output_type": "stream",
     "text": [
      " - COST: 2199.3825036213625\n",
      "\n",
      " - CONVERGENCE TEST - \n",
      " - CHANGE IN COST: 0.0005018709724385793\n",
      "\n",
      " - ITERATION: 41\n"
     ]
    },
    {
     "name": "stderr",
     "output_type": "stream",
     "text": [
      "\r",
      "                                                                               \r",
      "\r",
      " 20% (40 of 200) |####                   | Elapsed Time: 0:02:28 ETA:   0:09:14"
     ]
    },
    {
     "name": "stdout",
     "output_type": "stream",
     "text": [
      " - COST: 2198.929144317244\n",
      "\n",
      " - ITERATION: 42\n"
     ]
    },
    {
     "name": "stderr",
     "output_type": "stream",
     "text": [
      "\r",
      "                                                                               \r",
      "\r",
      " 20% (41 of 200) |####                   | Elapsed Time: 0:02:32 ETA:   0:09:06"
     ]
    },
    {
     "name": "stdout",
     "output_type": "stream",
     "text": [
      " - COST: 2198.5172234304196\n",
      "\n",
      " - ITERATION: 43\n"
     ]
    },
    {
     "name": "stderr",
     "output_type": "stream",
     "text": [
      "\r",
      "                                                                               \r",
      "\r",
      " 21% (42 of 200) |####                   | Elapsed Time: 0:02:35 ETA:   0:09:09"
     ]
    },
    {
     "name": "stdout",
     "output_type": "stream",
     "text": [
      " - COST: 2198.142726474155\n",
      "\n",
      " - ITERATION: 44\n"
     ]
    },
    {
     "name": "stderr",
     "output_type": "stream",
     "text": [
      "\r",
      "                                                                               \r",
      "\r",
      " 21% (43 of 200) |####                   | Elapsed Time: 0:02:39 ETA:   0:09:02"
     ]
    },
    {
     "name": "stdout",
     "output_type": "stream",
     "text": [
      " - COST: 2197.801943455383\n",
      "\n",
      " - CONVERGENCE TEST - \n",
      " - CHANGE IN COST: 0.0003416098087851524\n",
      "\n",
      " - ITERATION: 45\n"
     ]
    },
    {
     "name": "stderr",
     "output_type": "stream",
     "text": [
      "\r",
      "                                                                               \r",
      "\r",
      " 22% (44 of 200) |#####                  | Elapsed Time: 0:02:42 ETA:   0:08:59"
     ]
    },
    {
     "name": "stdout",
     "output_type": "stream",
     "text": [
      " - COST: 2197.4916250821375\n",
      "\n",
      " - ITERATION: 46\n"
     ]
    },
    {
     "name": "stderr",
     "output_type": "stream",
     "text": [
      "\r",
      "                                                                               \r",
      "\r",
      " 22% (45 of 200) |#####                  | Elapsed Time: 0:02:46 ETA:   0:08:56"
     ]
    },
    {
     "name": "stdout",
     "output_type": "stream",
     "text": [
      " - COST: 2197.208647922786\n",
      "\n",
      " - ITERATION: 47\n"
     ]
    },
    {
     "name": "stderr",
     "output_type": "stream",
     "text": [
      "\r",
      "                                                                               \r",
      "\r",
      " 23% (46 of 200) |#####                  | Elapsed Time: 0:02:49 ETA:   0:09:01"
     ]
    },
    {
     "name": "stdout",
     "output_type": "stream",
     "text": [
      " - COST: 2196.9503263601746\n",
      "\n",
      " - ITERATION: 48\n"
     ]
    },
    {
     "name": "stderr",
     "output_type": "stream",
     "text": [
      "\r",
      "                                                                               \r",
      "\r",
      " 23% (47 of 200) |#####                  | Elapsed Time: 0:02:53 ETA:   0:08:57"
     ]
    },
    {
     "name": "stdout",
     "output_type": "stream",
     "text": [
      " - COST: 2196.714421889213\n",
      "\n",
      " - CONVERGENCE TEST - \n",
      " - CHANGE IN COST: 0.00023568588294041527\n",
      "\n",
      " - ITERATION: 49\n"
     ]
    },
    {
     "name": "stderr",
     "output_type": "stream",
     "text": [
      "\r",
      "                                                                               \r",
      "\r",
      " 24% (48 of 200) |#####                  | Elapsed Time: 0:02:56 ETA:   0:08:46"
     ]
    },
    {
     "name": "stdout",
     "output_type": "stream",
     "text": [
      " - COST: 2196.498877370837\n",
      "\n",
      " - ITERATION: 50\n"
     ]
    },
    {
     "name": "stderr",
     "output_type": "stream",
     "text": [
      "\r",
      "                                                                               \r",
      "\r",
      " 24% (49 of 200) |#####                  | Elapsed Time: 0:03:00 ETA:   0:08:49"
     ]
    },
    {
     "name": "stdout",
     "output_type": "stream",
     "text": [
      " - COST: 2196.301718582175\n",
      "\n",
      " - ITERATION: 51\n"
     ]
    },
    {
     "name": "stderr",
     "output_type": "stream",
     "text": [
      "\r",
      "                                                                               \r",
      "\r",
      " 25% (50 of 200) |#####                  | Elapsed Time: 0:03:03 ETA:   0:08:40"
     ]
    },
    {
     "name": "stdout",
     "output_type": "stream",
     "text": [
      " - COST: 2196.121289225693\n",
      "\n",
      " - ITERATION: 52\n"
     ]
    },
    {
     "name": "stderr",
     "output_type": "stream",
     "text": [
      "\r",
      "                                                                               \r",
      "\r",
      " 25% (51 of 200) |#####                  | Elapsed Time: 0:03:07 ETA:   0:08:33"
     ]
    },
    {
     "name": "stdout",
     "output_type": "stream",
     "text": [
      " - COST: 2195.956060514973\n",
      "\n",
      " - CONVERGENCE TEST - \n",
      " - CHANGE IN COST: 0.00016467064551774384\n",
      "\n",
      " - ITERATION: 53\n"
     ]
    },
    {
     "name": "stderr",
     "output_type": "stream",
     "text": [
      "\r",
      "                                                                               \r",
      "\r",
      " 26% (52 of 200) |#####                  | Elapsed Time: 0:03:10 ETA:   0:08:37"
     ]
    },
    {
     "name": "stdout",
     "output_type": "stream",
     "text": [
      " - COST: 2195.8046274087264\n",
      "\n",
      " - ITERATION: 54\n"
     ]
    },
    {
     "name": "stderr",
     "output_type": "stream",
     "text": [
      "\r",
      "                                                                               \r",
      "\r",
      " 26% (53 of 200) |######                 | Elapsed Time: 0:03:14 ETA:   0:08:27"
     ]
    },
    {
     "name": "stdout",
     "output_type": "stream",
     "text": [
      " - COST: 2195.665558185195\n",
      "\n",
      " - ITERATION: 55\n"
     ]
    },
    {
     "name": "stderr",
     "output_type": "stream",
     "text": [
      "\r",
      "                                                                               \r",
      "\r",
      " 27% (54 of 200) |######                 | Elapsed Time: 0:03:17 ETA:   0:08:23"
     ]
    },
    {
     "name": "stdout",
     "output_type": "stream",
     "text": [
      " - COST: 2195.5378209468818\n",
      "\n",
      " - ITERATION: 56\n"
     ]
    },
    {
     "name": "stderr",
     "output_type": "stream",
     "text": [
      "\r",
      "                                                                               \r",
      "\r",
      " 27% (55 of 200) |######                 | Elapsed Time: 0:03:20 ETA:   0:08:17"
     ]
    },
    {
     "name": "stdout",
     "output_type": "stream",
     "text": [
      " - COST: 2195.4204345537087\n",
      "\n",
      " - CONVERGENCE TEST - \n",
      " - CHANGE IN COST: 0.00011658732867473818\n",
      "\n",
      " - ITERATION: 57\n"
     ]
    },
    {
     "name": "stderr",
     "output_type": "stream",
     "text": [
      "\r",
      "                                                                               \r",
      "\r",
      " 28% (56 of 200) |######                 | Elapsed Time: 0:03:24 ETA:   0:08:16"
     ]
    },
    {
     "name": "stdout",
     "output_type": "stream",
     "text": [
      " - COST: 2195.312507053039\n",
      "\n",
      " - ITERATION: 58\n"
     ]
    },
    {
     "name": "stderr",
     "output_type": "stream",
     "text": [
      "\r",
      "                                                                               \r",
      "\r",
      " 28% (57 of 200) |######                 | Elapsed Time: 0:03:27 ETA:   0:08:11"
     ]
    },
    {
     "name": "stdout",
     "output_type": "stream",
     "text": [
      " - COST: 2195.2132076524595\n",
      "\n",
      " - ITERATION: 59\n"
     ]
    },
    {
     "name": "stderr",
     "output_type": "stream",
     "text": [
      "100% (200 of 200) |######################| Elapsed Time: 0:03:31 Time:  0:03:31\n"
     ]
    },
    {
     "name": "stdout",
     "output_type": "stream",
     "text": [
      " - COST: 2195.1217332013916\n",
      "\n",
      " - ITERATION: 60\n",
      " - COST: 2195.037332465085\n",
      "\n",
      " - CONVERGENCE TEST - \n",
      " - CHANGE IN COST: 8.351611719239746e-05\n",
      "\n",
      " - Converged!\n",
      " - Noise Estimate: 0.03607694006189704\n"
     ]
    },
    {
     "name": "stderr",
     "output_type": "stream",
     "text": [
      "/Users/charles/anaconda2/lib/python2.7/site-packages/modopt/base/types.py:137: FutureWarning: Conversion of the second argument of issubdtype from `float` to `np.floating` is deprecated. In future, it will be treated as `np.float64 == np.dtype(float).type`.\n",
      "  (not np.issubdtype(val.dtype, dtype))):\n",
      "WARNING: Making input data immutable.\n",
      "WARNING: Making input data immutable.\n"
     ]
    },
    {
     "name": "stdout",
     "output_type": "stream",
     "text": [
      " - Spectral Radius: 0.999998759581674\n",
      " - tau: 0.5\n",
      " - sigma: 0.5\n",
      " - rho: 0.8\n",
      " - 1/tau - sigma||L||^2 >= beta/2: False\n",
      " - Primal Variable Shape: (156, 51, 51)\n",
      " - Dual Variable Shape: (156, 3, 51, 51)\n",
      " ----------------------------------------------------------------------\n",
      " - ITERATION: 1\n",
      " - DATA FIDELITY (X): 72383.47076190254\n",
      " - Min (X): 0.5925047242792635\n"
     ]
    },
    {
     "name": "stderr",
     "output_type": "stream",
     "text": [
      "\r",
      "                                                                               \r",
      "\r",
      "N/A% (0 of 150) |                        | Elapsed Time: 0:00:00 ETA:  --:--:--"
     ]
    },
    {
     "name": "stdout",
     "output_type": "stream",
     "text": [
      " - L1 NORM (X): 5.132000937776237\n",
      " - COST: 72388.60276284032\n",
      "\n"
     ]
    },
    {
     "name": "stderr",
     "output_type": "stream",
     "text": [
      "\r",
      "                                                                               \r",
      "\r",
      "N/A% (0 of 150) |                        | Elapsed Time: 0:00:01 ETA:  --:--:--"
     ]
    },
    {
     "name": "stdout",
     "output_type": "stream",
     "text": [
      " - ITERATION: 2\n"
     ]
    },
    {
     "name": "stderr",
     "output_type": "stream",
     "text": [
      "\r",
      "                                                                               \r",
      "\r",
      "N/A% (0 of 150) |                        | Elapsed Time: 0:00:02 ETA:  --:--:--"
     ]
    },
    {
     "name": "stdout",
     "output_type": "stream",
     "text": [
      " - DATA FIDELITY (X): 26551.509786111284\n"
     ]
    },
    {
     "name": "stderr",
     "output_type": "stream",
     "text": [
      "\r",
      "                                                                               \r",
      "\r",
      "N/A% (0 of 150) |                        | Elapsed Time: 0:00:02 ETA:  --:--:--"
     ]
    },
    {
     "name": "stdout",
     "output_type": "stream",
     "text": [
      " - Min (X): 0.34588299054775196\n",
      " - L1 NORM (X): 9.560210278083717\n"
     ]
    },
    {
     "name": "stderr",
     "output_type": "stream",
     "text": [
      "\r",
      "                                                                               \r",
      "\r",
      "  0% (1 of 150) |                        | Elapsed Time: 0:00:04 ETA:   0:05:51"
     ]
    },
    {
     "name": "stdout",
     "output_type": "stream",
     "text": [
      " - COST: 26561.069996389368\n",
      "\n",
      " - ITERATION: 3\n"
     ]
    },
    {
     "name": "stderr",
     "output_type": "stream",
     "text": [
      "\r",
      "                                                                               \r",
      "\r",
      "  0% (1 of 150) |                        | Elapsed Time: 0:00:04 ETA:   0:06:24"
     ]
    },
    {
     "name": "stdout",
     "output_type": "stream",
     "text": [
      " - DATA FIDELITY (X): 9977.123930046166\n"
     ]
    },
    {
     "name": "stderr",
     "output_type": "stream",
     "text": [
      "\r",
      "                                                                               \r",
      "\r",
      "  0% (1 of 150) |                        | Elapsed Time: 0:00:05 ETA:   0:06:23"
     ]
    },
    {
     "name": "stdout",
     "output_type": "stream",
     "text": [
      " - Min (X): 0.1960808429804514\n",
      " - L1 NORM (X): 13.426323837943263\n"
     ]
    },
    {
     "name": "stderr",
     "output_type": "stream",
     "text": [
      "\r",
      "                                                                               \r",
      "\r",
      "  1% (2 of 150) |                        | Elapsed Time: 0:00:06 ETA:   0:05:47"
     ]
    },
    {
     "name": "stdout",
     "output_type": "stream",
     "text": [
      " - COST: 9990.550253884108\n",
      "\n",
      " - ITERATION: 4\n"
     ]
    },
    {
     "name": "stderr",
     "output_type": "stream",
     "text": [
      "\r",
      "                                                                               \r",
      "\r",
      "  1% (2 of 150) |                        | Elapsed Time: 0:00:07 ETA:   0:06:22"
     ]
    },
    {
     "name": "stdout",
     "output_type": "stream",
     "text": [
      " - DATA FIDELITY (X): 3958.487599486233\n"
     ]
    },
    {
     "name": "stderr",
     "output_type": "stream",
     "text": [
      "\r",
      "                                                                               \r",
      "\r",
      "  1% (2 of 150) |                        | Elapsed Time: 0:00:07 ETA:   0:06:23"
     ]
    },
    {
     "name": "stdout",
     "output_type": "stream",
     "text": [
      " - Min (X): 0.10460063411405143\n",
      " - L1 NORM (X): 16.836769778041493\n"
     ]
    },
    {
     "name": "stderr",
     "output_type": "stream",
     "text": [
      "\r",
      "                                                                               \r",
      "\r",
      "  2% (3 of 150) |                        | Elapsed Time: 0:00:09 ETA:   0:05:47"
     ]
    },
    {
     "name": "stdout",
     "output_type": "stream",
     "text": [
      " - COST: 3975.3243692642745\n",
      "\n",
      " - CONVERGENCE TEST - \n",
      " - CHANGE IN COST: 6.085103899989264\n",
      "\n",
      " - ITERATION: 5\n"
     ]
    },
    {
     "name": "stderr",
     "output_type": "stream",
     "text": [
      "\r",
      "                                                                               \r",
      "\r",
      "  2% (3 of 150) |                        | Elapsed Time: 0:00:09 ETA:   0:06:19"
     ]
    },
    {
     "name": "stdout",
     "output_type": "stream",
     "text": [
      " - DATA FIDELITY (X): 1755.1208342889058\n"
     ]
    },
    {
     "name": "stderr",
     "output_type": "stream",
     "text": [
      "\r",
      "                                                                               \r",
      "\r",
      "  2% (3 of 150) |                        | Elapsed Time: 0:00:10 ETA:   0:06:21"
     ]
    },
    {
     "name": "stdout",
     "output_type": "stream",
     "text": [
      " - Min (X): 0.04829347994759553\n",
      " - L1 NORM (X): 19.83862385634978\n"
     ]
    },
    {
     "name": "stderr",
     "output_type": "stream",
     "text": [
      "\r",
      "                                                                               \r",
      "\r",
      "  2% (4 of 150) |                        | Elapsed Time: 0:00:12 ETA:   0:05:59"
     ]
    },
    {
     "name": "stdout",
     "output_type": "stream",
     "text": [
      " - COST: 1774.9594581452557\n",
      "\n",
      " - ITERATION: 6\n"
     ]
    },
    {
     "name": "stderr",
     "output_type": "stream",
     "text": [
      "\r",
      "                                                                               \r",
      "\r",
      "  2% (4 of 150) |                        | Elapsed Time: 0:00:12 ETA:   0:05:00"
     ]
    },
    {
     "name": "stdout",
     "output_type": "stream",
     "text": [
      " - DATA FIDELITY (X): 935.1312505353221\n"
     ]
    },
    {
     "name": "stderr",
     "output_type": "stream",
     "text": [
      "\r",
      "                                                                               \r",
      "\r",
      "  2% (4 of 150) |                        | Elapsed Time: 0:00:13 ETA:   0:06:32"
     ]
    },
    {
     "name": "stdout",
     "output_type": "stream",
     "text": [
      " - Min (X): 0.013947555787925843\n",
      " - L1 NORM (X): 22.411843136414404\n"
     ]
    },
    {
     "name": "stderr",
     "output_type": "stream",
     "text": [
      "\r",
      "                                                                               \r",
      "\r",
      "  3% (5 of 150) |                        | Elapsed Time: 0:00:14 ETA:   0:05:43"
     ]
    },
    {
     "name": "stdout",
     "output_type": "stream",
     "text": [
      " - COST: 957.5430936717365\n",
      "\n",
      " - ITERATION: 7\n"
     ]
    },
    {
     "name": "stderr",
     "output_type": "stream",
     "text": [
      "  3% (5 of 150) |                        | Elapsed Time: 0:00:15 ETA:   0:06:09"
     ]
    },
    {
     "name": "stdout",
     "output_type": "stream",
     "text": [
      " - DATA FIDELITY (X): 619.6022840592823\n",
      " - Min (X): 0.002789511157585168\n",
      " - L1 NORM (X): 24.510714950820383\n"
     ]
    },
    {
     "name": "stderr",
     "output_type": "stream",
     "text": [
      "\r",
      "                                                                               \r",
      "\r",
      "  4% (6 of 150) |                        | Elapsed Time: 0:00:17 ETA:   0:05:34"
     ]
    },
    {
     "name": "stdout",
     "output_type": "stream",
     "text": [
      " - COST: 644.1129990101026\n",
      "\n",
      " - ITERATION: 8\n"
     ]
    },
    {
     "name": "stderr",
     "output_type": "stream",
     "text": [
      "\r",
      "                                                                               \r",
      "\r",
      "  4% (6 of 150) |                        | Elapsed Time: 0:00:17 ETA:   0:06:09"
     ]
    },
    {
     "name": "stdout",
     "output_type": "stream",
     "text": [
      " - DATA FIDELITY (X): 491.3319707887391\n"
     ]
    },
    {
     "name": "stderr",
     "output_type": "stream",
     "text": [
      "\r",
      "                                                                               \r",
      "\r",
      "  4% (6 of 150) |                        | Elapsed Time: 0:00:18 ETA:   0:06:18"
     ]
    },
    {
     "name": "stdout",
     "output_type": "stream",
     "text": [
      " - Min (X): 0.0005579022315170335\n",
      " - L1 NORM (X): 25.99596306671558\n"
     ]
    },
    {
     "name": "stderr",
     "output_type": "stream",
     "text": [
      "\r",
      "                                                                               \r",
      "\r",
      "  4% (7 of 150) |#                       | Elapsed Time: 0:00:20 ETA:   0:05:42"
     ]
    },
    {
     "name": "stdout",
     "output_type": "stream",
     "text": [
      " - COST: 517.3279338554547\n",
      "\n",
      " - CONVERGENCE TEST - \n",
      " - CHANGE IN COST: 1.3526831838750883\n",
      "\n",
      " - ITERATION: 9\n"
     ]
    },
    {
     "name": "stderr",
     "output_type": "stream",
     "text": [
      "\r",
      "                                                                               \r",
      "\r",
      "  4% (7 of 150) |#                       | Elapsed Time: 0:00:20 ETA:   0:06:17"
     ]
    },
    {
     "name": "stdout",
     "output_type": "stream",
     "text": [
      " - DATA FIDELITY (X): 434.900345584847\n"
     ]
    },
    {
     "name": "stderr",
     "output_type": "stream",
     "text": [
      "\r",
      "                                                                               \r",
      "\r",
      "  4% (7 of 150) |#                       | Elapsed Time: 0:00:20 ETA:   0:06:14"
     ]
    },
    {
     "name": "stdout",
     "output_type": "stream",
     "text": [
      " - Min (X): 0.00011158044630340668\n",
      " - L1 NORM (X): 26.59816864489121\n"
     ]
    },
    {
     "name": "stderr",
     "output_type": "stream",
     "text": [
      "\r",
      "                                                                               \r",
      "\r",
      "  5% (8 of 150) |#                       | Elapsed Time: 0:00:22 ETA:   0:05:34"
     ]
    },
    {
     "name": "stdout",
     "output_type": "stream",
     "text": [
      " - COST: 461.4985142297382\n",
      "\n",
      " - ITERATION: 10\n"
     ]
    },
    {
     "name": "stderr",
     "output_type": "stream",
     "text": [
      "\r",
      "                                                                               \r",
      "\r",
      "  5% (8 of 150) |#                       | Elapsed Time: 0:00:23 ETA:   0:05:19"
     ]
    },
    {
     "name": "stdout",
     "output_type": "stream",
     "text": [
      " - DATA FIDELITY (X): 405.50490543020356\n"
     ]
    },
    {
     "name": "stderr",
     "output_type": "stream",
     "text": [
      "\r",
      "                                                                               \r",
      "\r",
      "  5% (8 of 150) |#                       | Elapsed Time: 0:00:24 ETA:   0:07:33"
     ]
    },
    {
     "name": "stdout",
     "output_type": "stream",
     "text": [
      " - Min (X): 2.231608926068133e-05\n",
      " - L1 NORM (X): 26.653081579979943\n"
     ]
    },
    {
     "name": "stderr",
     "output_type": "stream",
     "text": [
      "\r",
      "                                                                               \r",
      "\r",
      "  6% (9 of 150) |#                       | Elapsed Time: 0:00:25 ETA:   0:06:32"
     ]
    },
    {
     "name": "stdout",
     "output_type": "stream",
     "text": [
      " - COST: 432.1579870101835\n",
      "\n",
      " - ITERATION: 11\n"
     ]
    },
    {
     "name": "stderr",
     "output_type": "stream",
     "text": [
      "\r",
      "                                                                               \r",
      "\r",
      "  6% (9 of 150) |#                       | Elapsed Time: 0:00:26 ETA:   0:04:54"
     ]
    },
    {
     "name": "stdout",
     "output_type": "stream",
     "text": [
      " - DATA FIDELITY (X): 386.6659619891037\n"
     ]
    },
    {
     "name": "stderr",
     "output_type": "stream",
     "text": [
      "\r",
      "                                                                               \r",
      "\r",
      "  6% (9 of 150) |#                       | Elapsed Time: 0:00:26 ETA:   0:06:21"
     ]
    },
    {
     "name": "stdout",
     "output_type": "stream",
     "text": [
      " - Min (X): 4.463217852136265e-06\n",
      " - L1 NORM (X): 26.581672881578285\n"
     ]
    },
    {
     "name": "stderr",
     "output_type": "stream",
     "text": [
      "\r",
      "                                                                               \r",
      "\r",
      "  6% (10 of 150) |#                      | Elapsed Time: 0:00:28 ETA:   0:05:35"
     ]
    },
    {
     "name": "stdout",
     "output_type": "stream",
     "text": [
      " - COST: 413.247634870682\n",
      "\n",
      " - ITERATION: 12\n"
     ]
    },
    {
     "name": "stderr",
     "output_type": "stream",
     "text": [
      "\r",
      "                                                                               \r",
      "\r",
      "  6% (10 of 150) |#                      | Elapsed Time: 0:00:28 ETA:   0:04:41"
     ]
    },
    {
     "name": "stdout",
     "output_type": "stream",
     "text": [
      " - DATA FIDELITY (X): 372.71122908138886\n"
     ]
    },
    {
     "name": "stderr",
     "output_type": "stream",
     "text": [
      "\r",
      "                                                                               \r",
      "\r",
      "  6% (10 of 150) |#                      | Elapsed Time: 0:00:29 ETA:   0:06:10"
     ]
    },
    {
     "name": "stdout",
     "output_type": "stream",
     "text": [
      " - Min (X): 8.926435704272527e-07\n",
      " - L1 NORM (X): 26.550576919018617\n"
     ]
    },
    {
     "name": "stderr",
     "output_type": "stream",
     "text": [
      "\r",
      "                                                                               \r",
      "\r",
      "  7% (11 of 150) |#                      | Elapsed Time: 0:00:31 ETA:   0:05:30"
     ]
    },
    {
     "name": "stdout",
     "output_type": "stream",
     "text": [
      " - COST: 399.2618060004075\n",
      "\n",
      " - CONVERGENCE TEST - \n",
      " - CHANGE IN COST: 0.09987214460158715\n",
      "\n",
      " - ITERATION: 13\n"
     ]
    },
    {
     "name": "stderr",
     "output_type": "stream",
     "text": [
      "\r",
      "                                                                               \r",
      "\r",
      "  7% (11 of 150) |#                      | Elapsed Time: 0:00:31 ETA:   0:06:04"
     ]
    },
    {
     "name": "stdout",
     "output_type": "stream",
     "text": [
      " - DATA FIDELITY (X): 361.5349162663964\n"
     ]
    },
    {
     "name": "stderr",
     "output_type": "stream",
     "text": [
      "\r",
      "                                                                               \r",
      "\r",
      "  7% (11 of 150) |#                      | Elapsed Time: 0:00:32 ETA:   0:06:01"
     ]
    },
    {
     "name": "stdout",
     "output_type": "stream",
     "text": [
      " - Min (X): 1.785287140854505e-07\n",
      " - L1 NORM (X): 26.58879856078919\n"
     ]
    },
    {
     "name": "stderr",
     "output_type": "stream",
     "text": [
      "\r",
      "                                                                               \r",
      "\r",
      "  8% (12 of 150) |#                      | Elapsed Time: 0:00:33 ETA:   0:05:23"
     ]
    },
    {
     "name": "stdout",
     "output_type": "stream",
     "text": [
      " - COST: 388.1237148271856\n",
      "\n",
      " - ITERATION: 14\n"
     ]
    },
    {
     "name": "stderr",
     "output_type": "stream",
     "text": [
      "\r",
      "                                                                               \r",
      "\r",
      "  8% (12 of 150) |#                      | Elapsed Time: 0:00:34 ETA:   0:05:57"
     ]
    },
    {
     "name": "stdout",
     "output_type": "stream",
     "text": [
      " - DATA FIDELITY (X): 352.1941784235763\n"
     ]
    },
    {
     "name": "stderr",
     "output_type": "stream",
     "text": [
      "\r",
      "                                                                               \r",
      "\r",
      "  8% (12 of 150) |#                      | Elapsed Time: 0:00:34 ETA:   0:05:57"
     ]
    },
    {
     "name": "stdout",
     "output_type": "stream",
     "text": [
      " - Min (X): 3.5705742817090094e-08\n",
      " - L1 NORM (X): 26.6831377168132\n"
     ]
    },
    {
     "name": "stderr",
     "output_type": "stream",
     "text": [
      "\r",
      "                                                                               \r",
      "\r",
      "  8% (13 of 150) |#                      | Elapsed Time: 0:00:36 ETA:   0:05:22"
     ]
    },
    {
     "name": "stdout",
     "output_type": "stream",
     "text": [
      " - COST: 378.8773161403895\n",
      "\n",
      " - ITERATION: 15\n"
     ]
    },
    {
     "name": "stderr",
     "output_type": "stream",
     "text": [
      "\r",
      "                                                                               \r",
      "\r",
      "  8% (13 of 150) |#                      | Elapsed Time: 0:00:36 ETA:   0:05:55"
     ]
    },
    {
     "name": "stdout",
     "output_type": "stream",
     "text": [
      " - DATA FIDELITY (X): 344.19667571949515\n"
     ]
    },
    {
     "name": "stderr",
     "output_type": "stream",
     "text": [
      "\r",
      "                                                                               \r",
      "\r",
      "  8% (13 of 150) |#                      | Elapsed Time: 0:00:37 ETA:   0:05:55"
     ]
    },
    {
     "name": "stdout",
     "output_type": "stream",
     "text": [
      " - Min (X): 7.141148563418017e-09\n",
      " - L1 NORM (X): 26.813555677525972\n"
     ]
    },
    {
     "name": "stderr",
     "output_type": "stream",
     "text": [
      "\r",
      "                                                                               \r",
      "\r",
      "  9% (14 of 150) |##                     | Elapsed Time: 0:00:38 ETA:   0:05:19"
     ]
    },
    {
     "name": "stdout",
     "output_type": "stream",
     "text": [
      " - COST: 371.01023139702113\n",
      "\n",
      " - ITERATION: 16\n"
     ]
    },
    {
     "name": "stderr",
     "output_type": "stream",
     "text": [
      "\r",
      "                                                                               \r",
      "\r",
      "  9% (14 of 150) |##                     | Elapsed Time: 0:00:39 ETA:   0:05:52"
     ]
    },
    {
     "name": "stdout",
     "output_type": "stream",
     "text": [
      " - DATA FIDELITY (X): 337.24890718349\n"
     ]
    },
    {
     "name": "stderr",
     "output_type": "stream",
     "text": [
      "\r",
      "                                                                               \r",
      "\r",
      "  9% (14 of 150) |##                     | Elapsed Time: 0:00:39 ETA:   0:05:52"
     ]
    },
    {
     "name": "stdout",
     "output_type": "stream",
     "text": [
      " - Min (X): 1.4282297126836031e-09\n",
      " - L1 NORM (X): 26.96442984907039\n"
     ]
    },
    {
     "name": "stderr",
     "output_type": "stream",
     "text": [
      "\r",
      "                                                                               \r",
      "\r",
      " 10% (15 of 150) |##                     | Elapsed Time: 0:00:41 ETA:   0:05:19"
     ]
    },
    {
     "name": "stdout",
     "output_type": "stream",
     "text": [
      " - COST: 364.2133370325604\n",
      "\n",
      " - CONVERGENCE TEST - \n",
      " - CHANGE IN COST: 0.043221496021774\n",
      "\n",
      " - ITERATION: 17\n"
     ]
    },
    {
     "name": "stderr",
     "output_type": "stream",
     "text": [
      "\r",
      "                                                                               \r",
      "\r",
      " 10% (15 of 150) |##                     | Elapsed Time: 0:00:41 ETA:   0:05:52"
     ]
    },
    {
     "name": "stdout",
     "output_type": "stream",
     "text": [
      " - DATA FIDELITY (X): 331.16349313602075\n"
     ]
    },
    {
     "name": "stderr",
     "output_type": "stream",
     "text": [
      "\r",
      "                                                                               \r",
      "\r",
      " 10% (15 of 150) |##                     | Elapsed Time: 0:00:42 ETA:   0:05:52"
     ]
    },
    {
     "name": "stdout",
     "output_type": "stream",
     "text": [
      " - Min (X): 2.8564594253672057e-10\n",
      " - L1 NORM (X): 27.124121955244924\n"
     ]
    },
    {
     "name": "stderr",
     "output_type": "stream",
     "text": [
      "\r",
      "                                                                               \r",
      "\r",
      " 10% (16 of 150) |##                     | Elapsed Time: 0:00:44 ETA:   0:05:16"
     ]
    },
    {
     "name": "stdout",
     "output_type": "stream",
     "text": [
      " - COST: 358.28761509126565\n",
      "\n",
      " - ITERATION: 18\n"
     ]
    },
    {
     "name": "stderr",
     "output_type": "stream",
     "text": [
      "\r",
      "                                                                               \r",
      "\r",
      " 10% (16 of 150) |##                     | Elapsed Time: 0:00:44 ETA:   0:05:49"
     ]
    },
    {
     "name": "stdout",
     "output_type": "stream",
     "text": [
      " - DATA FIDELITY (X): 325.78768565989554\n"
     ]
    },
    {
     "name": "stderr",
     "output_type": "stream",
     "text": [
      "\r",
      "                                                                               \r",
      "\r",
      " 10% (16 of 150) |##                     | Elapsed Time: 0:00:45 ETA:   0:05:48"
     ]
    },
    {
     "name": "stdout",
     "output_type": "stream",
     "text": [
      " - Min (X): 5.7129188507344104e-11\n",
      " - L1 NORM (X): 27.286773990890595\n"
     ]
    },
    {
     "name": "stderr",
     "output_type": "stream",
     "text": [
      "\r",
      "                                                                               \r",
      "\r",
      " 11% (17 of 150) |##                     | Elapsed Time: 0:00:46 ETA:   0:05:13"
     ]
    },
    {
     "name": "stdout",
     "output_type": "stream",
     "text": [
      " - COST: 353.07445965078614\n",
      "\n",
      " - ITERATION: 19\n"
     ]
    },
    {
     "name": "stderr",
     "output_type": "stream",
     "text": [
      "\r",
      "                                                                               \r",
      "\r",
      " 11% (17 of 150) |##                     | Elapsed Time: 0:00:47 ETA:   0:04:26"
     ]
    },
    {
     "name": "stdout",
     "output_type": "stream",
     "text": [
      " - DATA FIDELITY (X): 320.9963840584416\n"
     ]
    },
    {
     "name": "stderr",
     "output_type": "stream",
     "text": [
      "\r",
      "                                                                               \r",
      "\r",
      " 11% (17 of 150) |##                     | Elapsed Time: 0:00:47 ETA:   0:05:53"
     ]
    },
    {
     "name": "stdout",
     "output_type": "stream",
     "text": [
      " - Min (X): 1.1425837701468818e-11\n",
      " - L1 NORM (X): 27.449225082105166\n"
     ]
    },
    {
     "name": "stderr",
     "output_type": "stream",
     "text": [
      "\r",
      "                                                                               \r",
      "\r",
      " 12% (18 of 150) |##                     | Elapsed Time: 0:00:49 ETA:   0:05:17"
     ]
    },
    {
     "name": "stdout",
     "output_type": "stream",
     "text": [
      " - COST: 348.44560914054676\n",
      "\n",
      " - ITERATION: 20\n"
     ]
    },
    {
     "name": "stderr",
     "output_type": "stream",
     "text": [
      "\r",
      "                                                                               \r",
      "\r",
      " 12% (18 of 150) |##                     | Elapsed Time: 0:00:49 ETA:   0:05:49"
     ]
    },
    {
     "name": "stdout",
     "output_type": "stream",
     "text": [
      " - DATA FIDELITY (X): 316.693243765506\n"
     ]
    },
    {
     "name": "stderr",
     "output_type": "stream",
     "text": [
      "\r",
      "                                                                               \r",
      "\r",
      " 12% (18 of 150) |##                     | Elapsed Time: 0:00:50 ETA:   0:06:10"
     ]
    },
    {
     "name": "stdout",
     "output_type": "stream",
     "text": [
      " - Min (X): 2.285167540293763e-12\n",
      " - L1 NORM (X): 27.60906264720287\n"
     ]
    },
    {
     "name": "stderr",
     "output_type": "stream",
     "text": [
      "\r",
      "                                                                               \r",
      "\r",
      " 12% (19 of 150) |##                     | Elapsed Time: 0:00:52 ETA:   0:05:37"
     ]
    },
    {
     "name": "stdout",
     "output_type": "stream",
     "text": [
      " - COST: 344.30230641270884\n",
      "\n",
      " - CONVERGENCE TEST - \n",
      " - CHANGE IN COST: 0.026870032764992585\n",
      "\n",
      " - ITERATION: 21\n"
     ]
    },
    {
     "name": "stderr",
     "output_type": "stream",
     "text": [
      "\r",
      "                                                                               \r",
      "\r",
      " 12% (19 of 150) |##                     | Elapsed Time: 0:00:52 ETA:   0:06:08"
     ]
    },
    {
     "name": "stdout",
     "output_type": "stream",
     "text": [
      " - DATA FIDELITY (X): 312.8012065303124\n"
     ]
    },
    {
     "name": "stderr",
     "output_type": "stream",
     "text": [
      "\r",
      "                                                                               \r",
      "\r",
      " 12% (19 of 150) |##                     | Elapsed Time: 0:00:53 ETA:   0:05:46"
     ]
    },
    {
     "name": "stdout",
     "output_type": "stream",
     "text": [
      " - Min (X): 4.570335080587525e-13\n",
      " - L1 NORM (X): 27.765625311822074\n"
     ]
    },
    {
     "name": "stderr",
     "output_type": "stream",
     "text": [
      "\r",
      "                                                                               \r",
      "\r",
      " 13% (20 of 150) |###                    | Elapsed Time: 0:00:54 ETA:   0:05:10"
     ]
    },
    {
     "name": "stdout",
     "output_type": "stream",
     "text": [
      " - COST: 340.5668318421345\n",
      "\n",
      " - ITERATION: 22\n"
     ]
    },
    {
     "name": "stderr",
     "output_type": "stream",
     "text": [
      "\r",
      "                                                                               \r",
      "\r",
      " 13% (20 of 150) |###                    | Elapsed Time: 0:00:55 ETA:   0:05:42"
     ]
    },
    {
     "name": "stdout",
     "output_type": "stream",
     "text": [
      " - DATA FIDELITY (X): 309.25975419552697\n"
     ]
    },
    {
     "name": "stderr",
     "output_type": "stream",
     "text": [
      "\r",
      "                                                                               \r",
      "\r",
      " 13% (20 of 150) |###                    | Elapsed Time: 0:00:55 ETA:   0:05:42"
     ]
    },
    {
     "name": "stdout",
     "output_type": "stream",
     "text": [
      " - Min (X): 9.140670161175048e-14\n",
      " - L1 NORM (X): 27.918168387308526\n"
     ]
    },
    {
     "name": "stderr",
     "output_type": "stream",
     "text": [
      "\r",
      "                                                                               \r",
      "\r",
      " 14% (21 of 150) |###                    | Elapsed Time: 0:00:57 ETA:   0:05:08"
     ]
    },
    {
     "name": "stdout",
     "output_type": "stream",
     "text": [
      " - COST: 337.1779225828355\n",
      "\n",
      " - ITERATION: 23\n"
     ]
    },
    {
     "name": "stderr",
     "output_type": "stream",
     "text": [
      "\r",
      "                                                                               \r",
      "\r",
      " 14% (21 of 150) |###                    | Elapsed Time: 0:00:57 ETA:   0:05:38"
     ]
    },
    {
     "name": "stdout",
     "output_type": "stream",
     "text": [
      " - DATA FIDELITY (X): 306.01788933171497\n"
     ]
    },
    {
     "name": "stderr",
     "output_type": "stream",
     "text": [
      "\r",
      "                                                                               \r",
      "\r",
      " 14% (21 of 150) |###                    | Elapsed Time: 0:00:58 ETA:   0:05:34"
     ]
    },
    {
     "name": "stdout",
     "output_type": "stream",
     "text": [
      " - Min (X): 1.8281340322350093e-14\n",
      " - L1 NORM (X): 28.066560735461376\n"
     ]
    },
    {
     "name": "stderr",
     "output_type": "stream",
     "text": [
      "\r",
      "                                                                               \r",
      "\r",
      " 14% (22 of 150) |###                    | Elapsed Time: 0:01:00 ETA:   0:05:04"
     ]
    },
    {
     "name": "stdout",
     "output_type": "stream",
     "text": [
      " - COST: 334.08445006717636\n",
      "\n",
      " - ITERATION: 24\n"
     ]
    },
    {
     "name": "stderr",
     "output_type": "stream",
     "text": [
      "\r",
      "                                                                               \r",
      "\r",
      " 14% (22 of 150) |###                    | Elapsed Time: 0:01:00 ETA:   0:04:19"
     ]
    },
    {
     "name": "stdout",
     "output_type": "stream",
     "text": [
      " - DATA FIDELITY (X): 303.05544519329715\n"
     ]
    },
    {
     "name": "stderr",
     "output_type": "stream",
     "text": [
      "\r",
      "                                                                               \r",
      "\r",
      " 14% (22 of 150) |###                    | Elapsed Time: 0:01:01 ETA:   0:05:42"
     ]
    },
    {
     "name": "stdout",
     "output_type": "stream",
     "text": [
      " - Min (X): 3.656268064470018e-15\n",
      " - L1 NORM (X): 28.21061001591713\n"
     ]
    },
    {
     "name": "stderr",
     "output_type": "stream",
     "text": [
      "\r",
      "                                                                               \r",
      "\r",
      " 15% (23 of 150) |###                    | Elapsed Time: 0:01:02 ETA:   0:05:03"
     ]
    },
    {
     "name": "stdout",
     "output_type": "stream",
     "text": [
      " - COST: 331.2660552092143\n",
      "\n",
      " - CONVERGENCE TEST - \n",
      " - CHANGE IN COST: 0.018628150200969147\n",
      "\n",
      " - ITERATION: 25\n"
     ]
    },
    {
     "name": "stderr",
     "output_type": "stream",
     "text": [
      "\r",
      "                                                                               \r",
      "\r",
      " 15% (23 of 150) |###                    | Elapsed Time: 0:01:03 ETA:   0:05:34"
     ]
    },
    {
     "name": "stdout",
     "output_type": "stream",
     "text": [
      " - DATA FIDELITY (X): 300.3254915488287\n"
     ]
    },
    {
     "name": "stderr",
     "output_type": "stream",
     "text": [
      "\r",
      "                                                                               \r",
      "\r",
      " 15% (23 of 150) |###                    | Elapsed Time: 0:01:03 ETA:   0:05:31"
     ]
    },
    {
     "name": "stdout",
     "output_type": "stream",
     "text": [
      " - Min (X): 7.312536128940034e-16\n",
      " - L1 NORM (X): 28.350894556401247\n"
     ]
    },
    {
     "name": "stderr",
     "output_type": "stream",
     "text": [
      "\r",
      "                                                                               \r",
      "\r",
      " 16% (24 of 150) |###                    | Elapsed Time: 0:01:05 ETA:   0:04:56"
     ]
    },
    {
     "name": "stdout",
     "output_type": "stream",
     "text": [
      " - COST: 328.67638610523\n",
      "\n",
      " - ITERATION: 26\n"
     ]
    },
    {
     "name": "stderr",
     "output_type": "stream",
     "text": [
      "\r",
      "                                                                               \r",
      "\r",
      " 16% (24 of 150) |###                    | Elapsed Time: 0:01:05 ETA:   0:05:26"
     ]
    },
    {
     "name": "stdout",
     "output_type": "stream",
     "text": [
      " - DATA FIDELITY (X): 297.80440934946677\n"
     ]
    },
    {
     "name": "stderr",
     "output_type": "stream",
     "text": [
      "\r",
      "                                                                               \r",
      "\r",
      " 16% (24 of 150) |###                    | Elapsed Time: 0:01:06 ETA:   0:05:25"
     ]
    },
    {
     "name": "stdout",
     "output_type": "stream",
     "text": [
      " - Min (X): 1.4625072257880065e-16\n",
      " - L1 NORM (X): 28.48647310111258\n"
     ]
    },
    {
     "name": "stderr",
     "output_type": "stream",
     "text": [
      "\r",
      "                                                                               \r",
      "\r",
      " 16% (25 of 150) |###                    | Elapsed Time: 0:01:07 ETA:   0:04:54"
     ]
    },
    {
     "name": "stdout",
     "output_type": "stream",
     "text": [
      " - COST: 326.2908824505794\n",
      "\n",
      " - ITERATION: 27\n"
     ]
    },
    {
     "name": "stderr",
     "output_type": "stream",
     "text": [
      "\r",
      "                                                                               \r",
      "\r",
      " 16% (25 of 150) |###                    | Elapsed Time: 0:01:08 ETA:   0:04:11"
     ]
    },
    {
     "name": "stdout",
     "output_type": "stream",
     "text": [
      " - DATA FIDELITY (X): 295.4689093032878\n"
     ]
    },
    {
     "name": "stderr",
     "output_type": "stream",
     "text": [
      "\r",
      "                                                                               \r",
      "\r",
      " 16% (25 of 150) |###                    | Elapsed Time: 0:01:08 ETA:   0:05:28"
     ]
    },
    {
     "name": "stdout",
     "output_type": "stream",
     "text": [
      " - Min (X): 2.9250144515760124e-17\n",
      " - L1 NORM (X): 28.617389959073787\n"
     ]
    },
    {
     "name": "stderr",
     "output_type": "stream",
     "text": [
      "\r",
      "                                                                               \r",
      "\r",
      " 17% (26 of 150) |###                    | Elapsed Time: 0:01:10 ETA:   0:04:51"
     ]
    },
    {
     "name": "stdout",
     "output_type": "stream",
     "text": [
      " - COST: 324.08629926236154\n",
      "\n",
      " - ITERATION: 28\n"
     ]
    },
    {
     "name": "stderr",
     "output_type": "stream",
     "text": [
      "\r",
      "                                                                               \r",
      "\r",
      " 17% (26 of 150) |###                    | Elapsed Time: 0:01:10 ETA:   0:04:14"
     ]
    },
    {
     "name": "stdout",
     "output_type": "stream",
     "text": [
      " - DATA FIDELITY (X): 293.30175378053275\n"
     ]
    },
    {
     "name": "stderr",
     "output_type": "stream",
     "text": [
      "\r",
      "                                                                               \r",
      "\r",
      " 17% (26 of 150) |###                    | Elapsed Time: 0:01:11 ETA:   0:05:32"
     ]
    },
    {
     "name": "stdout",
     "output_type": "stream",
     "text": [
      " - Min (X): 5.850028903152024e-18\n",
      " - L1 NORM (X): 28.743874882272443\n"
     ]
    },
    {
     "name": "stderr",
     "output_type": "stream",
     "text": [
      "\r",
      "                                                                               \r",
      "\r",
      " 18% (27 of 150) |####                   | Elapsed Time: 0:01:13 ETA:   0:04:51"
     ]
    },
    {
     "name": "stdout",
     "output_type": "stream",
     "text": [
      " - COST: 322.0456286628052\n",
      "\n",
      " - CONVERGENCE TEST - \n",
      " - CHANGE IN COST: 0.013674205295835282\n",
      "\n",
      " - ITERATION: 29\n"
     ]
    },
    {
     "name": "stderr",
     "output_type": "stream",
     "text": [
      "\r",
      "                                                                               \r",
      "\r",
      " 18% (27 of 150) |####                   | Elapsed Time: 0:01:13 ETA:   0:05:20"
     ]
    },
    {
     "name": "stdout",
     "output_type": "stream",
     "text": [
      " - DATA FIDELITY (X): 291.28219400528246\n"
     ]
    },
    {
     "name": "stderr",
     "output_type": "stream",
     "text": [
      "\r",
      "                                                                               \r",
      "\r",
      " 18% (27 of 150) |####                   | Elapsed Time: 0:01:14 ETA:   0:05:19"
     ]
    },
    {
     "name": "stdout",
     "output_type": "stream",
     "text": [
      " - Min (X): 1.1700057806304045e-18\n",
      " - L1 NORM (X): 28.865667942174262\n"
     ]
    },
    {
     "name": "stderr",
     "output_type": "stream",
     "text": [
      "\r",
      "                                                                               \r",
      "\r",
      " 18% (28 of 150) |####                   | Elapsed Time: 0:01:15 ETA:   0:04:47"
     ]
    },
    {
     "name": "stdout",
     "output_type": "stream",
     "text": [
      " - COST: 320.1478619474567\n",
      "\n",
      " - ITERATION: 30\n"
     ]
    },
    {
     "name": "stderr",
     "output_type": "stream",
     "text": [
      "\r",
      "                                                                               \r",
      "\r",
      " 18% (28 of 150) |####                   | Elapsed Time: 0:01:16 ETA:   0:05:13"
     ]
    },
    {
     "name": "stdout",
     "output_type": "stream",
     "text": [
      " - DATA FIDELITY (X): 289.3950377168651\n"
     ]
    },
    {
     "name": "stderr",
     "output_type": "stream",
     "text": [
      "\r",
      "                                                                               \r",
      "\r",
      " 18% (28 of 150) |####                   | Elapsed Time: 0:01:16 ETA:   0:05:12"
     ]
    },
    {
     "name": "stdout",
     "output_type": "stream",
     "text": [
      " - Min (X): 2.3400115612608083e-19\n",
      " - L1 NORM (X): 28.982748685674522\n"
     ]
    },
    {
     "name": "stderr",
     "output_type": "stream",
     "text": [
      "\r",
      "                                                                               \r",
      "\r",
      " 19% (29 of 150) |####                   | Elapsed Time: 0:01:18 ETA:   0:04:46"
     ]
    },
    {
     "name": "stdout",
     "output_type": "stream",
     "text": [
      " - COST: 318.37778640253964\n",
      "\n",
      " - ITERATION: 31\n"
     ]
    },
    {
     "name": "stderr",
     "output_type": "stream",
     "text": [
      "\r",
      "                                                                               \r",
      "\r",
      " 19% (29 of 150) |####                   | Elapsed Time: 0:01:18 ETA:   0:05:16"
     ]
    },
    {
     "name": "stdout",
     "output_type": "stream",
     "text": [
      " - DATA FIDELITY (X): 287.63042144146044\n"
     ]
    },
    {
     "name": "stderr",
     "output_type": "stream",
     "text": [
      "\r",
      "                                                                               \r",
      "\r",
      " 19% (29 of 150) |####                   | Elapsed Time: 0:01:19 ETA:   0:05:18"
     ]
    },
    {
     "name": "stdout",
     "output_type": "stream",
     "text": [
      " - Min (X): 4.680023122521616e-20\n",
      " - L1 NORM (X): 29.095586708904257\n"
     ]
    },
    {
     "name": "stderr",
     "output_type": "stream",
     "text": [
      "\r",
      "                                                                               \r",
      "\r",
      " 20% (30 of 150) |####                   | Elapsed Time: 0:01:21 ETA:   0:04:43"
     ]
    },
    {
     "name": "stdout",
     "output_type": "stream",
     "text": [
      " - COST: 316.7260081503647\n",
      "\n",
      " - ITERATION: 32\n"
     ]
    },
    {
     "name": "stderr",
     "output_type": "stream",
     "text": [
      "\r",
      "                                                                               \r",
      "\r",
      " 20% (30 of 150) |####                   | Elapsed Time: 0:01:21 ETA:   0:05:12"
     ]
    },
    {
     "name": "stdout",
     "output_type": "stream",
     "text": [
      " - DATA FIDELITY (X): 285.9901424164607\n"
     ]
    },
    {
     "name": "stderr",
     "output_type": "stream",
     "text": [
      "\r",
      "                                                                               \r",
      "\r",
      " 20% (30 of 150) |####                   | Elapsed Time: 0:01:21 ETA:   0:05:11"
     ]
    },
    {
     "name": "stdout",
     "output_type": "stream",
     "text": [
      " - Min (X): 9.36004624504323e-21\n",
      " - L1 NORM (X): 29.204189958160246\n"
     ]
    },
    {
     "name": "stderr",
     "output_type": "stream",
     "text": [
      "\r",
      "                                                                               \r",
      "\r",
      " 20% (31 of 150) |####                   | Elapsed Time: 0:01:23 ETA:   0:04:42"
     ]
    },
    {
     "name": "stdout",
     "output_type": "stream",
     "text": [
      " - COST: 315.19433237462096\n",
      "\n",
      " - CONVERGENCE TEST - \n",
      " - CHANGE IN COST: 0.010452753933388336\n",
      "\n",
      " - ITERATION: 33\n"
     ]
    },
    {
     "name": "stderr",
     "output_type": "stream",
     "text": [
      "\r",
      "                                                                               \r",
      "\r",
      " 20% (31 of 150) |####                   | Elapsed Time: 0:01:23 ETA:   0:05:11"
     ]
    },
    {
     "name": "stdout",
     "output_type": "stream",
     "text": [
      " - DATA FIDELITY (X): 284.45443390403597\n"
     ]
    },
    {
     "name": "stderr",
     "output_type": "stream",
     "text": [
      "\r",
      "                                                                               \r",
      "\r",
      " 20% (31 of 150) |####                   | Elapsed Time: 0:01:24 ETA:   0:05:10"
     ]
    },
    {
     "name": "stdout",
     "output_type": "stream",
     "text": [
      " - Min (X): 1.8720092490086456e-21\n",
      " - L1 NORM (X): 29.308869401736022\n"
     ]
    },
    {
     "name": "stderr",
     "output_type": "stream",
     "text": [
      "\r",
      "                                                                               \r",
      "\r",
      " 21% (32 of 150) |####                   | Elapsed Time: 0:01:26 ETA:   0:04:46"
     ]
    },
    {
     "name": "stdout",
     "output_type": "stream",
     "text": [
      " - COST: 313.763303305772\n",
      "\n",
      " - ITERATION: 34\n"
     ]
    },
    {
     "name": "stderr",
     "output_type": "stream",
     "text": [
      "\r",
      "                                                                               \r",
      "\r",
      " 21% (32 of 150) |####                   | Elapsed Time: 0:01:26 ETA:   0:04:02"
     ]
    },
    {
     "name": "stdout",
     "output_type": "stream",
     "text": [
      " - DATA FIDELITY (X): 283.00586183056885\n"
     ]
    },
    {
     "name": "stderr",
     "output_type": "stream",
     "text": [
      "\r",
      "                                                                               \r",
      "\r",
      " 21% (32 of 150) |####                   | Elapsed Time: 0:01:27 ETA:   0:05:15"
     ]
    },
    {
     "name": "stdout",
     "output_type": "stream",
     "text": [
      " - Min (X): 3.7440184980172903e-22\n",
      " - L1 NORM (X): 29.410105198465764\n"
     ]
    },
    {
     "name": "stderr",
     "output_type": "stream",
     "text": [
      "\r",
      "                                                                               \r",
      "\r",
      " 22% (33 of 150) |#####                  | Elapsed Time: 0:01:29 ETA:   0:04:36"
     ]
    },
    {
     "name": "stdout",
     "output_type": "stream",
     "text": [
      " - COST: 312.4159670290346\n",
      "\n",
      " - ITERATION: 35\n"
     ]
    },
    {
     "name": "stderr",
     "output_type": "stream",
     "text": [
      " 22% (33 of 150) |#####                  | Elapsed Time: 0:01:30 ETA:   0:06:12"
     ]
    },
    {
     "name": "stdout",
     "output_type": "stream",
     "text": [
      " - DATA FIDELITY (X): 281.6327760120435\n",
      " - Min (X): 7.488036996034579e-23\n",
      " - L1 NORM (X): 29.507778162463087\n"
     ]
    },
    {
     "name": "stderr",
     "output_type": "stream",
     "text": [
      "\r",
      "                                                                               \r",
      "\r",
      " 22% (34 of 150) |#####                  | Elapsed Time: 0:01:32 ETA:   0:04:30"
     ]
    },
    {
     "name": "stdout",
     "output_type": "stream",
     "text": [
      " - COST: 311.1405541745066\n",
      "\n",
      " - ITERATION: 36\n"
     ]
    },
    {
     "name": "stderr",
     "output_type": "stream",
     "text": [
      "\r",
      "                                                                               \r",
      "\r",
      " 22% (34 of 150) |#####                  | Elapsed Time: 0:01:32 ETA:   0:04:59"
     ]
    },
    {
     "name": "stdout",
     "output_type": "stream",
     "text": [
      " - DATA FIDELITY (X): 280.32924505479696\n"
     ]
    },
    {
     "name": "stderr",
     "output_type": "stream",
     "text": [
      "\r",
      "                                                                               \r",
      "\r",
      " 22% (34 of 150) |#####                  | Elapsed Time: 0:01:32 ETA:   0:05:01"
     ]
    },
    {
     "name": "stdout",
     "output_type": "stream",
     "text": [
      " - Min (X): 1.4976073992069155e-23\n",
      " - L1 NORM (X): 29.602338046454264\n"
     ]
    },
    {
     "name": "stderr",
     "output_type": "stream",
     "text": [
      "\r",
      "                                                                               \r",
      "\r",
      " 23% (35 of 150) |#####                  | Elapsed Time: 0:01:34 ETA:   0:04:31"
     ]
    },
    {
     "name": "stdout",
     "output_type": "stream",
     "text": [
      " - COST: 309.93158310125125\n",
      "\n",
      " - CONVERGENCE TEST - \n",
      " - CHANGE IN COST: 0.008223091574274468\n",
      "\n",
      " - ITERATION: 37\n"
     ]
    },
    {
     "name": "stderr",
     "output_type": "stream",
     "text": [
      "\r",
      "                                                                               \r",
      "\r",
      " 23% (35 of 150) |#####                  | Elapsed Time: 0:01:34 ETA:   0:04:59"
     ]
    },
    {
     "name": "stdout",
     "output_type": "stream",
     "text": [
      " - DATA FIDELITY (X): 279.094064669899\n"
     ]
    },
    {
     "name": "stderr",
     "output_type": "stream",
     "text": [
      "\r",
      "                                                                               \r",
      "\r",
      " 23% (35 of 150) |#####                  | Elapsed Time: 0:01:35 ETA:   0:04:59"
     ]
    },
    {
     "name": "stdout",
     "output_type": "stream",
     "text": [
      " - Min (X): 2.9952147984138303e-24\n",
      " - L1 NORM (X): 29.694195372436035\n"
     ]
    },
    {
     "name": "stderr",
     "output_type": "stream",
     "text": [
      "\r",
      "                                                                               \r",
      "\r",
      " 24% (36 of 150) |#####                  | Elapsed Time: 0:01:37 ETA:   0:04:27"
     ]
    },
    {
     "name": "stdout",
     "output_type": "stream",
     "text": [
      " - COST: 308.788260042335\n",
      "\n",
      " - ITERATION: 38\n"
     ]
    },
    {
     "name": "stderr",
     "output_type": "stream",
     "text": [
      "\r",
      "                                                                               \r",
      "\r",
      " 24% (36 of 150) |#####                  | Elapsed Time: 0:01:37 ETA:   0:04:55"
     ]
    },
    {
     "name": "stdout",
     "output_type": "stream",
     "text": [
      " - DATA FIDELITY (X): 277.92340601260815\n"
     ]
    },
    {
     "name": "stderr",
     "output_type": "stream",
     "text": [
      "\r",
      "                                                                               \r",
      "\r",
      " 24% (36 of 150) |#####                  | Elapsed Time: 0:01:38 ETA:   0:04:58"
     ]
    },
    {
     "name": "stdout",
     "output_type": "stream",
     "text": [
      " - Min (X): 5.990429596827659e-25\n",
      " - L1 NORM (X): 29.78328283900234\n"
     ]
    },
    {
     "name": "stderr",
     "output_type": "stream",
     "text": [
      "\r",
      "                                                                               \r",
      "\r",
      " 24% (37 of 150) |#####                  | Elapsed Time: 0:01:39 ETA:   0:04:32"
     ]
    },
    {
     "name": "stdout",
     "output_type": "stream",
     "text": [
      " - COST: 307.70668885161047\n",
      "\n",
      " - ITERATION: 39\n"
     ]
    },
    {
     "name": "stderr",
     "output_type": "stream",
     "text": [
      "\r",
      "                                                                               \r",
      "\r",
      " 24% (37 of 150) |#####                  | Elapsed Time: 0:01:40 ETA:   0:03:46"
     ]
    },
    {
     "name": "stdout",
     "output_type": "stream",
     "text": [
      " - DATA FIDELITY (X): 276.8118586017706\n"
     ]
    },
    {
     "name": "stderr",
     "output_type": "stream",
     "text": [
      "\r",
      "                                                                               \r",
      "\r",
      " 24% (37 of 150) |#####                  | Elapsed Time: 0:01:40 ETA:   0:04:58"
     ]
    },
    {
     "name": "stdout",
     "output_type": "stream",
     "text": [
      " - Min (X): 1.1980859193655316e-25\n",
      " - L1 NORM (X): 29.8693430673253\n"
     ]
    },
    {
     "name": "stderr",
     "output_type": "stream",
     "text": [
      "\r",
      "                                                                               \r",
      "\r",
      " 25% (38 of 150) |#####                  | Elapsed Time: 0:01:42 ETA:   0:04:26"
     ]
    },
    {
     "name": "stdout",
     "output_type": "stream",
     "text": [
      " - COST: 306.6812016690959\n",
      "\n",
      " - ITERATION: 40\n"
     ]
    },
    {
     "name": "stderr",
     "output_type": "stream",
     "text": [
      "\r",
      "                                                                               \r",
      "\r",
      " 25% (38 of 150) |#####                  | Elapsed Time: 0:01:42 ETA:   0:04:53"
     ]
    },
    {
     "name": "stdout",
     "output_type": "stream",
     "text": [
      " - DATA FIDELITY (X): 275.7530664008244\n"
     ]
    },
    {
     "name": "stderr",
     "output_type": "stream",
     "text": [
      "\r",
      "                                                                               \r",
      "\r",
      " 25% (38 of 150) |#####                  | Elapsed Time: 0:01:43 ETA:   0:04:51"
     ]
    },
    {
     "name": "stdout",
     "output_type": "stream",
     "text": [
      " - Min (X): 2.3961718387310626e-26\n",
      " - L1 NORM (X): 29.952624396339036\n"
     ]
    },
    {
     "name": "stderr",
     "output_type": "stream",
     "text": [
      "\r",
      "                                                                               \r",
      "\r",
      " 26% (39 of 150) |#####                  | Elapsed Time: 0:01:45 ETA:   0:04:21"
     ]
    },
    {
     "name": "stdout",
     "output_type": "stream",
     "text": [
      " - COST: 305.70569079716347\n",
      "\n",
      " - CONVERGENCE TEST - \n",
      " - CHANGE IN COST: 0.00670826968738967\n",
      "\n",
      " - ITERATION: 41\n"
     ]
    },
    {
     "name": "stderr",
     "output_type": "stream",
     "text": [
      "\r",
      "                                                                               \r",
      "\r",
      " 26% (39 of 150) |#####                  | Elapsed Time: 0:01:45 ETA:   0:04:48"
     ]
    },
    {
     "name": "stdout",
     "output_type": "stream",
     "text": [
      " - DATA FIDELITY (X): 274.74382205107753\n"
     ]
    },
    {
     "name": "stderr",
     "output_type": "stream",
     "text": [
      "\r",
      "                                                                               \r",
      "\r",
      " 26% (39 of 150) |#####                  | Elapsed Time: 0:01:46 ETA:   0:04:49"
     ]
    },
    {
     "name": "stdout",
     "output_type": "stream",
     "text": [
      " - Min (X): 4.792343677462124e-27\n",
      " - L1 NORM (X): 30.033302421207857\n"
     ]
    },
    {
     "name": "stderr",
     "output_type": "stream",
     "text": [
      "\r",
      "                                                                               \r",
      "\r",
      " 26% (40 of 150) |######                 | Elapsed Time: 0:01:47 ETA:   0:04:19"
     ]
    },
    {
     "name": "stdout",
     "output_type": "stream",
     "text": [
      " - COST: 304.7771244722854\n",
      "\n",
      " - ITERATION: 42\n"
     ]
    },
    {
     "name": "stderr",
     "output_type": "stream",
     "text": [
      "\r",
      "                                                                               \r",
      "\r",
      " 26% (40 of 150) |######                 | Elapsed Time: 0:01:48 ETA:   0:04:46"
     ]
    },
    {
     "name": "stdout",
     "output_type": "stream",
     "text": [
      " - DATA FIDELITY (X): 273.78379133313956\n"
     ]
    },
    {
     "name": "stderr",
     "output_type": "stream",
     "text": [
      "\r",
      "                                                                               \r",
      "\r",
      " 26% (40 of 150) |######                 | Elapsed Time: 0:01:48 ETA:   0:04:47"
     ]
    },
    {
     "name": "stdout",
     "output_type": "stream",
     "text": [
      " - Min (X): 9.584687354924245e-28\n",
      " - L1 NORM (X): 30.111358151479966\n"
     ]
    },
    {
     "name": "stderr",
     "output_type": "stream",
     "text": [
      "\r",
      "                                                                               \r",
      "\r",
      " 27% (41 of 150) |######                 | Elapsed Time: 0:01:50 ETA:   0:04:19"
     ]
    },
    {
     "name": "stdout",
     "output_type": "stream",
     "text": [
      " - COST: 303.89514948461954\n",
      "\n",
      " - ITERATION: 43\n"
     ]
    },
    {
     "name": "stderr",
     "output_type": "stream",
     "text": [
      "\r",
      "                                                                               \r",
      "\r",
      " 27% (41 of 150) |######                 | Elapsed Time: 0:01:50 ETA:   0:04:46"
     ]
    },
    {
     "name": "stdout",
     "output_type": "stream",
     "text": [
      " - DATA FIDELITY (X): 272.86857173030467\n"
     ]
    },
    {
     "name": "stderr",
     "output_type": "stream",
     "text": [
      "\r",
      "                                                                               \r",
      "\r",
      " 27% (41 of 150) |######                 | Elapsed Time: 0:01:51 ETA:   0:04:44"
     ]
    },
    {
     "name": "stdout",
     "output_type": "stream",
     "text": [
      " - Min (X): 1.9169374709848487e-28\n",
      " - L1 NORM (X): 30.18689586084772\n"
     ]
    },
    {
     "name": "stderr",
     "output_type": "stream",
     "text": [
      "\r",
      "                                                                               \r",
      "\r",
      " 28% (42 of 150) |######                 | Elapsed Time: 0:01:53 ETA:   0:04:14"
     ]
    },
    {
     "name": "stdout",
     "output_type": "stream",
     "text": [
      " - COST: 303.05546759115236\n",
      "\n",
      " - ITERATION: 44\n"
     ]
    },
    {
     "name": "stderr",
     "output_type": "stream",
     "text": [
      "\r",
      "                                                                               \r",
      "\r",
      " 28% (42 of 150) |######                 | Elapsed Time: 0:01:53 ETA:   0:04:40"
     ]
    },
    {
     "name": "stdout",
     "output_type": "stream",
     "text": [
      " - DATA FIDELITY (X): 271.9948652250623\n"
     ]
    },
    {
     "name": "stderr",
     "output_type": "stream",
     "text": [
      "\r",
      "                                                                               \r",
      "\r",
      " 28% (42 of 150) |######                 | Elapsed Time: 0:01:53 ETA:   0:04:41"
     ]
    },
    {
     "name": "stdout",
     "output_type": "stream",
     "text": [
      " - Min (X): 3.833874941969696e-29\n",
      " - L1 NORM (X): 30.260267065968385\n"
     ]
    },
    {
     "name": "stderr",
     "output_type": "stream",
     "text": [
      "\r",
      "                                                                               \r",
      "\r",
      " 28% (43 of 150) |######                 | Elapsed Time: 0:01:55 ETA:   0:04:12"
     ]
    },
    {
     "name": "stdout",
     "output_type": "stream",
     "text": [
      " - COST: 302.2551322910307\n",
      "\n",
      " - CONVERGENCE TEST - \n",
      " - CHANGE IN COST: 0.005553634903099716\n",
      "\n",
      " - ITERATION: 45\n"
     ]
    },
    {
     "name": "stderr",
     "output_type": "stream",
     "text": [
      "\r",
      "                                                                               \r",
      "\r",
      " 28% (43 of 150) |######                 | Elapsed Time: 0:01:55 ETA:   0:04:36"
     ]
    },
    {
     "name": "stdout",
     "output_type": "stream",
     "text": [
      " - DATA FIDELITY (X): 271.16261424369594\n"
     ]
    },
    {
     "name": "stderr",
     "output_type": "stream",
     "text": [
      "\r",
      "                                                                               \r",
      "\r",
      " 28% (43 of 150) |######                 | Elapsed Time: 0:01:56 ETA:   0:04:36"
     ]
    },
    {
     "name": "stdout",
     "output_type": "stream",
     "text": [
      " - Min (X): 7.667749883939391e-30\n",
      " - L1 NORM (X): 30.331555267728465\n"
     ]
    },
    {
     "name": "stderr",
     "output_type": "stream",
     "text": [
      "\r",
      "                                                                               \r",
      "\r",
      " 29% (44 of 150) |######                 | Elapsed Time: 0:01:58 ETA:   0:04:15"
     ]
    },
    {
     "name": "stdout",
     "output_type": "stream",
     "text": [
      " - COST: 301.4941695114244\n",
      "\n",
      " - ITERATION: 46\n"
     ]
    },
    {
     "name": "stderr",
     "output_type": "stream",
     "text": [
      "\r",
      "                                                                               \r",
      "\r",
      " 29% (44 of 150) |######                 | Elapsed Time: 0:01:58 ETA:   0:03:35"
     ]
    },
    {
     "name": "stdout",
     "output_type": "stream",
     "text": [
      " - DATA FIDELITY (X): 270.3651145546031\n"
     ]
    },
    {
     "name": "stderr",
     "output_type": "stream",
     "text": [
      "\r",
      "                                                                               \r",
      "\r",
      " 29% (44 of 150) |######                 | Elapsed Time: 0:01:59 ETA:   0:04:40"
     ]
    },
    {
     "name": "stdout",
     "output_type": "stream",
     "text": [
      " - Min (X): 1.5335499767878779e-30\n",
      " - L1 NORM (X): 30.40094878912067\n"
     ]
    },
    {
     "name": "stderr",
     "output_type": "stream",
     "text": [
      "\r",
      "                                                                               \r",
      "\r",
      " 30% (45 of 150) |######                 | Elapsed Time: 0:02:00 ETA:   0:04:07"
     ]
    },
    {
     "name": "stdout",
     "output_type": "stream",
     "text": [
      " - COST: 300.7660633437238\n",
      "\n",
      " - ITERATION: 47\n"
     ]
    },
    {
     "name": "stderr",
     "output_type": "stream",
     "text": [
      "\r",
      "                                                                               \r",
      "\r",
      " 30% (45 of 150) |######                 | Elapsed Time: 0:02:01 ETA:   0:04:33"
     ]
    },
    {
     "name": "stdout",
     "output_type": "stream",
     "text": [
      " - DATA FIDELITY (X): 269.5979545730055\n"
     ]
    },
    {
     "name": "stderr",
     "output_type": "stream",
     "text": [
      "\r",
      "                                                                               \r",
      "\r",
      " 30% (45 of 150) |######                 | Elapsed Time: 0:02:01 ETA:   0:04:33"
     ]
    },
    {
     "name": "stdout",
     "output_type": "stream",
     "text": [
      " - Min (X): 3.067099953575755e-31\n",
      " - L1 NORM (X): 30.468420380885288\n"
     ]
    },
    {
     "name": "stderr",
     "output_type": "stream",
     "text": [
      "\r",
      "                                                                               \r",
      "\r",
      " 30% (46 of 150) |#######                | Elapsed Time: 0:02:03 ETA:   0:04:04"
     ]
    },
    {
     "name": "stdout",
     "output_type": "stream",
     "text": [
      " - COST: 300.0663749538908\n",
      "\n",
      " - ITERATION: 48\n"
     ]
    },
    {
     "name": "stderr",
     "output_type": "stream",
     "text": [
      "\r",
      "                                                                               \r",
      "\r",
      " 30% (46 of 150) |#######                | Elapsed Time: 0:02:03 ETA:   0:04:27"
     ]
    },
    {
     "name": "stdout",
     "output_type": "stream",
     "text": [
      " - DATA FIDELITY (X): 268.8595472260655\n"
     ]
    },
    {
     "name": "stderr",
     "output_type": "stream",
     "text": [
      "\r",
      "                                                                               \r",
      "\r",
      " 30% (46 of 150) |#######                | Elapsed Time: 0:02:04 ETA:   0:04:27"
     ]
    },
    {
     "name": "stdout",
     "output_type": "stream",
     "text": [
      " - Min (X): 6.134199907151509e-32\n",
      " - L1 NORM (X): 30.533957506451777\n"
     ]
    },
    {
     "name": "stderr",
     "output_type": "stream",
     "text": [
      "\r",
      "                                                                               \r",
      "\r",
      " 31% (47 of 150) |#######                | Elapsed Time: 0:02:06 ETA:   0:04:03"
     ]
    },
    {
     "name": "stdout",
     "output_type": "stream",
     "text": [
      " - COST: 299.3935047325173\n",
      "\n",
      " - CONVERGENCE TEST - \n",
      " - CHANGE IN COST: 0.00467146053244639\n",
      "\n",
      " - ITERATION: 49\n"
     ]
    },
    {
     "name": "stderr",
     "output_type": "stream",
     "text": [
      "\r",
      "                                                                               \r",
      "\r",
      " 31% (47 of 150) |#######                | Elapsed Time: 0:02:06 ETA:   0:04:28"
     ]
    },
    {
     "name": "stdout",
     "output_type": "stream",
     "text": [
      " - DATA FIDELITY (X): 268.1494346081935\n"
     ]
    },
    {
     "name": "stderr",
     "output_type": "stream",
     "text": [
      "\r",
      "                                                                               \r",
      "\r",
      " 31% (47 of 150) |#######                | Elapsed Time: 0:02:06 ETA:   0:04:27"
     ]
    },
    {
     "name": "stdout",
     "output_type": "stream",
     "text": [
      " - Min (X): 1.2268399814303015e-32\n",
      " - L1 NORM (X): 30.597822341959514\n"
     ]
    },
    {
     "name": "stderr",
     "output_type": "stream",
     "text": [
      "\r",
      "                                                                               \r",
      "\r",
      " 32% (48 of 150) |#######                | Elapsed Time: 0:02:08 ETA:   0:03:59"
     ]
    },
    {
     "name": "stdout",
     "output_type": "stream",
     "text": [
      " - COST: 298.747256950153\n",
      "\n",
      " - ITERATION: 50\n"
     ]
    },
    {
     "name": "stderr",
     "output_type": "stream",
     "text": [
      "\r",
      "                                                                               \r",
      "\r",
      " 32% (48 of 150) |#######                | Elapsed Time: 0:02:08 ETA:   0:04:22"
     ]
    },
    {
     "name": "stdout",
     "output_type": "stream",
     "text": [
      " - DATA FIDELITY (X): 267.4664799056318\n"
     ]
    },
    {
     "name": "stderr",
     "output_type": "stream",
     "text": [
      "\r",
      "                                                                               \r",
      "\r",
      " 32% (48 of 150) |#######                | Elapsed Time: 0:02:09 ETA:   0:04:22"
     ]
    },
    {
     "name": "stdout",
     "output_type": "stream",
     "text": [
      " - Min (X): 2.4536799628606024e-33\n",
      " - L1 NORM (X): 30.660079214123048\n"
     ]
    },
    {
     "name": "stderr",
     "output_type": "stream",
     "text": [
      "\r",
      "                                                                               \r",
      "\r",
      " 32% (49 of 150) |#######                | Elapsed Time: 0:02:11 ETA:   0:04:07"
     ]
    },
    {
     "name": "stdout",
     "output_type": "stream",
     "text": [
      " - COST: 298.12655911975486\n",
      "\n",
      " - ITERATION: 51\n"
     ]
    },
    {
     "name": "stderr",
     "output_type": "stream",
     "text": [
      "\r",
      "                                                                               \r",
      "\r",
      " 32% (49 of 150) |#######                | Elapsed Time: 0:02:11 ETA:   0:03:27"
     ]
    },
    {
     "name": "stdout",
     "output_type": "stream",
     "text": [
      " - DATA FIDELITY (X): 266.8085385282918\n"
     ]
    },
    {
     "name": "stderr",
     "output_type": "stream",
     "text": [
      "\r",
      "                                                                               \r",
      "\r",
      " 32% (49 of 150) |#######                | Elapsed Time: 0:02:12 ETA:   0:04:33"
     ]
    },
    {
     "name": "stdout",
     "output_type": "stream",
     "text": [
      " - Min (X): 4.907359925721204e-34\n",
      " - L1 NORM (X): 30.72084880698004\n"
     ]
    },
    {
     "name": "stderr",
     "output_type": "stream",
     "text": [
      "\r",
      "                                                                               \r",
      "\r",
      " 33% (50 of 150) |#######                | Elapsed Time: 0:02:13 ETA:   0:03:58"
     ]
    },
    {
     "name": "stdout",
     "output_type": "stream",
     "text": [
      " - COST: 297.52938733527185\n",
      "\n",
      " - ITERATION: 52\n"
     ]
    },
    {
     "name": "stderr",
     "output_type": "stream",
     "text": [
      "\r",
      "                                                                               \r",
      "\r",
      " 33% (50 of 150) |#######                | Elapsed Time: 0:02:14 ETA:   0:04:22"
     ]
    },
    {
     "name": "stdout",
     "output_type": "stream",
     "text": [
      " - DATA FIDELITY (X): 266.17421082125935\n"
     ]
    },
    {
     "name": "stderr",
     "output_type": "stream",
     "text": [
      "\r",
      "                                                                               \r",
      "\r",
      " 33% (50 of 150) |#######                | Elapsed Time: 0:02:14 ETA:   0:04:19"
     ]
    },
    {
     "name": "stdout",
     "output_type": "stream",
     "text": [
      " - Min (X): 9.814719851442405e-35\n",
      " - L1 NORM (X): 30.780116111855797\n"
     ]
    },
    {
     "name": "stderr",
     "output_type": "stream",
     "text": [
      "\r",
      "                                                                               \r",
      "\r",
      " 34% (51 of 150) |#######                | Elapsed Time: 0:02:16 ETA:   0:03:53"
     ]
    },
    {
     "name": "stdout",
     "output_type": "stream",
     "text": [
      " - COST: 296.95432693311517\n",
      "\n",
      " - CONVERGENCE TEST - \n",
      " - CHANGE IN COST: 0.0040204664049750104\n",
      "\n",
      " - ITERATION: 53\n"
     ]
    },
    {
     "name": "stderr",
     "output_type": "stream",
     "text": [
      "\r",
      "                                                                               \r",
      "\r",
      " 34% (51 of 150) |#######                | Elapsed Time: 0:02:16 ETA:   0:04:17"
     ]
    },
    {
     "name": "stdout",
     "output_type": "stream",
     "text": [
      " - DATA FIDELITY (X): 265.56183041359526\n"
     ]
    },
    {
     "name": "stderr",
     "output_type": "stream",
     "text": [
      "\r",
      "                                                                               \r",
      "\r",
      " 34% (51 of 150) |#######                | Elapsed Time: 0:02:17 ETA:   0:04:17"
     ]
    },
    {
     "name": "stdout",
     "output_type": "stream",
     "text": [
      " - Min (X): 1.9629439702884805e-35\n",
      " - L1 NORM (X): 30.83795148065703\n"
     ]
    },
    {
     "name": "stderr",
     "output_type": "stream",
     "text": [
      "\r",
      "                                                                               \r",
      "\r",
      " 34% (52 of 150) |#######                | Elapsed Time: 0:02:19 ETA:   0:03:56"
     ]
    },
    {
     "name": "stdout",
     "output_type": "stream",
     "text": [
      " - COST: 296.39978189425227\n",
      "\n",
      " - ITERATION: 54\n"
     ]
    },
    {
     "name": "stderr",
     "output_type": "stream",
     "text": [
      "\r",
      "                                                                               \r",
      "\r",
      " 34% (52 of 150) |#######                | Elapsed Time: 0:02:19 ETA:   0:03:19"
     ]
    },
    {
     "name": "stdout",
     "output_type": "stream",
     "text": [
      " - DATA FIDELITY (X): 264.97018251967404\n"
     ]
    },
    {
     "name": "stderr",
     "output_type": "stream",
     "text": [
      "\r",
      "                                                                               \r",
      "\r",
      " 34% (52 of 150) |#######                | Elapsed Time: 0:02:20 ETA:   0:04:21"
     ]
    },
    {
     "name": "stdout",
     "output_type": "stream",
     "text": [
      " - Min (X): 3.92588794057696e-36\n",
      " - L1 NORM (X): 30.894356843589815\n"
     ]
    },
    {
     "name": "stderr",
     "output_type": "stream",
     "text": [
      "\r",
      "                                                                               \r",
      "\r",
      " 35% (53 of 150) |########               | Elapsed Time: 0:02:21 ETA:   0:03:52"
     ]
    },
    {
     "name": "stdout",
     "output_type": "stream",
     "text": [
      " - COST: 295.8645393632639\n",
      "\n",
      " - ITERATION: 55\n"
     ]
    },
    {
     "name": "stderr",
     "output_type": "stream",
     "text": [
      "\r",
      "                                                                               \r",
      "\r",
      " 35% (53 of 150) |########               | Elapsed Time: 0:02:22 ETA:   0:03:14"
     ]
    },
    {
     "name": "stdout",
     "output_type": "stream",
     "text": [
      " - DATA FIDELITY (X): 264.3981535181812\n"
     ]
    },
    {
     "name": "stderr",
     "output_type": "stream",
     "text": [
      "\r",
      "                                                                               \r",
      "\r",
      " 35% (53 of 150) |########               | Elapsed Time: 0:02:22 ETA:   0:04:14"
     ]
    },
    {
     "name": "stdout",
     "output_type": "stream",
     "text": [
      " - Min (X): 7.851775881153919e-37\n",
      " - L1 NORM (X): 30.94941997520446\n"
     ]
    },
    {
     "name": "stderr",
     "output_type": "stream",
     "text": [
      "\r",
      "                                                                               \r",
      "\r",
      " 36% (54 of 150) |########               | Elapsed Time: 0:02:25 ETA:   0:04:49"
     ]
    },
    {
     "name": "stdout",
     "output_type": "stream",
     "text": [
      " - COST: 295.34757349338565\n",
      "\n",
      " - ITERATION: 56\n"
     ]
    },
    {
     "name": "stderr",
     "output_type": "stream",
     "text": [
      "\r",
      "                                                                               \r",
      "\r",
      " 36% (54 of 150) |########               | Elapsed Time: 0:02:25 ETA:   0:05:12"
     ]
    },
    {
     "name": "stdout",
     "output_type": "stream",
     "text": [
      " - DATA FIDELITY (X): 263.84485322438076\n"
     ]
    },
    {
     "name": "stderr",
     "output_type": "stream",
     "text": [
      "\r",
      "                                                                               \r",
      "\r",
      " 36% (54 of 150) |########               | Elapsed Time: 0:02:26 ETA:   0:06:20"
     ]
    },
    {
     "name": "stdout",
     "output_type": "stream",
     "text": [
      " - Min (X): 1.5703551762307835e-37\n",
      " - L1 NORM (X): 31.00316676654026\n"
     ]
    },
    {
     "name": "stderr",
     "output_type": "stream",
     "text": [
      "\r",
      "                                                                               \r",
      "\r",
      " 36% (55 of 150) |########               | Elapsed Time: 0:02:28 ETA:   0:03:52"
     ]
    },
    {
     "name": "stdout",
     "output_type": "stream",
     "text": [
      " - COST: 294.848019990921\n",
      "\n",
      " - CONVERGENCE TEST - \n",
      " - CHANGE IN COST: 0.003505156249975476\n",
      "\n",
      " - ITERATION: 57\n"
     ]
    },
    {
     "name": "stderr",
     "output_type": "stream",
     "text": [
      "\r",
      "                                                                               \r",
      "\r",
      " 36% (55 of 150) |########               | Elapsed Time: 0:02:28 ETA:   0:04:15"
     ]
    },
    {
     "name": "stdout",
     "output_type": "stream",
     "text": [
      " - DATA FIDELITY (X): 263.3115766298173\n"
     ]
    },
    {
     "name": "stderr",
     "output_type": "stream",
     "text": [
      "\r",
      "                                                                               \r",
      "\r",
      " 36% (55 of 150) |########               | Elapsed Time: 0:02:29 ETA:   0:04:11"
     ]
    },
    {
     "name": "stdout",
     "output_type": "stream",
     "text": [
      " - Min (X): 3.140710352461566e-38\n",
      " - L1 NORM (X): 31.055692532222626\n"
     ]
    },
    {
     "name": "stderr",
     "output_type": "stream",
     "text": [
      "\r",
      "                                                                               \r",
      "\r",
      " 37% (56 of 150) |########               | Elapsed Time: 0:02:31 ETA:   0:03:45"
     ]
    },
    {
     "name": "stdout",
     "output_type": "stream",
     "text": [
      " - COST: 294.3672691620399\n",
      "\n",
      " - ITERATION: 58\n"
     ]
    },
    {
     "name": "stderr",
     "output_type": "stream",
     "text": [
      "\r",
      "                                                                               \r",
      "\r",
      " 37% (56 of 150) |########               | Elapsed Time: 0:02:31 ETA:   0:04:08"
     ]
    },
    {
     "name": "stdout",
     "output_type": "stream",
     "text": [
      " - DATA FIDELITY (X): 262.7974195756203\n"
     ]
    },
    {
     "name": "stderr",
     "output_type": "stream",
     "text": [
      "\r",
      "                                                                               \r",
      "\r",
      " 37% (56 of 150) |########               | Elapsed Time: 0:02:31 ETA:   0:04:04"
     ]
    },
    {
     "name": "stdout",
     "output_type": "stream",
     "text": [
      " - Min (X): 6.281420704923131e-39\n",
      " - L1 NORM (X): 31.10710279248472\n"
     ]
    },
    {
     "name": "stderr",
     "output_type": "stream",
     "text": [
      "\r",
      "                                                                               \r",
      "\r",
      " 38% (57 of 150) |########               | Elapsed Time: 0:02:33 ETA:   0:03:40"
     ]
    },
    {
     "name": "stdout",
     "output_type": "stream",
     "text": [
      " - COST: 293.90452236810506\n",
      "\n",
      " - ITERATION: 59\n"
     ]
    },
    {
     "name": "stderr",
     "output_type": "stream",
     "text": [
      "\r",
      "                                                                               \r",
      "\r",
      " 38% (57 of 150) |########               | Elapsed Time: 0:02:33 ETA:   0:04:01"
     ]
    },
    {
     "name": "stdout",
     "output_type": "stream",
     "text": [
      " - DATA FIDELITY (X): 262.3011912727871\n"
     ]
    },
    {
     "name": "stderr",
     "output_type": "stream",
     "text": [
      "\r",
      "                                                                               \r",
      "\r",
      " 38% (57 of 150) |########               | Elapsed Time: 0:02:34 ETA:   0:04:00"
     ]
    },
    {
     "name": "stdout",
     "output_type": "stream",
     "text": [
      " - Min (X): 1.2562841409846258e-39\n",
      " - L1 NORM (X): 31.15722670956412\n"
     ]
    },
    {
     "name": "stderr",
     "output_type": "stream",
     "text": [
      "\r",
      "                                                                               \r",
      "\r",
      " 38% (58 of 150) |########               | Elapsed Time: 0:02:36 ETA:   0:03:36"
     ]
    },
    {
     "name": "stdout",
     "output_type": "stream",
     "text": [
      " - COST: 293.4584179823512\n",
      "\n",
      " - ITERATION: 60\n"
     ]
    },
    {
     "name": "stderr",
     "output_type": "stream",
     "text": [
      "\r",
      "                                                                               \r",
      "\r",
      " 38% (58 of 150) |########               | Elapsed Time: 0:02:36 ETA:   0:03:59"
     ]
    },
    {
     "name": "stdout",
     "output_type": "stream",
     "text": [
      " - DATA FIDELITY (X): 261.8204513821677\n"
     ]
    },
    {
     "name": "stderr",
     "output_type": "stream",
     "text": [
      "\r",
      "                                                                               \r",
      "\r",
      " 38% (58 of 150) |########               | Elapsed Time: 0:02:37 ETA:   0:04:04"
     ]
    },
    {
     "name": "stdout",
     "output_type": "stream",
     "text": [
      " - Min (X): 2.512568281969251e-40\n",
      " - L1 NORM (X): 31.206123188585398\n"
     ]
    },
    {
     "name": "stderr",
     "output_type": "stream",
     "text": [
      "\r",
      "                                                                               \r",
      "\r",
      " 39% (59 of 150) |#########              | Elapsed Time: 0:02:38 ETA:   0:03:40"
     ]
    },
    {
     "name": "stdout",
     "output_type": "stream",
     "text": [
      " - COST: 293.0265745707531\n",
      "\n",
      " - CONVERGENCE TEST - \n",
      " - CHANGE IN COST: 0.0030466235278456856\n",
      "\n",
      " - ITERATION: 61\n"
     ]
    },
    {
     "name": "stderr",
     "output_type": "stream",
     "text": [
      "\r",
      "                                                                               \r",
      "\r",
      " 39% (59 of 150) |#########              | Elapsed Time: 0:02:39 ETA:   0:04:02"
     ]
    },
    {
     "name": "stdout",
     "output_type": "stream",
     "text": [
      " - DATA FIDELITY (X): 261.3545115704214\n"
     ]
    },
    {
     "name": "stderr",
     "output_type": "stream",
     "text": [
      "\r",
      "                                                                               \r",
      "\r",
      " 39% (59 of 150) |#########              | Elapsed Time: 0:02:39 ETA:   0:04:01"
     ]
    },
    {
     "name": "stdout",
     "output_type": "stream",
     "text": [
      " - Min (X): 5.025136563938501e-41\n",
      " - L1 NORM (X): 31.253927730480235\n"
     ]
    },
    {
     "name": "stderr",
     "output_type": "stream",
     "text": [
      "\r",
      "                                                                               \r",
      "\r",
      " 40% (60 of 150) |#########              | Elapsed Time: 0:02:41 ETA:   0:03:40"
     ]
    },
    {
     "name": "stdout",
     "output_type": "stream",
     "text": [
      " - COST: 292.60843930090164\n",
      "\n",
      " - ITERATION: 62\n"
     ]
    },
    {
     "name": "stderr",
     "output_type": "stream",
     "text": [
      "\r",
      "                                                                               \r",
      "\r",
      " 40% (60 of 150) |#########              | Elapsed Time: 0:02:41 ETA:   0:03:02"
     ]
    },
    {
     "name": "stdout",
     "output_type": "stream",
     "text": [
      " - DATA FIDELITY (X): 260.9068239986366\n"
     ]
    },
    {
     "name": "stderr",
     "output_type": "stream",
     "text": [
      "\r",
      "                                                                               \r",
      "\r",
      " 40% (60 of 150) |#########              | Elapsed Time: 0:02:42 ETA:   0:04:01"
     ]
    },
    {
     "name": "stdout",
     "output_type": "stream",
     "text": [
      " - Min (X): 1.0050273127877e-41\n",
      " - L1 NORM (X): 31.30074740747922\n"
     ]
    },
    {
     "name": "stderr",
     "output_type": "stream",
     "text": [
      "\r",
      "                                                                               \r",
      "\r",
      " 40% (61 of 150) |#########              | Elapsed Time: 0:02:44 ETA:   0:03:31"
     ]
    },
    {
     "name": "stdout",
     "output_type": "stream",
     "text": [
      " - COST: 292.2075714061158\n",
      "\n",
      " - ITERATION: 63\n"
     ]
    },
    {
     "name": "stderr",
     "output_type": "stream",
     "text": [
      "\r",
      "                                                                               \r",
      "\r",
      " 40% (61 of 150) |#########              | Elapsed Time: 0:02:44 ETA:   0:03:53"
     ]
    },
    {
     "name": "stdout",
     "output_type": "stream",
     "text": [
      " - DATA FIDELITY (X): 260.47730305977325\n"
     ]
    },
    {
     "name": "stderr",
     "output_type": "stream",
     "text": [
      "\r",
      "                                                                               \r",
      "\r",
      " 40% (61 of 150) |#########              | Elapsed Time: 0:02:45 ETA:   0:03:51"
     ]
    },
    {
     "name": "stdout",
     "output_type": "stream",
     "text": [
      " - Min (X): 2.0100546255753997e-42\n",
      " - L1 NORM (X): 31.346497944478237\n"
     ]
    },
    {
     "name": "stderr",
     "output_type": "stream",
     "text": [
      "\r",
      "                                                                               \r",
      "\r",
      " 41% (62 of 150) |#########              | Elapsed Time: 0:02:46 ETA:   0:03:27"
     ]
    },
    {
     "name": "stdout",
     "output_type": "stream",
     "text": [
      " - COST: 291.8238010042515\n",
      "\n",
      " - ITERATION: 64\n"
     ]
    },
    {
     "name": "stderr",
     "output_type": "stream",
     "text": [
      "\r",
      "                                                                               \r",
      "\r",
      " 41% (62 of 150) |#########              | Elapsed Time: 0:02:47 ETA:   0:03:48"
     ]
    },
    {
     "name": "stdout",
     "output_type": "stream",
     "text": [
      " - DATA FIDELITY (X): 260.0618818015985\n"
     ]
    },
    {
     "name": "stderr",
     "output_type": "stream",
     "text": [
      "\r",
      "                                                                               \r",
      "\r",
      " 41% (62 of 150) |#########              | Elapsed Time: 0:02:47 ETA:   0:03:48"
     ]
    },
    {
     "name": "stdout",
     "output_type": "stream",
     "text": [
      " - Min (X): 4.020109251150798e-43\n",
      " - L1 NORM (X): 31.391152610024534\n"
     ]
    },
    {
     "name": "stderr",
     "output_type": "stream",
     "text": [
      "\r",
      "                                                                               \r",
      "\r",
      " 42% (63 of 150) |#########              | Elapsed Time: 0:02:49 ETA:   0:03:26"
     ]
    },
    {
     "name": "stdout",
     "output_type": "stream",
     "text": [
      " - COST: 291.453034411623\n",
      "\n",
      " - CONVERGENCE TEST - \n",
      " - CHANGE IN COST: 0.0026388417946436524\n",
      "\n",
      " - ITERATION: 65\n"
     ]
    },
    {
     "name": "stderr",
     "output_type": "stream",
     "text": [
      "\r",
      "                                                                               \r",
      "\r",
      " 42% (63 of 150) |#########              | Elapsed Time: 0:02:49 ETA:   0:03:48"
     ]
    },
    {
     "name": "stdout",
     "output_type": "stream",
     "text": [
      " - DATA FIDELITY (X): 259.6595817821298\n"
     ]
    },
    {
     "name": "stderr",
     "output_type": "stream",
     "text": [
      "\r",
      "                                                                               \r",
      "\r",
      " 42% (63 of 150) |#########              | Elapsed Time: 0:02:50 ETA:   0:03:49"
     ]
    },
    {
     "name": "stdout",
     "output_type": "stream",
     "text": [
      " - Min (X): 8.040218502301594e-44\n",
      " - L1 NORM (X): 31.434770709610703\n"
     ]
    },
    {
     "name": "stderr",
     "output_type": "stream",
     "text": [
      "\r",
      "                                                                               \r",
      "\r",
      " 42% (64 of 150) |#########              | Elapsed Time: 0:02:52 ETA:   0:03:23"
     ]
    },
    {
     "name": "stdout",
     "output_type": "stream",
     "text": [
      " - COST: 291.0943524917405\n",
      "\n",
      " - ITERATION: 66\n"
     ]
    },
    {
     "name": "stderr",
     "output_type": "stream",
     "text": [
      "\r",
      "                                                                               \r",
      "\r",
      " 42% (64 of 150) |#########              | Elapsed Time: 0:02:52 ETA:   0:03:44"
     ]
    },
    {
     "name": "stdout",
     "output_type": "stream",
     "text": [
      " - DATA FIDELITY (X): 259.26852482072326\n"
     ]
    },
    {
     "name": "stderr",
     "output_type": "stream",
     "text": [
      "\r",
      "                                                                               \r",
      "\r",
      " 42% (64 of 150) |#########              | Elapsed Time: 0:02:52 ETA:   0:03:43"
     ]
    },
    {
     "name": "stdout",
     "output_type": "stream",
     "text": [
      " - Min (X): 1.6080437004603186e-44\n",
      " - L1 NORM (X): 31.477374195889478\n"
     ]
    },
    {
     "name": "stderr",
     "output_type": "stream",
     "text": [
      "\r",
      "                                                                               \r",
      "\r",
      " 43% (65 of 150) |#########              | Elapsed Time: 0:02:54 ETA:   0:03:20"
     ]
    },
    {
     "name": "stdout",
     "output_type": "stream",
     "text": [
      " - COST: 290.7458990166127\n",
      "\n",
      " - ITERATION: 67\n"
     ]
    },
    {
     "name": "stderr",
     "output_type": "stream",
     "text": [
      "\r",
      "                                                                               \r",
      "\r",
      " 43% (65 of 150) |#########              | Elapsed Time: 0:02:54 ETA:   0:03:41"
     ]
    },
    {
     "name": "stdout",
     "output_type": "stream",
     "text": [
      " - DATA FIDELITY (X): 258.888495410189\n"
     ]
    },
    {
     "name": "stderr",
     "output_type": "stream",
     "text": [
      "\r",
      "                                                                               \r",
      "\r",
      " 43% (65 of 150) |#########              | Elapsed Time: 0:02:55 ETA:   0:03:40"
     ]
    },
    {
     "name": "stdout",
     "output_type": "stream",
     "text": [
      " - Min (X): 3.2160874009206366e-45\n",
      " - L1 NORM (X): 31.519057579896977\n"
     ]
    },
    {
     "name": "stderr",
     "output_type": "stream",
     "text": [
      "\r",
      "                                                                               \r",
      "\r",
      " 44% (66 of 150) |##########             | Elapsed Time: 0:02:57 ETA:   0:03:20"
     ]
    },
    {
     "name": "stdout",
     "output_type": "stream",
     "text": [
      " - COST: 290.407552990086\n",
      "\n",
      " - ITERATION: 68\n"
     ]
    },
    {
     "name": "stderr",
     "output_type": "stream",
     "text": [
      "\r",
      "                                                                               \r",
      "\r",
      " 44% (66 of 150) |##########             | Elapsed Time: 0:02:57 ETA:   0:02:49"
     ]
    },
    {
     "name": "stdout",
     "output_type": "stream",
     "text": [
      " - DATA FIDELITY (X): 258.52032050804814\n"
     ]
    },
    {
     "name": "stderr",
     "output_type": "stream",
     "text": [
      "\r",
      "                                                                               \r",
      "\r",
      " 44% (66 of 150) |##########             | Elapsed Time: 0:02:58 ETA:   0:03:41"
     ]
    },
    {
     "name": "stdout",
     "output_type": "stream",
     "text": [
      " - Min (X): 6.4321748018412716e-46\n",
      " - L1 NORM (X): 31.559886626711304\n"
     ]
    },
    {
     "name": "stderr",
     "output_type": "stream",
     "text": [
      "\r",
      "                                                                               \r",
      "\r",
      " 44% (67 of 150) |##########             | Elapsed Time: 0:02:59 ETA:   0:03:17"
     ]
    },
    {
     "name": "stdout",
     "output_type": "stream",
     "text": [
      " - COST: 290.08020713475946\n",
      "\n",
      " - CONVERGENCE TEST - \n",
      " - CHANGE IN COST: 0.002329922310880401\n",
      "\n",
      " - ITERATION: 69\n"
     ]
    },
    {
     "name": "stderr",
     "output_type": "stream",
     "text": [
      "\r",
      "                                                                               \r",
      "\r",
      " 44% (67 of 150) |##########             | Elapsed Time: 0:03:00 ETA:   0:02:47"
     ]
    },
    {
     "name": "stdout",
     "output_type": "stream",
     "text": [
      " - DATA FIDELITY (X): 258.163944120591\n"
     ]
    },
    {
     "name": "stderr",
     "output_type": "stream",
     "text": [
      "\r",
      "                                                                               \r",
      "\r",
      " 44% (67 of 150) |##########             | Elapsed Time: 0:03:00 ETA:   0:03:38"
     ]
    },
    {
     "name": "stdout",
     "output_type": "stream",
     "text": [
      " - Min (X): 1.286434960368254e-46\n",
      " - L1 NORM (X): 31.599820576567026\n"
     ]
    },
    {
     "name": "stderr",
     "output_type": "stream",
     "text": [
      "\r",
      "                                                                               \r",
      "\r",
      " 45% (68 of 150) |##########             | Elapsed Time: 0:03:02 ETA:   0:03:14"
     ]
    },
    {
     "name": "stdout",
     "output_type": "stream",
     "text": [
      " - COST: 289.763764697158\n",
      "\n",
      " - ITERATION: 70\n"
     ]
    },
    {
     "name": "stderr",
     "output_type": "stream",
     "text": [
      "\r",
      "                                                                               \r",
      "\r",
      " 45% (68 of 150) |##########             | Elapsed Time: 0:03:02 ETA:   0:03:33"
     ]
    },
    {
     "name": "stdout",
     "output_type": "stream",
     "text": [
      " - DATA FIDELITY (X): 257.81786824567666\n"
     ]
    },
    {
     "name": "stderr",
     "output_type": "stream",
     "text": [
      "\r",
      "                                                                               \r",
      "\r",
      " 45% (68 of 150) |##########             | Elapsed Time: 0:03:03 ETA:   0:03:33"
     ]
    },
    {
     "name": "stdout",
     "output_type": "stream",
     "text": [
      " - Min (X): 2.572869920736507e-47\n",
      " - L1 NORM (X): 31.63896490784489\n"
     ]
    },
    {
     "name": "stderr",
     "output_type": "stream",
     "text": [
      "\r",
      "                                                                               \r",
      "\r",
      " 46% (69 of 150) |##########             | Elapsed Time: 0:03:05 ETA:   0:03:12"
     ]
    },
    {
     "name": "stdout",
     "output_type": "stream",
     "text": [
      " - COST: 289.45683315352153\n",
      "\n",
      " - ITERATION: 71\n"
     ]
    },
    {
     "name": "stderr",
     "output_type": "stream",
     "text": [
      "\r",
      "                                                                               \r",
      "\r",
      " 46% (69 of 150) |##########             | Elapsed Time: 0:03:05 ETA:   0:03:32"
     ]
    },
    {
     "name": "stdout",
     "output_type": "stream",
     "text": [
      " - DATA FIDELITY (X): 257.481773651601\n"
     ]
    },
    {
     "name": "stderr",
     "output_type": "stream",
     "text": [
      "\r",
      "                                                                               \r",
      "\r",
      " 46% (69 of 150) |##########             | Elapsed Time: 0:03:05 ETA:   0:03:32"
     ]
    },
    {
     "name": "stdout",
     "output_type": "stream",
     "text": [
      " - Min (X): 5.1457398414730135e-48\n",
      " - L1 NORM (X): 31.677335827310138\n"
     ]
    },
    {
     "name": "stderr",
     "output_type": "stream",
     "text": [
      "\r",
      "                                                                               \r",
      "\r",
      " 46% (70 of 150) |##########             | Elapsed Time: 0:03:07 ETA:   0:03:08"
     ]
    },
    {
     "name": "stdout",
     "output_type": "stream",
     "text": [
      " - COST: 289.1591094789111\n",
      "\n",
      " - ITERATION: 72\n"
     ]
    },
    {
     "name": "stderr",
     "output_type": "stream",
     "text": [
      "\r",
      "                                                                               \r",
      "\r",
      " 46% (70 of 150) |##########             | Elapsed Time: 0:03:07 ETA:   0:03:27"
     ]
    },
    {
     "name": "stdout",
     "output_type": "stream",
     "text": [
      " - DATA FIDELITY (X): 257.1542004777779\n"
     ]
    },
    {
     "name": "stderr",
     "output_type": "stream",
     "text": [
      "\r",
      "                                                                               \r",
      "\r",
      " 46% (70 of 150) |##########             | Elapsed Time: 0:03:08 ETA:   0:03:27"
     ]
    },
    {
     "name": "stdout",
     "output_type": "stream",
     "text": [
      " - Min (X): 1.0291479682946025e-48\n",
      " - L1 NORM (X): 31.71486212419935\n"
     ]
    },
    {
     "name": "stderr",
     "output_type": "stream",
     "text": [
      "\r",
      "                                                                               \r",
      "\r",
      " 47% (71 of 150) |##########             | Elapsed Time: 0:03:10 ETA:   0:03:06"
     ]
    },
    {
     "name": "stdout",
     "output_type": "stream",
     "text": [
      " - COST: 288.86906260197725\n",
      "\n",
      " - CONVERGENCE TEST - \n",
      " - CHANGE IN COST: 0.0020629198149606644\n",
      "\n",
      " - ITERATION: 73\n"
     ]
    },
    {
     "name": "stderr",
     "output_type": "stream",
     "text": [
      "\r",
      "                                                                               \r",
      "\r",
      " 47% (71 of 150) |##########             | Elapsed Time: 0:03:10 ETA:   0:03:25"
     ]
    },
    {
     "name": "stdout",
     "output_type": "stream",
     "text": [
      " - DATA FIDELITY (X): 256.83456707535913\n"
     ]
    },
    {
     "name": "stderr",
     "output_type": "stream",
     "text": [
      "\r",
      "                                                                               \r",
      "\r",
      " 47% (71 of 150) |##########             | Elapsed Time: 0:03:11 ETA:   0:03:32"
     ]
    },
    {
     "name": "stdout",
     "output_type": "stream",
     "text": [
      " - Min (X): 2.0582959365892046e-49\n",
      " - L1 NORM (X): 31.751620098387953\n"
     ]
    },
    {
     "name": "stderr",
     "output_type": "stream",
     "text": [
      "\r",
      "                                                                               \r",
      "\r",
      " 48% (72 of 150) |###########            | Elapsed Time: 0:03:13 ETA:   0:03:10"
     ]
    },
    {
     "name": "stdout",
     "output_type": "stream",
     "text": [
      " - COST: 288.5861871737471\n",
      "\n",
      " - ITERATION: 74\n"
     ]
    },
    {
     "name": "stderr",
     "output_type": "stream",
     "text": [
      "\r",
      "                                                                               \r",
      "\r",
      " 48% (72 of 150) |###########            | Elapsed Time: 0:03:13 ETA:   0:03:29"
     ]
    },
    {
     "name": "stdout",
     "output_type": "stream",
     "text": [
      " - DATA FIDELITY (X): 256.5233868300806\n"
     ]
    },
    {
     "name": "stderr",
     "output_type": "stream",
     "text": [
      "\r",
      "                                                                               \r",
      "\r",
      " 48% (72 of 150) |###########            | Elapsed Time: 0:03:13 ETA:   0:03:23"
     ]
    },
    {
     "name": "stdout",
     "output_type": "stream",
     "text": [
      " - Min (X): 4.116591873178408e-50\n",
      " - L1 NORM (X): 31.78773022559925\n"
     ]
    },
    {
     "name": "stderr",
     "output_type": "stream",
     "text": [
      "\r",
      "                                                                               \r",
      "\r",
      " 48% (73 of 150) |###########            | Elapsed Time: 0:03:15 ETA:   0:03:02"
     ]
    },
    {
     "name": "stdout",
     "output_type": "stream",
     "text": [
      " - COST: 288.31111705567986\n",
      "\n",
      " - ITERATION: 75\n"
     ]
    },
    {
     "name": "stderr",
     "output_type": "stream",
     "text": [
      "\r",
      "                                                                               \r",
      "\r",
      " 48% (73 of 150) |###########            | Elapsed Time: 0:03:15 ETA:   0:03:19"
     ]
    },
    {
     "name": "stdout",
     "output_type": "stream",
     "text": [
      " - DATA FIDELITY (X): 256.2213700384652\n"
     ]
    },
    {
     "name": "stderr",
     "output_type": "stream",
     "text": [
      "\r",
      "                                                                               \r",
      "\r",
      " 48% (73 of 150) |###########            | Elapsed Time: 0:03:16 ETA:   0:03:20"
     ]
    },
    {
     "name": "stdout",
     "output_type": "stream",
     "text": [
      " - Min (X): 8.233183746356815e-51\n",
      " - L1 NORM (X): 31.823120823325123\n"
     ]
    },
    {
     "name": "stderr",
     "output_type": "stream",
     "text": [
      "\r",
      "                                                                               \r",
      "\r",
      " 49% (74 of 150) |###########            | Elapsed Time: 0:03:18 ETA:   0:03:00"
     ]
    },
    {
     "name": "stdout",
     "output_type": "stream",
     "text": [
      " - COST: 288.0444908617903\n",
      "\n",
      " - ITERATION: 76\n"
     ]
    },
    {
     "name": "stderr",
     "output_type": "stream",
     "text": [
      "\r",
      "                                                                               \r",
      "\r",
      " 49% (74 of 150) |###########            | Elapsed Time: 0:03:18 ETA:   0:03:18"
     ]
    },
    {
     "name": "stdout",
     "output_type": "stream",
     "text": [
      " - DATA FIDELITY (X): 255.92728732015775\n"
     ]
    },
    {
     "name": "stderr",
     "output_type": "stream",
     "text": [
      "\r",
      "                                                                               \r",
      "\r",
      " 49% (74 of 150) |###########            | Elapsed Time: 0:03:19 ETA:   0:03:18"
     ]
    },
    {
     "name": "stdout",
     "output_type": "stream",
     "text": [
      " - Min (X): 1.6466367492713628e-51\n",
      " - L1 NORM (X): 31.85782270384564\n"
     ]
    },
    {
     "name": "stderr",
     "output_type": "stream",
     "text": [
      "\r",
      "                                                                               \r",
      "\r",
      " 50% (75 of 150) |###########            | Elapsed Time: 0:03:20 ETA:   0:02:56"
     ]
    },
    {
     "name": "stdout",
     "output_type": "stream",
     "text": [
      " - COST: 287.78511002400336\n",
      "\n",
      " - CONVERGENCE TEST - \n",
      " - CHANGE IN COST: 0.001854200169617642\n",
      "\n",
      " - ITERATION: 77\n"
     ]
    },
    {
     "name": "stderr",
     "output_type": "stream",
     "text": [
      "\r",
      "                                                                               \r",
      "\r",
      " 50% (75 of 150) |###########            | Elapsed Time: 0:03:21 ETA:   0:03:15"
     ]
    },
    {
     "name": "stdout",
     "output_type": "stream",
     "text": [
      " - DATA FIDELITY (X): 255.64070733782972\n"
     ]
    },
    {
     "name": "stderr",
     "output_type": "stream",
     "text": [
      "\r",
      "                                                                               \r",
      "\r",
      " 50% (75 of 150) |###########            | Elapsed Time: 0:03:21 ETA:   0:03:15"
     ]
    },
    {
     "name": "stdout",
     "output_type": "stream",
     "text": [
      " - Min (X): 3.2932734985427248e-52\n",
      " - L1 NORM (X): 31.891830707150383\n"
     ]
    },
    {
     "name": "stderr",
     "output_type": "stream",
     "text": [
      "\r",
      "                                                                               \r",
      "\r",
      " 50% (76 of 150) |###########            | Elapsed Time: 0:03:23 ETA:   0:02:53"
     ]
    },
    {
     "name": "stdout",
     "output_type": "stream",
     "text": [
      " - COST: 287.53253804498013\n",
      "\n",
      " - ITERATION: 78\n"
     ]
    },
    {
     "name": "stderr",
     "output_type": "stream",
     "text": [
      "\r",
      "                                                                               \r",
      "\r",
      " 50% (76 of 150) |###########            | Elapsed Time: 0:03:23 ETA:   0:03:12"
     ]
    },
    {
     "name": "stdout",
     "output_type": "stream",
     "text": [
      " - DATA FIDELITY (X): 255.36329215470025\n"
     ]
    },
    {
     "name": "stderr",
     "output_type": "stream",
     "text": [
      "\r",
      "                                                                               \r",
      "\r",
      " 50% (76 of 150) |###########            | Elapsed Time: 0:03:24 ETA:   0:03:12"
     ]
    },
    {
     "name": "stdout",
     "output_type": "stream",
     "text": [
      " - Min (X): 6.586546997085448e-53\n",
      " - L1 NORM (X): 31.925268405786625\n"
     ]
    },
    {
     "name": "stderr",
     "output_type": "stream",
     "text": [
      "\r",
      "                                                                               \r",
      "\r",
      " 51% (77 of 150) |###########            | Elapsed Time: 0:03:26 ETA:   0:02:52"
     ]
    },
    {
     "name": "stdout",
     "output_type": "stream",
     "text": [
      " - COST: 287.28856056048687\n",
      "\n",
      " - ITERATION: 79\n"
     ]
    },
    {
     "name": "stderr",
     "output_type": "stream",
     "text": [
      "\r",
      "                                                                               \r",
      "\r",
      " 51% (77 of 150) |###########            | Elapsed Time: 0:03:26 ETA:   0:03:10"
     ]
    },
    {
     "name": "stdout",
     "output_type": "stream",
     "text": [
      " - DATA FIDELITY (X): 255.09364313599258\n"
     ]
    },
    {
     "name": "stderr",
     "output_type": "stream",
     "text": [
      "\r",
      "                                                                               \r",
      "\r",
      " 51% (77 of 150) |###########            | Elapsed Time: 0:03:26 ETA:   0:03:12"
     ]
    },
    {
     "name": "stdout",
     "output_type": "stream",
     "text": [
      " - Min (X): 1.3173093994170893e-53\n",
      " - L1 NORM (X): 31.958123150474083\n"
     ]
    },
    {
     "name": "stderr",
     "output_type": "stream",
     "text": [
      "\r",
      "                                                                               \r",
      "\r",
      " 52% (78 of 150) |###########            | Elapsed Time: 0:03:28 ETA:   0:02:51"
     ]
    },
    {
     "name": "stdout",
     "output_type": "stream",
     "text": [
      " - COST: 287.05176628646666\n",
      "\n",
      " - ITERATION: 80\n"
     ]
    },
    {
     "name": "stderr",
     "output_type": "stream",
     "text": [
      "\r",
      "                                                                               \r",
      "\r",
      " 52% (78 of 150) |###########            | Elapsed Time: 0:03:28 ETA:   0:03:10"
     ]
    },
    {
     "name": "stdout",
     "output_type": "stream",
     "text": [
      " - DATA FIDELITY (X): 254.8316051696916\n"
     ]
    },
    {
     "name": "stderr",
     "output_type": "stream",
     "text": [
      "\r",
      "                                                                               \r",
      "\r",
      " 52% (78 of 150) |###########            | Elapsed Time: 0:03:29 ETA:   0:03:08"
     ]
    },
    {
     "name": "stdout",
     "output_type": "stream",
     "text": [
      " - Min (X): 2.634618798834178e-54\n",
      " - L1 NORM (X): 31.990411373064397\n"
     ]
    },
    {
     "name": "stderr",
     "output_type": "stream",
     "text": [
      "\r",
      "                                                                               \r",
      "\r",
      " 52% (79 of 150) |############           | Elapsed Time: 0:03:31 ETA:   0:02:48"
     ]
    },
    {
     "name": "stdout",
     "output_type": "stream",
     "text": [
      " - COST: 286.822016542756\n",
      "\n",
      " - CONVERGENCE TEST - \n",
      " - CHANGE IN COST: 0.001650738898672285\n",
      "\n",
      " - ITERATION: 81\n"
     ]
    },
    {
     "name": "stderr",
     "output_type": "stream",
     "text": [
      "\r",
      "                                                                               \r",
      "\r",
      " 52% (79 of 150) |############           | Elapsed Time: 0:03:31 ETA:   0:02:22"
     ]
    },
    {
     "name": "stdout",
     "output_type": "stream",
     "text": [
      " - DATA FIDELITY (X): 254.57757553121067\n"
     ]
    },
    {
     "name": "stderr",
     "output_type": "stream",
     "text": [
      "\r",
      "                                                                               \r",
      "\r",
      " 52% (79 of 150) |############           | Elapsed Time: 0:03:32 ETA:   0:03:06"
     ]
    },
    {
     "name": "stdout",
     "output_type": "stream",
     "text": [
      " - Min (X): 5.269237597668355e-55\n",
      " - L1 NORM (X): 32.022232829432376\n"
     ]
    },
    {
     "name": "stderr",
     "output_type": "stream",
     "text": [
      "\r",
      "                                                                               \r",
      "\r",
      " 53% (80 of 150) |############           | Elapsed Time: 0:03:33 ETA:   0:02:44"
     ]
    },
    {
     "name": "stdout",
     "output_type": "stream",
     "text": [
      " - COST: 286.59980836064307\n",
      "\n",
      " - ITERATION: 82\n"
     ]
    },
    {
     "name": "stderr",
     "output_type": "stream",
     "text": [
      "\r",
      "                                                                               \r",
      "\r",
      " 53% (80 of 150) |############           | Elapsed Time: 0:03:34 ETA:   0:02:20"
     ]
    },
    {
     "name": "stdout",
     "output_type": "stream",
     "text": [
      " - DATA FIDELITY (X): 254.33005177315908\n"
     ]
    },
    {
     "name": "stderr",
     "output_type": "stream",
     "text": [
      "\r",
      "                                                                               \r",
      "\r",
      " 53% (80 of 150) |############           | Elapsed Time: 0:03:34 ETA:   0:03:03"
     ]
    },
    {
     "name": "stdout",
     "output_type": "stream",
     "text": [
      " - Min (X): 1.0538475195336708e-55\n",
      " - L1 NORM (X): 32.05353805505872\n"
     ]
    },
    {
     "name": "stderr",
     "output_type": "stream",
     "text": [
      "\r",
      "                                                                               \r",
      "\r",
      " 54% (81 of 150) |############           | Elapsed Time: 0:03:36 ETA:   0:02:52"
     ]
    },
    {
     "name": "stdout",
     "output_type": "stream",
     "text": [
      " - COST: 286.3835898282178\n",
      "\n",
      " - ITERATION: 83\n"
     ]
    },
    {
     "name": "stderr",
     "output_type": "stream",
     "text": [
      "\r",
      "                                                                               \r",
      "\r",
      " 54% (81 of 150) |############           | Elapsed Time: 0:03:36 ETA:   0:02:28"
     ]
    },
    {
     "name": "stdout",
     "output_type": "stream",
     "text": [
      " - DATA FIDELITY (X): 254.08838442118656\n"
     ]
    },
    {
     "name": "stderr",
     "output_type": "stream",
     "text": [
      "\r",
      "                                                                               \r",
      "\r",
      " 54% (81 of 150) |############           | Elapsed Time: 0:03:37 ETA:   0:03:11"
     ]
    },
    {
     "name": "stdout",
     "output_type": "stream",
     "text": [
      " - Min (X): 2.107695039067341e-56\n",
      " - L1 NORM (X): 32.084289740997235\n"
     ]
    },
    {
     "name": "stderr",
     "output_type": "stream",
     "text": [
      "\r",
      "                                                                               \r",
      "\r",
      " 54% (82 of 150) |############           | Elapsed Time: 0:03:39 ETA:   0:02:53"
     ]
    },
    {
     "name": "stdout",
     "output_type": "stream",
     "text": [
      " - COST: 286.1726741621838\n",
      "\n",
      " - ITERATION: 84\n"
     ]
    },
    {
     "name": "stderr",
     "output_type": "stream",
     "text": [
      "\r",
      "                                                                               \r",
      "\r",
      " 54% (82 of 150) |############           | Elapsed Time: 0:03:39 ETA:   0:02:26"
     ]
    },
    {
     "name": "stdout",
     "output_type": "stream",
     "text": [
      " - DATA FIDELITY (X): 253.85244782901003\n"
     ]
    },
    {
     "name": "stderr",
     "output_type": "stream",
     "text": [
      "\r",
      "                                                                               \r",
      "\r",
      " 54% (82 of 150) |############           | Elapsed Time: 0:03:40 ETA:   0:03:09"
     ]
    },
    {
     "name": "stdout",
     "output_type": "stream",
     "text": [
      " - Min (X): 4.2153900781346814e-57\n",
      " - L1 NORM (X): 32.114518396058486\n"
     ]
    },
    {
     "name": "stderr",
     "output_type": "stream",
     "text": [
      "\r",
      "                                                                               \r",
      "\r",
      " 55% (83 of 150) |############           | Elapsed Time: 0:03:42 ETA:   0:02:38"
     ]
    },
    {
     "name": "stdout",
     "output_type": "stream",
     "text": [
      " - COST: 285.9669662250685\n",
      "\n",
      " - CONVERGENCE TEST - \n",
      " - CHANGE IN COST: 0.0014747410283222236\n",
      "\n",
      " - ITERATION: 85\n"
     ]
    },
    {
     "name": "stderr",
     "output_type": "stream",
     "text": [
      "\r",
      "                                                                               \r",
      "\r",
      " 55% (83 of 150) |############           | Elapsed Time: 0:03:42 ETA:   0:02:55"
     ]
    },
    {
     "name": "stdout",
     "output_type": "stream",
     "text": [
      " - DATA FIDELITY (X): 253.6234064990396\n"
     ]
    },
    {
     "name": "stderr",
     "output_type": "stream",
     "text": [
      "\r",
      "                                                                               \r",
      "\r",
      " 55% (83 of 150) |############           | Elapsed Time: 0:03:42 ETA:   0:02:55"
     ]
    },
    {
     "name": "stdout",
     "output_type": "stream",
     "text": [
      " - Min (X): 8.43078015626936e-58\n",
      " - L1 NORM (X): 32.144266266646376\n"
     ]
    },
    {
     "name": "stderr",
     "output_type": "stream",
     "text": [
      "\r",
      "                                                                               \r",
      "\r",
      " 56% (84 of 150) |############           | Elapsed Time: 0:03:44 ETA:   0:02:39"
     ]
    },
    {
     "name": "stdout",
     "output_type": "stream",
     "text": [
      " - COST: 285.767672765686\n",
      "\n",
      " - ITERATION: 86\n"
     ]
    },
    {
     "name": "stderr",
     "output_type": "stream",
     "text": [
      "\r",
      "                                                                               \r",
      "\r",
      " 56% (84 of 150) |############           | Elapsed Time: 0:03:45 ETA:   0:02:15"
     ]
    },
    {
     "name": "stdout",
     "output_type": "stream",
     "text": [
      " - DATA FIDELITY (X): 253.39982669947378\n"
     ]
    },
    {
     "name": "stderr",
     "output_type": "stream",
     "text": [
      "\r",
      "                                                                               \r",
      "\r",
      " 56% (84 of 150) |############           | Elapsed Time: 0:03:45 ETA:   0:02:55"
     ]
    },
    {
     "name": "stdout",
     "output_type": "stream",
     "text": [
      " - Min (X): 1.686156031253872e-58\n",
      " - L1 NORM (X): 32.17348955138247\n"
     ]
    },
    {
     "name": "stderr",
     "output_type": "stream",
     "text": [
      "\r",
      "                                                                               \r",
      "\r",
      " 56% (85 of 150) |#############          | Elapsed Time: 0:03:47 ETA:   0:02:32"
     ]
    },
    {
     "name": "stdout",
     "output_type": "stream",
     "text": [
      " - COST: 285.57331625085624\n",
      "\n",
      " - ITERATION: 87\n"
     ]
    },
    {
     "name": "stderr",
     "output_type": "stream",
     "text": [
      "\r",
      "                                                                               \r",
      "\r",
      " 56% (85 of 150) |#############          | Elapsed Time: 0:03:47 ETA:   0:02:48"
     ]
    },
    {
     "name": "stdout",
     "output_type": "stream",
     "text": [
      " - DATA FIDELITY (X): 253.18107366409166\n"
     ]
    },
    {
     "name": "stderr",
     "output_type": "stream",
     "text": [
      "\r",
      "                                                                               \r",
      "\r",
      " 56% (85 of 150) |#############          | Elapsed Time: 0:03:48 ETA:   0:02:50"
     ]
    },
    {
     "name": "stdout",
     "output_type": "stream",
     "text": [
      " - Min (X): 3.372312062507743e-59\n",
      " - L1 NORM (X): 32.20222388421385\n"
     ]
    },
    {
     "name": "stderr",
     "output_type": "stream",
     "text": [
      "\r",
      "                                                                               \r",
      "\r",
      " 57% (86 of 150) |#############          | Elapsed Time: 0:03:50 ETA:   0:02:32"
     ]
    },
    {
     "name": "stdout",
     "output_type": "stream",
     "text": [
      " - COST: 285.3832975483055\n",
      "\n",
      " - ITERATION: 88\n"
     ]
    },
    {
     "name": "stderr",
     "output_type": "stream",
     "text": [
      "\r",
      "                                                                               \r",
      "\r",
      " 57% (86 of 150) |#############          | Elapsed Time: 0:03:50 ETA:   0:02:48"
     ]
    },
    {
     "name": "stdout",
     "output_type": "stream",
     "text": [
      " - DATA FIDELITY (X): 252.96705704231115\n"
     ]
    },
    {
     "name": "stderr",
     "output_type": "stream",
     "text": [
      "\r",
      "                                                                               \r",
      "\r",
      " 57% (86 of 150) |#############          | Elapsed Time: 0:03:50 ETA:   0:02:46"
     ]
    },
    {
     "name": "stdout",
     "output_type": "stream",
     "text": [
      " - Min (X): 6.744624125015485e-60\n",
      " - L1 NORM (X): 32.23048466495991\n"
     ]
    },
    {
     "name": "stderr",
     "output_type": "stream",
     "text": [
      "\r",
      "                                                                               \r",
      "\r",
      " 57% (87 of 150) |#############          | Elapsed Time: 0:03:52 ETA:   0:02:29"
     ]
    },
    {
     "name": "stdout",
     "output_type": "stream",
     "text": [
      " - COST: 285.19754170727106\n",
      "\n",
      " - CONVERGENCE TEST - \n",
      " - CHANGE IN COST: 0.0013322384992059705\n",
      "\n",
      " - ITERATION: 89\n"
     ]
    },
    {
     "name": "stderr",
     "output_type": "stream",
     "text": [
      "\r",
      "                                                                               \r",
      "\r",
      " 57% (87 of 150) |#############          | Elapsed Time: 0:03:52 ETA:   0:02:06"
     ]
    },
    {
     "name": "stdout",
     "output_type": "stream",
     "text": [
      " - DATA FIDELITY (X): 252.75768334078734\n"
     ]
    },
    {
     "name": "stderr",
     "output_type": "stream",
     "text": [
      "\r",
      "                                                                               \r",
      "\r",
      " 57% (87 of 150) |#############          | Elapsed Time: 0:03:53 ETA:   0:02:45"
     ]
    },
    {
     "name": "stdout",
     "output_type": "stream",
     "text": [
      " - Min (X): 1.3489248250030966e-60\n",
      " - L1 NORM (X): 32.25827797575954\n"
     ]
    },
    {
     "name": "stderr",
     "output_type": "stream",
     "text": [
      "\r",
      "                                                                               \r",
      "\r",
      " 58% (88 of 150) |#############          | Elapsed Time: 0:03:55 ETA:   0:02:26"
     ]
    },
    {
     "name": "stdout",
     "output_type": "stream",
     "text": [
      " - COST: 285.01596131654685\n",
      "\n",
      " - ITERATION: 90\n"
     ]
    },
    {
     "name": "stderr",
     "output_type": "stream",
     "text": [
      "\r",
      "                                                                               \r",
      "\r",
      " 58% (88 of 150) |#############          | Elapsed Time: 0:03:55 ETA:   0:02:41"
     ]
    },
    {
     "name": "stdout",
     "output_type": "stream",
     "text": [
      " - DATA FIDELITY (X): 252.55283004430933\n"
     ]
    },
    {
     "name": "stderr",
     "output_type": "stream",
     "text": [
      "\r",
      "                                                                               \r",
      "\r",
      " 58% (88 of 150) |#############          | Elapsed Time: 0:03:56 ETA:   0:02:41"
     ]
    },
    {
     "name": "stdout",
     "output_type": "stream",
     "text": [
      " - Min (X): 2.6978496500061926e-61\n",
      " - L1 NORM (X): 32.28560718056835\n"
     ]
    },
    {
     "name": "stderr",
     "output_type": "stream",
     "text": [
      "\r",
      "                                                                               \r",
      "\r",
      " 59% (89 of 150) |#############          | Elapsed Time: 0:03:57 ETA:   0:02:25"
     ]
    },
    {
     "name": "stdout",
     "output_type": "stream",
     "text": [
      " - COST: 284.8384372248777\n",
      "\n",
      " - ITERATION: 91\n"
     ]
    },
    {
     "name": "stderr",
     "output_type": "stream",
     "text": [
      "\r",
      "                                                                               \r",
      "\r",
      " 59% (89 of 150) |#############          | Elapsed Time: 0:03:58 ETA:   0:02:38"
     ]
    },
    {
     "name": "stdout",
     "output_type": "stream",
     "text": [
      " - DATA FIDELITY (X): 252.35224553281896\n"
     ]
    },
    {
     "name": "stderr",
     "output_type": "stream",
     "text": [
      "\r",
      "                                                                               \r",
      "\r",
      " 59% (89 of 150) |#############          | Elapsed Time: 0:03:58 ETA:   0:02:39"
     ]
    },
    {
     "name": "stdout",
     "output_type": "stream",
     "text": [
      " - Min (X): 5.395699300012384e-62\n",
      " - L1 NORM (X): 32.312509840729604\n"
     ]
    },
    {
     "name": "stderr",
     "output_type": "stream",
     "text": [
      "\r",
      "                                                                               \r",
      "\r",
      " 60% (90 of 150) |#############          | Elapsed Time: 0:04:00 ETA:   0:02:21"
     ]
    },
    {
     "name": "stdout",
     "output_type": "stream",
     "text": [
      " - COST: 284.6647553735486\n",
      "\n",
      " - ITERATION: 92\n"
     ]
    },
    {
     "name": "stderr",
     "output_type": "stream",
     "text": [
      "\r",
      "                                                                               \r",
      "\r",
      " 60% (90 of 150) |#############          | Elapsed Time: 0:04:00 ETA:   0:02:37"
     ]
    },
    {
     "name": "stdout",
     "output_type": "stream",
     "text": [
      " - DATA FIDELITY (X): 252.15626587865458\n"
     ]
    },
    {
     "name": "stderr",
     "output_type": "stream",
     "text": [
      "\r",
      "                                                                               \r",
      "\r",
      " 60% (90 of 150) |#############          | Elapsed Time: 0:04:01 ETA:   0:02:36"
     ]
    },
    {
     "name": "stdout",
     "output_type": "stream",
     "text": [
      " - Min (X): 1.0791398600024766e-62\n",
      " - L1 NORM (X): 32.33901176741238\n"
     ]
    },
    {
     "name": "stderr",
     "output_type": "stream",
     "text": [
      "\r",
      "                                                                               \r",
      "\r",
      " 60% (91 of 150) |#############          | Elapsed Time: 0:04:03 ETA:   0:02:18"
     ]
    },
    {
     "name": "stdout",
     "output_type": "stream",
     "text": [
      " - COST: 284.49527764606694\n",
      "\n",
      " - CONVERGENCE TEST - \n",
      " - CHANGE IN COST: 0.0012199829248816453\n",
      "\n",
      " - ITERATION: 93\n"
     ]
    },
    {
     "name": "stderr",
     "output_type": "stream",
     "text": [
      "\r",
      "                                                                               \r",
      "\r",
      " 60% (91 of 150) |#############          | Elapsed Time: 0:04:03 ETA:   0:02:33"
     ]
    },
    {
     "name": "stdout",
     "output_type": "stream",
     "text": [
      " - DATA FIDELITY (X): 251.96432320009592\n"
     ]
    },
    {
     "name": "stderr",
     "output_type": "stream",
     "text": [
      "\r",
      "                                                                               \r",
      "\r",
      " 60% (91 of 150) |#############          | Elapsed Time: 0:04:03 ETA:   0:02:33"
     ]
    },
    {
     "name": "stdout",
     "output_type": "stream",
     "text": [
      " - Min (X): 2.1582797200049526e-63\n",
      " - L1 NORM (X): 32.36505770596557\n"
     ]
    },
    {
     "name": "stderr",
     "output_type": "stream",
     "text": [
      "\r",
      "                                                                               \r",
      "\r",
      " 61% (92 of 150) |##############         | Elapsed Time: 0:04:05 ETA:   0:02:17"
     ]
    },
    {
     "name": "stdout",
     "output_type": "stream",
     "text": [
      " - COST: 284.3293809060615\n",
      "\n",
      " - ITERATION: 94\n"
     ]
    },
    {
     "name": "stderr",
     "output_type": "stream",
     "text": [
      "\r",
      "                                                                               \r",
      "\r",
      " 61% (92 of 150) |##############         | Elapsed Time: 0:04:05 ETA:   0:02:31"
     ]
    },
    {
     "name": "stdout",
     "output_type": "stream",
     "text": [
      " - DATA FIDELITY (X): 251.7761157044901\n"
     ]
    },
    {
     "name": "stderr",
     "output_type": "stream",
     "text": [
      "\r",
      "                                                                               \r",
      "\r",
      " 61% (92 of 150) |##############         | Elapsed Time: 0:04:06 ETA:   0:02:32"
     ]
    },
    {
     "name": "stdout",
     "output_type": "stream",
     "text": [
      " - Min (X): 4.3165594400099045e-64\n",
      " - L1 NORM (X): 32.39064767591045\n"
     ]
    },
    {
     "name": "stderr",
     "output_type": "stream",
     "text": [
      "\r",
      "                                                                               \r",
      "\r",
      " 62% (93 of 150) |##############         | Elapsed Time: 0:04:08 ETA:   0:02:15"
     ]
    },
    {
     "name": "stdout",
     "output_type": "stream",
     "text": [
      " - COST: 284.16676338040054\n",
      "\n",
      " - ITERATION: 95\n"
     ]
    },
    {
     "name": "stderr",
     "output_type": "stream",
     "text": [
      "\r",
      "                                                                               \r",
      "\r",
      " 62% (93 of 150) |##############         | Elapsed Time: 0:04:08 ETA:   0:02:29"
     ]
    },
    {
     "name": "stdout",
     "output_type": "stream",
     "text": [
      " - DATA FIDELITY (X): 251.5915181977745\n"
     ]
    },
    {
     "name": "stderr",
     "output_type": "stream",
     "text": [
      "\r",
      "                                                                               \r",
      "\r",
      " 62% (93 of 150) |##############         | Elapsed Time: 0:04:09 ETA:   0:02:28"
     ]
    },
    {
     "name": "stdout",
     "output_type": "stream",
     "text": [
      " - Min (X): 8.633118880019807e-65\n",
      " - L1 NORM (X): 32.415786971078234\n"
     ]
    },
    {
     "name": "stderr",
     "output_type": "stream",
     "text": [
      "\r",
      "                                                                               \r",
      "\r",
      " 62% (94 of 150) |##############         | Elapsed Time: 0:04:10 ETA:   0:02:15"
     ]
    },
    {
     "name": "stdout",
     "output_type": "stream",
     "text": [
      " - COST: 284.0073051688527\n",
      "\n",
      " - ITERATION: 96\n"
     ]
    },
    {
     "name": "stderr",
     "output_type": "stream",
     "text": [
      "\r",
      "                                                                               \r",
      "\r",
      " 62% (94 of 150) |##############         | Elapsed Time: 0:04:11 ETA:   0:01:54"
     ]
    },
    {
     "name": "stdout",
     "output_type": "stream",
     "text": [
      " - DATA FIDELITY (X): 251.41053863849496\n"
     ]
    },
    {
     "name": "stderr",
     "output_type": "stream",
     "text": [
      "\r",
      "                                                                               \r",
      "\r",
      " 62% (94 of 150) |##############         | Elapsed Time: 0:04:11 ETA:   0:02:29"
     ]
    },
    {
     "name": "stdout",
     "output_type": "stream",
     "text": [
      " - Min (X): 1.7266237760039609e-65\n",
      " - L1 NORM (X): 32.440522650505905\n"
     ]
    },
    {
     "name": "stderr",
     "output_type": "stream",
     "text": [
      "\r",
      "                                                                               \r",
      "\r",
      " 63% (95 of 150) |##############         | Elapsed Time: 0:04:13 ETA:   0:02:11"
     ]
    },
    {
     "name": "stdout",
     "output_type": "stream",
     "text": [
      " - COST: 283.8510612890009\n",
      "\n",
      " - CONVERGENCE TEST - \n",
      " - CHANGE IN COST: 0.0011231283472790037\n",
      "\n",
      " - ITERATION: 97\n"
     ]
    },
    {
     "name": "stderr",
     "output_type": "stream",
     "text": [
      "\r",
      "                                                                               \r",
      "\r",
      " 63% (95 of 150) |##############         | Elapsed Time: 0:04:13 ETA:   0:01:50"
     ]
    },
    {
     "name": "stdout",
     "output_type": "stream",
     "text": [
      " - DATA FIDELITY (X): 251.23295157322593\n"
     ]
    },
    {
     "name": "stderr",
     "output_type": "stream",
     "text": [
      "\r",
      "                                                                               \r",
      "\r",
      " 63% (95 of 150) |##############         | Elapsed Time: 0:04:14 ETA:   0:02:25"
     ]
    },
    {
     "name": "stdout",
     "output_type": "stream",
     "text": [
      " - Min (X): 3.453247552007921e-66\n",
      " - L1 NORM (X): 32.464882210061326\n"
     ]
    },
    {
     "name": "stderr",
     "output_type": "stream",
     "text": [
      "\r",
      "                                                                               \r",
      "\r",
      " 64% (96 of 150) |##############         | Elapsed Time: 0:04:16 ETA:   0:02:07"
     ]
    },
    {
     "name": "stdout",
     "output_type": "stream",
     "text": [
      " - COST: 283.69783378328725\n",
      "\n",
      " - ITERATION: 98\n"
     ]
    },
    {
     "name": "stderr",
     "output_type": "stream",
     "text": [
      "\r",
      "                                                                               \r",
      "\r",
      " 64% (96 of 150) |##############         | Elapsed Time: 0:04:16 ETA:   0:02:21"
     ]
    },
    {
     "name": "stdout",
     "output_type": "stream",
     "text": [
      " - DATA FIDELITY (X): 251.05859726270924\n"
     ]
    },
    {
     "name": "stderr",
     "output_type": "stream",
     "text": [
      "\r",
      "                                                                               \r",
      "\r",
      " 64% (96 of 150) |##############         | Elapsed Time: 0:04:17 ETA:   0:02:22"
     ]
    },
    {
     "name": "stdout",
     "output_type": "stream",
     "text": [
      " - Min (X): 6.906495104015841e-67\n",
      " - L1 NORM (X): 32.48886031061646\n"
     ]
    },
    {
     "name": "stderr",
     "output_type": "stream",
     "text": [
      "\r",
      "                                                                               \r",
      "\r",
      " 64% (97 of 150) |##############         | Elapsed Time: 0:04:18 ETA:   0:02:07"
     ]
    },
    {
     "name": "stdout",
     "output_type": "stream",
     "text": [
      " - COST: 283.5474575733257\n",
      "\n",
      " - ITERATION: 99\n"
     ]
    },
    {
     "name": "stderr",
     "output_type": "stream",
     "text": [
      "\r",
      "                                                                               \r",
      "\r",
      " 64% (97 of 150) |##############         | Elapsed Time: 0:04:19 ETA:   0:01:46"
     ]
    },
    {
     "name": "stdout",
     "output_type": "stream",
     "text": [
      " - DATA FIDELITY (X): 250.88775694288572\n"
     ]
    },
    {
     "name": "stderr",
     "output_type": "stream",
     "text": [
      "\r",
      "                                                                               \r",
      "\r",
      " 64% (97 of 150) |##############         | Elapsed Time: 0:04:19 ETA:   0:02:19"
     ]
    },
    {
     "name": "stdout",
     "output_type": "stream",
     "text": [
      " - Min (X): 1.3812990208031679e-67\n",
      " - L1 NORM (X): 32.512438050909765\n"
     ]
    },
    {
     "name": "stderr",
     "output_type": "stream",
     "text": [
      "\r",
      "                                                                               \r",
      "\r",
      " 65% (98 of 150) |###############        | Elapsed Time: 0:04:21 ETA:   0:02:02"
     ]
    },
    {
     "name": "stdout",
     "output_type": "stream",
     "text": [
      " - COST: 283.4001949937955\n",
      "\n",
      " - ITERATION: 100\n"
     ]
    },
    {
     "name": "stderr",
     "output_type": "stream",
     "text": [
      "\r",
      "                                                                               \r",
      "\r",
      " 65% (98 of 150) |###############        | Elapsed Time: 0:04:21 ETA:   0:02:14"
     ]
    },
    {
     "name": "stdout",
     "output_type": "stream",
     "text": [
      " - DATA FIDELITY (X): 250.72014576903575\n"
     ]
    },
    {
     "name": "stderr",
     "output_type": "stream",
     "text": [
      "\r",
      "                                                                               \r",
      "\r",
      " 65% (98 of 150) |###############        | Elapsed Time: 0:04:22 ETA:   0:02:14"
     ]
    },
    {
     "name": "stdout",
     "output_type": "stream",
     "text": [
      " - Min (X): 2.7625980416063353e-68\n",
      " - L1 NORM (X): 32.535657168433794\n"
     ]
    },
    {
     "name": "stderr",
     "output_type": "stream",
     "text": [
      "\r",
      "                                                                               \r",
      "\r",
      " 66% (99 of 150) |###############        | Elapsed Time: 0:04:26 ETA:   0:03:46"
     ]
    },
    {
     "name": "stdout",
     "output_type": "stream",
     "text": [
      " - COST: 283.2558029374695\n",
      "\n",
      " - CONVERGENCE TEST - \n",
      " - CHANGE IN COST: 0.0010399491534534386\n",
      "\n",
      " - ITERATION: 101\n"
     ]
    },
    {
     "name": "stderr",
     "output_type": "stream",
     "text": [
      "\r",
      "                                                                               \r",
      "\r",
      " 66% (99 of 150) |###############        | Elapsed Time: 0:04:27 ETA:   0:03:58"
     ]
    },
    {
     "name": "stdout",
     "output_type": "stream",
     "text": [
      " - DATA FIDELITY (X): 250.55555294808582\n"
     ]
    },
    {
     "name": "stderr",
     "output_type": "stream",
     "text": [
      "\r",
      "                                                                               \r",
      "\r",
      " 66% (99 of 150) |###############        | Elapsed Time: 0:04:27 ETA:   0:04:38"
     ]
    },
    {
     "name": "stdout",
     "output_type": "stream",
     "text": [
      " - Min (X): 5.52519608321267e-69\n",
      " - L1 NORM (X): 32.55853979144701\n"
     ]
    },
    {
     "name": "stderr",
     "output_type": "stream",
     "text": [
      "\r",
      "                                                                               \r",
      "\r",
      " 66% (100 of 150) |##############        | Elapsed Time: 0:04:29 ETA:   0:02:11"
     ]
    },
    {
     "name": "stdout",
     "output_type": "stream",
     "text": [
      " - COST: 283.11409273953285\n",
      "\n",
      " - ITERATION: 102\n"
     ]
    },
    {
     "name": "stderr",
     "output_type": "stream",
     "text": [
      "\r",
      "                                                                               \r",
      "\r",
      " 66% (100 of 150) |##############        | Elapsed Time: 0:04:29 ETA:   0:01:45"
     ]
    },
    {
     "name": "stdout",
     "output_type": "stream",
     "text": [
      " - DATA FIDELITY (X): 250.39395659379377\n"
     ]
    },
    {
     "name": "stderr",
     "output_type": "stream",
     "text": [
      "\r",
      "                                                                               \r",
      "\r",
      " 66% (100 of 150) |##############        | Elapsed Time: 0:04:30 ETA:   0:02:17"
     ]
    },
    {
     "name": "stdout",
     "output_type": "stream",
     "text": [
      " - Min (X): 1.1050392166425336e-69\n",
      " - L1 NORM (X): 32.58110042314454\n"
     ]
    },
    {
     "name": "stderr",
     "output_type": "stream",
     "text": [
      "\r",
      "                                                                               \r",
      "\r",
      " 67% (101 of 150) |##############        | Elapsed Time: 0:04:32 ETA:   0:01:57"
     ]
    },
    {
     "name": "stdout",
     "output_type": "stream",
     "text": [
      " - COST: 282.9750570169383\n",
      "\n",
      " - ITERATION: 103\n"
     ]
    },
    {
     "name": "stderr",
     "output_type": "stream",
     "text": [
      "\r",
      "                                                                               \r",
      "\r",
      " 67% (101 of 150) |##############        | Elapsed Time: 0:04:32 ETA:   0:02:08"
     ]
    },
    {
     "name": "stdout",
     "output_type": "stream",
     "text": [
      " - DATA FIDELITY (X): 250.23547023872018\n"
     ]
    },
    {
     "name": "stderr",
     "output_type": "stream",
     "text": [
      "\r",
      "                                                                               \r",
      "\r",
      " 67% (101 of 150) |##############        | Elapsed Time: 0:04:33 ETA:   0:02:08"
     ]
    },
    {
     "name": "stdout",
     "output_type": "stream",
     "text": [
      " - Min (X): 2.2100784332850668e-70\n",
      " - L1 NORM (X): 32.60336374671488\n"
     ]
    },
    {
     "name": "stderr",
     "output_type": "stream",
     "text": [
      "\r",
      "                                                                               \r",
      "\r",
      " 68% (102 of 150) |##############        | Elapsed Time: 0:04:34 ETA:   0:01:53"
     ]
    },
    {
     "name": "stdout",
     "output_type": "stream",
     "text": [
      " - COST: 282.83883398543503\n",
      "\n",
      " - ITERATION: 104\n"
     ]
    },
    {
     "name": "stderr",
     "output_type": "stream",
     "text": [
      "\r",
      "                                                                               \r",
      "\r",
      " 68% (102 of 150) |##############        | Elapsed Time: 0:04:35 ETA:   0:02:05"
     ]
    },
    {
     "name": "stdout",
     "output_type": "stream",
     "text": [
      " - DATA FIDELITY (X): 250.0798353057226\n"
     ]
    },
    {
     "name": "stderr",
     "output_type": "stream",
     "text": [
      "\r",
      "                                                                               \r",
      "\r",
      " 68% (102 of 150) |##############        | Elapsed Time: 0:04:35 ETA:   0:02:05"
     ]
    },
    {
     "name": "stdout",
     "output_type": "stream",
     "text": [
      " - Min (X): 4.420156866570133e-71\n",
      " - L1 NORM (X): 32.62530500153133\n"
     ]
    },
    {
     "name": "stderr",
     "output_type": "stream",
     "text": [
      "\r",
      "                                                                               \r",
      "\r",
      " 68% (103 of 150) |###############       | Elapsed Time: 0:04:37 ETA:   0:01:51"
     ]
    },
    {
     "name": "stdout",
     "output_type": "stream",
     "text": [
      " - COST: 282.70514030725394\n",
      "\n",
      " - CONVERGENCE TEST - \n",
      " - CHANGE IN COST: 0.0009639842144266145\n",
      "\n",
      " - ITERATION: 105\n"
     ]
    },
    {
     "name": "stderr",
     "output_type": "stream",
     "text": [
      "\r",
      "                                                                               \r",
      "\r",
      " 68% (103 of 150) |###############       | Elapsed Time: 0:04:37 ETA:   0:02:02"
     ]
    },
    {
     "name": "stdout",
     "output_type": "stream",
     "text": [
      " - DATA FIDELITY (X): 249.9270639128875\n"
     ]
    },
    {
     "name": "stderr",
     "output_type": "stream",
     "text": [
      "\r",
      "                                                                               \r",
      "\r",
      " 68% (103 of 150) |###############       | Elapsed Time: 0:04:38 ETA:   0:02:02"
     ]
    },
    {
     "name": "stdout",
     "output_type": "stream",
     "text": [
      " - Min (X): 8.840313733140264e-72\n",
      " - L1 NORM (X): 32.64693383949774\n"
     ]
    },
    {
     "name": "stderr",
     "output_type": "stream",
     "text": [
      "\r",
      "                                                                               \r",
      "\r",
      " 69% (104 of 150) |###############       | Elapsed Time: 0:04:40 ETA:   0:01:48"
     ]
    },
    {
     "name": "stdout",
     "output_type": "stream",
     "text": [
      " - COST: 282.57399775238525\n",
      "\n",
      " - ITERATION: 106\n"
     ]
    },
    {
     "name": "stderr",
     "output_type": "stream",
     "text": [
      "\r",
      "                                                                               \r",
      "\r",
      " 69% (104 of 150) |###############       | Elapsed Time: 0:04:40 ETA:   0:01:59"
     ]
    },
    {
     "name": "stdout",
     "output_type": "stream",
     "text": [
      " - DATA FIDELITY (X): 249.77723739650187\n"
     ]
    },
    {
     "name": "stderr",
     "output_type": "stream",
     "text": [
      "\r",
      "                                                                               \r",
      "\r",
      " 69% (104 of 150) |###############       | Elapsed Time: 0:04:41 ETA:   0:02:00"
     ]
    },
    {
     "name": "stdout",
     "output_type": "stream",
     "text": [
      " - Min (X): 1.7680627466280524e-72\n",
      " - L1 NORM (X): 32.66825377666445\n"
     ]
    },
    {
     "name": "stderr",
     "output_type": "stream",
     "text": [
      "\r",
      "                                                                               \r",
      "\r",
      " 70% (105 of 150) |###############       | Elapsed Time: 0:04:42 ETA:   0:01:49"
     ]
    },
    {
     "name": "stdout",
     "output_type": "stream",
     "text": [
      " - COST: 282.4454911731663\n",
      "\n",
      " - ITERATION: 107\n"
     ]
    },
    {
     "name": "stderr",
     "output_type": "stream",
     "text": [
      "\r",
      "                                                                               \r",
      "\r",
      " 70% (105 of 150) |###############       | Elapsed Time: 0:04:43 ETA:   0:01:32"
     ]
    },
    {
     "name": "stdout",
     "output_type": "stream",
     "text": [
      " - DATA FIDELITY (X): 249.6302539595621\n"
     ]
    },
    {
     "name": "stderr",
     "output_type": "stream",
     "text": [
      "\r",
      "                                                                               \r",
      "\r",
      " 70% (105 of 150) |###############       | Elapsed Time: 0:04:43 ETA:   0:02:00"
     ]
    },
    {
     "name": "stdout",
     "output_type": "stream",
     "text": [
      " - Min (X): 3.536125493256104e-73\n",
      " - L1 NORM (X): 32.689257729784\n"
     ]
    },
    {
     "name": "stderr",
     "output_type": "stream",
     "text": [
      "\r",
      "                                                                               \r",
      "\r",
      " 70% (106 of 150) |###############       | Elapsed Time: 0:04:45 ETA:   0:01:45"
     ]
    },
    {
     "name": "stdout",
     "output_type": "stream",
     "text": [
      " - COST: 282.3195116893461\n",
      "\n",
      " - ITERATION: 108\n"
     ]
    },
    {
     "name": "stderr",
     "output_type": "stream",
     "text": [
      "\r",
      "                                                                               \r",
      "\r",
      " 70% (106 of 150) |###############       | Elapsed Time: 0:04:45 ETA:   0:01:54"
     ]
    },
    {
     "name": "stdout",
     "output_type": "stream",
     "text": [
      " - DATA FIDELITY (X): 249.48571180974403\n"
     ]
    },
    {
     "name": "stderr",
     "output_type": "stream",
     "text": [
      "\r",
      "                                                                               \r",
      "\r",
      " 70% (106 of 150) |###############       | Elapsed Time: 0:04:46 ETA:   0:01:55"
     ]
    },
    {
     "name": "stdout",
     "output_type": "stream",
     "text": [
      " - Min (X): 7.072250986512206e-74\n",
      " - L1 NORM (X): 32.709936218728764\n"
     ]
    },
    {
     "name": "stderr",
     "output_type": "stream",
     "text": [
      "\r",
      "                                                                               \r",
      "\r",
      " 71% (107 of 150) |###############       | Elapsed Time: 0:04:48 ETA:   0:01:42"
     ]
    },
    {
     "name": "stdout",
     "output_type": "stream",
     "text": [
      " - COST: 282.1956480284728\n",
      "\n",
      " - CONVERGENCE TEST - \n",
      " - CHANGE IN COST: 0.0008933847019886045\n",
      "\n",
      " - ITERATION: 109\n"
     ]
    },
    {
     "name": "stderr",
     "output_type": "stream",
     "text": [
      "\r",
      "                                                                               \r",
      "\r",
      " 71% (107 of 150) |###############       | Elapsed Time: 0:04:48 ETA:   0:01:27"
     ]
    },
    {
     "name": "stdout",
     "output_type": "stream",
     "text": [
      " - DATA FIDELITY (X): 249.34371463753158\n"
     ]
    },
    {
     "name": "stderr",
     "output_type": "stream",
     "text": [
      "\r",
      "                                                                               \r",
      "\r",
      " 71% (107 of 150) |###############       | Elapsed Time: 0:04:49 ETA:   0:02:01"
     ]
    },
    {
     "name": "stdout",
     "output_type": "stream",
     "text": [
      " - Min (X): 1.4144501973024408e-74\n",
      " - L1 NORM (X): 32.730336310121686\n"
     ]
    },
    {
     "name": "stderr",
     "output_type": "stream",
     "text": [
      "\r",
      "                                                                               \r",
      "\r",
      " 72% (108 of 150) |###############       | Elapsed Time: 0:04:50 ETA:   0:01:46"
     ]
    },
    {
     "name": "stdout",
     "output_type": "stream",
     "text": [
      " - COST: 282.0740509476533\n",
      "\n",
      " - ITERATION: 110\n"
     ]
    },
    {
     "name": "stderr",
     "output_type": "stream",
     "text": [
      "\r",
      "                                                                               \r",
      "\r",
      " 72% (108 of 150) |###############       | Elapsed Time: 0:04:51 ETA:   0:01:56"
     ]
    },
    {
     "name": "stdout",
     "output_type": "stream",
     "text": [
      " - DATA FIDELITY (X): 249.20407192789065\n"
     ]
    },
    {
     "name": "stderr",
     "output_type": "stream",
     "text": [
      "\r",
      "                                                                               \r",
      "\r",
      " 72% (108 of 150) |###############       | Elapsed Time: 0:04:51 ETA:   0:01:49"
     ]
    },
    {
     "name": "stdout",
     "output_type": "stream",
     "text": [
      " - Min (X): 2.828900394604881e-75\n",
      " - L1 NORM (X): 32.750433177313404\n"
     ]
    },
    {
     "name": "stderr",
     "output_type": "stream",
     "text": [
      "\r",
      "                                                                               \r",
      "\r",
      " 72% (109 of 150) |###############       | Elapsed Time: 0:04:53 ETA:   0:01:36"
     ]
    },
    {
     "name": "stdout",
     "output_type": "stream",
     "text": [
      " - COST: 281.9545051052041\n",
      "\n",
      " - ITERATION: 111\n"
     ]
    },
    {
     "name": "stderr",
     "output_type": "stream",
     "text": [
      "\r",
      "                                                                               \r",
      "\r",
      " 72% (109 of 150) |###############       | Elapsed Time: 0:04:53 ETA:   0:01:47"
     ]
    },
    {
     "name": "stdout",
     "output_type": "stream",
     "text": [
      " - DATA FIDELITY (X): 249.0667277244706\n"
     ]
    },
    {
     "name": "stderr",
     "output_type": "stream",
     "text": [
      "\r",
      "                                                                               \r",
      "\r",
      " 72% (109 of 150) |###############       | Elapsed Time: 0:04:54 ETA:   0:01:47"
     ]
    },
    {
     "name": "stdout",
     "output_type": "stream",
     "text": [
      " - Min (X): 5.657800789209762e-76\n",
      " - L1 NORM (X): 32.77021416155571\n"
     ]
    },
    {
     "name": "stderr",
     "output_type": "stream",
     "text": [
      "\r",
      "                                                                               \r",
      "\r",
      " 73% (110 of 150) |################      | Elapsed Time: 0:04:56 ETA:   0:01:35"
     ]
    },
    {
     "name": "stdout",
     "output_type": "stream",
     "text": [
      " - COST: 281.8369418860263\n",
      "\n",
      " - ITERATION: 112\n"
     ]
    },
    {
     "name": "stderr",
     "output_type": "stream",
     "text": [
      "\r",
      "                                                                               \r",
      "\r",
      " 73% (110 of 150) |################      | Elapsed Time: 0:04:56 ETA:   0:01:45"
     ]
    },
    {
     "name": "stdout",
     "output_type": "stream",
     "text": [
      " - DATA FIDELITY (X): 248.93201875058344\n"
     ]
    },
    {
     "name": "stderr",
     "output_type": "stream",
     "text": [
      "\r",
      "                                                                               \r",
      "\r",
      " 73% (110 of 150) |################      | Elapsed Time: 0:04:57 ETA:   0:01:45"
     ]
    },
    {
     "name": "stdout",
     "output_type": "stream",
     "text": [
      " - Min (X): 1.131560157841952e-76\n",
      " - L1 NORM (X): 32.78976561226992\n"
     ]
    },
    {
     "name": "stderr",
     "output_type": "stream",
     "text": [
      "\r",
      "                                                                               \r",
      "\r",
      " 74% (111 of 150) |################      | Elapsed Time: 0:04:58 ETA:   0:01:33"
     ]
    },
    {
     "name": "stdout",
     "output_type": "stream",
     "text": [
      " - COST: 281.7217843628533\n",
      "\n",
      " - CONVERGENCE TEST - \n",
      " - CHANGE IN COST: 0.0008336838417976314\n",
      "\n",
      " - ITERATION: 113\n"
     ]
    },
    {
     "name": "stderr",
     "output_type": "stream",
     "text": [
      "\r",
      "                                                                               \r",
      "\r",
      " 74% (111 of 150) |################      | Elapsed Time: 0:04:59 ETA:   0:01:18"
     ]
    },
    {
     "name": "stdout",
     "output_type": "stream",
     "text": [
      " - DATA FIDELITY (X): 248.79953749231228\n"
     ]
    },
    {
     "name": "stderr",
     "output_type": "stream",
     "text": [
      "\r",
      "                                                                               \r",
      "\r",
      " 74% (111 of 150) |################      | Elapsed Time: 0:04:59 ETA:   0:01:42"
     ]
    },
    {
     "name": "stdout",
     "output_type": "stream",
     "text": [
      " - Min (X): 2.2631203156839037e-77\n",
      " - L1 NORM (X): 32.809000876381965\n"
     ]
    },
    {
     "name": "stderr",
     "output_type": "stream",
     "text": [
      "\r",
      "                                                                               \r",
      "\r",
      " 74% (112 of 150) |################      | Elapsed Time: 0:05:01 ETA:   0:01:30"
     ]
    },
    {
     "name": "stdout",
     "output_type": "stream",
     "text": [
      " - COST: 281.60853836869427\n",
      "\n",
      " - ITERATION: 114\n"
     ]
    },
    {
     "name": "stderr",
     "output_type": "stream",
     "text": [
      "\r",
      "                                                                               \r",
      "\r",
      " 74% (112 of 150) |################      | Elapsed Time: 0:05:01 ETA:   0:01:16"
     ]
    },
    {
     "name": "stdout",
     "output_type": "stream",
     "text": [
      " - DATA FIDELITY (X): 248.669218923147\n"
     ]
    },
    {
     "name": "stderr",
     "output_type": "stream",
     "text": [
      "\r",
      "                                                                               \r",
      "\r",
      " 74% (112 of 150) |################      | Elapsed Time: 0:05:02 ETA:   0:01:40"
     ]
    },
    {
     "name": "stdout",
     "output_type": "stream",
     "text": [
      " - Min (X): 4.526240631367807e-78\n",
      " - L1 NORM (X): 32.82795350249179\n"
     ]
    },
    {
     "name": "stderr",
     "output_type": "stream",
     "text": [
      "\r",
      "                                                                               \r",
      "\r",
      " 75% (113 of 150) |################      | Elapsed Time: 0:05:04 ETA:   0:01:27"
     ]
    },
    {
     "name": "stdout",
     "output_type": "stream",
     "text": [
      " - COST: 281.4971724256388\n",
      "\n",
      " - ITERATION: 115\n"
     ]
    },
    {
     "name": "stderr",
     "output_type": "stream",
     "text": [
      "\r",
      "                                                                               \r",
      "\r",
      " 75% (113 of 150) |################      | Elapsed Time: 0:05:04 ETA:   0:01:36"
     ]
    },
    {
     "name": "stdout",
     "output_type": "stream",
     "text": [
      " - DATA FIDELITY (X): 248.54095460363746\n"
     ]
    },
    {
     "name": "stderr",
     "output_type": "stream",
     "text": [
      "\r",
      "                                                                               \r",
      "\r",
      " 75% (113 of 150) |################      | Elapsed Time: 0:05:04 ETA:   0:01:37"
     ]
    },
    {
     "name": "stdout",
     "output_type": "stream",
     "text": [
      " - Min (X): 9.052481262735611e-79\n",
      " - L1 NORM (X): 32.84662610993225\n"
     ]
    },
    {
     "name": "stderr",
     "output_type": "stream",
     "text": [
      "\r",
      "                                                                               \r",
      "\r",
      " 76% (114 of 150) |################      | Elapsed Time: 0:05:06 ETA:   0:01:25"
     ]
    },
    {
     "name": "stdout",
     "output_type": "stream",
     "text": [
      " - COST: 281.3875807135697\n",
      "\n",
      " - ITERATION: 116\n"
     ]
    },
    {
     "name": "stderr",
     "output_type": "stream",
     "text": [
      "\r",
      "                                                                               \r",
      "\r",
      " 76% (114 of 150) |################      | Elapsed Time: 0:05:06 ETA:   0:01:34"
     ]
    },
    {
     "name": "stdout",
     "output_type": "stream",
     "text": [
      " - DATA FIDELITY (X): 248.41480178806188\n"
     ]
    },
    {
     "name": "stderr",
     "output_type": "stream",
     "text": [
      "\r",
      "                                                                               \r",
      "\r",
      " 76% (114 of 150) |################      | Elapsed Time: 0:05:07 ETA:   0:01:34"
     ]
    },
    {
     "name": "stdout",
     "output_type": "stream",
     "text": [
      " - Min (X): 1.8104962525471218e-79\n",
      " - L1 NORM (X): 32.86503937639321\n"
     ]
    },
    {
     "name": "stderr",
     "output_type": "stream",
     "text": [
      "\r",
      "                                                                               \r",
      "\r",
      " 76% (115 of 150) |################      | Elapsed Time: 0:05:09 ETA:   0:01:23"
     ]
    },
    {
     "name": "stdout",
     "output_type": "stream",
     "text": [
      " - COST: 281.2798411644551\n",
      "\n",
      " - CONVERGENCE TEST - \n",
      " - CHANGE IN COST: 0.0007789484503036513\n",
      "\n",
      " - ITERATION: 117\n"
     ]
    },
    {
     "name": "stderr",
     "output_type": "stream",
     "text": [
      "\r",
      "                                                                               \r",
      "\r",
      " 76% (115 of 150) |################      | Elapsed Time: 0:05:09 ETA:   0:01:31"
     ]
    },
    {
     "name": "stdout",
     "output_type": "stream",
     "text": [
      " - DATA FIDELITY (X): 248.29071648202057\n"
     ]
    },
    {
     "name": "stderr",
     "output_type": "stream",
     "text": [
      "\r",
      "                                                                               \r",
      "\r",
      " 76% (115 of 150) |################      | Elapsed Time: 0:05:10 ETA:   0:01:31"
     ]
    },
    {
     "name": "stdout",
     "output_type": "stream",
     "text": [
      " - Min (X): 3.620992505094243e-80\n",
      " - L1 NORM (X): 32.88318932228952\n"
     ]
    },
    {
     "name": "stderr",
     "output_type": "stream",
     "text": [
      "\r",
      "                                                                               \r",
      "\r",
      " 77% (116 of 150) |#################     | Elapsed Time: 0:05:11 ETA:   0:01:22"
     ]
    },
    {
     "name": "stdout",
     "output_type": "stream",
     "text": [
      " - COST: 281.1739058043101\n",
      "\n",
      " - ITERATION: 118\n"
     ]
    },
    {
     "name": "stderr",
     "output_type": "stream",
     "text": [
      "\r",
      "                                                                               \r",
      "\r",
      " 77% (116 of 150) |#################     | Elapsed Time: 0:05:12 ETA:   0:01:09"
     ]
    },
    {
     "name": "stdout",
     "output_type": "stream",
     "text": [
      " - DATA FIDELITY (X): 248.16928207313865\n"
     ]
    },
    {
     "name": "stderr",
     "output_type": "stream",
     "text": [
      "\r",
      "                                                                               \r",
      "\r",
      " 77% (116 of 150) |#################     | Elapsed Time: 0:05:12 ETA:   0:01:31"
     ]
    },
    {
     "name": "stdout",
     "output_type": "stream",
     "text": [
      " - Min (X): 7.241985010188484e-81\n",
      " - L1 NORM (X): 32.90108943016177\n"
     ]
    },
    {
     "name": "stderr",
     "output_type": "stream",
     "text": [
      "\r",
      "                                                                               \r",
      "\r",
      " 78% (117 of 150) |#################     | Elapsed Time: 0:05:14 ETA:   0:01:18"
     ]
    },
    {
     "name": "stdout",
     "output_type": "stream",
     "text": [
      " - COST: 281.0703715033004\n",
      "\n",
      " - ITERATION: 119\n"
     ]
    },
    {
     "name": "stderr",
     "output_type": "stream",
     "text": [
      "\r",
      "                                                                               \r",
      "\r",
      " 78% (117 of 150) |#################     | Elapsed Time: 0:05:14 ETA:   0:01:26"
     ]
    },
    {
     "name": "stdout",
     "output_type": "stream",
     "text": [
      " - DATA FIDELITY (X): 248.05020877063978\n"
     ]
    },
    {
     "name": "stderr",
     "output_type": "stream",
     "text": [
      "\r",
      "                                                                               \r",
      "\r",
      " 78% (117 of 150) |#################     | Elapsed Time: 0:05:15 ETA:   0:01:26"
     ]
    },
    {
     "name": "stdout",
     "output_type": "stream",
     "text": [
      " - Min (X): 1.4483970020376964e-81\n",
      " - L1 NORM (X): 32.91873783539733\n"
     ]
    },
    {
     "name": "stderr",
     "output_type": "stream",
     "text": [
      "\r",
      "                                                                               \r",
      "\r",
      " 78% (118 of 150) |#################     | Elapsed Time: 0:05:17 ETA:   0:01:15"
     ]
    },
    {
     "name": "stdout",
     "output_type": "stream",
     "text": [
      " - COST: 280.9689466060371\n",
      "\n",
      " - ITERATION: 120\n"
     ]
    },
    {
     "name": "stderr",
     "output_type": "stream",
     "text": [
      "\r",
      "                                                                               \r",
      "\r",
      " 78% (118 of 150) |#################     | Elapsed Time: 0:05:17 ETA:   0:01:23"
     ]
    },
    {
     "name": "stdout",
     "output_type": "stream",
     "text": [
      " - DATA FIDELITY (X): 247.93307386178026\n"
     ]
    },
    {
     "name": "stderr",
     "output_type": "stream",
     "text": [
      "\r",
      "                                                                               \r",
      "\r",
      " 78% (118 of 150) |#################     | Elapsed Time: 0:05:18 ETA:   0:01:24"
     ]
    },
    {
     "name": "stdout",
     "output_type": "stream",
     "text": [
      " - Min (X): 2.896794004075392e-82\n",
      " - L1 NORM (X): 32.93610777507418\n"
     ]
    },
    {
     "name": "stderr",
     "output_type": "stream",
     "text": [
      "\r",
      "                                                                               \r",
      "\r",
      " 79% (119 of 150) |#################     | Elapsed Time: 0:05:19 ETA:   0:01:14"
     ]
    },
    {
     "name": "stdout",
     "output_type": "stream",
     "text": [
      " - COST: 280.8691816368544\n",
      "\n",
      " - CONVERGENCE TEST - \n",
      " - CHANGE IN COST: 0.0007228933821011344\n",
      "\n",
      " - ITERATION: 121\n"
     ]
    },
    {
     "name": "stderr",
     "output_type": "stream",
     "text": [
      "\r",
      "                                                                               \r",
      "\r",
      " 79% (119 of 150) |#################     | Elapsed Time: 0:05:20 ETA:   0:01:22"
     ]
    },
    {
     "name": "stdout",
     "output_type": "stream",
     "text": [
      " - DATA FIDELITY (X): 247.81788123073167\n"
     ]
    },
    {
     "name": "stderr",
     "output_type": "stream",
     "text": [
      "\r",
      "                                                                               \r",
      "\r",
      " 79% (119 of 150) |#################     | Elapsed Time: 0:05:20 ETA:   0:01:21"
     ]
    },
    {
     "name": "stdout",
     "output_type": "stream",
     "text": [
      " - Min (X): 5.793588008150783e-83\n",
      " - L1 NORM (X): 32.953231059581846\n"
     ]
    },
    {
     "name": "stderr",
     "output_type": "stream",
     "text": [
      "\r",
      "                                                                               \r",
      "\r",
      " 80% (120 of 150) |#################     | Elapsed Time: 0:05:22 ETA:   0:01:11"
     ]
    },
    {
     "name": "stdout",
     "output_type": "stream",
     "text": [
      " - COST: 280.7711122903135\n",
      "\n",
      " - ITERATION: 122\n"
     ]
    },
    {
     "name": "stderr",
     "output_type": "stream",
     "text": [
      "\r",
      "                                                                               \r",
      "\r",
      " 80% (120 of 150) |#################     | Elapsed Time: 0:05:22 ETA:   0:01:18"
     ]
    },
    {
     "name": "stdout",
     "output_type": "stream",
     "text": [
      " - DATA FIDELITY (X): 247.7052928922886\n"
     ]
    },
    {
     "name": "stderr",
     "output_type": "stream",
     "text": [
      "\r",
      "                                                                               \r",
      "\r",
      " 80% (120 of 150) |#################     | Elapsed Time: 0:05:23 ETA:   0:01:18"
     ]
    },
    {
     "name": "stdout",
     "output_type": "stream",
     "text": [
      " - Min (X): 1.1587176016301564e-83\n",
      " - L1 NORM (X): 32.97012636109404\n"
     ]
    },
    {
     "name": "stderr",
     "output_type": "stream",
     "text": [
      "\r",
      "                                                                               \r",
      "\r",
      " 80% (121 of 150) |#################     | Elapsed Time: 0:05:25 ETA:   0:01:08"
     ]
    },
    {
     "name": "stdout",
     "output_type": "stream",
     "text": [
      " - COST: 280.67541925338264\n",
      "\n",
      " - ITERATION: 123\n"
     ]
    },
    {
     "name": "stderr",
     "output_type": "stream",
     "text": [
      "\r",
      "                                                                               \r",
      "\r",
      " 80% (121 of 150) |#################     | Elapsed Time: 0:05:25 ETA:   0:01:15"
     ]
    },
    {
     "name": "stdout",
     "output_type": "stream",
     "text": [
      " - DATA FIDELITY (X): 247.5945530718152\n"
     ]
    },
    {
     "name": "stderr",
     "output_type": "stream",
     "text": [
      "\r",
      "                                                                               \r",
      "\r",
      " 80% (121 of 150) |#################     | Elapsed Time: 0:05:25 ETA:   0:01:15"
     ]
    },
    {
     "name": "stdout",
     "output_type": "stream",
     "text": [
      " - Min (X): 2.317435203260312e-84\n",
      " - L1 NORM (X): 32.98679729542761\n"
     ]
    },
    {
     "name": "stderr",
     "output_type": "stream",
     "text": [
      "\r",
      "                                                                               \r",
      "\r",
      " 81% (122 of 150) |#################     | Elapsed Time: 0:05:27 ETA:   0:01:06"
     ]
    },
    {
     "name": "stdout",
     "output_type": "stream",
     "text": [
      " - COST: 280.5813503672428\n",
      "\n",
      " - ITERATION: 124\n"
     ]
    },
    {
     "name": "stderr",
     "output_type": "stream",
     "text": [
      " 81% (122 of 150) |#################     | Elapsed Time: 0:05:28 ETA:   0:01:12"
     ]
    },
    {
     "name": "stdout",
     "output_type": "stream",
     "text": [
      " - DATA FIDELITY (X): 247.48538735000602\n",
      " - Min (X): 4.634870406520623e-85\n",
      " - L1 NORM (X): 33.0032275117013\n"
     ]
    },
    {
     "name": "stderr",
     "output_type": "stream",
     "text": [
      "\r",
      "                                                                               \r",
      "\r",
      " 82% (123 of 150) |##################    | Elapsed Time: 0:05:30 ETA:   0:01:04"
     ]
    },
    {
     "name": "stdout",
     "output_type": "stream",
     "text": [
      " - COST: 280.48861486170733\n",
      "\n",
      " - CONVERGENCE TEST - \n",
      " - CHANGE IN COST: 0.0006711574992119796\n",
      "\n",
      " - ITERATION: 125\n"
     ]
    },
    {
     "name": "stderr",
     "output_type": "stream",
     "text": [
      "\r",
      "                                                                               \r",
      "\r",
      " 82% (123 of 150) |##################    | Elapsed Time: 0:05:30 ETA:   0:00:54"
     ]
    },
    {
     "name": "stdout",
     "output_type": "stream",
     "text": [
      " - DATA FIDELITY (X): 247.377755836759\n"
     ]
    },
    {
     "name": "stderr",
     "output_type": "stream",
     "text": [
      "\r",
      "                                                                               \r",
      "\r",
      " 82% (123 of 150) |##################    | Elapsed Time: 0:05:31 ETA:   0:01:11"
     ]
    },
    {
     "name": "stdout",
     "output_type": "stream",
     "text": [
      " - Min (X): 9.269740813041244e-86\n",
      " - L1 NORM (X): 33.01942749430101\n"
     ]
    },
    {
     "name": "stderr",
     "output_type": "stream",
     "text": [
      "\r",
      "                                                                               \r",
      "\r",
      " 82% (124 of 150) |##################    | Elapsed Time: 0:05:32 ETA:   0:01:02"
     ]
    },
    {
     "name": "stdout",
     "output_type": "stream",
     "text": [
      " - COST: 280.39718333106003\n",
      "\n",
      " - ITERATION: 126\n"
     ]
    },
    {
     "name": "stderr",
     "output_type": "stream",
     "text": [
      "\r",
      "                                                                               \r",
      "\r",
      " 82% (124 of 150) |##################    | Elapsed Time: 0:05:33 ETA:   0:00:52"
     ]
    },
    {
     "name": "stdout",
     "output_type": "stream",
     "text": [
      " - DATA FIDELITY (X): 247.27168956529806\n"
     ]
    },
    {
     "name": "stderr",
     "output_type": "stream",
     "text": [
      "\r",
      "                                                                               \r",
      "\r",
      " 82% (124 of 150) |##################    | Elapsed Time: 0:05:33 ETA:   0:01:10"
     ]
    },
    {
     "name": "stdout",
     "output_type": "stream",
     "text": [
      " - Min (X): 1.8539481626082486e-86\n",
      " - L1 NORM (X): 33.03542285108531\n"
     ]
    },
    {
     "name": "stderr",
     "output_type": "stream",
     "text": [
      "\r",
      "                                                                               \r",
      "\r",
      " 83% (125 of 150) |##################    | Elapsed Time: 0:05:35 ETA:   0:01:00"
     ]
    },
    {
     "name": "stdout",
     "output_type": "stream",
     "text": [
      " - COST: 280.30711241638335\n",
      "\n",
      " - ITERATION: 127\n"
     ]
    },
    {
     "name": "stderr",
     "output_type": "stream",
     "text": [
      "\r",
      "                                                                               \r",
      "\r",
      " 83% (125 of 150) |##################    | Elapsed Time: 0:05:35 ETA:   0:01:05"
     ]
    },
    {
     "name": "stdout",
     "output_type": "stream",
     "text": [
      " - DATA FIDELITY (X): 247.16738288674728\n"
     ]
    },
    {
     "name": "stderr",
     "output_type": "stream",
     "text": [
      "\r",
      "                                                                               \r",
      "\r",
      " 83% (125 of 150) |##################    | Elapsed Time: 0:05:36 ETA:   0:01:04"
     ]
    },
    {
     "name": "stdout",
     "output_type": "stream",
     "text": [
      " - Min (X): 3.707896325216496e-87\n",
      " - L1 NORM (X): 33.05127493959715\n"
     ]
    },
    {
     "name": "stderr",
     "output_type": "stream",
     "text": [
      "\r",
      "                                                                               \r",
      "\r",
      " 84% (126 of 150) |##################    | Elapsed Time: 0:05:38 ETA:   0:00:56"
     ]
    },
    {
     "name": "stdout",
     "output_type": "stream",
     "text": [
      " - COST: 280.21865782634444\n",
      "\n",
      " - ITERATION: 128\n"
     ]
    },
    {
     "name": "stderr",
     "output_type": "stream",
     "text": [
      "\r",
      "                                                                               \r",
      "\r",
      " 84% (126 of 150) |##################    | Elapsed Time: 0:05:38 ETA:   0:01:02"
     ]
    },
    {
     "name": "stdout",
     "output_type": "stream",
     "text": [
      " - DATA FIDELITY (X): 247.064705229986\n"
     ]
    },
    {
     "name": "stderr",
     "output_type": "stream",
     "text": [
      "\r",
      "                                                                               \r",
      "\r",
      " 84% (126 of 150) |##################    | Elapsed Time: 0:05:39 ETA:   0:01:02"
     ]
    },
    {
     "name": "stdout",
     "output_type": "stream",
     "text": [
      " - Min (X): 7.415792650432991e-88\n",
      " - L1 NORM (X): 33.06693619416297\n"
     ]
    },
    {
     "name": "stderr",
     "output_type": "stream",
     "text": [
      "\r",
      "                                                                               \r",
      "\r",
      " 84% (127 of 150) |##################    | Elapsed Time: 0:05:41 ETA:   0:00:59"
     ]
    },
    {
     "name": "stdout",
     "output_type": "stream",
     "text": [
      " - COST: 280.131641424149\n",
      "\n",
      " - CONVERGENCE TEST - \n",
      " - CHANGE IN COST: 0.0006317414257179798\n",
      "\n",
      " - ITERATION: 129\n"
     ]
    },
    {
     "name": "stderr",
     "output_type": "stream",
     "text": [
      "\r",
      "                                                                               \r",
      "\r",
      " 84% (127 of 150) |##################    | Elapsed Time: 0:05:41 ETA:   0:00:50"
     ]
    },
    {
     "name": "stdout",
     "output_type": "stream",
     "text": [
      " - DATA FIDELITY (X): 246.96361739726777\n"
     ]
    },
    {
     "name": "stderr",
     "output_type": "stream",
     "text": [
      "\r",
      "                                                                               \r",
      "\r",
      " 84% (127 of 150) |##################    | Elapsed Time: 0:05:41 ETA:   0:01:05"
     ]
    },
    {
     "name": "stdout",
     "output_type": "stream",
     "text": [
      " - Min (X): 1.4831585300865978e-88\n",
      " - L1 NORM (X): 33.0824121948272\n"
     ]
    },
    {
     "name": "stderr",
     "output_type": "stream",
     "text": [
      "\r",
      "                                                                               \r",
      "\r",
      " 85% (128 of 150) |##################    | Elapsed Time: 0:05:43 ETA:   0:00:52"
     ]
    },
    {
     "name": "stdout",
     "output_type": "stream",
     "text": [
      " - COST: 280.04602959209495\n",
      "\n",
      " - ITERATION: 130\n"
     ]
    },
    {
     "name": "stderr",
     "output_type": "stream",
     "text": [
      "\r",
      "                                                                               \r",
      "\r",
      " 85% (128 of 150) |##################    | Elapsed Time: 0:05:43 ETA:   0:00:57"
     ]
    },
    {
     "name": "stdout",
     "output_type": "stream",
     "text": [
      " - DATA FIDELITY (X): 246.86414482840578\n"
     ]
    },
    {
     "name": "stderr",
     "output_type": "stream",
     "text": [
      "\r",
      "                                                                               \r",
      "\r",
      " 85% (128 of 150) |##################    | Elapsed Time: 0:05:44 ETA:   0:00:57"
     ]
    },
    {
     "name": "stdout",
     "output_type": "stream",
     "text": [
      " - Min (X): 2.966317060173195e-89\n",
      " - L1 NORM (X): 33.09770747614446\n"
     ]
    },
    {
     "name": "stderr",
     "output_type": "stream",
     "text": [
      "\r",
      "                                                                               \r",
      "\r",
      " 86% (129 of 150) |##################    | Elapsed Time: 0:05:46 ETA:   0:00:49"
     ]
    },
    {
     "name": "stdout",
     "output_type": "stream",
     "text": [
      " - COST: 279.96185230455023\n",
      "\n",
      " - ITERATION: 131\n"
     ]
    },
    {
     "name": "stderr",
     "output_type": "stream",
     "text": [
      "\r",
      "                                                                               \r",
      "\r",
      " 86% (129 of 150) |##################    | Elapsed Time: 0:05:46 ETA:   0:00:42"
     ]
    },
    {
     "name": "stdout",
     "output_type": "stream",
     "text": [
      " - DATA FIDELITY (X): 246.7661058265334\n"
     ]
    },
    {
     "name": "stderr",
     "output_type": "stream",
     "text": [
      "\r",
      "                                                                               \r",
      "\r",
      " 86% (129 of 150) |##################    | Elapsed Time: 0:05:47 ETA:   0:00:55"
     ]
    },
    {
     "name": "stdout",
     "output_type": "stream",
     "text": [
      " - Min (X): 5.932634120346389e-90\n",
      " - L1 NORM (X): 33.11282333997211\n"
     ]
    },
    {
     "name": "stderr",
     "output_type": "stream",
     "text": [
      "\r",
      "                                                                               \r",
      "\r",
      " 86% (130 of 150) |###################   | Elapsed Time: 0:05:48 ETA:   0:00:48"
     ]
    },
    {
     "name": "stdout",
     "output_type": "stream",
     "text": [
      " - COST: 279.8789291665055\n",
      "\n",
      " - ITERATION: 132\n"
     ]
    },
    {
     "name": "stderr",
     "output_type": "stream",
     "text": [
      "\r",
      "                                                                               \r",
      "\r",
      " 86% (130 of 150) |###################   | Elapsed Time: 0:05:49 ETA:   0:00:40"
     ]
    },
    {
     "name": "stdout",
     "output_type": "stream",
     "text": [
      " - DATA FIDELITY (X): 246.66938028104173\n"
     ]
    },
    {
     "name": "stderr",
     "output_type": "stream",
     "text": [
      "\r",
      "                                                                               \r",
      "\r",
      " 86% (130 of 150) |###################   | Elapsed Time: 0:05:49 ETA:   0:00:53"
     ]
    },
    {
     "name": "stdout",
     "output_type": "stream",
     "text": [
      " - Min (X): 1.1865268240692775e-90\n",
      " - L1 NORM (X): 33.12773682622967\n"
     ]
    },
    {
     "name": "stderr",
     "output_type": "stream",
     "text": [
      "\r",
      "                                                                               \r",
      "\r",
      " 87% (131 of 150) |###################   | Elapsed Time: 0:05:51 ETA:   0:00:45"
     ]
    },
    {
     "name": "stdout",
     "output_type": "stream",
     "text": [
      " - COST: 279.7971171072714\n",
      "\n",
      " - CONVERGENCE TEST - \n",
      " - CHANGE IN COST: 0.0005929066020917168\n",
      "\n",
      " - ITERATION: 133\n"
     ]
    },
    {
     "name": "stderr",
     "output_type": "stream",
     "text": [
      "\r",
      "                                                                               \r",
      "\r",
      " 87% (131 of 150) |###################   | Elapsed Time: 0:05:51 ETA:   0:00:38"
     ]
    },
    {
     "name": "stdout",
     "output_type": "stream",
     "text": [
      " - DATA FIDELITY (X): 246.57397584420292\n"
     ]
    },
    {
     "name": "stderr",
     "output_type": "stream",
     "text": [
      "\r",
      "                                                                               \r",
      "\r",
      " 87% (131 of 150) |###################   | Elapsed Time: 0:05:52 ETA:   0:00:49"
     ]
    },
    {
     "name": "stdout",
     "output_type": "stream",
     "text": [
      " - Min (X): 2.3730536481385545e-91\n",
      " - L1 NORM (X): 33.14246670820576\n"
     ]
    },
    {
     "name": "stderr",
     "output_type": "stream",
     "text": [
      "\r",
      "                                                                               \r",
      "\r",
      " 88% (132 of 150) |###################   | Elapsed Time: 0:05:54 ETA:   0:00:42"
     ]
    },
    {
     "name": "stdout",
     "output_type": "stream",
     "text": [
      " - COST: 279.7164425524087\n",
      "\n",
      " - ITERATION: 134\n"
     ]
    },
    {
     "name": "stderr",
     "output_type": "stream",
     "text": [
      "\r",
      "                                                                               \r",
      "\r",
      " 88% (132 of 150) |###################   | Elapsed Time: 0:05:54 ETA:   0:00:46"
     ]
    },
    {
     "name": "stdout",
     "output_type": "stream",
     "text": [
      " - DATA FIDELITY (X): 246.47984298413888\n"
     ]
    },
    {
     "name": "stderr",
     "output_type": "stream",
     "text": [
      "\r",
      "                                                                               \r",
      "\r",
      " 88% (132 of 150) |###################   | Elapsed Time: 0:05:55 ETA:   0:00:47"
     ]
    },
    {
     "name": "stdout",
     "output_type": "stream",
     "text": [
      " - Min (X): 4.746107296277108e-92\n",
      " - L1 NORM (X): 33.15704571316718\n"
     ]
    },
    {
     "name": "stderr",
     "output_type": "stream",
     "text": [
      "\r",
      "                                                                               \r",
      "\r",
      " 88% (133 of 150) |###################   | Elapsed Time: 0:05:56 ETA:   0:00:40"
     ]
    },
    {
     "name": "stdout",
     "output_type": "stream",
     "text": [
      " - COST: 279.63688869730606\n",
      "\n",
      " - ITERATION: 135\n"
     ]
    },
    {
     "name": "stderr",
     "output_type": "stream",
     "text": [
      "\r",
      "                                                                               \r",
      "\r",
      " 88% (133 of 150) |###################   | Elapsed Time: 0:05:57 ETA:   0:00:34"
     ]
    },
    {
     "name": "stdout",
     "output_type": "stream",
     "text": [
      " - DATA FIDELITY (X): 246.38699209786662\n"
     ]
    },
    {
     "name": "stderr",
     "output_type": "stream",
     "text": [
      "\r",
      "                                                                               \r",
      "\r",
      " 88% (133 of 150) |###################   | Elapsed Time: 0:05:57 ETA:   0:00:44"
     ]
    },
    {
     "name": "stdout",
     "output_type": "stream",
     "text": [
      " - Min (X): 9.492214592554215e-93\n",
      " - L1 NORM (X): 33.17149736428415\n"
     ]
    },
    {
     "name": "stderr",
     "output_type": "stream",
     "text": [
      "\r",
      "                                                                               \r",
      "\r",
      " 89% (134 of 150) |###################   | Elapsed Time: 0:05:59 ETA:   0:00:37"
     ]
    },
    {
     "name": "stdout",
     "output_type": "stream",
     "text": [
      " - COST: 279.55848946215076\n",
      "\n",
      " - ITERATION: 136\n"
     ]
    },
    {
     "name": "stderr",
     "output_type": "stream",
     "text": [
      "\r",
      "                                                                               \r",
      "\r",
      " 89% (134 of 150) |###################   | Elapsed Time: 0:05:59 ETA:   0:00:32"
     ]
    },
    {
     "name": "stdout",
     "output_type": "stream",
     "text": [
      " - DATA FIDELITY (X): 246.29554538253453\n"
     ]
    },
    {
     "name": "stderr",
     "output_type": "stream",
     "text": [
      "\r",
      "                                                                               \r",
      "\r",
      " 89% (134 of 150) |###################   | Elapsed Time: 0:06:00 ETA:   0:00:41"
     ]
    },
    {
     "name": "stdout",
     "output_type": "stream",
     "text": [
      " - Min (X): 1.8984429185108426e-93\n",
      " - L1 NORM (X): 33.185798394090575\n"
     ]
    },
    {
     "name": "stderr",
     "output_type": "stream",
     "text": [
      "\r",
      "                                                                               \r",
      "\r",
      " 90% (135 of 150) |###################   | Elapsed Time: 0:06:02 ETA:   0:00:35"
     ]
    },
    {
     "name": "stdout",
     "output_type": "stream",
     "text": [
      " - COST: 279.4813437766251\n",
      "\n",
      " - CONVERGENCE TEST - \n",
      " - CHANGE IN COST: 0.0005607793797495435\n",
      "\n",
      " - ITERATION: 137\n"
     ]
    },
    {
     "name": "stderr",
     "output_type": "stream",
     "text": [
      "\r",
      "                                                                               \r",
      "\r",
      " 90% (135 of 150) |###################   | Elapsed Time: 0:06:02 ETA:   0:00:39"
     ]
    },
    {
     "name": "stdout",
     "output_type": "stream",
     "text": [
      " - DATA FIDELITY (X): 246.20539558721427\n"
     ]
    },
    {
     "name": "stderr",
     "output_type": "stream",
     "text": [
      "\r",
      "                                                                               \r",
      "\r",
      " 90% (135 of 150) |###################   | Elapsed Time: 0:06:02 ETA:   0:00:39"
     ]
    },
    {
     "name": "stdout",
     "output_type": "stream",
     "text": [
      " - Min (X): 3.796885837021684e-94\n",
      " - L1 NORM (X): 33.19992915073036\n"
     ]
    },
    {
     "name": "stderr",
     "output_type": "stream",
     "text": [
      "\r",
      "                                                                               \r",
      "\r",
      " 90% (136 of 150) |###################   | Elapsed Time: 0:06:04 ETA:   0:00:33"
     ]
    },
    {
     "name": "stdout",
     "output_type": "stream",
     "text": [
      " - COST: 279.4053247379446\n",
      "\n",
      " - ITERATION: 138\n"
     ]
    },
    {
     "name": "stderr",
     "output_type": "stream",
     "text": [
      "\r",
      "                                                                               \r",
      "\r",
      " 90% (136 of 150) |###################   | Elapsed Time: 0:06:04 ETA:   0:00:28"
     ]
    },
    {
     "name": "stdout",
     "output_type": "stream",
     "text": [
      " - DATA FIDELITY (X): 246.1164207015556\n"
     ]
    },
    {
     "name": "stderr",
     "output_type": "stream",
     "text": [
      "\r",
      "                                                                               \r",
      "\r",
      " 90% (136 of 150) |###################   | Elapsed Time: 0:06:05 ETA:   0:00:37"
     ]
    },
    {
     "name": "stdout",
     "output_type": "stream",
     "text": [
      " - Min (X): 7.593771674043367e-95\n",
      " - L1 NORM (X): 33.21389997951273\n"
     ]
    },
    {
     "name": "stderr",
     "output_type": "stream",
     "text": [
      "\r",
      "                                                                               \r",
      "\r",
      " 91% (137 of 150) |####################  | Elapsed Time: 0:06:07 ETA:   0:00:31"
     ]
    },
    {
     "name": "stdout",
     "output_type": "stream",
     "text": [
      " - COST: 279.3303206810683\n",
      "\n",
      " - ITERATION: 139\n"
     ]
    },
    {
     "name": "stderr",
     "output_type": "stream",
     "text": [
      "\r",
      "                                                                               \r",
      "\r",
      " 91% (137 of 150) |####################  | Elapsed Time: 0:06:07 ETA:   0:00:34"
     ]
    },
    {
     "name": "stdout",
     "output_type": "stream",
     "text": [
      " - DATA FIDELITY (X): 246.0286771602521\n"
     ]
    },
    {
     "name": "stderr",
     "output_type": "stream",
     "text": [
      "\r",
      "                                                                               \r",
      "\r",
      " 91% (137 of 150) |####################  | Elapsed Time: 0:06:08 ETA:   0:00:34"
     ]
    },
    {
     "name": "stdout",
     "output_type": "stream",
     "text": [
      " - Min (X): 1.5187543348086732e-95\n",
      " - L1 NORM (X): 33.227715181098915\n"
     ]
    },
    {
     "name": "stderr",
     "output_type": "stream",
     "text": [
      "\r",
      "                                                                               \r",
      "\r",
      " 92% (138 of 150) |####################  | Elapsed Time: 0:06:10 ETA:   0:00:28"
     ]
    },
    {
     "name": "stdout",
     "output_type": "stream",
     "text": [
      " - COST: 279.256392341351\n",
      "\n",
      " - ITERATION: 140\n"
     ]
    },
    {
     "name": "stderr",
     "output_type": "stream",
     "text": [
      "\r",
      "                                                                               \r",
      "\r",
      " 92% (138 of 150) |####################  | Elapsed Time: 0:06:10 ETA:   0:00:31"
     ]
    },
    {
     "name": "stdout",
     "output_type": "stream",
     "text": [
      " - DATA FIDELITY (X): 245.94218463766327\n"
     ]
    },
    {
     "name": "stderr",
     "output_type": "stream",
     "text": [
      "\r",
      "                                                                               \r",
      "\r",
      " 92% (138 of 150) |####################  | Elapsed Time: 0:06:11 ETA:   0:00:32"
     ]
    },
    {
     "name": "stdout",
     "output_type": "stream",
     "text": [
      " - Min (X): 3.0375086696173457e-96\n",
      " - L1 NORM (X): 33.241405605307484\n"
     ]
    },
    {
     "name": "stderr",
     "output_type": "stream",
     "text": [
      "\r",
      "                                                                               \r",
      "\r",
      " 92% (139 of 150) |####################  | Elapsed Time: 0:06:12 ETA:   0:00:27"
     ]
    },
    {
     "name": "stdout",
     "output_type": "stream",
     "text": [
      " - COST: 279.18359024297075\n",
      "\n",
      " - CONVERGENCE TEST - \n",
      " - CHANGE IN COST: 0.0005294442445236257\n",
      "\n",
      " - ITERATION: 141\n"
     ]
    },
    {
     "name": "stderr",
     "output_type": "stream",
     "text": [
      "\r",
      "                                                                               \r",
      "\r",
      " 92% (139 of 150) |####################  | Elapsed Time: 0:06:13 ETA:   0:00:22"
     ]
    },
    {
     "name": "stdout",
     "output_type": "stream",
     "text": [
      " - DATA FIDELITY (X): 245.85675529859625\n"
     ]
    },
    {
     "name": "stderr",
     "output_type": "stream",
     "text": [
      "\r",
      "                                                                               \r",
      "\r",
      " 92% (139 of 150) |####################  | Elapsed Time: 0:06:13 ETA:   0:00:29"
     ]
    },
    {
     "name": "stdout",
     "output_type": "stream",
     "text": [
      " - Min (X): 6.075017339234691e-97\n",
      " - L1 NORM (X): 33.2549545719435\n"
     ]
    },
    {
     "name": "stderr",
     "output_type": "stream",
     "text": [
      "\r",
      "                                                                               \r",
      "\r",
      " 93% (140 of 150) |####################  | Elapsed Time: 0:06:15 ETA:   0:00:23"
     ]
    },
    {
     "name": "stdout",
     "output_type": "stream",
     "text": [
      " - COST: 279.11170987053976\n",
      "\n",
      " - ITERATION: 142\n"
     ]
    },
    {
     "name": "stderr",
     "output_type": "stream",
     "text": [
      "\r",
      "                                                                               \r",
      "\r",
      " 93% (140 of 150) |####################  | Elapsed Time: 0:06:15 ETA:   0:00:25"
     ]
    },
    {
     "name": "stdout",
     "output_type": "stream",
     "text": [
      " - DATA FIDELITY (X): 245.77230689554426\n"
     ]
    },
    {
     "name": "stderr",
     "output_type": "stream",
     "text": [
      "\r",
      "                                                                               \r",
      "\r",
      " 93% (140 of 150) |####################  | Elapsed Time: 0:06:16 ETA:   0:00:26"
     ]
    },
    {
     "name": "stdout",
     "output_type": "stream",
     "text": [
      " - Min (X): 1.215003467846938e-97\n",
      " - L1 NORM (X): 33.26834520899386\n"
     ]
    },
    {
     "name": "stderr",
     "output_type": "stream",
     "text": [
      "\r",
      "                                                                               \r",
      "\r",
      " 94% (141 of 150) |####################  | Elapsed Time: 0:06:18 ETA:   0:00:21"
     ]
    },
    {
     "name": "stdout",
     "output_type": "stream",
     "text": [
      " - COST: 279.04065210453814\n",
      "\n",
      " - ITERATION: 143\n"
     ]
    },
    {
     "name": "stderr",
     "output_type": "stream",
     "text": [
      "\r",
      "                                                                               \r",
      "\r",
      " 94% (141 of 150) |####################  | Elapsed Time: 0:06:18 ETA:   0:00:18"
     ]
    },
    {
     "name": "stdout",
     "output_type": "stream",
     "text": [
      " - DATA FIDELITY (X): 245.68883868879473\n"
     ]
    },
    {
     "name": "stderr",
     "output_type": "stream",
     "text": [
      "\r",
      "                                                                               \r",
      "\r",
      " 94% (141 of 150) |####################  | Elapsed Time: 0:06:18 ETA:   0:00:23"
     ]
    },
    {
     "name": "stdout",
     "output_type": "stream",
     "text": [
      " - Min (X): 2.4300069356938753e-98\n",
      " - L1 NORM (X): 33.28158238401966\n"
     ]
    },
    {
     "name": "stderr",
     "output_type": "stream",
     "text": [
      "\r",
      "                                                                               \r",
      "\r",
      " 94% (142 of 150) |####################  | Elapsed Time: 0:06:20 ETA:   0:00:18"
     ]
    },
    {
     "name": "stdout",
     "output_type": "stream",
     "text": [
      " - COST: 278.97042107281436\n",
      "\n",
      " - ITERATION: 144\n"
     ]
    },
    {
     "name": "stderr",
     "output_type": "stream",
     "text": [
      "\r",
      "                                                                               \r",
      "\r",
      " 94% (142 of 150) |####################  | Elapsed Time: 0:06:20 ETA:   0:00:16"
     ]
    },
    {
     "name": "stdout",
     "output_type": "stream",
     "text": [
      " - DATA FIDELITY (X): 245.60648422525628\n"
     ]
    },
    {
     "name": "stderr",
     "output_type": "stream",
     "text": [
      "\r",
      "                                                                               \r",
      "\r",
      " 94% (142 of 150) |####################  | Elapsed Time: 0:06:21 ETA:   0:00:21"
     ]
    },
    {
     "name": "stdout",
     "output_type": "stream",
     "text": [
      " - Min (X): 4.86001387138775e-99\n",
      " - L1 NORM (X): 33.2946953713481\n"
     ]
    },
    {
     "name": "stderr",
     "output_type": "stream",
     "text": [
      "\r",
      "                                                                               \r",
      "\r",
      " 95% (143 of 150) |####################  | Elapsed Time: 0:06:24 ETA:   0:00:18"
     ]
    },
    {
     "name": "stdout",
     "output_type": "stream",
     "text": [
      " - COST: 278.9011795966044\n",
      "\n",
      " - CONVERGENCE TEST - \n",
      " - CHANGE IN COST: 0.0005032722678878046\n",
      "\n",
      " - ITERATION: 145\n"
     ]
    },
    {
     "name": "stderr",
     "output_type": "stream",
     "text": [
      "\r",
      "                                                                               \r",
      "\r",
      " 95% (143 of 150) |####################  | Elapsed Time: 0:06:24 ETA:   0:00:23"
     ]
    },
    {
     "name": "stdout",
     "output_type": "stream",
     "text": [
      " - DATA FIDELITY (X): 245.52513245833495\n"
     ]
    },
    {
     "name": "stderr",
     "output_type": "stream",
     "text": [
      "\r",
      "                                                                               \r",
      "\r",
      " 95% (143 of 150) |####################  | Elapsed Time: 0:06:26 ETA:   0:00:34"
     ]
    },
    {
     "name": "stdout",
     "output_type": "stream",
     "text": [
      " - Min (X): 9.720027742775498e-100\n",
      " - L1 NORM (X): 33.30767568148431\n"
     ]
    },
    {
     "name": "stderr",
     "output_type": "stream",
     "text": [
      "\r",
      "                                                                               \r",
      "\r",
      " 96% (144 of 150) |##################### | Elapsed Time: 0:06:28 ETA:   0:00:20"
     ]
    },
    {
     "name": "stdout",
     "output_type": "stream",
     "text": [
      " - COST: 278.83280813981924\n",
      "\n",
      " - ITERATION: 146\n"
     ]
    },
    {
     "name": "stderr",
     "output_type": "stream",
     "text": [
      "\r",
      "                                                                               \r",
      "\r",
      " 96% (144 of 150) |##################### | Elapsed Time: 0:06:28 ETA:   0:00:13"
     ]
    },
    {
     "name": "stdout",
     "output_type": "stream",
     "text": [
      " - DATA FIDELITY (X): 245.44475887129838\n"
     ]
    },
    {
     "name": "stderr",
     "output_type": "stream",
     "text": [
      "\r",
      "                                                                               \r",
      "\r",
      " 96% (144 of 150) |##################### | Elapsed Time: 0:06:29 ETA:   0:00:17"
     ]
    },
    {
     "name": "stdout",
     "output_type": "stream",
     "text": [
      " - Min (X): 1.944005548555099e-100\n",
      " - L1 NORM (X): 33.320518081182115\n"
     ]
    },
    {
     "name": "stderr",
     "output_type": "stream",
     "text": [
      "\r",
      "                                                                               \r",
      "\r",
      " 96% (145 of 150) |##################### | Elapsed Time: 0:06:31 ETA:   0:00:12"
     ]
    },
    {
     "name": "stdout",
     "output_type": "stream",
     "text": [
      " - COST: 278.76527695248046\n",
      "\n",
      " - ITERATION: 147\n"
     ]
    },
    {
     "name": "stderr",
     "output_type": "stream",
     "text": [
      "\r",
      "                                                                               \r",
      "\r",
      " 96% (145 of 150) |##################### | Elapsed Time: 0:06:31 ETA:   0:00:10"
     ]
    },
    {
     "name": "stdout",
     "output_type": "stream",
     "text": [
      " - DATA FIDELITY (X): 245.36556111808386\n"
     ]
    },
    {
     "name": "stderr",
     "output_type": "stream",
     "text": [
      "\r",
      "                                                                               \r",
      "\r",
      " 96% (145 of 150) |##################### | Elapsed Time: 0:06:32 ETA:   0:00:13"
     ]
    },
    {
     "name": "stdout",
     "output_type": "stream",
     "text": [
      " - Min (X): 3.888011097110197e-101\n",
      " - L1 NORM (X): 33.33324509439643\n"
     ]
    },
    {
     "name": "stderr",
     "output_type": "stream",
     "text": [
      "\r",
      "                                                                               \r",
      "\r",
      " 97% (146 of 150) |##################### | Elapsed Time: 0:06:33 ETA:   0:00:09"
     ]
    },
    {
     "name": "stdout",
     "output_type": "stream",
     "text": [
      " - COST: 278.6988062124803\n",
      "\n",
      " - ITERATION: 148\n"
     ]
    },
    {
     "name": "stderr",
     "output_type": "stream",
     "text": [
      "\r",
      "                                                                               \r",
      "\r",
      " 97% (146 of 150) |##################### | Elapsed Time: 0:06:34 ETA:   0:00:08"
     ]
    },
    {
     "name": "stdout",
     "output_type": "stream",
     "text": [
      " - DATA FIDELITY (X): 245.28770929423885\n"
     ]
    },
    {
     "name": "stderr",
     "output_type": "stream",
     "text": [
      "\r",
      "                                                                               \r",
      "\r",
      " 97% (146 of 150) |##################### | Elapsed Time: 0:06:34 ETA:   0:00:10"
     ]
    },
    {
     "name": "stdout",
     "output_type": "stream",
     "text": [
      " - Min (X): 7.776022194220392e-102\n",
      " - L1 NORM (X): 33.34586644808624\n"
     ]
    },
    {
     "name": "stderr",
     "output_type": "stream",
     "text": [
      "\r",
      "                                                                               \r",
      "\r",
      " 98% (147 of 150) |##################### | Elapsed Time: 0:06:36 ETA:   0:00:07"
     ]
    },
    {
     "name": "stdout",
     "output_type": "stream",
     "text": [
      " - COST: 278.6335757423251\n",
      "\n",
      " - CONVERGENCE TEST - \n",
      " - CHANGE IN COST: 0.0004767408930418156\n",
      "\n",
      " - ITERATION: 149\n"
     ]
    },
    {
     "name": "stderr",
     "output_type": "stream",
     "text": [
      "\r",
      "                                                                               \r",
      "\r",
      " 98% (147 of 150) |##################### | Elapsed Time: 0:06:36 ETA:   0:00:08"
     ]
    },
    {
     "name": "stdout",
     "output_type": "stream",
     "text": [
      " - DATA FIDELITY (X): 245.21082408344873\n"
     ]
    },
    {
     "name": "stderr",
     "output_type": "stream",
     "text": [
      "\r",
      "                                                                               \r",
      "\r",
      " 98% (147 of 150) |##################### | Elapsed Time: 0:06:37 ETA:   0:00:07"
     ]
    },
    {
     "name": "stdout",
     "output_type": "stream",
     "text": [
      " - Min (X): 1.555204438844078e-102\n",
      " - L1 NORM (X): 33.358349124375565\n"
     ]
    },
    {
     "name": "stderr",
     "output_type": "stream",
     "text": [
      "\r",
      "                                                                               \r",
      "\r",
      " 98% (148 of 150) |##################### | Elapsed Time: 0:06:39 ETA:   0:00:04"
     ]
    },
    {
     "name": "stdout",
     "output_type": "stream",
     "text": [
      " - COST: 278.5691732078243\n",
      "\n",
      " - ITERATION: 150\n"
     ]
    },
    {
     "name": "stderr",
     "output_type": "stream",
     "text": [
      "\r",
      "                                                                               \r",
      "\r",
      " 98% (148 of 150) |##################### | Elapsed Time: 0:06:39 ETA:   0:00:04"
     ]
    },
    {
     "name": "stdout",
     "output_type": "stream",
     "text": [
      " - DATA FIDELITY (X): 245.13483058684855\n"
     ]
    },
    {
     "name": "stderr",
     "output_type": "stream",
     "text": [
      "100% (150 of 150) |######################| Elapsed Time: 0:06:40 Time:  0:06:40\n"
     ]
    },
    {
     "name": "stdout",
     "output_type": "stream",
     "text": [
      " - Min (X): 3.1104088776881555e-103\n",
      " - L1 NORM (X): 33.37069615688817\n",
      " - COST: 278.5055267437367\n",
      "\n",
      " - REWEIGHT: 1\n",
      "\n",
      " - Reweighting: 1\n",
      " - ITERATION: 151\n",
      " - DATA FIDELITY (X): 245.05978685531494\n",
      " - Min (X): 6.220817755376309e-104\n"
     ]
    },
    {
     "name": "stderr",
     "output_type": "stream",
     "text": [
      "\r",
      "                                                                               \r",
      "\r",
      "N/A% (0 of 150) |                        | Elapsed Time: 0:00:00 ETA:  --:--:--"
     ]
    },
    {
     "name": "stdout",
     "output_type": "stream",
     "text": [
      " - L1 NORM (X): 2.5060555615647884\n",
      " - COST: 247.56584241687972\n",
      "\n"
     ]
    },
    {
     "name": "stderr",
     "output_type": "stream",
     "text": [
      "\r",
      "                                                                               \r",
      "\r",
      "N/A% (0 of 150) |                        | Elapsed Time: 0:00:01 ETA:  --:--:--"
     ]
    },
    {
     "name": "stdout",
     "output_type": "stream",
     "text": [
      " - ITERATION: 152\n"
     ]
    },
    {
     "name": "stderr",
     "output_type": "stream",
     "text": [
      "\r",
      "                                                                               \r",
      "\r",
      "N/A% (0 of 150) |                        | Elapsed Time: 0:00:02 ETA:  --:--:--"
     ]
    },
    {
     "name": "stdout",
     "output_type": "stream",
     "text": [
      " - DATA FIDELITY (X): 244.88634800837823\n"
     ]
    },
    {
     "name": "stderr",
     "output_type": "stream",
     "text": [
      "\r",
      "                                                                               \r",
      "\r",
      "N/A% (0 of 150) |                        | Elapsed Time: 0:00:02 ETA:  --:--:--"
     ]
    },
    {
     "name": "stdout",
     "output_type": "stream",
     "text": [
      " - Min (X): 1.2441635510752615e-104\n",
      " - L1 NORM (X): 2.5382417790064755\n"
     ]
    },
    {
     "name": "stderr",
     "output_type": "stream",
     "text": [
      "\r",
      "                                                                               \r",
      "\r",
      "  0% (1 of 150) |                        | Elapsed Time: 0:00:04 ETA:   0:06:08"
     ]
    },
    {
     "name": "stdout",
     "output_type": "stream",
     "text": [
      " - COST: 247.42458978738472\n",
      "\n",
      " - CONVERGENCE TEST - \n",
      " - CHANGE IN COST: 0.12542518745428327\n",
      "\n",
      " - ITERATION: 153\n"
     ]
    },
    {
     "name": "stderr",
     "output_type": "stream",
     "text": [
      "\r",
      "                                                                               \r",
      "\r",
      "  0% (1 of 150) |                        | Elapsed Time: 0:00:04 ETA:   0:05:06"
     ]
    },
    {
     "name": "stdout",
     "output_type": "stream",
     "text": [
      " - DATA FIDELITY (X): 244.7095208565033\n"
     ]
    },
    {
     "name": "stderr",
     "output_type": "stream",
     "text": [
      "\r",
      "                                                                               \r",
      "\r",
      "  0% (1 of 150) |                        | Elapsed Time: 0:00:05 ETA:   0:06:40"
     ]
    },
    {
     "name": "stdout",
     "output_type": "stream",
     "text": [
      " - Min (X): 2.4883271021505224e-105\n",
      " - L1 NORM (X): 2.5782135057966427\n"
     ]
    },
    {
     "name": "stderr",
     "output_type": "stream",
     "text": [
      "\r",
      "                                                                               \r",
      "\r",
      "  1% (2 of 150) |                        | Elapsed Time: 0:00:07 ETA:   0:05:51"
     ]
    },
    {
     "name": "stdout",
     "output_type": "stream",
     "text": [
      " - COST: 247.28773436229994\n",
      "\n",
      " - ITERATION: 154\n"
     ]
    },
    {
     "name": "stderr",
     "output_type": "stream",
     "text": [
      "\r",
      "                                                                               \r",
      "\r",
      "  1% (2 of 150) |                        | Elapsed Time: 0:00:07 ETA:   0:06:29"
     ]
    },
    {
     "name": "stdout",
     "output_type": "stream",
     "text": [
      " - DATA FIDELITY (X): 244.54484355590878\n"
     ]
    },
    {
     "name": "stderr",
     "output_type": "stream",
     "text": [
      "\r",
      "                                                                               \r",
      "\r",
      "  1% (2 of 150) |                        | Elapsed Time: 0:00:08 ETA:   0:06:32"
     ]
    },
    {
     "name": "stdout",
     "output_type": "stream",
     "text": [
      " - Min (X): 4.976654204301043e-106\n",
      " - L1 NORM (X): 2.616442631030274\n"
     ]
    },
    {
     "name": "stderr",
     "output_type": "stream",
     "text": [
      "\r",
      "                                                                               \r",
      "\r",
      "  2% (3 of 150) |                        | Elapsed Time: 0:00:09 ETA:   0:05:51"
     ]
    },
    {
     "name": "stdout",
     "output_type": "stream",
     "text": [
      " - COST: 247.16128618693907\n",
      "\n",
      " - ITERATION: 155\n"
     ]
    },
    {
     "name": "stderr",
     "output_type": "stream",
     "text": [
      "\r",
      "                                                                               \r",
      "\r",
      "  2% (3 of 150) |                        | Elapsed Time: 0:00:10 ETA:   0:06:26"
     ]
    },
    {
     "name": "stdout",
     "output_type": "stream",
     "text": [
      " - DATA FIDELITY (X): 244.3928579142682\n"
     ]
    },
    {
     "name": "stderr",
     "output_type": "stream",
     "text": [
      "\r",
      "                                                                               \r",
      "\r",
      "  2% (3 of 150) |                        | Elapsed Time: 0:00:10 ETA:   0:06:32"
     ]
    },
    {
     "name": "stdout",
     "output_type": "stream",
     "text": [
      " - Min (X): 9.953308408602084e-107\n",
      " - L1 NORM (X): 2.6503935357889374\n"
     ]
    },
    {
     "name": "stderr",
     "output_type": "stream",
     "text": [
      "\r",
      "                                                                               \r",
      "\r",
      "  2% (4 of 150) |                        | Elapsed Time: 0:00:12 ETA:   0:05:55"
     ]
    },
    {
     "name": "stdout",
     "output_type": "stream",
     "text": [
      " - COST: 247.04325145005714\n",
      "\n",
      " - ITERATION: 156\n"
     ]
    },
    {
     "name": "stderr",
     "output_type": "stream",
     "text": [
      "\r",
      "                                                                               \r",
      "\r",
      "  2% (4 of 150) |                        | Elapsed Time: 0:00:12 ETA:   0:06:32"
     ]
    },
    {
     "name": "stdout",
     "output_type": "stream",
     "text": [
      " - DATA FIDELITY (X): 244.25188265182237\n"
     ]
    },
    {
     "name": "stderr",
     "output_type": "stream",
     "text": [
      "\r",
      "                                                                               \r",
      "\r",
      "  2% (4 of 150) |                        | Elapsed Time: 0:00:13 ETA:   0:06:23"
     ]
    },
    {
     "name": "stdout",
     "output_type": "stream",
     "text": [
      " - Min (X): 1.9906616817204164e-107\n",
      " - L1 NORM (X): 2.6796848718290724\n"
     ]
    },
    {
     "name": "stderr",
     "output_type": "stream",
     "text": [
      "\r",
      "                                                                               \r",
      "\r",
      "  3% (5 of 150) |                        | Elapsed Time: 0:00:15 ETA:   0:05:43"
     ]
    },
    {
     "name": "stdout",
     "output_type": "stream",
     "text": [
      " - COST: 246.93156752365144\n",
      "\n",
      " - CONVERGENCE TEST - \n",
      " - CHANGE IN COST: 0.0009599711509902694\n",
      "\n",
      " - ITERATION: 157\n"
     ]
    },
    {
     "name": "stderr",
     "output_type": "stream",
     "text": [
      "\r",
      "                                                                               \r",
      "\r",
      "  3% (5 of 150) |                        | Elapsed Time: 0:00:15 ETA:   0:06:20"
     ]
    },
    {
     "name": "stdout",
     "output_type": "stream",
     "text": [
      " - DATA FIDELITY (X): 244.1201279962453\n"
     ]
    },
    {
     "name": "stderr",
     "output_type": "stream",
     "text": [
      "\r",
      "                                                                               \r",
      "\r",
      "  3% (5 of 150) |                        | Elapsed Time: 0:00:16 ETA:   0:06:20"
     ]
    },
    {
     "name": "stdout",
     "output_type": "stream",
     "text": [
      " - Min (X): 3.981323363440832e-108\n",
      " - L1 NORM (X): 2.704431744839109\n"
     ]
    },
    {
     "name": "stderr",
     "output_type": "stream",
     "text": [
      "\r",
      "                                                                               \r",
      "\r",
      "  4% (6 of 150) |                        | Elapsed Time: 0:00:17 ETA:   0:05:43"
     ]
    },
    {
     "name": "stdout",
     "output_type": "stream",
     "text": [
      " - COST: 246.82455974108439\n",
      "\n",
      " - ITERATION: 158\n"
     ]
    },
    {
     "name": "stderr",
     "output_type": "stream",
     "text": [
      "\r",
      "                                                                               \r",
      "\r",
      "  4% (6 of 150) |                        | Elapsed Time: 0:00:18 ETA:   0:04:50"
     ]
    },
    {
     "name": "stdout",
     "output_type": "stream",
     "text": [
      " - DATA FIDELITY (X): 243.9961645542655\n"
     ]
    },
    {
     "name": "stderr",
     "output_type": "stream",
     "text": [
      "\r",
      "                                                                               \r",
      "\r",
      "  4% (6 of 150) |                        | Elapsed Time: 0:00:18 ETA:   0:06:21"
     ]
    },
    {
     "name": "stdout",
     "output_type": "stream",
     "text": [
      " - Min (X): 7.962646726881661e-109\n",
      " - L1 NORM (X): 2.72504903382586\n"
     ]
    },
    {
     "name": "stderr",
     "output_type": "stream",
     "text": [
      "\r",
      "                                                                               \r",
      "\r",
      "  4% (7 of 150) |#                       | Elapsed Time: 0:00:20 ETA:   0:05:40"
     ]
    },
    {
     "name": "stdout",
     "output_type": "stream",
     "text": [
      " - COST: 246.72121358809136\n",
      "\n",
      " - ITERATION: 159\n"
     ]
    },
    {
     "name": "stderr",
     "output_type": "stream",
     "text": [
      "\r",
      "                                                                               \r",
      "\r",
      "  4% (7 of 150) |#                       | Elapsed Time: 0:00:20 ETA:   0:04:46"
     ]
    },
    {
     "name": "stdout",
     "output_type": "stream",
     "text": [
      " - DATA FIDELITY (X): 243.87882447010514\n"
     ]
    },
    {
     "name": "stderr",
     "output_type": "stream",
     "text": [
      "\r",
      "                                                                               \r",
      "\r",
      "  4% (7 of 150) |#                       | Elapsed Time: 0:00:21 ETA:   0:06:16"
     ]
    },
    {
     "name": "stdout",
     "output_type": "stream",
     "text": [
      " - Min (X): 1.592529345376332e-109\n",
      " - L1 NORM (X): 2.7419954893747063\n"
     ]
    },
    {
     "name": "stderr",
     "output_type": "stream",
     "text": [
      "\r",
      "                                                                               \r",
      "\r",
      "  5% (8 of 150) |#                       | Elapsed Time: 0:00:23 ETA:   0:05:38"
     ]
    },
    {
     "name": "stdout",
     "output_type": "stream",
     "text": [
      " - COST: 246.62081995947986\n",
      "\n",
      " - ITERATION: 160\n"
     ]
    },
    {
     "name": "stderr",
     "output_type": "stream",
     "text": [
      "\r",
      "                                                                               \r",
      "\r",
      "  5% (8 of 150) |#                       | Elapsed Time: 0:00:23 ETA:   0:04:44"
     ]
    },
    {
     "name": "stdout",
     "output_type": "stream",
     "text": [
      " - DATA FIDELITY (X): 243.7671920557911\n"
     ]
    },
    {
     "name": "stderr",
     "output_type": "stream",
     "text": [
      "\r",
      "                                                                               \r",
      "\r",
      "  5% (8 of 150) |#                       | Elapsed Time: 0:00:24 ETA:   0:06:14"
     ]
    },
    {
     "name": "stdout",
     "output_type": "stream",
     "text": [
      " - Min (X): 3.1850586907526634e-110\n",
      " - L1 NORM (X): 2.7558194034041374\n"
     ]
    },
    {
     "name": "stderr",
     "output_type": "stream",
     "text": [
      "\r",
      "                                                                               \r",
      "\r",
      "  6% (9 of 150) |#                       | Elapsed Time: 0:00:25 ETA:   0:05:35"
     ]
    },
    {
     "name": "stdout",
     "output_type": "stream",
     "text": [
      " - COST: 246.52301145919523\n",
      "\n",
      " - CONVERGENCE TEST - \n",
      " - CHANGE IN COST: 0.0008150602012892998\n",
      "\n",
      " - ITERATION: 161\n"
     ]
    },
    {
     "name": "stderr",
     "output_type": "stream",
     "text": [
      "\r",
      "                                                                               \r",
      "\r",
      "  6% (9 of 150) |#                       | Elapsed Time: 0:00:26 ETA:   0:04:42"
     ]
    },
    {
     "name": "stdout",
     "output_type": "stream",
     "text": [
      " - DATA FIDELITY (X): 243.66054769260884\n"
     ]
    },
    {
     "name": "stderr",
     "output_type": "stream",
     "text": [
      "\r",
      "                                                                               \r",
      "\r",
      "  6% (9 of 150) |#                       | Elapsed Time: 0:00:26 ETA:   0:06:20"
     ]
    },
    {
     "name": "stdout",
     "output_type": "stream",
     "text": [
      " - Min (X): 6.370117381505325e-111\n",
      " - L1 NORM (X): 2.767084246909187\n"
     ]
    },
    {
     "name": "stderr",
     "output_type": "stream",
     "text": [
      "\r",
      "                                                                               \r",
      "\r",
      "  6% (10 of 150) |#                      | Elapsed Time: 0:00:28 ETA:   0:05:41"
     ]
    },
    {
     "name": "stdout",
     "output_type": "stream",
     "text": [
      " - COST: 246.42763193951802\n",
      "\n",
      " - ITERATION: 162\n"
     ]
    },
    {
     "name": "stderr",
     "output_type": "stream",
     "text": [
      "\r",
      "                                                                               \r",
      "\r",
      "  6% (10 of 150) |#                      | Elapsed Time: 0:00:28 ETA:   0:06:17"
     ]
    },
    {
     "name": "stdout",
     "output_type": "stream",
     "text": [
      " - DATA FIDELITY (X): 243.55824954928434\n"
     ]
    },
    {
     "name": "stderr",
     "output_type": "stream",
     "text": [
      "\r",
      "                                                                               \r",
      "\r",
      "  6% (10 of 150) |#                      | Elapsed Time: 0:00:29 ETA:   0:06:09"
     ]
    },
    {
     "name": "stdout",
     "output_type": "stream",
     "text": [
      " - Min (X): 1.2740234763010648e-111\n",
      " - L1 NORM (X): 2.7763086817473255\n"
     ]
    },
    {
     "name": "stderr",
     "output_type": "stream",
     "text": [
      "\r",
      "                                                                               \r",
      "\r",
      "  7% (11 of 150) |#                      | Elapsed Time: 0:00:31 ETA:   0:05:30"
     ]
    },
    {
     "name": "stdout",
     "output_type": "stream",
     "text": [
      " - COST: 246.33455823103168\n",
      "\n",
      " - ITERATION: 163\n"
     ]
    },
    {
     "name": "stderr",
     "output_type": "stream",
     "text": [
      "\r",
      "                                                                               \r",
      "\r",
      "  7% (11 of 150) |#                      | Elapsed Time: 0:00:31 ETA:   0:06:06"
     ]
    },
    {
     "name": "stdout",
     "output_type": "stream",
     "text": [
      " - DATA FIDELITY (X): 243.45984723300933\n"
     ]
    },
    {
     "name": "stderr",
     "output_type": "stream",
     "text": [
      "\r",
      "                                                                               \r",
      "\r",
      "  7% (11 of 150) |#                      | Elapsed Time: 0:00:32 ETA:   0:06:10"
     ]
    },
    {
     "name": "stdout",
     "output_type": "stream",
     "text": [
      " - Min (X): 2.548046952602129e-112\n",
      " - L1 NORM (X): 2.7839876095641563\n"
     ]
    },
    {
     "name": "stderr",
     "output_type": "stream",
     "text": [
      "\r",
      "                                                                               \r",
      "\r",
      "  8% (12 of 150) |#                      | Elapsed Time: 0:00:33 ETA:   0:05:34"
     ]
    },
    {
     "name": "stdout",
     "output_type": "stream",
     "text": [
      " - COST: 246.24383484257348\n",
      "\n",
      " - ITERATION: 164\n"
     ]
    },
    {
     "name": "stderr",
     "output_type": "stream",
     "text": [
      "\r",
      "                                                                               \r",
      "\r",
      "  8% (12 of 150) |#                      | Elapsed Time: 0:00:34 ETA:   0:04:40"
     ]
    },
    {
     "name": "stdout",
     "output_type": "stream",
     "text": [
      " - DATA FIDELITY (X): 243.36475200414483\n"
     ]
    },
    {
     "name": "stderr",
     "output_type": "stream",
     "text": [
      "\r",
      "                                                                               \r",
      "\r",
      "  8% (12 of 150) |#                      | Elapsed Time: 0:00:34 ETA:   0:06:07"
     ]
    },
    {
     "name": "stdout",
     "output_type": "stream",
     "text": [
      " - Min (X): 5.0960939052042567e-113\n",
      " - L1 NORM (X): 2.7905058883859373\n"
     ]
    },
    {
     "name": "stderr",
     "output_type": "stream",
     "text": [
      "\r",
      "                                                                               \r",
      "\r",
      "  8% (13 of 150) |#                      | Elapsed Time: 0:00:36 ETA:   0:05:24"
     ]
    },
    {
     "name": "stdout",
     "output_type": "stream",
     "text": [
      " - COST: 246.15525789253078\n",
      "\n",
      " - CONVERGENCE TEST - \n",
      " - CHANGE IN COST: 0.00073740476130569\n",
      "\n",
      " - ITERATION: 165\n"
     ]
    },
    {
     "name": "stderr",
     "output_type": "stream",
     "text": [
      "\r",
      "                                                                               \r",
      "\r",
      "  8% (13 of 150) |#                      | Elapsed Time: 0:00:36 ETA:   0:05:59"
     ]
    },
    {
     "name": "stdout",
     "output_type": "stream",
     "text": [
      " - DATA FIDELITY (X): 243.27263512187596\n"
     ]
    },
    {
     "name": "stderr",
     "output_type": "stream",
     "text": [
      "\r",
      "                                                                               \r",
      "\r",
      "  8% (13 of 150) |#                      | Elapsed Time: 0:00:37 ETA:   0:06:03"
     ]
    },
    {
     "name": "stdout",
     "output_type": "stream",
     "text": [
      " - Min (X): 1.0192187810408511e-113\n",
      " - L1 NORM (X): 2.7961911132806017\n"
     ]
    },
    {
     "name": "stderr",
     "output_type": "stream",
     "text": [
      "\r",
      "                                                                               \r",
      "\r",
      "  9% (14 of 150) |##                     | Elapsed Time: 0:00:39 ETA:   0:05:30"
     ]
    },
    {
     "name": "stdout",
     "output_type": "stream",
     "text": [
      " - COST: 246.06882623515656\n",
      "\n",
      " - ITERATION: 166\n"
     ]
    },
    {
     "name": "stderr",
     "output_type": "stream",
     "text": [
      "\r",
      "                                                                               \r",
      "\r",
      "  9% (14 of 150) |##                     | Elapsed Time: 0:00:39 ETA:   0:04:41"
     ]
    },
    {
     "name": "stdout",
     "output_type": "stream",
     "text": [
      " - DATA FIDELITY (X): 243.18332168260773\n"
     ]
    },
    {
     "name": "stderr",
     "output_type": "stream",
     "text": [
      "\r",
      "                                                                               \r",
      "\r",
      "  9% (14 of 150) |##                     | Elapsed Time: 0:00:40 ETA:   0:06:15"
     ]
    },
    {
     "name": "stdout",
     "output_type": "stream",
     "text": [
      " - Min (X): 2.038437562081702e-114\n",
      " - L1 NORM (X): 2.8012518141642846\n"
     ]
    },
    {
     "name": "stderr",
     "output_type": "stream",
     "text": [
      "\r",
      "                                                                               \r",
      "\r",
      " 10% (15 of 150) |##                     | Elapsed Time: 0:00:42 ETA:   0:05:55"
     ]
    },
    {
     "name": "stdout",
     "output_type": "stream",
     "text": [
      " - COST: 245.98457349677201\n",
      "\n",
      " - ITERATION: 167\n"
     ]
    },
    {
     "name": "stderr",
     "output_type": "stream",
     "text": [
      "\r",
      "                                                                               \r",
      "\r",
      " 10% (15 of 150) |##                     | Elapsed Time: 0:00:42 ETA:   0:05:05"
     ]
    },
    {
     "name": "stdout",
     "output_type": "stream",
     "text": [
      " - DATA FIDELITY (X): 243.0964203443038\n"
     ]
    },
    {
     "name": "stderr",
     "output_type": "stream",
     "text": [
      "\r",
      "                                                                               \r",
      "\r",
      " 10% (15 of 150) |##                     | Elapsed Time: 0:00:43 ETA:   0:06:30"
     ]
    },
    {
     "name": "stdout",
     "output_type": "stream",
     "text": [
      " - Min (X): 4.076875124163403e-115\n",
      " - L1 NORM (X): 2.805809005217567\n"
     ]
    },
    {
     "name": "stderr",
     "output_type": "stream",
     "text": [
      "\r",
      "                                                                               \r",
      "\r",
      " 10% (16 of 150) |##                     | Elapsed Time: 0:00:44 ETA:   0:05:20"
     ]
    },
    {
     "name": "stdout",
     "output_type": "stream",
     "text": [
      " - COST: 245.90222934952135\n",
      "\n",
      " - ITERATION: 168\n"
     ]
    },
    {
     "name": "stderr",
     "output_type": "stream",
     "text": [
      "\r",
      "                                                                               \r",
      "\r",
      " 10% (16 of 150) |##                     | Elapsed Time: 0:00:45 ETA:   0:04:31"
     ]
    },
    {
     "name": "stdout",
     "output_type": "stream",
     "text": [
      " - DATA FIDELITY (X): 243.0116380907668\n"
     ]
    },
    {
     "name": "stderr",
     "output_type": "stream",
     "text": [
      "\r",
      "                                                                               \r",
      "\r",
      " 10% (16 of 150) |##                     | Elapsed Time: 0:00:45 ETA:   0:05:54"
     ]
    },
    {
     "name": "stdout",
     "output_type": "stream",
     "text": [
      " - Min (X): 8.153750248326805e-116\n",
      " - L1 NORM (X): 2.8099101074050767\n"
     ]
    },
    {
     "name": "stderr",
     "output_type": "stream",
     "text": [
      "\r",
      "                                                                               \r",
      "\r",
      " 11% (17 of 150) |##                     | Elapsed Time: 0:00:47 ETA:   0:05:17"
     ]
    },
    {
     "name": "stdout",
     "output_type": "stream",
     "text": [
      " - COST: 245.82154819817188\n",
      "\n",
      " - CONVERGENCE TEST - \n",
      " - CHANGE IN COST: 0.0006703401366500599\n",
      "\n",
      " - ITERATION: 169\n"
     ]
    },
    {
     "name": "stderr",
     "output_type": "stream",
     "text": [
      "\r",
      "                                                                               \r",
      "\r",
      " 11% (17 of 150) |##                     | Elapsed Time: 0:00:47 ETA:   0:04:29"
     ]
    },
    {
     "name": "stdout",
     "output_type": "stream",
     "text": [
      " - DATA FIDELITY (X): 242.92880879111667\n"
     ]
    },
    {
     "name": "stderr",
     "output_type": "stream",
     "text": [
      "\r",
      "                                                                               \r",
      "\r",
      " 11% (17 of 150) |##                     | Elapsed Time: 0:00:48 ETA:   0:05:52"
     ]
    },
    {
     "name": "stdout",
     "output_type": "stream",
     "text": [
      " - Min (X): 1.6307500496653607e-116\n",
      " - L1 NORM (X): 2.813604821289972\n"
     ]
    },
    {
     "name": "stderr",
     "output_type": "stream",
     "text": [
      "\r",
      "                                                                               \r",
      "\r",
      " 12% (18 of 150) |##                     | Elapsed Time: 0:00:50 ETA:   0:05:16"
     ]
    },
    {
     "name": "stdout",
     "output_type": "stream",
     "text": [
      " - COST: 245.74241361240664\n",
      "\n",
      " - ITERATION: 170\n"
     ]
    },
    {
     "name": "stderr",
     "output_type": "stream",
     "text": [
      "\r",
      "                                                                               \r",
      "\r",
      " 12% (18 of 150) |##                     | Elapsed Time: 0:00:50 ETA:   0:05:46"
     ]
    },
    {
     "name": "stdout",
     "output_type": "stream",
     "text": [
      " - DATA FIDELITY (X): 242.84775826432542\n"
     ]
    },
    {
     "name": "stderr",
     "output_type": "stream",
     "text": [
      "\r",
      "                                                                               \r",
      "\r",
      " 12% (18 of 150) |##                     | Elapsed Time: 0:00:50 ETA:   0:05:46"
     ]
    },
    {
     "name": "stdout",
     "output_type": "stream",
     "text": [
      " - Min (X): 3.2615000993307206e-117\n",
      " - L1 NORM (X): 2.816920699990062\n"
     ]
    },
    {
     "name": "stderr",
     "output_type": "stream",
     "text": [
      "\r",
      "                                                                               \r",
      "\r",
      " 12% (19 of 150) |##                     | Elapsed Time: 0:00:52 ETA:   0:05:12"
     ]
    },
    {
     "name": "stdout",
     "output_type": "stream",
     "text": [
      " - COST: 245.66467896431547\n",
      "\n",
      " - ITERATION: 171\n"
     ]
    },
    {
     "name": "stderr",
     "output_type": "stream",
     "text": [
      "\r",
      "                                                                               \r",
      "\r",
      " 12% (19 of 150) |##                     | Elapsed Time: 0:00:52 ETA:   0:04:23"
     ]
    },
    {
     "name": "stdout",
     "output_type": "stream",
     "text": [
      " - DATA FIDELITY (X): 242.76828392902206\n"
     ]
    },
    {
     "name": "stderr",
     "output_type": "stream",
     "text": [
      "\r",
      "                                                                               \r",
      "\r",
      " 12% (19 of 150) |##                     | Elapsed Time: 0:00:53 ETA:   0:05:45"
     ]
    },
    {
     "name": "stdout",
     "output_type": "stream",
     "text": [
      " - Min (X): 6.52300019866144e-118\n",
      " - L1 NORM (X): 2.8198836369763214\n"
     ]
    },
    {
     "name": "stderr",
     "output_type": "stream",
     "text": [
      "\r",
      "                                                                               \r",
      "\r",
      " 13% (20 of 150) |###                    | Elapsed Time: 0:00:55 ETA:   0:05:07"
     ]
    },
    {
     "name": "stdout",
     "output_type": "stream",
     "text": [
      " - COST: 245.5881675659984\n",
      "\n",
      " - ITERATION: 172\n"
     ]
    },
    {
     "name": "stderr",
     "output_type": "stream",
     "text": [
      "\r",
      "                                                                               \r",
      "\r",
      " 13% (20 of 150) |###                    | Elapsed Time: 0:00:55 ETA:   0:05:37"
     ]
    },
    {
     "name": "stdout",
     "output_type": "stream",
     "text": [
      " - DATA FIDELITY (X): 242.6902286994014\n"
     ]
    },
    {
     "name": "stderr",
     "output_type": "stream",
     "text": [
      "\r",
      "                                                                               \r",
      "\r",
      " 13% (20 of 150) |###                    | Elapsed Time: 0:00:56 ETA:   0:05:44"
     ]
    },
    {
     "name": "stdout",
     "output_type": "stream",
     "text": [
      " - Min (X): 1.3046000397322877e-118\n",
      " - L1 NORM (X): 2.8225209965369946\n"
     ]
    },
    {
     "name": "stderr",
     "output_type": "stream",
     "text": [
      "\r",
      "                                                                               \r",
      "\r",
      " 14% (21 of 150) |###                    | Elapsed Time: 0:00:58 ETA:   0:05:37"
     ]
    },
    {
     "name": "stdout",
     "output_type": "stream",
     "text": [
      " - COST: 245.5127496959384\n",
      "\n",
      " - CONVERGENCE TEST - \n",
      " - CHANGE IN COST: 0.0006234468395871827\n",
      "\n",
      " - ITERATION: 173\n"
     ]
    },
    {
     "name": "stderr",
     "output_type": "stream",
     "text": [
      "\r",
      "                                                                               \r",
      "\r",
      " 14% (21 of 150) |###                    | Elapsed Time: 0:00:58 ETA:   0:04:42"
     ]
    },
    {
     "name": "stdout",
     "output_type": "stream",
     "text": [
      " - DATA FIDELITY (X): 242.6136099776032\n"
     ]
    },
    {
     "name": "stderr",
     "output_type": "stream",
     "text": [
      "\r",
      "                                                                               \r",
      "\r",
      " 14% (21 of 150) |###                    | Elapsed Time: 0:00:59 ETA:   0:06:06"
     ]
    },
    {
     "name": "stdout",
     "output_type": "stream",
     "text": [
      " - Min (X): 2.6092000794645747e-119\n",
      " - L1 NORM (X): 2.8248696194634224\n"
     ]
    },
    {
     "name": "stderr",
     "output_type": "stream",
     "text": [
      "\r",
      "                                                                               \r",
      "\r",
      " 14% (22 of 150) |###                    | Elapsed Time: 0:01:00 ETA:   0:05:09"
     ]
    },
    {
     "name": "stdout",
     "output_type": "stream",
     "text": [
      " - COST: 245.43847959706662\n",
      "\n",
      " - ITERATION: 174\n"
     ]
    },
    {
     "name": "stderr",
     "output_type": "stream",
     "text": [
      "\r",
      "                                                                               \r",
      "\r",
      " 14% (22 of 150) |###                    | Elapsed Time: 0:01:01 ETA:   0:04:18"
     ]
    },
    {
     "name": "stdout",
     "output_type": "stream",
     "text": [
      " - DATA FIDELITY (X): 242.5383783612204\n"
     ]
    },
    {
     "name": "stderr",
     "output_type": "stream",
     "text": [
      "\r",
      "                                                                               \r",
      "\r",
      " 14% (22 of 150) |###                    | Elapsed Time: 0:01:01 ETA:   0:05:43"
     ]
    },
    {
     "name": "stdout",
     "output_type": "stream",
     "text": [
      " - Min (X): 5.2184001589291484e-120\n",
      " - L1 NORM (X): 2.8269636805882654\n"
     ]
    },
    {
     "name": "stderr",
     "output_type": "stream",
     "text": [
      "\r",
      "                                                                               \r",
      "\r",
      " 15% (23 of 150) |###                    | Elapsed Time: 0:01:03 ETA:   0:05:08"
     ]
    },
    {
     "name": "stdout",
     "output_type": "stream",
     "text": [
      " - COST: 245.36534204180867\n",
      "\n",
      " - ITERATION: 175\n"
     ]
    },
    {
     "name": "stderr",
     "output_type": "stream",
     "text": [
      "\r",
      "                                                                               \r",
      "\r",
      " 15% (23 of 150) |###                    | Elapsed Time: 0:01:03 ETA:   0:04:17"
     ]
    },
    {
     "name": "stdout",
     "output_type": "stream",
     "text": [
      " - DATA FIDELITY (X): 242.464520646378\n"
     ]
    },
    {
     "name": "stderr",
     "output_type": "stream",
     "text": [
      "\r",
      "                                                                               \r",
      "\r",
      " 15% (23 of 150) |###                    | Elapsed Time: 0:01:04 ETA:   0:05:40"
     ]
    },
    {
     "name": "stdout",
     "output_type": "stream",
     "text": [
      " - Min (X): 1.0436800317858295e-120\n",
      " - L1 NORM (X): 2.828848695285707\n"
     ]
    },
    {
     "name": "stderr",
     "output_type": "stream",
     "text": [
      "\r",
      "                                                                               \r",
      "\r",
      " 16% (24 of 150) |###                    | Elapsed Time: 0:01:06 ETA:   0:05:03"
     ]
    },
    {
     "name": "stdout",
     "output_type": "stream",
     "text": [
      " - COST: 245.2933693416637\n",
      "\n",
      " - ITERATION: 176\n"
     ]
    },
    {
     "name": "stderr",
     "output_type": "stream",
     "text": [
      "\r",
      "                                                                               \r",
      "\r",
      " 16% (24 of 150) |###                    | Elapsed Time: 0:01:06 ETA:   0:04:13"
     ]
    },
    {
     "name": "stdout",
     "output_type": "stream",
     "text": [
      " - DATA FIDELITY (X): 242.3918889574819\n"
     ]
    },
    {
     "name": "stderr",
     "output_type": "stream",
     "text": [
      "\r",
      "                                                                               \r",
      "\r",
      " 16% (24 of 150) |###                    | Elapsed Time: 0:01:07 ETA:   0:05:32"
     ]
    },
    {
     "name": "stdout",
     "output_type": "stream",
     "text": [
      " - Min (X): 2.0873600635716586e-121\n",
      " - L1 NORM (X): 2.830553807694736\n"
     ]
    },
    {
     "name": "stderr",
     "output_type": "stream",
     "text": [
      "\r",
      "                                                                               \r",
      "\r",
      " 16% (25 of 150) |###                    | Elapsed Time: 0:01:08 ETA:   0:05:01"
     ]
    },
    {
     "name": "stdout",
     "output_type": "stream",
     "text": [
      " - COST: 245.22244276517665\n",
      "\n",
      " - CONVERGENCE TEST - \n",
      " - CHANGE IN COST: 0.0005871564686118952\n",
      "\n",
      " - ITERATION: 177\n"
     ]
    },
    {
     "name": "stderr",
     "output_type": "stream",
     "text": [
      "\r",
      "                                                                               \r",
      "\r",
      " 16% (25 of 150) |###                    | Elapsed Time: 0:01:09 ETA:   0:04:14"
     ]
    },
    {
     "name": "stdout",
     "output_type": "stream",
     "text": [
      " - DATA FIDELITY (X): 242.32051380860602\n"
     ]
    },
    {
     "name": "stderr",
     "output_type": "stream",
     "text": [
      "\r",
      "                                                                               \r",
      "\r",
      " 16% (25 of 150) |###                    | Elapsed Time: 0:01:09 ETA:   0:05:35"
     ]
    },
    {
     "name": "stdout",
     "output_type": "stream",
     "text": [
      " - Min (X): 4.174720127143316e-122\n",
      " - L1 NORM (X): 2.832104819974579\n"
     ]
    },
    {
     "name": "stderr",
     "output_type": "stream",
     "text": [
      "\r",
      "                                                                               \r",
      "\r",
      " 17% (26 of 150) |###                    | Elapsed Time: 0:01:11 ETA:   0:04:56"
     ]
    },
    {
     "name": "stdout",
     "output_type": "stream",
     "text": [
      " - COST: 245.1526186285806\n",
      "\n",
      " - ITERATION: 178\n"
     ]
    },
    {
     "name": "stderr",
     "output_type": "stream",
     "text": [
      "\r",
      "                                                                               \r",
      "\r",
      " 17% (26 of 150) |###                    | Elapsed Time: 0:01:11 ETA:   0:04:08"
     ]
    },
    {
     "name": "stdout",
     "output_type": "stream",
     "text": [
      " - DATA FIDELITY (X): 242.25040673729328\n"
     ]
    },
    {
     "name": "stderr",
     "output_type": "stream",
     "text": [
      "\r",
      "                                                                               \r",
      "\r",
      " 17% (26 of 150) |###                    | Elapsed Time: 0:01:12 ETA:   0:05:29"
     ]
    },
    {
     "name": "stdout",
     "output_type": "stream",
     "text": [
      " - Min (X): 8.34944025428663e-123\n",
      " - L1 NORM (X): 2.8335327685065694\n"
     ]
    },
    {
     "name": "stderr",
     "output_type": "stream",
     "text": [
      "\r",
      "                                                                               \r",
      "\r",
      " 18% (27 of 150) |####                   | Elapsed Time: 0:01:14 ETA:   0:04:55"
     ]
    },
    {
     "name": "stdout",
     "output_type": "stream",
     "text": [
      " - COST: 245.08393950579983\n",
      "\n",
      " - ITERATION: 179\n"
     ]
    },
    {
     "name": "stderr",
     "output_type": "stream",
     "text": [
      "\r",
      "                                                                               \r",
      "\r",
      " 18% (27 of 150) |####                   | Elapsed Time: 0:01:14 ETA:   0:05:26"
     ]
    },
    {
     "name": "stdout",
     "output_type": "stream",
     "text": [
      " - DATA FIDELITY (X): 242.18136838335647\n"
     ]
    },
    {
     "name": "stderr",
     "output_type": "stream",
     "text": [
      "\r",
      "                                                                               \r",
      "\r",
      " 18% (27 of 150) |####                   | Elapsed Time: 0:01:15 ETA:   0:05:23"
     ]
    },
    {
     "name": "stdout",
     "output_type": "stream",
     "text": [
      " - Min (X): 1.6698880508573258e-123\n",
      " - L1 NORM (X): 2.8348615842967724\n"
     ]
    },
    {
     "name": "stderr",
     "output_type": "stream",
     "text": [
      "\r",
      "                                                                               \r",
      "\r",
      " 18% (28 of 150) |####                   | Elapsed Time: 0:01:16 ETA:   0:04:52"
     ]
    },
    {
     "name": "stdout",
     "output_type": "stream",
     "text": [
      " - COST: 245.01622996765323\n",
      "\n",
      " - ITERATION: 180\n"
     ]
    },
    {
     "name": "stderr",
     "output_type": "stream",
     "text": [
      "\r",
      "                                                                               \r",
      "\r",
      " 18% (28 of 150) |####                   | Elapsed Time: 0:01:17 ETA:   0:04:07"
     ]
    },
    {
     "name": "stdout",
     "output_type": "stream",
     "text": [
      " - DATA FIDELITY (X): 242.11329536444282\n"
     ]
    },
    {
     "name": "stderr",
     "output_type": "stream",
     "text": [
      "\r",
      "                                                                               \r",
      "\r",
      " 18% (28 of 150) |####                   | Elapsed Time: 0:01:17 ETA:   0:05:26"
     ]
    },
    {
     "name": "stdout",
     "output_type": "stream",
     "text": [
      " - Min (X): 3.3397761017146508e-124\n",
      " - L1 NORM (X): 2.8361017841154124\n"
     ]
    },
    {
     "name": "stderr",
     "output_type": "stream",
     "text": [
      "\r",
      "                                                                               \r",
      "\r",
      " 19% (29 of 150) |####                   | Elapsed Time: 0:01:19 ETA:   0:04:48"
     ]
    },
    {
     "name": "stdout",
     "output_type": "stream",
     "text": [
      " - COST: 244.94939714855823\n",
      "\n",
      " - CONVERGENCE TEST - \n",
      " - CHANGE IN COST: 0.0005529592346376521\n",
      "\n",
      " - ITERATION: 181\n"
     ]
    },
    {
     "name": "stderr",
     "output_type": "stream",
     "text": [
      "\r",
      "                                                                               \r",
      "\r",
      " 19% (29 of 150) |####                   | Elapsed Time: 0:01:19 ETA:   0:05:19"
     ]
    },
    {
     "name": "stdout",
     "output_type": "stream",
     "text": [
      " - DATA FIDELITY (X): 242.04620611261805\n"
     ]
    },
    {
     "name": "stderr",
     "output_type": "stream",
     "text": [
      "\r",
      "                                                                               \r",
      "\r",
      " 19% (29 of 150) |####                   | Elapsed Time: 0:01:20 ETA:   0:05:17"
     ]
    },
    {
     "name": "stdout",
     "output_type": "stream",
     "text": [
      " - Min (X): 6.6795522034293e-125\n",
      " - L1 NORM (X): 2.837268414371743\n"
     ]
    },
    {
     "name": "stderr",
     "output_type": "stream",
     "text": [
      "\r",
      "                                                                               \r",
      "\r",
      " 20% (30 of 150) |####                   | Elapsed Time: 0:01:22 ETA:   0:04:44"
     ]
    },
    {
     "name": "stdout",
     "output_type": "stream",
     "text": [
      " - COST: 244.8834745269898\n",
      "\n",
      " - ITERATION: 182\n"
     ]
    },
    {
     "name": "stderr",
     "output_type": "stream",
     "text": [
      "\r",
      "                                                                               \r",
      "\r",
      " 20% (30 of 150) |####                   | Elapsed Time: 0:01:22 ETA:   0:05:15"
     ]
    },
    {
     "name": "stdout",
     "output_type": "stream",
     "text": [
      " - DATA FIDELITY (X): 241.98030010983604\n"
     ]
    },
    {
     "name": "stderr",
     "output_type": "stream",
     "text": [
      "\r",
      "                                                                               \r",
      "\r",
      " 20% (30 of 150) |####                   | Elapsed Time: 0:01:23 ETA:   0:05:18"
     ]
    },
    {
     "name": "stdout",
     "output_type": "stream",
     "text": [
      " - Min (X): 1.3359104406858598e-125\n",
      " - L1 NORM (X): 2.8383597209840845\n"
     ]
    },
    {
     "name": "stderr",
     "output_type": "stream",
     "text": [
      "\r",
      "                                                                               \r",
      "\r",
      " 20% (31 of 150) |####                   | Elapsed Time: 0:01:24 ETA:   0:04:45"
     ]
    },
    {
     "name": "stdout",
     "output_type": "stream",
     "text": [
      " - COST: 244.8186598308201\n",
      "\n",
      " - ITERATION: 183\n"
     ]
    },
    {
     "name": "stderr",
     "output_type": "stream",
     "text": [
      "\r",
      "                                                                               \r",
      "\r",
      " 20% (31 of 150) |####                   | Elapsed Time: 0:01:25 ETA:   0:03:58"
     ]
    },
    {
     "name": "stdout",
     "output_type": "stream",
     "text": [
      " - DATA FIDELITY (X): 241.91545858701983\n"
     ]
    },
    {
     "name": "stderr",
     "output_type": "stream",
     "text": [
      "\r",
      "                                                                               \r",
      "\r",
      " 20% (31 of 150) |####                   | Elapsed Time: 0:01:25 ETA:   0:05:12"
     ]
    },
    {
     "name": "stdout",
     "output_type": "stream",
     "text": [
      " - Min (X): 2.671820881371719e-126\n",
      " - L1 NORM (X): 2.839370296651359\n"
     ]
    },
    {
     "name": "stderr",
     "output_type": "stream",
     "text": [
      "\r",
      "                                                                               \r",
      "\r",
      " 21% (32 of 150) |####                   | Elapsed Time: 0:01:27 ETA:   0:04:53"
     ]
    },
    {
     "name": "stdout",
     "output_type": "stream",
     "text": [
      " - COST: 244.7548288836712\n",
      "\n",
      " - ITERATION: 184\n"
     ]
    },
    {
     "name": "stderr",
     "output_type": "stream",
     "text": [
      "\r",
      "                                                                               \r",
      "\r",
      " 21% (32 of 150) |####                   | Elapsed Time: 0:01:27 ETA:   0:04:10"
     ]
    },
    {
     "name": "stdout",
     "output_type": "stream",
     "text": [
      " - DATA FIDELITY (X): 241.85153019645648\n"
     ]
    },
    {
     "name": "stderr",
     "output_type": "stream",
     "text": [
      "\r",
      "                                                                               \r",
      "\r",
      " 21% (32 of 150) |####                   | Elapsed Time: 0:01:28 ETA:   0:05:43"
     ]
    },
    {
     "name": "stdout",
     "output_type": "stream",
     "text": [
      " - Min (X): 5.3436417627434365e-127\n",
      " - L1 NORM (X): 2.8402840879723414\n"
     ]
    },
    {
     "name": "stderr",
     "output_type": "stream",
     "text": [
      "\r",
      "                                                                               \r",
      "\r",
      " 22% (33 of 150) |#####                  | Elapsed Time: 0:01:30 ETA:   0:04:33"
     ]
    },
    {
     "name": "stdout",
     "output_type": "stream",
     "text": [
      " - COST: 244.69181428442883\n",
      "\n",
      " - CONVERGENCE TEST - \n",
      " - CHANGE IN COST: 0.000522000085762381\n",
      "\n",
      " - ITERATION: 185\n"
     ]
    },
    {
     "name": "stderr",
     "output_type": "stream",
     "text": [
      "\r",
      "                                                                               \r",
      "\r",
      " 22% (33 of 150) |#####                  | Elapsed Time: 0:01:31 ETA:   0:05:16"
     ]
    },
    {
     "name": "stdout",
     "output_type": "stream",
     "text": [
      " - DATA FIDELITY (X): 241.78854679680148\n"
     ]
    },
    {
     "name": "stderr",
     "output_type": "stream",
     "text": [
      "\r",
      "                                                                               \r",
      "\r",
      " 22% (33 of 150) |#####                  | Elapsed Time: 0:01:31 ETA:   0:06:34"
     ]
    },
    {
     "name": "stdout",
     "output_type": "stream",
     "text": [
      " - Min (X): 1.0687283525486871e-127\n",
      " - L1 NORM (X): 2.8411025332097952\n"
     ]
    },
    {
     "name": "stderr",
     "output_type": "stream",
     "text": [
      "\r",
      "                                                                               \r",
      "\r",
      " 22% (34 of 150) |#####                  | Elapsed Time: 0:01:34 ETA:   0:04:35"
     ]
    },
    {
     "name": "stdout",
     "output_type": "stream",
     "text": [
      " - COST: 244.6296493300113\n",
      "\n",
      " - ITERATION: 186\n"
     ]
    },
    {
     "name": "stderr",
     "output_type": "stream",
     "text": [
      "\r",
      "                                                                               \r",
      "\r",
      " 22% (34 of 150) |#####                  | Elapsed Time: 0:01:34 ETA:   0:05:13"
     ]
    },
    {
     "name": "stdout",
     "output_type": "stream",
     "text": [
      " - DATA FIDELITY (X): 241.7264813010653\n"
     ]
    },
    {
     "name": "stderr",
     "output_type": "stream",
     "text": [
      "\r",
      "                                                                               \r",
      "\r",
      " 22% (34 of 150) |#####                  | Elapsed Time: 0:01:35 ETA:   0:06:37"
     ]
    },
    {
     "name": "stdout",
     "output_type": "stream",
     "text": [
      " - Min (X): 2.1374567050973738e-128\n",
      " - L1 NORM (X): 2.84182097520763\n"
     ]
    },
    {
     "name": "stderr",
     "output_type": "stream",
     "text": [
      "\r",
      "                                                                               \r",
      "\r",
      " 23% (35 of 150) |#####                  | Elapsed Time: 0:01:37 ETA:   0:04:12"
     ]
    },
    {
     "name": "stdout",
     "output_type": "stream",
     "text": [
      " - COST: 244.56830227627293\n",
      "\n",
      " - ITERATION: 187\n"
     ]
    },
    {
     "name": "stderr",
     "output_type": "stream",
     "text": [
      "\r",
      "                                                                               \r",
      "\r",
      " 23% (35 of 150) |#####                  | Elapsed Time: 0:01:37 ETA:   0:04:42"
     ]
    },
    {
     "name": "stdout",
     "output_type": "stream",
     "text": [
      " - DATA FIDELITY (X): 241.66533364782666\n"
     ]
    },
    {
     "name": "stderr",
     "output_type": "stream",
     "text": [
      "\r",
      "                                                                               \r",
      "\r",
      " 23% (35 of 150) |#####                  | Elapsed Time: 0:01:38 ETA:   0:06:36"
     ]
    },
    {
     "name": "stdout",
     "output_type": "stream",
     "text": [
      " - Min (X): 4.274913410194747e-129\n",
      " - L1 NORM (X): 2.842437831064794\n"
     ]
    },
    {
     "name": "stderr",
     "output_type": "stream",
     "text": [
      "\r",
      "                                                                               \r",
      "\r",
      " 24% (36 of 150) |#####                  | Elapsed Time: 0:01:44 ETA:   0:10:21"
     ]
    },
    {
     "name": "stdout",
     "output_type": "stream",
     "text": [
      " - COST: 244.50777147889144\n",
      "\n",
      " - ITERATION: 188\n"
     ]
    },
    {
     "name": "stderr",
     "output_type": "stream",
     "text": [
      "\r",
      "                                                                               \r",
      "\r",
      " 24% (36 of 150) |#####                  | Elapsed Time: 0:01:44 ETA:   0:10:53"
     ]
    },
    {
     "name": "stdout",
     "output_type": "stream",
     "text": [
      " - DATA FIDELITY (X): 241.60521049129224\n"
     ]
    },
    {
     "name": "stderr",
     "output_type": "stream",
     "text": [
      "\r",
      "                                                                               \r",
      "\r",
      " 24% (36 of 150) |#####                  | Elapsed Time: 0:01:45 ETA:   0:12:25"
     ]
    },
    {
     "name": "stdout",
     "output_type": "stream",
     "text": [
      " - Min (X): 8.549826820389492e-130\n",
      " - L1 NORM (X): 2.842967058704764\n"
     ]
    },
    {
     "name": "stderr",
     "output_type": "stream",
     "text": [
      "\r",
      "                                                                               \r",
      "\r",
      " 24% (37 of 150) |#####                  | Elapsed Time: 0:01:47 ETA:   0:03:56"
     ]
    },
    {
     "name": "stdout",
     "output_type": "stream",
     "text": [
      " - COST: 244.448177549997\n",
      "\n",
      " - CONVERGENCE TEST - \n",
      " - CHANGE IN COST: 0.0004949373821433894\n",
      "\n",
      " - ITERATION: 189\n"
     ]
    },
    {
     "name": "stderr",
     "output_type": "stream",
     "text": [
      "\r",
      "                                                                               \r",
      "\r",
      " 24% (37 of 150) |#####                  | Elapsed Time: 0:01:47 ETA:   0:04:33"
     ]
    },
    {
     "name": "stdout",
     "output_type": "stream",
     "text": [
      " - DATA FIDELITY (X): 241.54598632020526\n"
     ]
    },
    {
     "name": "stderr",
     "output_type": "stream",
     "text": [
      "\r",
      "                                                                               \r",
      "\r",
      " 24% (37 of 150) |#####                  | Elapsed Time: 0:01:48 ETA:   0:06:31"
     ]
    },
    {
     "name": "stdout",
     "output_type": "stream",
     "text": [
      " - Min (X): 1.7099653640778979e-130\n",
      " - L1 NORM (X): 2.843393809081788\n"
     ]
    },
    {
     "name": "stderr",
     "output_type": "stream",
     "text": [
      "\r",
      "                                                                               \r",
      "\r",
      " 25% (38 of 150) |#####                  | Elapsed Time: 0:01:50 ETA:   0:04:02"
     ]
    },
    {
     "name": "stdout",
     "output_type": "stream",
     "text": [
      " - COST: 244.38938012928705\n",
      "\n",
      " - ITERATION: 190\n"
     ]
    },
    {
     "name": "stderr",
     "output_type": "stream",
     "text": [
      "\r",
      "                                                                               \r",
      "\r",
      " 25% (38 of 150) |#####                  | Elapsed Time: 0:01:51 ETA:   0:04:31"
     ]
    },
    {
     "name": "stdout",
     "output_type": "stream",
     "text": [
      " - DATA FIDELITY (X): 241.48750194975474\n"
     ]
    },
    {
     "name": "stderr",
     "output_type": "stream",
     "text": [
      "\r",
      "                                                                               \r",
      "\r",
      " 25% (38 of 150) |#####                  | Elapsed Time: 0:01:51 ETA:   0:05:42"
     ]
    },
    {
     "name": "stdout",
     "output_type": "stream",
     "text": [
      " - Min (X): 3.419930728155795e-131\n",
      " - L1 NORM (X): 2.843723763192459\n"
     ]
    },
    {
     "name": "stderr",
     "output_type": "stream",
     "text": [
      "\r",
      "                                                                               \r",
      "\r",
      " 26% (39 of 150) |#####                  | Elapsed Time: 0:01:53 ETA:   0:03:45"
     ]
    },
    {
     "name": "stdout",
     "output_type": "stream",
     "text": [
      " - COST: 244.3312257129472\n",
      "\n",
      " - ITERATION: 191\n"
     ]
    },
    {
     "name": "stderr",
     "output_type": "stream",
     "text": [
      "\r",
      "                                                                               \r",
      "\r",
      " 26% (39 of 150) |#####                  | Elapsed Time: 0:01:54 ETA:   0:04:18"
     ]
    },
    {
     "name": "stdout",
     "output_type": "stream",
     "text": [
      " - DATA FIDELITY (X): 241.42987538403767\n"
     ]
    },
    {
     "name": "stderr",
     "output_type": "stream",
     "text": [
      "\r",
      "                                                                               \r",
      "\r",
      " 26% (39 of 150) |#####                  | Elapsed Time: 0:01:54 ETA:   0:05:35"
     ]
    },
    {
     "name": "stdout",
     "output_type": "stream",
     "text": [
      " - Min (X): 6.839861456311589e-132\n",
      " - L1 NORM (X): 2.843970887067147\n"
     ]
    },
    {
     "name": "stderr",
     "output_type": "stream",
     "text": [
      "\r",
      "                                                                               \r",
      "\r",
      " 26% (40 of 150) |######                 | Elapsed Time: 0:01:56 ETA:   0:04:35"
     ]
    },
    {
     "name": "stdout",
     "output_type": "stream",
     "text": [
      " - COST: 244.27384627110482\n",
      "\n",
      " - ITERATION: 192\n"
     ]
    },
    {
     "name": "stderr",
     "output_type": "stream",
     "text": [
      "\r",
      "                                                                               \r",
      "\r",
      " 26% (40 of 150) |######                 | Elapsed Time: 0:01:57 ETA:   0:04:05"
     ]
    },
    {
     "name": "stdout",
     "output_type": "stream",
     "text": [
      " - DATA FIDELITY (X): 241.37306829605828\n"
     ]
    },
    {
     "name": "stderr",
     "output_type": "stream",
     "text": [
      "\r",
      "                                                                               \r",
      "\r",
      " 26% (40 of 150) |######                 | Elapsed Time: 0:01:59 ETA:   0:07:41"
     ]
    },
    {
     "name": "stdout",
     "output_type": "stream",
     "text": [
      " - Min (X): 1.3679722912623175e-132\n",
      " - L1 NORM (X): 2.8441483956170455\n"
     ]
    },
    {
     "name": "stderr",
     "output_type": "stream",
     "text": [
      "\r",
      "                                                                               \r",
      "\r",
      " 27% (41 of 150) |######                 | Elapsed Time: 0:02:02 ETA:   0:05:49"
     ]
    },
    {
     "name": "stdout",
     "output_type": "stream",
     "text": [
      " - COST: 244.21721669167533\n",
      "\n",
      " - CONVERGENCE TEST - \n",
      " - CHANGE IN COST: 0.0004699019017091396\n",
      "\n",
      " - ITERATION: 193\n"
     ]
    },
    {
     "name": "stderr",
     "output_type": "stream",
     "text": [
      "\r",
      "                                                                               \r",
      "\r",
      " 27% (41 of 150) |######                 | Elapsed Time: 0:02:03 ETA:   0:07:09"
     ]
    },
    {
     "name": "stdout",
     "output_type": "stream",
     "text": [
      " - DATA FIDELITY (X): 241.3169663190009\n"
     ]
    },
    {
     "name": "stderr",
     "output_type": "stream",
     "text": [
      "\r",
      "                                                                               \r",
      "\r",
      " 27% (41 of 150) |######                 | Elapsed Time: 0:02:03 ETA:   0:08:53"
     ]
    },
    {
     "name": "stdout",
     "output_type": "stream",
     "text": [
      " - Min (X): 2.7359445825246342e-133\n",
      " - L1 NORM (X): 2.844250140990787\n"
     ]
    },
    {
     "name": "stderr",
     "output_type": "stream",
     "text": [
      "\r",
      "                                                                               \r",
      "\r",
      " 28% (42 of 150) |######                 | Elapsed Time: 0:02:06 ETA:   0:03:38"
     ]
    },
    {
     "name": "stdout",
     "output_type": "stream",
     "text": [
      " - COST: 244.1612164599917\n",
      "\n",
      " - ITERATION: 194\n"
     ]
    },
    {
     "name": "stderr",
     "output_type": "stream",
     "text": [
      "\r",
      "                                                                               \r",
      "\r",
      " 28% (42 of 150) |######                 | Elapsed Time: 0:02:06 ETA:   0:04:08"
     ]
    },
    {
     "name": "stdout",
     "output_type": "stream",
     "text": [
      " - DATA FIDELITY (X): 241.26156836291793\n"
     ]
    },
    {
     "name": "stderr",
     "output_type": "stream",
     "text": [
      "\r",
      "                                                                               \r",
      "\r",
      " 28% (42 of 150) |######                 | Elapsed Time: 0:02:07 ETA:   0:05:54"
     ]
    },
    {
     "name": "stdout",
     "output_type": "stream",
     "text": [
      " - Min (X): 5.471889165049268e-134\n",
      " - L1 NORM (X): 2.8442862975474004\n"
     ]
    },
    {
     "name": "stderr",
     "output_type": "stream",
     "text": [
      "                                                                               \r"
     ]
    },
    {
     "name": "stdout",
     "output_type": "stream",
     "text": [
      " - COST: 244.10585466046533\n",
      "\n",
      " - ITERATION: 195\n"
     ]
    },
    {
     "name": "stderr",
     "output_type": "stream",
     "text": [
      "\r",
      " 28% (43 of 150) |######                 | Elapsed Time: 0:02:10 ETA:   0:05:24"
     ]
    },
    {
     "name": "stdout",
     "output_type": "stream",
     "text": [
      " - DATA FIDELITY (X): 241.20683411451023\n"
     ]
    },
    {
     "name": "stderr",
     "output_type": "stream",
     "text": [
      "\r",
      "                                                                               \r",
      "\r",
      " 28% (43 of 150) |######                 | Elapsed Time: 0:02:10 ETA:   0:06:26"
     ]
    },
    {
     "name": "stdout",
     "output_type": "stream",
     "text": [
      " - Min (X): 1.0943778330098533e-134\n",
      " - L1 NORM (X): 2.8442664168792904\n"
     ]
    },
    {
     "name": "stderr",
     "output_type": "stream",
     "text": [
      "\r",
      "                                                                               \r",
      "\r",
      " 29% (44 of 150) |######                 | Elapsed Time: 0:02:12 ETA:   0:03:44"
     ]
    },
    {
     "name": "stdout",
     "output_type": "stream",
     "text": [
      " - COST: 244.05110053138952\n",
      "\n",
      " - ITERATION: 196\n"
     ]
    },
    {
     "name": "stderr",
     "output_type": "stream",
     "text": [
      "\r",
      "                                                                               \r",
      "\r",
      " 29% (44 of 150) |######                 | Elapsed Time: 0:02:13 ETA:   0:04:25"
     ]
    },
    {
     "name": "stdout",
     "output_type": "stream",
     "text": [
      " - DATA FIDELITY (X): 241.15278049037224\n"
     ]
    },
    {
     "name": "stderr",
     "output_type": "stream",
     "text": [
      "\r",
      "                                                                               \r",
      "\r",
      " 29% (44 of 150) |######                 | Elapsed Time: 0:02:14 ETA:   0:05:48"
     ]
    },
    {
     "name": "stdout",
     "output_type": "stream",
     "text": [
      " - Min (X): 2.188755666019706e-135\n",
      " - L1 NORM (X): 2.844202451553853\n"
     ]
    },
    {
     "name": "stderr",
     "output_type": "stream",
     "text": [
      "\r",
      "                                                                               \r",
      "\r",
      " 30% (45 of 150) |######                 | Elapsed Time: 0:02:16 ETA:   0:04:07"
     ]
    },
    {
     "name": "stdout",
     "output_type": "stream",
     "text": [
      " - COST: 243.9969829419261\n",
      "\n",
      " - CONVERGENCE TEST - \n",
      " - CHANGE IN COST: 0.00044870096729587655\n",
      "\n",
      " - ITERATION: 197\n"
     ]
    },
    {
     "name": "stderr",
     "output_type": "stream",
     "text": [
      "\r",
      "                                                                               \r",
      "\r",
      " 30% (45 of 150) |######                 | Elapsed Time: 0:02:16 ETA:   0:04:40"
     ]
    },
    {
     "name": "stdout",
     "output_type": "stream",
     "text": [
      " - DATA FIDELITY (X): 241.09950096289043\n"
     ]
    },
    {
     "name": "stderr",
     "output_type": "stream",
     "text": [
      "\r",
      "                                                                               \r",
      "\r",
      " 30% (45 of 150) |######                 | Elapsed Time: 0:02:17 ETA:   0:05:53"
     ]
    },
    {
     "name": "stdout",
     "output_type": "stream",
     "text": [
      " - Min (X): 4.377511332039411e-136\n",
      " - L1 NORM (X): 2.8440895278903784\n"
     ]
    },
    {
     "name": "stderr",
     "output_type": "stream",
     "text": [
      "\r",
      "                                                                               \r",
      "\r",
      " 30% (46 of 150) |#######                | Elapsed Time: 0:02:20 ETA:   0:04:29"
     ]
    },
    {
     "name": "stdout",
     "output_type": "stream",
     "text": [
      " - COST: 243.94359049078082\n",
      "\n",
      " - ITERATION: 198\n"
     ]
    },
    {
     "name": "stderr",
     "output_type": "stream",
     "text": [
      "\r",
      "                                                                               \r",
      "\r",
      " 30% (46 of 150) |#######                | Elapsed Time: 0:02:20 ETA:   0:05:12"
     ]
    },
    {
     "name": "stdout",
     "output_type": "stream",
     "text": [
      " - DATA FIDELITY (X): 241.04687008348577\n"
     ]
    },
    {
     "name": "stderr",
     "output_type": "stream",
     "text": [
      "\r",
      "                                                                               \r",
      "\r",
      " 30% (46 of 150) |#######                | Elapsed Time: 0:02:21 ETA:   0:06:29"
     ]
    },
    {
     "name": "stdout",
     "output_type": "stream",
     "text": [
      " - Min (X): 8.75502266407882e-137\n",
      " - L1 NORM (X): 2.843932178361682\n"
     ]
    },
    {
     "name": "stderr",
     "output_type": "stream",
     "text": [
      "\r",
      "                                                                               \r",
      "\r",
      " 31% (47 of 150) |#######                | Elapsed Time: 0:02:23 ETA:   0:03:48"
     ]
    },
    {
     "name": "stdout",
     "output_type": "stream",
     "text": [
      " - COST: 243.89080226184745\n",
      "\n",
      " - ITERATION: 199\n"
     ]
    },
    {
     "name": "stderr",
     "output_type": "stream",
     "text": [
      "\r",
      "                                                                               \r",
      "\r",
      " 31% (47 of 150) |#######                | Elapsed Time: 0:02:23 ETA:   0:04:22"
     ]
    },
    {
     "name": "stdout",
     "output_type": "stream",
     "text": [
      " - DATA FIDELITY (X): 240.99482257964138\n"
     ]
    },
    {
     "name": "stderr",
     "output_type": "stream",
     "text": [
      "\r",
      "                                                                               \r",
      "\r",
      " 31% (47 of 150) |#######                | Elapsed Time: 0:02:24 ETA:   0:05:45"
     ]
    },
    {
     "name": "stdout",
     "output_type": "stream",
     "text": [
      " - Min (X): 1.7510045328157636e-137\n",
      " - L1 NORM (X): 2.843735803808713\n"
     ]
    },
    {
     "name": "stderr",
     "output_type": "stream",
     "text": [
      "\r",
      "                                                                               \r",
      "\r",
      " 32% (48 of 150) |#######                | Elapsed Time: 0:02:26 ETA:   0:03:49"
     ]
    },
    {
     "name": "stdout",
     "output_type": "stream",
     "text": [
      " - COST: 243.8385583834501\n",
      "\n",
      " - ITERATION: 200\n"
     ]
    },
    {
     "name": "stderr",
     "output_type": "stream",
     "text": [
      "\r",
      "                                                                               \r",
      "\r",
      " 32% (48 of 150) |#######                | Elapsed Time: 0:02:27 ETA:   0:04:17"
     ]
    },
    {
     "name": "stdout",
     "output_type": "stream",
     "text": [
      " - DATA FIDELITY (X): 240.94335965268112\n"
     ]
    },
    {
     "name": "stderr",
     "output_type": "stream",
     "text": [
      "\r",
      "                                                                               \r",
      "\r",
      " 32% (48 of 150) |#######                | Elapsed Time: 0:02:27 ETA:   0:05:29"
     ]
    },
    {
     "name": "stdout",
     "output_type": "stream",
     "text": [
      " - Min (X): 3.502009065631526e-138\n",
      " - L1 NORM (X): 2.843507690059584\n"
     ]
    },
    {
     "name": "stderr",
     "output_type": "stream",
     "text": [
      "\r",
      "                                                                               \r",
      "\r",
      " 32% (49 of 150) |#######                | Elapsed Time: 0:02:30 ETA:   0:03:44"
     ]
    },
    {
     "name": "stdout",
     "output_type": "stream",
     "text": [
      " - COST: 243.78686734274072\n",
      "\n",
      " - CONVERGENCE TEST - \n",
      " - CHANGE IN COST: 0.0004285400543383216\n",
      "\n",
      " - ITERATION: 201\n"
     ]
    },
    {
     "name": "stderr",
     "output_type": "stream",
     "text": [
      "\r",
      "                                                                               \r",
      "\r",
      " 32% (49 of 150) |#######                | Elapsed Time: 0:02:30 ETA:   0:04:15"
     ]
    },
    {
     "name": "stdout",
     "output_type": "stream",
     "text": [
      " - DATA FIDELITY (X): 240.89253273144217\n"
     ]
    },
    {
     "name": "stderr",
     "output_type": "stream",
     "text": [
      "\r",
      "                                                                               \r",
      "\r",
      " 32% (49 of 150) |#######                | Elapsed Time: 0:02:31 ETA:   0:06:14"
     ]
    },
    {
     "name": "stdout",
     "output_type": "stream",
     "text": [
      " - Min (X): 7.00401813126305e-139\n",
      " - L1 NORM (X): 2.8432571429521145\n"
     ]
    },
    {
     "name": "stderr",
     "output_type": "stream",
     "text": [
      "\r",
      "                                                                               \r",
      "\r",
      " 33% (50 of 150) |#######                | Elapsed Time: 0:02:34 ETA:   0:04:07"
     ]
    },
    {
     "name": "stdout",
     "output_type": "stream",
     "text": [
      " - COST: 243.7357898743943\n",
      "\n",
      " - ITERATION: 202\n"
     ]
    },
    {
     "name": "stderr",
     "output_type": "stream",
     "text": [
      "\r",
      "                                                                               \r",
      "\r",
      " 33% (50 of 150) |#######                | Elapsed Time: 0:02:34 ETA:   0:04:38"
     ]
    },
    {
     "name": "stdout",
     "output_type": "stream",
     "text": [
      " - DATA FIDELITY (X): 240.84236021713946\n"
     ]
    },
    {
     "name": "stderr",
     "output_type": "stream",
     "text": [
      "\r",
      "                                                                               \r",
      "\r",
      " 33% (50 of 150) |#######                | Elapsed Time: 0:02:35 ETA:   0:06:21"
     ]
    },
    {
     "name": "stdout",
     "output_type": "stream",
     "text": [
      " - Min (X): 1.4008036262526098e-139\n",
      " - L1 NORM (X): 2.842978665962696\n"
     ]
    },
    {
     "name": "stderr",
     "output_type": "stream",
     "text": [
      "\r",
      "                                                                               \r",
      "\r",
      " 34% (51 of 150) |#######                | Elapsed Time: 0:02:37 ETA:   0:03:20"
     ]
    },
    {
     "name": "stdout",
     "output_type": "stream",
     "text": [
      " - COST: 243.68533888310216\n",
      "\n",
      " - ITERATION: 203\n"
     ]
    },
    {
     "name": "stderr",
     "output_type": "stream",
     "text": [
      "\r",
      "                                                                               \r",
      "\r",
      " 34% (51 of 150) |#######                | Elapsed Time: 0:02:37 ETA:   0:03:57"
     ]
    },
    {
     "name": "stdout",
     "output_type": "stream",
     "text": [
      " - DATA FIDELITY (X): 240.79283524342003\n"
     ]
    },
    {
     "name": "stderr",
     "output_type": "stream",
     "text": [
      "\r",
      "                                                                               \r",
      "\r",
      " 34% (51 of 150) |#######                | Elapsed Time: 0:02:38 ETA:   0:05:52"
     ]
    },
    {
     "name": "stdout",
     "output_type": "stream",
     "text": [
      " - Min (X): 2.801607252505219e-140\n",
      " - L1 NORM (X): 2.8426726373060167\n"
     ]
    },
    {
     "name": "stderr",
     "output_type": "stream",
     "text": [
      "\r",
      "                                                                               \r",
      "\r",
      " 34% (52 of 150) |#######                | Elapsed Time: 0:02:41 ETA:   0:03:25"
     ]
    },
    {
     "name": "stdout",
     "output_type": "stream",
     "text": [
      " - COST: 243.63550788072604\n",
      "\n",
      " - ITERATION: 204\n"
     ]
    },
    {
     "name": "stderr",
     "output_type": "stream",
     "text": [
      "\r",
      "                                                                               \r",
      "\r",
      " 34% (52 of 150) |#######                | Elapsed Time: 0:02:41 ETA:   0:03:51"
     ]
    },
    {
     "name": "stdout",
     "output_type": "stream",
     "text": [
      " - DATA FIDELITY (X): 240.74386421285286\n"
     ]
    },
    {
     "name": "stderr",
     "output_type": "stream",
     "text": [
      "\r",
      "                                                                               \r",
      "\r",
      " 34% (52 of 150) |#######                | Elapsed Time: 0:02:42 ETA:   0:04:58"
     ]
    },
    {
     "name": "stdout",
     "output_type": "stream",
     "text": [
      " - Min (X): 5.603214505010438e-141\n",
      " - L1 NORM (X): 2.842347044115028\n"
     ]
    },
    {
     "name": "stderr",
     "output_type": "stream",
     "text": [
      "\r",
      "                                                                               \r",
      "\r",
      " 35% (53 of 150) |########               | Elapsed Time: 0:02:43 ETA:   0:04:05"
     ]
    },
    {
     "name": "stdout",
     "output_type": "stream",
     "text": [
      " - COST: 243.58621125696789\n",
      "\n",
      " - CONVERGENCE TEST - \n",
      " - CHANGE IN COST: 0.00040927900372645466\n",
      "\n",
      " - ITERATION: 205\n"
     ]
    },
    {
     "name": "stderr",
     "output_type": "stream",
     "text": [
      "\r",
      "                                                                               \r",
      "\r",
      " 35% (53 of 150) |########               | Elapsed Time: 0:02:44 ETA:   0:03:25"
     ]
    },
    {
     "name": "stdout",
     "output_type": "stream",
     "text": [
      " - DATA FIDELITY (X): 240.69541269667675\n"
     ]
    },
    {
     "name": "stderr",
     "output_type": "stream",
     "text": [
      "\r",
      "                                                                               \r",
      "\r",
      " 35% (53 of 150) |########               | Elapsed Time: 0:02:44 ETA:   0:04:45"
     ]
    },
    {
     "name": "stdout",
     "output_type": "stream",
     "text": [
      " - Min (X): 1.1206429010020872e-141\n",
      " - L1 NORM (X): 2.84201223990074\n"
     ]
    },
    {
     "name": "stderr",
     "output_type": "stream",
     "text": [
      "\r",
      "                                                                               \r",
      "\r",
      " 36% (54 of 150) |########               | Elapsed Time: 0:02:47 ETA:   0:03:21"
     ]
    },
    {
     "name": "stdout",
     "output_type": "stream",
     "text": [
      " - COST: 243.5374249365775\n",
      "\n",
      " - ITERATION: 206\n"
     ]
    },
    {
     "name": "stderr",
     "output_type": "stream",
     "text": [
      "\r",
      "                                                                               \r",
      "\r",
      " 36% (54 of 150) |########               | Elapsed Time: 0:02:47 ETA:   0:03:47"
     ]
    },
    {
     "name": "stdout",
     "output_type": "stream",
     "text": [
      " - DATA FIDELITY (X): 240.6474755285871\n"
     ]
    },
    {
     "name": "stderr",
     "output_type": "stream",
     "text": [
      "\r",
      "                                                                               \r",
      "\r",
      " 36% (54 of 150) |########               | Elapsed Time: 0:02:47 ETA:   0:04:52"
     ]
    },
    {
     "name": "stdout",
     "output_type": "stream",
     "text": [
      " - Min (X): 2.241285802004174e-142\n",
      " - L1 NORM (X): 2.841677634767268\n"
     ]
    },
    {
     "name": "stderr",
     "output_type": "stream",
     "text": [
      "\r",
      "                                                                               \r",
      "\r",
      " 36% (55 of 150) |########               | Elapsed Time: 0:02:50 ETA:   0:03:47"
     ]
    },
    {
     "name": "stdout",
     "output_type": "stream",
     "text": [
      " - COST: 243.4891531633544\n",
      "\n",
      " - ITERATION: 207\n"
     ]
    },
    {
     "name": "stderr",
     "output_type": "stream",
     "text": [
      "\r",
      "                                                                               \r",
      "\r",
      " 36% (55 of 150) |########               | Elapsed Time: 0:02:50 ETA:   0:04:17"
     ]
    },
    {
     "name": "stdout",
     "output_type": "stream",
     "text": [
      " - DATA FIDELITY (X): 240.600062827471\n"
     ]
    },
    {
     "name": "stderr",
     "output_type": "stream",
     "text": [
      "\r",
      "                                                                               \r",
      "\r",
      " 36% (55 of 150) |########               | Elapsed Time: 0:02:51 ETA:   0:05:25"
     ]
    },
    {
     "name": "stdout",
     "output_type": "stream",
     "text": [
      " - Min (X): 4.482571604008347e-143\n",
      " - L1 NORM (X): 2.8413455622776205\n"
     ]
    },
    {
     "name": "stderr",
     "output_type": "stream",
     "text": [
      "\r",
      "                                                                               \r",
      "\r",
      " 37% (56 of 150) |########               | Elapsed Time: 0:02:54 ETA:   0:04:03"
     ]
    },
    {
     "name": "stdout",
     "output_type": "stream",
     "text": [
      " - COST: 243.4414083897486\n",
      "\n",
      " - ITERATION: 208\n"
     ]
    },
    {
     "name": "stderr",
     "output_type": "stream",
     "text": [
      "\r",
      "                                                                               \r",
      "\r",
      " 37% (56 of 150) |########               | Elapsed Time: 0:02:54 ETA:   0:04:38"
     ]
    },
    {
     "name": "stdout",
     "output_type": "stream",
     "text": [
      " - DATA FIDELITY (X): 240.55317423496788\n"
     ]
    },
    {
     "name": "stderr",
     "output_type": "stream",
     "text": [
      "\r",
      "                                                                               \r",
      "\r",
      " 37% (56 of 150) |########               | Elapsed Time: 0:02:55 ETA:   0:05:57"
     ]
    },
    {
     "name": "stdout",
     "output_type": "stream",
     "text": [
      " - Min (X): 8.965143208016692e-144\n",
      " - L1 NORM (X): 2.8410181258790317\n"
     ]
    },
    {
     "name": "stderr",
     "output_type": "stream",
     "text": [
      "\r",
      "                                                                               \r",
      "\r",
      " 38% (57 of 150) |########               | Elapsed Time: 0:02:58 ETA:   0:04:18"
     ]
    },
    {
     "name": "stdout",
     "output_type": "stream",
     "text": [
      " - COST: 243.39419236084692\n",
      "\n",
      " - CONVERGENCE TEST - \n",
      " - CHANGE IN COST: 0.00039228303978166917\n",
      "\n",
      " - ITERATION: 209\n"
     ]
    },
    {
     "name": "stderr",
     "output_type": "stream",
     "text": [
      "\r",
      "                                                                               \r",
      "\r",
      " 38% (57 of 150) |########               | Elapsed Time: 0:02:58 ETA:   0:04:45"
     ]
    },
    {
     "name": "stdout",
     "output_type": "stream",
     "text": [
      " - DATA FIDELITY (X): 240.5067929742863\n"
     ]
    },
    {
     "name": "stderr",
     "output_type": "stream",
     "text": [
      "\r",
      "                                                                               \r",
      "\r",
      " 38% (57 of 150) |########               | Elapsed Time: 0:02:58 ETA:   0:05:46"
     ]
    },
    {
     "name": "stdout",
     "output_type": "stream",
     "text": [
      " - Min (X): 1.793028641603338e-144\n",
      " - L1 NORM (X): 2.8406916763631918\n"
     ]
    },
    {
     "name": "stderr",
     "output_type": "stream",
     "text": [
      "\r",
      "                                                                               \r",
      "\r",
      " 38% (58 of 150) |########               | Elapsed Time: 0:03:01 ETA:   0:03:22"
     ]
    },
    {
     "name": "stdout",
     "output_type": "stream",
     "text": [
      " - COST: 243.34748465064948\n",
      "\n",
      " - ITERATION: 210\n"
     ]
    },
    {
     "name": "stderr",
     "output_type": "stream",
     "text": [
      "\r",
      "                                                                               \r",
      "\r",
      " 38% (58 of 150) |########               | Elapsed Time: 0:03:01 ETA:   0:03:45"
     ]
    },
    {
     "name": "stdout",
     "output_type": "stream",
     "text": [
      " - DATA FIDELITY (X): 240.46094224571536\n"
     ]
    },
    {
     "name": "stderr",
     "output_type": "stream",
     "text": [
      "\r",
      "                                                                               \r",
      "\r",
      " 38% (58 of 150) |########               | Elapsed Time: 0:03:02 ETA:   0:04:44"
     ]
    },
    {
     "name": "stdout",
     "output_type": "stream",
     "text": [
      " - Min (X): 3.586057283206675e-145\n",
      " - L1 NORM (X): 2.840368553427759\n"
     ]
    },
    {
     "name": "stderr",
     "output_type": "stream",
     "text": [
      "\r",
      "                                                                               \r",
      "\r",
      " 39% (59 of 150) |#########              | Elapsed Time: 0:03:03 ETA:   0:03:36"
     ]
    },
    {
     "name": "stdout",
     "output_type": "stream",
     "text": [
      " - COST: 243.30131079914312\n",
      "\n",
      " - ITERATION: 211\n"
     ]
    },
    {
     "name": "stderr",
     "output_type": "stream",
     "text": [
      "\r",
      "                                                                               \r",
      "\r",
      " 39% (59 of 150) |#########              | Elapsed Time: 0:03:04 ETA:   0:03:02"
     ]
    },
    {
     "name": "stdout",
     "output_type": "stream",
     "text": [
      " - DATA FIDELITY (X): 240.41563083808225\n"
     ]
    },
    {
     "name": "stderr",
     "output_type": "stream",
     "text": [
      "\r",
      "                                                                               \r",
      "\r",
      " 39% (59 of 150) |#########              | Elapsed Time: 0:03:04 ETA:   0:04:02"
     ]
    },
    {
     "name": "stdout",
     "output_type": "stream",
     "text": [
      " - Min (X): 7.172114566413348e-146\n",
      " - L1 NORM (X): 2.840056147009913\n"
     ]
    },
    {
     "name": "stderr",
     "output_type": "stream",
     "text": [
      "\r",
      "                                                                               \r",
      "\r",
      " 40% (60 of 150) |#########              | Elapsed Time: 0:03:06 ETA:   0:03:37"
     ]
    },
    {
     "name": "stdout",
     "output_type": "stream",
     "text": [
      " - COST: 243.25568698509215\n",
      "\n",
      " - ITERATION: 212\n"
     ]
    },
    {
     "name": "stderr",
     "output_type": "stream",
     "text": [
      "\r",
      "                                                                               \r",
      "\r",
      " 40% (60 of 150) |#########              | Elapsed Time: 0:03:06 ETA:   0:03:57"
     ]
    },
    {
     "name": "stdout",
     "output_type": "stream",
     "text": [
      " - DATA FIDELITY (X): 240.37092426883194\n"
     ]
    },
    {
     "name": "stderr",
     "output_type": "stream",
     "text": [
      "\r",
      "                                                                               \r",
      "\r",
      " 40% (60 of 150) |#########              | Elapsed Time: 0:03:07 ETA:   0:03:56"
     ]
    },
    {
     "name": "stdout",
     "output_type": "stream",
     "text": [
      " - Min (X): 1.4344229132826693e-146\n",
      " - L1 NORM (X): 2.839752488992472\n"
     ]
    },
    {
     "name": "stderr",
     "output_type": "stream",
     "text": [
      "\r",
      "                                                                               \r",
      "\r",
      " 40% (61 of 150) |#########              | Elapsed Time: 0:03:09 ETA:   0:03:35"
     ]
    },
    {
     "name": "stdout",
     "output_type": "stream",
     "text": [
      " - COST: 243.21067675782442\n",
      "\n",
      " - CONVERGENCE TEST - \n",
      " - CHANGE IN COST: 0.0003750140204400014\n",
      "\n",
      " - ITERATION: 213\n"
     ]
    },
    {
     "name": "stderr",
     "output_type": "stream",
     "text": [
      "\r",
      "                                                                               \r",
      "\r",
      " 40% (61 of 150) |#########              | Elapsed Time: 0:03:09 ETA:   0:03:04"
     ]
    },
    {
     "name": "stdout",
     "output_type": "stream",
     "text": [
      " - DATA FIDELITY (X): 240.32665191596797\n"
     ]
    },
    {
     "name": "stderr",
     "output_type": "stream",
     "text": [
      "\r",
      "                                                                               \r",
      "\r",
      " 40% (61 of 150) |#########              | Elapsed Time: 0:03:10 ETA:   0:04:01"
     ]
    },
    {
     "name": "stdout",
     "output_type": "stream",
     "text": [
      " - Min (X): 2.868845826565338e-147\n",
      " - L1 NORM (X): 2.8394533214446223\n"
     ]
    },
    {
     "name": "stderr",
     "output_type": "stream",
     "text": [
      "\r",
      "                                                                               \r",
      "\r",
      " 41% (62 of 150) |#########              | Elapsed Time: 0:03:11 ETA:   0:03:29"
     ]
    },
    {
     "name": "stdout",
     "output_type": "stream",
     "text": [
      " - COST: 243.16610523741258\n",
      "\n",
      " - ITERATION: 214\n"
     ]
    },
    {
     "name": "stderr",
     "output_type": "stream",
     "text": [
      "\r",
      "                                                                               \r",
      "\r",
      " 41% (62 of 150) |#########              | Elapsed Time: 0:03:12 ETA:   0:02:57"
     ]
    },
    {
     "name": "stdout",
     "output_type": "stream",
     "text": [
      " - DATA FIDELITY (X): 240.2828502403676\n"
     ]
    },
    {
     "name": "stderr",
     "output_type": "stream",
     "text": [
      "\r",
      "                                                                               \r",
      "\r",
      " 41% (62 of 150) |#########              | Elapsed Time: 0:03:12 ETA:   0:03:58"
     ]
    },
    {
     "name": "stdout",
     "output_type": "stream",
     "text": [
      " - Min (X): 5.737691653130675e-148\n",
      " - L1 NORM (X): 2.839162772367803\n"
     ]
    },
    {
     "name": "stderr",
     "output_type": "stream",
     "text": [
      "\r",
      "                                                                               \r",
      "\r",
      " 42% (63 of 150) |#########              | Elapsed Time: 0:03:16 ETA:   0:05:32"
     ]
    },
    {
     "name": "stdout",
     "output_type": "stream",
     "text": [
      " - COST: 243.1220130127354\n",
      "\n",
      " - ITERATION: 215\n"
     ]
    },
    {
     "name": "stderr",
     "output_type": "stream",
     "text": [
      "\r",
      "                                                                               \r",
      "\r",
      " 42% (63 of 150) |#########              | Elapsed Time: 0:03:16 ETA:   0:05:56"
     ]
    },
    {
     "name": "stdout",
     "output_type": "stream",
     "text": [
      " - DATA FIDELITY (X): 240.23960925945653\n"
     ]
    },
    {
     "name": "stderr",
     "output_type": "stream",
     "text": [
      "\r",
      "                                                                               \r",
      "\r",
      " 42% (63 of 150) |#########              | Elapsed Time: 0:03:17 ETA:   0:07:04"
     ]
    },
    {
     "name": "stdout",
     "output_type": "stream",
     "text": [
      " - Min (X): 1.1475383306261348e-148\n",
      " - L1 NORM (X): 2.8388875919517784\n"
     ]
    },
    {
     "name": "stderr",
     "output_type": "stream",
     "text": [
      "\r",
      "                                                                               \r",
      "\r",
      " 42% (64 of 150) |#########              | Elapsed Time: 0:03:19 ETA:   0:03:38"
     ]
    },
    {
     "name": "stdout",
     "output_type": "stream",
     "text": [
      " - COST: 243.07849685140832\n",
      "\n",
      " - ITERATION: 216\n"
     ]
    },
    {
     "name": "stderr",
     "output_type": "stream",
     "text": [
      "\r",
      "                                                                               \r",
      "\r",
      " 42% (64 of 150) |#########              | Elapsed Time: 0:03:19 ETA:   0:02:52"
     ]
    },
    {
     "name": "stdout",
     "output_type": "stream",
     "text": [
      " - DATA FIDELITY (X): 240.19690658983623\n"
     ]
    },
    {
     "name": "stderr",
     "output_type": "stream",
     "text": [
      "\r",
      "                                                                               \r",
      "\r",
      " 42% (64 of 150) |#########              | Elapsed Time: 0:03:20 ETA:   0:03:49"
     ]
    },
    {
     "name": "stdout",
     "output_type": "stream",
     "text": [
      " - Min (X): 2.295076661252269e-149\n",
      " - L1 NORM (X): 2.838628302450091\n"
     ]
    },
    {
     "name": "stderr",
     "output_type": "stream",
     "text": [
      "\r",
      "                                                                               \r",
      "\r",
      " 43% (65 of 150) |#########              | Elapsed Time: 0:03:22 ETA:   0:03:26"
     ]
    },
    {
     "name": "stdout",
     "output_type": "stream",
     "text": [
      " - COST: 243.03553489228634\n",
      "\n",
      " - CONVERGENCE TEST - \n",
      " - CHANGE IN COST: 0.0003581186616417082\n",
      "\n",
      " - ITERATION: 217\n"
     ]
    },
    {
     "name": "stderr",
     "output_type": "stream",
     "text": [
      "\r",
      "                                                                               \r",
      "\r",
      " 43% (65 of 150) |#########              | Elapsed Time: 0:03:22 ETA:   0:03:46"
     ]
    },
    {
     "name": "stdout",
     "output_type": "stream",
     "text": [
      " - DATA FIDELITY (X): 240.1547157161198\n"
     ]
    },
    {
     "name": "stderr",
     "output_type": "stream",
     "text": [
      "\r",
      "                                                                               \r",
      "\r",
      " 43% (65 of 150) |#########              | Elapsed Time: 0:03:22 ETA:   0:03:43"
     ]
    },
    {
     "name": "stdout",
     "output_type": "stream",
     "text": [
      " - Min (X): 4.590153322504537e-150\n",
      " - L1 NORM (X): 2.838383680358944\n"
     ]
    },
    {
     "name": "stderr",
     "output_type": "stream",
     "text": [
      "\r",
      "                                                                               \r",
      "\r",
      " 44% (66 of 150) |##########             | Elapsed Time: 0:03:24 ETA:   0:03:20"
     ]
    },
    {
     "name": "stdout",
     "output_type": "stream",
     "text": [
      " - COST: 242.99309939647873\n",
      "\n",
      " - ITERATION: 218\n"
     ]
    },
    {
     "name": "stderr",
     "output_type": "stream",
     "text": [
      "\r",
      "                                                                               \r",
      "\r",
      " 44% (66 of 150) |##########             | Elapsed Time: 0:03:24 ETA:   0:02:51"
     ]
    },
    {
     "name": "stdout",
     "output_type": "stream",
     "text": [
      " - DATA FIDELITY (X): 240.11301389006374\n"
     ]
    },
    {
     "name": "stderr",
     "output_type": "stream",
     "text": [
      "\r",
      "                                                                               \r",
      "\r",
      " 44% (66 of 150) |##########             | Elapsed Time: 0:03:25 ETA:   0:03:44"
     ]
    },
    {
     "name": "stdout",
     "output_type": "stream",
     "text": [
      " - Min (X): 9.180306645009072e-151\n",
      " - L1 NORM (X): 2.838153397577234\n"
     ]
    },
    {
     "name": "stderr",
     "output_type": "stream",
     "text": [
      "\r",
      "                                                                               \r",
      "\r",
      " 44% (67 of 150) |##########             | Elapsed Time: 0:03:27 ETA:   0:03:31"
     ]
    },
    {
     "name": "stdout",
     "output_type": "stream",
     "text": [
      " - COST: 242.95116728764097\n",
      "\n",
      " - ITERATION: 219\n"
     ]
    },
    {
     "name": "stderr",
     "output_type": "stream",
     "text": [
      "\r",
      "                                                                               \r",
      "\r",
      " 44% (67 of 150) |##########             | Elapsed Time: 0:03:27 ETA:   0:03:00"
     ]
    },
    {
     "name": "stdout",
     "output_type": "stream",
     "text": [
      " - DATA FIDELITY (X): 240.07172144491267\n"
     ]
    },
    {
     "name": "stderr",
     "output_type": "stream",
     "text": [
      "\r",
      "                                                                               \r",
      "\r",
      " 44% (67 of 150) |##########             | Elapsed Time: 0:03:28 ETA:   0:03:56"
     ]
    },
    {
     "name": "stdout",
     "output_type": "stream",
     "text": [
      " - Min (X): 1.836061329001814e-151\n",
      " - L1 NORM (X): 2.8379348247447833\n"
     ]
    },
    {
     "name": "stderr",
     "output_type": "stream",
     "text": [
      "\r",
      "                                                                               \r",
      "\r",
      " 45% (68 of 150) |##########             | Elapsed Time: 0:03:30 ETA:   0:03:19"
     ]
    },
    {
     "name": "stdout",
     "output_type": "stream",
     "text": [
      " - COST: 242.90965626965746\n",
      "\n",
      " - ITERATION: 220\n"
     ]
    },
    {
     "name": "stderr",
     "output_type": "stream",
     "text": [
      "\r",
      "                                                                               \r",
      "\r",
      " 45% (68 of 150) |##########             | Elapsed Time: 0:03:30 ETA:   0:02:45"
     ]
    },
    {
     "name": "stdout",
     "output_type": "stream",
     "text": [
      " - DATA FIDELITY (X): 240.0307992958424\n"
     ]
    },
    {
     "name": "stderr",
     "output_type": "stream",
     "text": [
      "\r",
      "                                                                               \r",
      "\r",
      " 45% (68 of 150) |##########             | Elapsed Time: 0:03:31 ETA:   0:03:37"
     ]
    },
    {
     "name": "stdout",
     "output_type": "stream",
     "text": [
      " - Min (X): 3.672122658003627e-152\n",
      " - L1 NORM (X): 2.837727580051207\n"
     ]
    },
    {
     "name": "stderr",
     "output_type": "stream",
     "text": [
      "\r",
      "                                                                               \r",
      "\r",
      " 46% (69 of 150) |##########             | Elapsed Time: 0:03:32 ETA:   0:03:12"
     ]
    },
    {
     "name": "stdout",
     "output_type": "stream",
     "text": [
      " - COST: 242.8685268758936\n",
      "\n",
      " - CONVERGENCE TEST - \n",
      " - CHANGE IN COST: 0.0003418917199888087\n",
      "\n",
      " - ITERATION: 221\n"
     ]
    },
    {
     "name": "stderr",
     "output_type": "stream",
     "text": [
      "\r",
      "                                                                               \r",
      "\r",
      " 46% (69 of 150) |##########             | Elapsed Time: 0:03:33 ETA:   0:02:43"
     ]
    },
    {
     "name": "stdout",
     "output_type": "stream",
     "text": [
      " - DATA FIDELITY (X): 239.9902610991043\n"
     ]
    },
    {
     "name": "stderr",
     "output_type": "stream",
     "text": [
      "\r",
      "                                                                               \r",
      "\r",
      " 46% (69 of 150) |##########             | Elapsed Time: 0:03:33 ETA:   0:03:36"
     ]
    },
    {
     "name": "stdout",
     "output_type": "stream",
     "text": [
      " - Min (X): 7.344245316007252e-153\n",
      " - L1 NORM (X): 2.8375353548258158\n"
     ]
    },
    {
     "name": "stderr",
     "output_type": "stream",
     "text": [
      "\r",
      "                                                                               \r",
      "\r",
      " 46% (70 of 150) |##########             | Elapsed Time: 0:03:35 ETA:   0:03:12"
     ]
    },
    {
     "name": "stdout",
     "output_type": "stream",
     "text": [
      " - COST: 242.8277964539301\n",
      "\n",
      " - ITERATION: 222\n"
     ]
    },
    {
     "name": "stderr",
     "output_type": "stream",
     "text": [
      "\r",
      "                                                                               \r",
      "\r",
      " 46% (70 of 150) |##########             | Elapsed Time: 0:03:35 ETA:   0:02:41"
     ]
    },
    {
     "name": "stdout",
     "output_type": "stream",
     "text": [
      " - DATA FIDELITY (X): 239.95009011659158\n"
     ]
    },
    {
     "name": "stderr",
     "output_type": "stream",
     "text": [
      "\r",
      "                                                                               \r",
      "\r",
      " 46% (70 of 150) |##########             | Elapsed Time: 0:03:36 ETA:   0:03:31"
     ]
    },
    {
     "name": "stdout",
     "output_type": "stream",
     "text": [
      " - Min (X): 1.46884906320145e-153\n",
      " - L1 NORM (X): 2.837354877542436\n"
     ]
    },
    {
     "name": "stderr",
     "output_type": "stream",
     "text": [
      "\r",
      "                                                                               \r",
      "\r",
      " 47% (71 of 150) |##########             | Elapsed Time: 0:03:38 ETA:   0:03:09"
     ]
    },
    {
     "name": "stdout",
     "output_type": "stream",
     "text": [
      " - COST: 242.787444994134\n",
      "\n",
      " - ITERATION: 223\n"
     ]
    },
    {
     "name": "stderr",
     "output_type": "stream",
     "text": [
      " 47% (71 of 150) |##########             | Elapsed Time: 0:03:40 ETA:   0:04:45"
     ]
    },
    {
     "name": "stdout",
     "output_type": "stream",
     "text": [
      " - DATA FIDELITY (X): 239.91029824348792\n",
      " - Min (X): 2.9376981264028994e-154\n",
      " - L1 NORM (X): 2.8371873971973427\n"
     ]
    },
    {
     "name": "stderr",
     "output_type": "stream",
     "text": [
      "\r",
      "                                                                               \r",
      "\r",
      " 48% (72 of 150) |###########            | Elapsed Time: 0:03:44 ETA:   0:05:43"
     ]
    },
    {
     "name": "stdout",
     "output_type": "stream",
     "text": [
      " - COST: 242.74748564068526\n",
      "\n",
      " - ITERATION: 224\n"
     ]
    },
    {
     "name": "stderr",
     "output_type": "stream",
     "text": [
      "\r",
      "                                                                               \r",
      "\r",
      " 48% (72 of 150) |###########            | Elapsed Time: 0:03:44 ETA:   0:06:03"
     ]
    },
    {
     "name": "stdout",
     "output_type": "stream",
     "text": [
      " - DATA FIDELITY (X): 239.87091144221907\n"
     ]
    },
    {
     "name": "stderr",
     "output_type": "stream",
     "text": [
      "\r",
      "                                                                               \r",
      "\r",
      " 48% (72 of 150) |###########            | Elapsed Time: 0:03:45 ETA:   0:06:55"
     ]
    },
    {
     "name": "stdout",
     "output_type": "stream",
     "text": [
      " - Min (X): 5.8753962528057976e-155\n",
      " - L1 NORM (X): 2.8370391063599176\n"
     ]
    },
    {
     "name": "stderr",
     "output_type": "stream",
     "text": [
      "\r",
      "                                                                               \r",
      "\r",
      " 48% (73 of 150) |###########            | Elapsed Time: 0:03:47 ETA:   0:03:15"
     ]
    },
    {
     "name": "stdout",
     "output_type": "stream",
     "text": [
      " - COST: 242.707950548579\n",
      "\n",
      " - CONVERGENCE TEST - \n",
      " - CHANGE IN COST: 0.00032918625869008333\n",
      "\n",
      " - ITERATION: 225\n"
     ]
    },
    {
     "name": "stderr",
     "output_type": "stream",
     "text": [
      "\r",
      "                                                                               \r",
      "\r",
      " 48% (73 of 150) |###########            | Elapsed Time: 0:03:47 ETA:   0:02:43"
     ]
    },
    {
     "name": "stdout",
     "output_type": "stream",
     "text": [
      " - DATA FIDELITY (X): 239.8319981644532\n"
     ]
    },
    {
     "name": "stderr",
     "output_type": "stream",
     "text": [
      "\r",
      "                                                                               \r",
      "\r",
      " 48% (73 of 150) |###########            | Elapsed Time: 0:03:48 ETA:   0:03:32"
     ]
    },
    {
     "name": "stdout",
     "output_type": "stream",
     "text": [
      " - Min (X): 1.1750792505611592e-155\n",
      " - L1 NORM (X): 2.8369077858716114\n"
     ]
    },
    {
     "name": "stderr",
     "output_type": "stream",
     "text": [
      "\r",
      "                                                                               \r",
      "\r",
      " 49% (74 of 150) |###########            | Elapsed Time: 0:03:49 ETA:   0:03:01"
     ]
    },
    {
     "name": "stdout",
     "output_type": "stream",
     "text": [
      " - COST: 242.6689059503248\n",
      "\n",
      " - ITERATION: 226\n"
     ]
    },
    {
     "name": "stderr",
     "output_type": "stream",
     "text": [
      "\r",
      "                                                                               \r",
      "\r",
      " 49% (74 of 150) |###########            | Elapsed Time: 0:03:50 ETA:   0:02:32"
     ]
    },
    {
     "name": "stdout",
     "output_type": "stream",
     "text": [
      " - DATA FIDELITY (X): 239.79354265008786\n"
     ]
    },
    {
     "name": "stderr",
     "output_type": "stream",
     "text": [
      "\r",
      "                                                                               \r",
      "\r",
      " 49% (74 of 150) |###########            | Elapsed Time: 0:03:50 ETA:   0:03:21"
     ]
    },
    {
     "name": "stdout",
     "output_type": "stream",
     "text": [
      " - Min (X): 2.3501585011223176e-156\n",
      " - L1 NORM (X): 2.836795173037474\n"
     ]
    },
    {
     "name": "stderr",
     "output_type": "stream",
     "text": [
      "\r",
      "                                                                               \r",
      "\r",
      " 50% (75 of 150) |###########            | Elapsed Time: 0:03:52 ETA:   0:02:59"
     ]
    },
    {
     "name": "stdout",
     "output_type": "stream",
     "text": [
      " - COST: 242.63033782312533\n",
      "\n",
      " - ITERATION: 227\n"
     ]
    },
    {
     "name": "stderr",
     "output_type": "stream",
     "text": [
      "\r",
      "                                                                               \r",
      "\r",
      " 50% (75 of 150) |###########            | Elapsed Time: 0:03:52 ETA:   0:02:31"
     ]
    },
    {
     "name": "stdout",
     "output_type": "stream",
     "text": [
      " - DATA FIDELITY (X): 239.75550719113534\n"
     ]
    },
    {
     "name": "stderr",
     "output_type": "stream",
     "text": [
      "\r",
      "                                                                               \r",
      "\r",
      " 50% (75 of 150) |###########            | Elapsed Time: 0:03:53 ETA:   0:03:19"
     ]
    },
    {
     "name": "stdout",
     "output_type": "stream",
     "text": [
      " - Min (X): 4.7003170022446345e-157\n",
      " - L1 NORM (X): 2.8367016400069605\n"
     ]
    },
    {
     "name": "stderr",
     "output_type": "stream",
     "text": [
      "\r",
      "                                                                               \r",
      "\r",
      " 50% (76 of 150) |###########            | Elapsed Time: 0:03:55 ETA:   0:02:56"
     ]
    },
    {
     "name": "stdout",
     "output_type": "stream",
     "text": [
      " - COST: 242.5922088311423\n",
      "\n",
      " - ITERATION: 228\n"
     ]
    },
    {
     "name": "stderr",
     "output_type": "stream",
     "text": [
      "\r",
      "                                                                               \r",
      "\r",
      " 50% (76 of 150) |###########            | Elapsed Time: 0:03:55 ETA:   0:02:29"
     ]
    },
    {
     "name": "stdout",
     "output_type": "stream",
     "text": [
      " - DATA FIDELITY (X): 239.7178248093715\n"
     ]
    },
    {
     "name": "stderr",
     "output_type": "stream",
     "text": [
      "\r",
      "                                                                               \r",
      "\r",
      " 50% (76 of 150) |###########            | Elapsed Time: 0:03:56 ETA:   0:03:16"
     ]
    },
    {
     "name": "stdout",
     "output_type": "stream",
     "text": [
      " - Min (X): 9.400634004489267e-158\n",
      " - L1 NORM (X): 2.836619118117205\n"
     ]
    },
    {
     "name": "stderr",
     "output_type": "stream",
     "text": [
      "\r",
      "                                                                               \r",
      "\r",
      " 51% (77 of 150) |###########            | Elapsed Time: 0:03:57 ETA:   0:02:54"
     ]
    },
    {
     "name": "stdout",
     "output_type": "stream",
     "text": [
      " - COST: 242.5544439274887\n",
      "\n",
      " - CONVERGENCE TEST - \n",
      " - CHANGE IN COST: 0.00031452554387719427\n",
      "\n",
      " - ITERATION: 229\n"
     ]
    },
    {
     "name": "stderr",
     "output_type": "stream",
     "text": [
      "\r",
      "                                                                               \r",
      "\r",
      " 51% (77 of 150) |###########            | Elapsed Time: 0:03:58 ETA:   0:02:27"
     ]
    },
    {
     "name": "stdout",
     "output_type": "stream",
     "text": [
      " - DATA FIDELITY (X): 239.680454933473\n"
     ]
    },
    {
     "name": "stderr",
     "output_type": "stream",
     "text": [
      "\r",
      "                                                                               \r",
      "\r",
      " 51% (77 of 150) |###########            | Elapsed Time: 0:03:58 ETA:   0:03:13"
     ]
    },
    {
     "name": "stdout",
     "output_type": "stream",
     "text": [
      " - Min (X): 1.880126800897853e-158\n",
      " - L1 NORM (X): 2.83654664936391\n"
     ]
    },
    {
     "name": "stderr",
     "output_type": "stream",
     "text": [
      "\r",
      "                                                                               \r",
      "\r",
      " 52% (78 of 150) |###########            | Elapsed Time: 0:04:00 ETA:   0:02:52"
     ]
    },
    {
     "name": "stdout",
     "output_type": "stream",
     "text": [
      " - COST: 242.51700158283688\n",
      "\n",
      " - ITERATION: 230\n"
     ]
    },
    {
     "name": "stderr",
     "output_type": "stream",
     "text": [
      "\r",
      "                                                                               \r",
      "\r",
      " 52% (78 of 150) |###########            | Elapsed Time: 0:04:00 ETA:   0:02:25"
     ]
    },
    {
     "name": "stdout",
     "output_type": "stream",
     "text": [
      " - DATA FIDELITY (X): 239.6435964156555\n"
     ]
    },
    {
     "name": "stderr",
     "output_type": "stream",
     "text": [
      "\r",
      "                                                                               \r",
      "\r",
      " 52% (78 of 150) |###########            | Elapsed Time: 0:04:01 ETA:   0:03:11"
     ]
    },
    {
     "name": "stdout",
     "output_type": "stream",
     "text": [
      " - Min (X): 3.7602536017957057e-159\n",
      " - L1 NORM (X): 2.836485265378939\n"
     ]
    },
    {
     "name": "stderr",
     "output_type": "stream",
     "text": [
      "\r",
      "                                                                               \r",
      "\r",
      " 52% (79 of 150) |############           | Elapsed Time: 0:04:03 ETA:   0:02:51"
     ]
    },
    {
     "name": "stdout",
     "output_type": "stream",
     "text": [
      " - COST: 242.48008168103445\n",
      "\n",
      " - ITERATION: 231\n"
     ]
    },
    {
     "name": "stderr",
     "output_type": "stream",
     "text": [
      "\r",
      "                                                                               \r",
      "\r",
      " 52% (79 of 150) |############           | Elapsed Time: 0:04:03 ETA:   0:02:24"
     ]
    },
    {
     "name": "stdout",
     "output_type": "stream",
     "text": [
      " - DATA FIDELITY (X): 239.60736537832392\n"
     ]
    },
    {
     "name": "stderr",
     "output_type": "stream",
     "text": [
      "\r",
      "                                                                               \r",
      "\r",
      " 52% (79 of 150) |############           | Elapsed Time: 0:04:04 ETA:   0:03:14"
     ]
    },
    {
     "name": "stdout",
     "output_type": "stream",
     "text": [
      " - Min (X): 7.52050720359141e-160\n",
      " - L1 NORM (X): 2.8364326479629955\n"
     ]
    },
    {
     "name": "stderr",
     "output_type": "stream",
     "text": [
      "\r",
      "                                                                               \r",
      "\r",
      " 53% (80 of 150) |############           | Elapsed Time: 0:04:05 ETA:   0:02:55"
     ]
    },
    {
     "name": "stdout",
     "output_type": "stream",
     "text": [
      " - COST: 242.4437980262869\n",
      "\n",
      " - ITERATION: 232\n"
     ]
    },
    {
     "name": "stderr",
     "output_type": "stream",
     "text": [
      "\r",
      "                                                                               \r",
      "\r",
      " 53% (80 of 150) |############           | Elapsed Time: 0:04:06 ETA:   0:02:24"
     ]
    },
    {
     "name": "stdout",
     "output_type": "stream",
     "text": [
      " - DATA FIDELITY (X): 239.57148798244856\n"
     ]
    },
    {
     "name": "stderr",
     "output_type": "stream",
     "text": [
      "100% (150 of 150) |######################| Elapsed Time: 0:04:07 Time:  0:04:07\n"
     ]
    },
    {
     "name": "stdout",
     "output_type": "stream",
     "text": [
      " - Min (X): 1.5041014407182818e-160\n",
      " - L1 NORM (X): 2.8363893576105332\n",
      " - COST: 242.4078773400591\n",
      "\n",
      " - CONVERGENCE TEST - \n",
      " - CHANGE IN COST: 0.0002999018151591684\n",
      "\n",
      " - Converged!\n",
      "\n"
     ]
    },
    {
     "name": "stderr",
     "output_type": "stream",
     "text": [
      "\r",
      "                                                                               \r",
      "\r",
      "N/A% (0 of 400) |                        | Elapsed Time: 0:00:00 ETA:  --:--:--"
     ]
    },
    {
     "name": "stdout",
     "output_type": "stream",
     "text": [
      " - ITERATION: 1\n",
      " - COST: 717.1406261335968\n",
      "\n"
     ]
    },
    {
     "name": "stderr",
     "output_type": "stream",
     "text": [
      "\r",
      "                                                                               \r",
      "\r",
      "N/A% (0 of 400) |                        | Elapsed Time: 0:00:01 ETA:  --:--:--"
     ]
    },
    {
     "name": "stdout",
     "output_type": "stream",
     "text": [
      " - ITERATION: 2\n"
     ]
    },
    {
     "name": "stderr",
     "output_type": "stream",
     "text": [
      "\r",
      "                                                                               \r",
      "\r",
      "  0% (1 of 400) |                        | Elapsed Time: 0:00:02 ETA:   0:17:56"
     ]
    },
    {
     "name": "stdout",
     "output_type": "stream",
     "text": [
      " - COST: 717.018682522659\n",
      "\n",
      " - ITERATION: 3\n"
     ]
    },
    {
     "name": "stderr",
     "output_type": "stream",
     "text": [
      "\r",
      "                                                                               \r",
      "\r",
      "  0% (2 of 400) |                        | Elapsed Time: 0:00:04 ETA:   0:08:59"
     ]
    },
    {
     "name": "stdout",
     "output_type": "stream",
     "text": [
      " - COST: 716.9463223794024\n",
      "\n",
      " - ITERATION: 4\n"
     ]
    },
    {
     "name": "stderr",
     "output_type": "stream",
     "text": [
      "\r",
      "                                                                               \r",
      "\r",
      "  0% (3 of 400) |                        | Elapsed Time: 0:00:05 ETA:   0:08:59"
     ]
    },
    {
     "name": "stdout",
     "output_type": "stream",
     "text": [
      " - COST: 716.8923159632452\n",
      "\n",
      " - CONVERGENCE TEST - \n",
      " - CHANGE IN COST: 0.00022364463129448932\n",
      "\n",
      " - ITERATION: 5\n"
     ]
    },
    {
     "name": "stderr",
     "output_type": "stream",
     "text": [
      "\r",
      "                                                                               \r",
      "\r",
      "  1% (4 of 400) |                        | Elapsed Time: 0:00:06 ETA:   0:08:58"
     ]
    },
    {
     "name": "stdout",
     "output_type": "stream",
     "text": [
      " - COST: 716.8558517163698\n",
      "\n",
      " - ITERATION: 6\n"
     ]
    },
    {
     "name": "stderr",
     "output_type": "stream",
     "text": [
      "\r",
      "                                                                               \r",
      "\r",
      "  1% (5 of 400) |                        | Elapsed Time: 0:00:08 ETA:   0:08:56"
     ]
    },
    {
     "name": "stdout",
     "output_type": "stream",
     "text": [
      " - COST: 716.8341839731327\n",
      "\n",
      " - ITERATION: 7\n"
     ]
    },
    {
     "name": "stderr",
     "output_type": "stream",
     "text": [
      "100% (400 of 400) |######################| Elapsed Time: 0:00:09 Time:  0:00:09\n"
     ]
    },
    {
     "name": "stdout",
     "output_type": "stream",
     "text": [
      " - COST: 716.8207471181257\n",
      "\n",
      " - ITERATION: 8\n",
      " - COST: 716.8103149582943\n",
      "\n",
      " - CONVERGENCE TEST - \n",
      " - CHANGE IN COST: 4.113583657789616e-05\n",
      "\n",
      " - Converged!\n"
     ]
    },
    {
     "name": "stderr",
     "output_type": "stream",
     "text": [
      "\r",
      "                                                                               \r",
      "\r",
      "N/A% (0 of 200) |                        | Elapsed Time: 0:00:00 ETA:  --:--:--"
     ]
    },
    {
     "name": "stdout",
     "output_type": "stream",
     "text": [
      " - ITERATION: 61\n",
      " - COST: 1063.0472158979621\n",
      "\n"
     ]
    },
    {
     "name": "stderr",
     "output_type": "stream",
     "text": [
      "\r",
      "                                                                               \r",
      "\r",
      "N/A% (0 of 200) |                        | Elapsed Time: 0:00:03 ETA:  --:--:--"
     ]
    },
    {
     "name": "stdout",
     "output_type": "stream",
     "text": [
      " - ITERATION: 62\n"
     ]
    },
    {
     "name": "stderr",
     "output_type": "stream",
     "text": [
      "\r",
      "                                                                               \r",
      "\r",
      "  0% (1 of 200) |                        | Elapsed Time: 0:00:06 ETA:   0:11:25"
     ]
    },
    {
     "name": "stdout",
     "output_type": "stream",
     "text": [
      " - COST: 1014.3376839657607\n",
      "\n",
      " - ITERATION: 63\n"
     ]
    },
    {
     "name": "stderr",
     "output_type": "stream",
     "text": [
      "\r",
      "                                                                               \r",
      "\r",
      "  1% (2 of 200) |                        | Elapsed Time: 0:00:10 ETA:   0:11:35"
     ]
    },
    {
     "name": "stdout",
     "output_type": "stream",
     "text": [
      " - COST: 974.7261517122419\n",
      "\n",
      " - ITERATION: 64\n"
     ]
    },
    {
     "name": "stderr",
     "output_type": "stream",
     "text": [
      "\r",
      "                                                                               \r",
      "\r",
      "  1% (3 of 200) |                        | Elapsed Time: 0:00:13 ETA:   0:11:19"
     ]
    },
    {
     "name": "stdout",
     "output_type": "stream",
     "text": [
      " - COST: 941.8878299746568\n",
      "\n",
      " - CONVERGENCE TEST - \n",
      " - CHANGE IN COST: 0.08388278480329273\n",
      "\n",
      " - ITERATION: 65\n"
     ]
    },
    {
     "name": "stderr",
     "output_type": "stream",
     "text": [
      "\r",
      "                                                                               \r",
      "\r",
      "  2% (4 of 200) |                        | Elapsed Time: 0:00:17 ETA:   0:11:19"
     ]
    },
    {
     "name": "stdout",
     "output_type": "stream",
     "text": [
      " - COST: 914.3023788448069\n",
      "\n",
      " - ITERATION: 66\n"
     ]
    },
    {
     "name": "stderr",
     "output_type": "stream",
     "text": [
      "\r",
      "                                                                               \r",
      "\r",
      "  2% (5 of 200) |                        | Elapsed Time: 0:00:20 ETA:   0:11:13"
     ]
    },
    {
     "name": "stdout",
     "output_type": "stream",
     "text": [
      " - COST: 890.8912425550956\n",
      "\n",
      " - ITERATION: 67\n"
     ]
    },
    {
     "name": "stderr",
     "output_type": "stream",
     "text": [
      "\r",
      "                                                                               \r",
      "\r",
      "  3% (6 of 200) |                        | Elapsed Time: 0:00:24 ETA:   0:11:14"
     ]
    },
    {
     "name": "stdout",
     "output_type": "stream",
     "text": [
      " - COST: 870.8547068482324\n",
      "\n",
      " - ITERATION: 68\n"
     ]
    },
    {
     "name": "stderr",
     "output_type": "stream",
     "text": [
      "\r",
      "                                                                               \r",
      "\r",
      "  3% (7 of 200) |                        | Elapsed Time: 0:00:27 ETA:   0:11:16"
     ]
    },
    {
     "name": "stdout",
     "output_type": "stream",
     "text": [
      " - COST: 853.5833947697034\n",
      "\n",
      " - CONVERGENCE TEST - \n",
      " - CHANGE IN COST: 0.04683004841182674\n",
      "\n",
      " - ITERATION: 69\n"
     ]
    },
    {
     "name": "stderr",
     "output_type": "stream",
     "text": [
      "\r",
      "                                                                               \r",
      "\r",
      "  4% (8 of 200) |                        | Elapsed Time: 0:00:31 ETA:   0:11:09"
     ]
    },
    {
     "name": "stdout",
     "output_type": "stream",
     "text": [
      " - COST: 838.604901394342\n",
      "\n",
      " - ITERATION: 70\n"
     ]
    },
    {
     "name": "stderr",
     "output_type": "stream",
     "text": [
      "\r",
      "                                                                               \r",
      "\r",
      "  4% (9 of 200) |#                       | Elapsed Time: 0:00:34 ETA:   0:11:03"
     ]
    },
    {
     "name": "stdout",
     "output_type": "stream",
     "text": [
      " - COST: 825.5455074589531\n",
      "\n",
      " - ITERATION: 71\n"
     ]
    },
    {
     "name": "stderr",
     "output_type": "stream",
     "text": [
      "\r",
      "                                                                               \r",
      "\r",
      "  5% (10 of 200) |#                      | Elapsed Time: 0:00:38 ETA:   0:10:58"
     ]
    },
    {
     "name": "stdout",
     "output_type": "stream",
     "text": [
      " - COST: 814.1060957617866\n",
      "\n",
      " - ITERATION: 72\n"
     ]
    },
    {
     "name": "stderr",
     "output_type": "stream",
     "text": [
      "\r",
      "                                                                               \r",
      "\r",
      "  5% (11 of 200) |#                      | Elapsed Time: 0:00:41 ETA:   0:10:48"
     ]
    },
    {
     "name": "stdout",
     "output_type": "stream",
     "text": [
      " - COST: 804.0445861431666\n",
      "\n",
      " - CONVERGENCE TEST - \n",
      " - CHANGE IN COST: 0.028427344537647878\n",
      "\n",
      " - ITERATION: 73\n"
     ]
    },
    {
     "name": "stderr",
     "output_type": "stream",
     "text": [
      "\r",
      "                                                                               \r",
      "\r",
      "  6% (12 of 200) |#                      | Elapsed Time: 0:00:45 ETA:   0:10:54"
     ]
    },
    {
     "name": "stdout",
     "output_type": "stream",
     "text": [
      " - COST: 795.1618014960626\n",
      "\n",
      " - ITERATION: 74\n"
     ]
    },
    {
     "name": "stderr",
     "output_type": "stream",
     "text": [
      "\r",
      "                                                                               \r",
      "\r",
      "  6% (13 of 200) |#                      | Elapsed Time: 0:00:48 ETA:   0:10:45"
     ]
    },
    {
     "name": "stdout",
     "output_type": "stream",
     "text": [
      " - COST: 787.293226344839\n",
      "\n",
      " - ITERATION: 75\n"
     ]
    },
    {
     "name": "stderr",
     "output_type": "stream",
     "text": [
      "\r",
      "                                                                               \r",
      "\r",
      "  7% (14 of 200) |#                      | Elapsed Time: 0:00:52 ETA:   0:10:51"
     ]
    },
    {
     "name": "stdout",
     "output_type": "stream",
     "text": [
      " - COST: 780.3016220129518\n",
      "\n",
      " - ITERATION: 76\n"
     ]
    },
    {
     "name": "stderr",
     "output_type": "stream",
     "text": [
      "\r",
      "                                                                               \r",
      "\r",
      "  7% (15 of 200) |#                      | Elapsed Time: 0:00:55 ETA:   0:10:34"
     ]
    },
    {
     "name": "stdout",
     "output_type": "stream",
     "text": [
      " - COST: 774.0715405481603\n",
      "\n",
      " - CONVERGENCE TEST - \n",
      " - CHANGE IN COST: 0.018066360096901924\n",
      "\n",
      " - ITERATION: 77\n"
     ]
    },
    {
     "name": "stderr",
     "output_type": "stream",
     "text": [
      "  8% (16 of 200) |#                      | Elapsed Time: 0:00:59 ETA:   0:10:43"
     ]
    },
    {
     "name": "stdout",
     "output_type": "stream",
     "text": [
      " - COST: 768.5059198866601\n",
      "\n",
      " - ITERATION: 78\n",
      " - COST: 763.5218311141714\n"
     ]
    },
    {
     "name": "stderr",
     "output_type": "stream",
     "text": [
      "\r",
      "                                                                               \r",
      "\r",
      "  8% (17 of 200) |#                      | Elapsed Time: 0:01:02 ETA:   0:10:37"
     ]
    },
    {
     "name": "stdout",
     "output_type": "stream",
     "text": [
      "\n",
      " - ITERATION: 79\n"
     ]
    },
    {
     "name": "stderr",
     "output_type": "stream",
     "text": [
      "\r",
      "                                                                               \r",
      "\r",
      "  9% (18 of 200) |##                     | Elapsed Time: 0:01:05 ETA:   0:10:36"
     ]
    },
    {
     "name": "stdout",
     "output_type": "stream",
     "text": [
      " - COST: 759.0483376085919\n",
      "\n",
      " - ITERATION: 80\n"
     ]
    },
    {
     "name": "stderr",
     "output_type": "stream",
     "text": [
      "\r",
      "                                                                               \r",
      "\r",
      "  9% (19 of 200) |##                     | Elapsed Time: 0:01:11 ETA:   0:17:27"
     ]
    },
    {
     "name": "stdout",
     "output_type": "stream",
     "text": [
      " - COST: 755.0250405753176\n",
      "\n",
      " - CONVERGENCE TEST - \n",
      " - CHANGE IN COST: 0.011858324091569276\n",
      "\n",
      " - ITERATION: 81\n"
     ]
    },
    {
     "name": "stderr",
     "output_type": "stream",
     "text": [
      "\r",
      "                                                                               \r",
      "\r",
      " 10% (20 of 200) |##                     | Elapsed Time: 0:01:15 ETA:   0:12:11"
     ]
    },
    {
     "name": "stdout",
     "output_type": "stream",
     "text": [
      " - COST: 751.3994154446212\n",
      "\n",
      " - ITERATION: 82\n"
     ]
    },
    {
     "name": "stderr",
     "output_type": "stream",
     "text": [
      "\r",
      "                                                                               \r",
      "\r",
      " 10% (21 of 200) |##                     | Elapsed Time: 0:01:19 ETA:   0:10:31"
     ]
    },
    {
     "name": "stdout",
     "output_type": "stream",
     "text": [
      " - COST: 748.1262419757085\n",
      "\n",
      " - ITERATION: 83\n"
     ]
    },
    {
     "name": "stderr",
     "output_type": "stream",
     "text": [
      "\r",
      "                                                                               \r",
      "\r",
      " 11% (22 of 200) |##                     | Elapsed Time: 0:01:22 ETA:   0:10:20"
     ]
    },
    {
     "name": "stdout",
     "output_type": "stream",
     "text": [
      " - COST: 745.1662283091691\n",
      "\n",
      " - ITERATION: 84\n"
     ]
    },
    {
     "name": "stderr",
     "output_type": "stream",
     "text": [
      " 11% (23 of 200) |##                     | Elapsed Time: 0:01:26 ETA:   0:11:53"
     ]
    },
    {
     "name": "stdout",
     "output_type": "stream",
     "text": [
      " - COST: 742.4847749010268\n",
      "\n",
      " - CONVERGENCE TEST - \n",
      " - CHANGE IN COST: 0.007982150507417025\n",
      "\n",
      " - ITERATION: 85\n",
      " - COST: 740.0517709751313\n"
     ]
    },
    {
     "name": "stderr",
     "output_type": "stream",
     "text": [
      "\r",
      "                                                                               \r",
      "\r",
      " 12% (24 of 200) |##                     | Elapsed Time: 0:01:30 ETA:   0:10:50"
     ]
    },
    {
     "name": "stdout",
     "output_type": "stream",
     "text": [
      "\n",
      " - ITERATION: 86\n"
     ]
    },
    {
     "name": "stderr",
     "output_type": "stream",
     "text": [
      "\r",
      "                                                                               \r",
      "\r",
      " 12% (25 of 200) |##                     | Elapsed Time: 0:01:34 ETA:   0:11:02"
     ]
    },
    {
     "name": "stdout",
     "output_type": "stream",
     "text": [
      " - COST: 737.8409198132745\n",
      "\n",
      " - ITERATION: 87\n"
     ]
    },
    {
     "name": "stderr",
     "output_type": "stream",
     "text": [
      "\r",
      "                                                                               \r",
      "\r",
      " 13% (26 of 200) |##                     | Elapsed Time: 0:01:38 ETA:   0:11:10"
     ]
    },
    {
     "name": "stdout",
     "output_type": "stream",
     "text": [
      " - COST: 735.8295709557522\n",
      "\n",
      " - ITERATION: 88\n"
     ]
    },
    {
     "name": "stderr",
     "output_type": "stream",
     "text": [
      " 14% (28 of 200) |###                    | Elapsed Time: 0:01:45 ETA:   0:20:42"
     ]
    },
    {
     "name": "stdout",
     "output_type": "stream",
     "text": [
      " - COST: 733.9968766277589\n",
      "\n",
      " - CONVERGENCE TEST - \n",
      " - CHANGE IN COST: 0.005487888191259595\n",
      "\n",
      " - ITERATION: 89\n",
      " - COST: 732.3248002917832\n",
      "\n"
     ]
    },
    {
     "name": "stderr",
     "output_type": "stream",
     "text": [
      "\r",
      "                                                                               \r",
      "\r",
      " 14% (28 of 200) |###                    | Elapsed Time: 0:01:49 ETA:   0:10:49"
     ]
    },
    {
     "name": "stdout",
     "output_type": "stream",
     "text": [
      " - ITERATION: 90\n"
     ]
    },
    {
     "name": "stderr",
     "output_type": "stream",
     "text": [
      "\r",
      "                                                                               \r",
      "\r",
      " 14% (29 of 200) |###                    | Elapsed Time: 0:01:52 ETA:   0:10:06"
     ]
    },
    {
     "name": "stdout",
     "output_type": "stream",
     "text": [
      " - COST: 730.7972983570307\n",
      "\n",
      " - ITERATION: 91\n"
     ]
    },
    {
     "name": "stderr",
     "output_type": "stream",
     "text": [
      "\r",
      "                                                                               \r",
      "\r",
      " 15% (30 of 200) |###                    | Elapsed Time: 0:01:57 ETA:   0:14:18"
     ]
    },
    {
     "name": "stdout",
     "output_type": "stream",
     "text": [
      " - COST: 729.4002766617326\n",
      "\n",
      " - ITERATION: 92\n"
     ]
    },
    {
     "name": "stderr",
     "output_type": "stream",
     "text": [
      "\r",
      "                                                                               \r",
      "\r",
      " 15% (31 of 200) |###                    | Elapsed Time: 0:02:02 ETA:   0:11:55"
     ]
    },
    {
     "name": "stdout",
     "output_type": "stream",
     "text": [
      " - COST: 728.1212613709737\n",
      "\n",
      " - CONVERGENCE TEST - \n",
      " - CHANGE IN COST: 0.0038425234001460166\n",
      "\n",
      " - ITERATION: 93\n"
     ]
    },
    {
     "name": "stderr",
     "output_type": "stream",
     "text": [
      "\r",
      "                                                                               \r",
      "\r",
      " 16% (32 of 200) |###                    | Elapsed Time: 0:02:05 ETA:   0:09:49"
     ]
    },
    {
     "name": "stdout",
     "output_type": "stream",
     "text": [
      " - COST: 726.9489991400388\n",
      "\n",
      " - ITERATION: 94\n"
     ]
    },
    {
     "name": "stderr",
     "output_type": "stream",
     "text": [
      "\r",
      "                                                                               \r",
      "\r",
      " 16% (33 of 200) |###                    | Elapsed Time: 0:02:09 ETA:   0:11:31"
     ]
    },
    {
     "name": "stdout",
     "output_type": "stream",
     "text": [
      " - COST: 725.8731398527383\n",
      "\n",
      " - ITERATION: 95\n"
     ]
    },
    {
     "name": "stderr",
     "output_type": "stream",
     "text": [
      "\r",
      "                                                                               \r",
      "\r",
      " 17% (34 of 200) |###                    | Elapsed Time: 0:02:13 ETA:   0:10:04"
     ]
    },
    {
     "name": "stdout",
     "output_type": "stream",
     "text": [
      " - COST: 724.8845948803671\n",
      "\n",
      " - ITERATION: 96\n"
     ]
    },
    {
     "name": "stderr",
     "output_type": "stream",
     "text": [
      "\r",
      "                                                                               \r",
      "\r",
      " 17% (35 of 200) |####                   | Elapsed Time: 0:02:18 ETA:   0:15:01"
     ]
    },
    {
     "name": "stdout",
     "output_type": "stream",
     "text": [
      " - COST: 723.9754912583281\n",
      "\n",
      " - CONVERGENCE TEST - \n",
      " - CHANGE IN COST: 0.0027346000431559265\n",
      "\n",
      " - ITERATION: 97\n"
     ]
    },
    {
     "name": "stderr",
     "output_type": "stream",
     "text": [
      "\r",
      "                                                                               \r",
      "\r",
      " 18% (36 of 200) |####                   | Elapsed Time: 0:02:23 ETA:   0:13:48"
     ]
    },
    {
     "name": "stdout",
     "output_type": "stream",
     "text": [
      " - COST: 723.1387245579155\n",
      "\n",
      " - ITERATION: 98\n"
     ]
    },
    {
     "name": "stderr",
     "output_type": "stream",
     "text": [
      "\r",
      "                                                                               \r",
      "\r",
      " 18% (37 of 200) |####                   | Elapsed Time: 0:02:28 ETA:   0:11:51"
     ]
    },
    {
     "name": "stdout",
     "output_type": "stream",
     "text": [
      " - COST: 722.3677067883863\n",
      "\n",
      " - ITERATION: 99\n"
     ]
    },
    {
     "name": "stderr",
     "output_type": "stream",
     "text": [
      "\r",
      "                                                                               \r",
      "\r",
      " 19% (38 of 200) |####                   | Elapsed Time: 0:02:31 ETA:   0:09:54"
     ]
    },
    {
     "name": "stdout",
     "output_type": "stream",
     "text": [
      " - COST: 721.6565138555272\n",
      "\n",
      " - ITERATION: 100\n"
     ]
    },
    {
     "name": "stderr",
     "output_type": "stream",
     "text": [
      "\r",
      "                                                                               \r",
      "\r",
      " 19% (39 of 200) |####                   | Elapsed Time: 0:02:35 ETA:   0:09:18"
     ]
    },
    {
     "name": "stdout",
     "output_type": "stream",
     "text": [
      " - COST: 720.9998497518071\n",
      "\n",
      " - CONVERGENCE TEST - \n",
      " - CHANGE IN COST: 0.001975569380805934\n",
      "\n",
      " - ITERATION: 101\n"
     ]
    },
    {
     "name": "stderr",
     "output_type": "stream",
     "text": [
      "\r",
      "                                                                               \r",
      "\r",
      " 20% (40 of 200) |####                   | Elapsed Time: 0:02:38 ETA:   0:09:19"
     ]
    },
    {
     "name": "stdout",
     "output_type": "stream",
     "text": [
      " - COST: 720.3929627910665\n",
      "\n",
      " - ITERATION: 102\n"
     ]
    },
    {
     "name": "stderr",
     "output_type": "stream",
     "text": [
      " 20% (41 of 200) |####                   | Elapsed Time: 0:02:42 ETA:   0:09:45"
     ]
    },
    {
     "name": "stdout",
     "output_type": "stream",
     "text": [
      " - COST: 719.8317489557669\n",
      "\n",
      " - ITERATION: 103\n",
      " - COST: 719.3121802396792\n"
     ]
    },
    {
     "name": "stderr",
     "output_type": "stream",
     "text": [
      "\r",
      "                                                                               \r",
      "\r",
      " 21% (42 of 200) |####                   | Elapsed Time: 0:02:46 ETA:   0:10:30"
     ]
    },
    {
     "name": "stdout",
     "output_type": "stream",
     "text": [
      "\n",
      " - ITERATION: 104\n"
     ]
    },
    {
     "name": "stderr",
     "output_type": "stream",
     "text": [
      "\r",
      "                                                                               \r",
      "\r",
      " 21% (43 of 200) |####                   | Elapsed Time: 0:02:50 ETA:   0:11:12"
     ]
    },
    {
     "name": "stdout",
     "output_type": "stream",
     "text": [
      " - COST: 718.8308044684542\n",
      "\n",
      " - CONVERGENCE TEST - \n",
      " - CHANGE IN COST: 0.0014475104776333419\n",
      "\n",
      " - ITERATION: 105\n"
     ]
    },
    {
     "name": "stderr",
     "output_type": "stream",
     "text": [
      "\r",
      "                                                                               \r",
      "\r",
      " 22% (44 of 200) |#####                  | Elapsed Time: 0:02:54 ETA:   0:09:03"
     ]
    },
    {
     "name": "stdout",
     "output_type": "stream",
     "text": [
      " - COST: 718.3845864125268\n",
      "\n",
      " - ITERATION: 106\n"
     ]
    },
    {
     "name": "stderr",
     "output_type": "stream",
     "text": [
      "\r",
      "                                                                               \r",
      "\r",
      " 22% (45 of 200) |#####                  | Elapsed Time: 0:02:57 ETA:   0:08:54"
     ]
    },
    {
     "name": "stdout",
     "output_type": "stream",
     "text": [
      " - COST: 717.9706850754753\n",
      "\n",
      " - ITERATION: 107\n"
     ]
    },
    {
     "name": "stderr",
     "output_type": "stream",
     "text": [
      "\r",
      "                                                                               \r",
      "\r",
      " 23% (46 of 200) |#####                  | Elapsed Time: 0:03:01 ETA:   0:08:59"
     ]
    },
    {
     "name": "stdout",
     "output_type": "stream",
     "text": [
      " - COST: 717.5863733613999\n",
      "\n",
      " - ITERATION: 108\n"
     ]
    },
    {
     "name": "stderr",
     "output_type": "stream",
     "text": [
      "\r",
      "                                                                               \r",
      "\r",
      " 23% (47 of 200) |#####                  | Elapsed Time: 0:03:04 ETA:   0:08:47"
     ]
    },
    {
     "name": "stdout",
     "output_type": "stream",
     "text": [
      " - COST: 717.2292800837683\n",
      "\n",
      " - CONVERGENCE TEST - \n",
      " - CHANGE IN COST: 0.0010730424073204087\n",
      "\n",
      " - ITERATION: 109\n"
     ]
    },
    {
     "name": "stderr",
     "output_type": "stream",
     "text": [
      "\r",
      "                                                                               \r",
      "\r",
      " 24% (48 of 200) |#####                  | Elapsed Time: 0:03:08 ETA:   0:08:47"
     ]
    },
    {
     "name": "stdout",
     "output_type": "stream",
     "text": [
      " - COST: 716.8973248629056\n",
      "\n",
      " - ITERATION: 110\n"
     ]
    },
    {
     "name": "stderr",
     "output_type": "stream",
     "text": [
      "\r",
      "                                                                               \r",
      "\r",
      " 24% (49 of 200) |#####                  | Elapsed Time: 0:03:12 ETA:   0:11:18"
     ]
    },
    {
     "name": "stdout",
     "output_type": "stream",
     "text": [
      " - COST: 716.5884079801509\n",
      "\n",
      " - ITERATION: 111\n"
     ]
    },
    {
     "name": "stderr",
     "output_type": "stream",
     "text": [
      "\r",
      "                                                                               \r",
      "\r",
      " 25% (50 of 200) |#####                  | Elapsed Time: 0:03:16 ETA:   0:08:42"
     ]
    },
    {
     "name": "stdout",
     "output_type": "stream",
     "text": [
      " - COST: 716.3007311747193\n",
      "\n",
      " - ITERATION: 112\n"
     ]
    },
    {
     "name": "stderr",
     "output_type": "stream",
     "text": [
      "\r",
      "                                                                               \r",
      "\r",
      " 25% (51 of 200) |#####                  | Elapsed Time: 0:03:19 ETA:   0:08:39"
     ]
    },
    {
     "name": "stdout",
     "output_type": "stream",
     "text": [
      " - COST: 716.0326509125772\n",
      "\n",
      " - CONVERGENCE TEST - \n",
      " - CHANGE IN COST: 0.000804526914035102\n",
      "\n",
      " - ITERATION: 113\n"
     ]
    },
    {
     "name": "stderr",
     "output_type": "stream",
     "text": [
      "\r",
      "                                                                               \r",
      "\r",
      " 26% (52 of 200) |#####                  | Elapsed Time: 0:03:23 ETA:   0:08:37"
     ]
    },
    {
     "name": "stdout",
     "output_type": "stream",
     "text": [
      " - COST: 715.7827173964612\n",
      "\n",
      " - ITERATION: 114\n"
     ]
    },
    {
     "name": "stderr",
     "output_type": "stream",
     "text": [
      "\r",
      "                                                                               \r",
      "\r",
      " 26% (53 of 200) |######                 | Elapsed Time: 0:03:26 ETA:   0:08:36"
     ]
    },
    {
     "name": "stdout",
     "output_type": "stream",
     "text": [
      " - COST: 715.5495017820467\n",
      "\n",
      " - ITERATION: 115\n"
     ]
    },
    {
     "name": "stderr",
     "output_type": "stream",
     "text": [
      "\r",
      "                                                                               \r",
      "\r",
      " 27% (54 of 200) |######                 | Elapsed Time: 0:03:30 ETA:   0:08:27"
     ]
    },
    {
     "name": "stdout",
     "output_type": "stream",
     "text": [
      " - COST: 715.3316654725658\n",
      "\n",
      " - ITERATION: 116\n"
     ]
    },
    {
     "name": "stderr",
     "output_type": "stream",
     "text": [
      "\r",
      "                                                                               \r",
      "\r",
      " 27% (55 of 200) |######                 | Elapsed Time: 0:03:33 ETA:   0:08:20"
     ]
    },
    {
     "name": "stdout",
     "output_type": "stream",
     "text": [
      " - COST: 715.1281911156666\n",
      "\n",
      " - CONVERGENCE TEST - \n",
      " - CHANGE IN COST: 0.0006098476558132669\n",
      "\n",
      " - ITERATION: 117\n"
     ]
    },
    {
     "name": "stderr",
     "output_type": "stream",
     "text": [
      "\r",
      "                                                                               \r",
      "\r",
      " 28% (56 of 200) |######                 | Elapsed Time: 0:03:37 ETA:   0:08:19"
     ]
    },
    {
     "name": "stdout",
     "output_type": "stream",
     "text": [
      " - COST: 714.9381159619304\n",
      "\n",
      " - ITERATION: 118\n"
     ]
    },
    {
     "name": "stderr",
     "output_type": "stream",
     "text": [
      "\r",
      "                                                                               \r",
      "\r",
      " 28% (57 of 200) |######                 | Elapsed Time: 0:03:43 ETA:   0:15:56"
     ]
    },
    {
     "name": "stdout",
     "output_type": "stream",
     "text": [
      " - COST: 714.760387273829\n",
      "\n",
      " - ITERATION: 119\n"
     ]
    },
    {
     "name": "stderr",
     "output_type": "stream",
     "text": [
      "\r",
      "                                                                               \r",
      "\r",
      " 28% (58 of 200) |######                 | Elapsed Time: 0:03:47 ETA:   0:08:54"
     ]
    },
    {
     "name": "stdout",
     "output_type": "stream",
     "text": [
      " - COST: 714.5940957540341\n",
      "\n",
      " - ITERATION: 120\n"
     ]
    },
    {
     "name": "stderr",
     "output_type": "stream",
     "text": [
      "\r",
      "                                                                               \r",
      "\r",
      " 29% (59 of 200) |######                 | Elapsed Time: 0:03:52 ETA:   0:10:55"
     ]
    },
    {
     "name": "stdout",
     "output_type": "stream",
     "text": [
      " - COST: 714.4384577720372\n",
      "\n",
      " - CONVERGENCE TEST - \n",
      " - CHANGE IN COST: 0.00046601437318190774\n",
      "\n",
      " - ITERATION: 121\n"
     ]
    },
    {
     "name": "stderr",
     "output_type": "stream",
     "text": [
      " 30% (61 of 200) |#######                | Elapsed Time: 0:03:57 ETA:   0:12:45"
     ]
    },
    {
     "name": "stdout",
     "output_type": "stream",
     "text": [
      " - COST: 714.2926559761607\n",
      "\n",
      " - ITERATION: 122\n",
      " - COST: 714.1560141992177\n",
      "\n"
     ]
    },
    {
     "name": "stderr",
     "output_type": "stream",
     "text": [
      "\r",
      "                                                                               \r",
      "\r",
      " 30% (61 of 200) |#######                | Elapsed Time: 0:04:01 ETA:   0:09:06"
     ]
    },
    {
     "name": "stdout",
     "output_type": "stream",
     "text": [
      " - ITERATION: 123\n"
     ]
    },
    {
     "name": "stderr",
     "output_type": "stream",
     "text": [
      "\r",
      "                                                                               \r",
      "\r",
      " 31% (62 of 200) |#######                | Elapsed Time: 0:04:06 ETA:   0:11:30"
     ]
    },
    {
     "name": "stdout",
     "output_type": "stream",
     "text": [
      " - COST: 714.0278396030948\n",
      "\n",
      " - ITERATION: 124\n"
     ]
    },
    {
     "name": "stderr",
     "output_type": "stream",
     "text": [
      "\r",
      "                                                                               \r",
      "\r",
      " 31% (63 of 200) |#######                | Elapsed Time: 0:04:11 ETA:   0:11:06"
     ]
    },
    {
     "name": "stdout",
     "output_type": "stream",
     "text": [
      " - COST: 713.9075265871335\n",
      "\n",
      " - CONVERGENCE TEST - \n",
      " - CHANGE IN COST: 0.00035947284261177495\n",
      "\n",
      " - ITERATION: 125\n"
     ]
    },
    {
     "name": "stderr",
     "output_type": "stream",
     "text": [
      "\r",
      "                                                                               \r",
      "\r",
      " 32% (64 of 200) |#######                | Elapsed Time: 0:04:15 ETA:   0:08:08"
     ]
    },
    {
     "name": "stdout",
     "output_type": "stream",
     "text": [
      " - COST: 713.7945565491812\n",
      "\n",
      " - ITERATION: 126\n"
     ]
    },
    {
     "name": "stderr",
     "output_type": "stream",
     "text": [
      " 33% (66 of 200) |#######                | Elapsed Time: 0:04:18 ETA:   0:07:54"
     ]
    },
    {
     "name": "stdout",
     "output_type": "stream",
     "text": [
      " - COST: 713.6884004699302\n",
      "\n",
      " - ITERATION: 127\n",
      " - COST: 713.588639760044\n",
      "\n"
     ]
    },
    {
     "name": "stderr",
     "output_type": "stream",
     "text": [
      "\r",
      "                                                                               \r",
      "\r",
      " 33% (66 of 200) |#######                | Elapsed Time: 0:04:22 ETA:   0:08:00"
     ]
    },
    {
     "name": "stdout",
     "output_type": "stream",
     "text": [
      " - ITERATION: 128\n"
     ]
    },
    {
     "name": "stderr",
     "output_type": "stream",
     "text": [
      "\r",
      "                                                                               \r",
      "\r",
      " 33% (67 of 200) |#######                | Elapsed Time: 0:04:25 ETA:   0:07:58"
     ]
    },
    {
     "name": "stdout",
     "output_type": "stream",
     "text": [
      " - COST: 713.4948547038683\n",
      "\n",
      " - CONVERGENCE TEST - \n",
      " - CHANGE IN COST: 0.0002799153355418342\n",
      "\n",
      " - ITERATION: 129\n"
     ]
    },
    {
     "name": "stderr",
     "output_type": "stream",
     "text": [
      "\r",
      "                                                                               \r",
      "\r",
      " 34% (68 of 200) |#######                | Elapsed Time: 0:04:29 ETA:   0:07:55"
     ]
    },
    {
     "name": "stdout",
     "output_type": "stream",
     "text": [
      " - COST: 713.4066722964255\n",
      "\n",
      " - ITERATION: 130\n"
     ]
    },
    {
     "name": "stderr",
     "output_type": "stream",
     "text": [
      "\r",
      "                                                                               \r",
      "\r",
      " 34% (69 of 200) |#######                | Elapsed Time: 0:04:32 ETA:   0:07:49"
     ]
    },
    {
     "name": "stdout",
     "output_type": "stream",
     "text": [
      " - COST: 713.3237050841108\n",
      "\n",
      " - ITERATION: 131\n"
     ]
    },
    {
     "name": "stderr",
     "output_type": "stream",
     "text": [
      "\r",
      "                                                                               \r",
      "\r",
      " 35% (70 of 200) |########               | Elapsed Time: 0:04:36 ETA:   0:07:43"
     ]
    },
    {
     "name": "stdout",
     "output_type": "stream",
     "text": [
      " - COST: 713.2455401232729\n",
      "\n",
      " - ITERATION: 132\n"
     ]
    },
    {
     "name": "stderr",
     "output_type": "stream",
     "text": [
      "\r",
      "                                                                               \r",
      "\r",
      " 35% (71 of 200) |########               | Elapsed Time: 0:04:40 ETA:   0:07:40"
     ]
    },
    {
     "name": "stdout",
     "output_type": "stream",
     "text": [
      " - COST: 713.1718154662722\n",
      "\n",
      " - CONVERGENCE TEST - \n",
      " - CHANGE IN COST: 0.00021944614580349752\n",
      "\n",
      " - ITERATION: 133\n"
     ]
    },
    {
     "name": "stderr",
     "output_type": "stream",
     "text": [
      "\r",
      "                                                                               \r",
      "\r",
      " 36% (72 of 200) |########               | Elapsed Time: 0:04:43 ETA:   0:07:38"
     ]
    },
    {
     "name": "stdout",
     "output_type": "stream",
     "text": [
      " - COST: 713.1022821722228\n",
      "\n",
      " - ITERATION: 134\n"
     ]
    },
    {
     "name": "stderr",
     "output_type": "stream",
     "text": [
      "\r",
      "                                                                               \r",
      "\r",
      " 36% (73 of 200) |########               | Elapsed Time: 0:04:47 ETA:   0:07:26"
     ]
    },
    {
     "name": "stdout",
     "output_type": "stream",
     "text": [
      " - COST: 713.0367201761599\n",
      "\n",
      " - ITERATION: 135\n"
     ]
    },
    {
     "name": "stderr",
     "output_type": "stream",
     "text": [
      "\r",
      "                                                                               \r",
      "\r",
      " 37% (74 of 200) |########               | Elapsed Time: 0:04:50 ETA:   0:07:29"
     ]
    },
    {
     "name": "stdout",
     "output_type": "stream",
     "text": [
      " - COST: 712.9748792487103\n",
      "\n",
      " - ITERATION: 136\n"
     ]
    },
    {
     "name": "stderr",
     "output_type": "stream",
     "text": [
      " 38% (76 of 200) |########               | Elapsed Time: 0:04:54 ETA:   0:07:40"
     ]
    },
    {
     "name": "stdout",
     "output_type": "stream",
     "text": [
      " - COST: 712.9164891476767\n",
      "\n",
      " - CONVERGENCE TEST - \n",
      " - CHANGE IN COST: 0.00017366957784048685\n",
      "\n",
      " - ITERATION: 137\n",
      " - COST: 712.8613495891359\n",
      "\n"
     ]
    },
    {
     "name": "stderr",
     "output_type": "stream",
     "text": [
      "\r",
      "                                                                               \r",
      "\r",
      " 38% (76 of 200) |########               | Elapsed Time: 0:05:00 ETA:   0:12:53"
     ]
    },
    {
     "name": "stdout",
     "output_type": "stream",
     "text": [
      " - ITERATION: 138\n"
     ]
    },
    {
     "name": "stderr",
     "output_type": "stream",
     "text": [
      "\r",
      "                                                                               \r",
      "\r",
      " 38% (77 of 200) |########               | Elapsed Time: 0:05:06 ETA:   0:11:00"
     ]
    },
    {
     "name": "stdout",
     "output_type": "stream",
     "text": [
      " - COST: 712.8092858537052\n",
      "\n",
      " - ITERATION: 139\n"
     ]
    },
    {
     "name": "stderr",
     "output_type": "stream",
     "text": [
      " 39% (79 of 200) |#########              | Elapsed Time: 0:05:10 ETA:   0:09:12"
     ]
    },
    {
     "name": "stdout",
     "output_type": "stream",
     "text": [
      " - COST: 712.7601030057248\n",
      "\n",
      " - ITERATION: 140\n",
      " - COST: 712.7135565656365\n",
      "\n",
      " - CONVERGENCE TEST - \n",
      " - CHANGE IN COST: 0.0001381827508052067\n",
      "\n"
     ]
    },
    {
     "name": "stderr",
     "output_type": "stream",
     "text": [
      "\r",
      "                                                                               \r",
      "\r",
      " 39% (79 of 200) |#########              | Elapsed Time: 0:05:15 ETA:   0:08:54"
     ]
    },
    {
     "name": "stdout",
     "output_type": "stream",
     "text": [
      " - ITERATION: 141\n"
     ]
    },
    {
     "name": "stderr",
     "output_type": "stream",
     "text": [
      "\r",
      "                                                                               \r",
      "\r",
      " 40% (80 of 200) |#########              | Elapsed Time: 0:05:19 ETA:   0:07:55"
     ]
    },
    {
     "name": "stdout",
     "output_type": "stream",
     "text": [
      " - COST: 712.6694580718572\n",
      "\n",
      " - ITERATION: 142\n"
     ]
    },
    {
     "name": "stderr",
     "output_type": "stream",
     "text": [
      "\r",
      "                                                                               \r",
      "\r",
      " 40% (81 of 200) |#########              | Elapsed Time: 0:05:23 ETA:   0:08:18"
     ]
    },
    {
     "name": "stdout",
     "output_type": "stream",
     "text": [
      " - COST: 712.6276655196046\n",
      "\n",
      " - ITERATION: 143\n"
     ]
    },
    {
     "name": "stderr",
     "output_type": "stream",
     "text": [
      "\r",
      "                                                                               \r",
      "\r",
      " 41% (82 of 200) |#########              | Elapsed Time: 0:05:26 ETA:   0:06:59"
     ]
    },
    {
     "name": "stdout",
     "output_type": "stream",
     "text": [
      " - COST: 712.5880946479301\n",
      "\n",
      " - ITERATION: 144\n"
     ]
    },
    {
     "name": "stderr",
     "output_type": "stream",
     "text": [
      "\r",
      "                                                                               \r",
      "\r",
      " 41% (83 of 200) |#########              | Elapsed Time: 0:05:30 ETA:   0:06:43"
     ]
    },
    {
     "name": "stdout",
     "output_type": "stream",
     "text": [
      " - COST: 712.5506354561594\n",
      "\n",
      " - CONVERGENCE TEST - \n",
      " - CHANGE IN COST: 0.00011114250425352022\n",
      "\n",
      " - ITERATION: 145\n"
     ]
    },
    {
     "name": "stderr",
     "output_type": "stream",
     "text": [
      "\r",
      "                                                                               \r",
      "\r",
      " 42% (84 of 200) |#########              | Elapsed Time: 0:05:33 ETA:   0:07:08"
     ]
    },
    {
     "name": "stdout",
     "output_type": "stream",
     "text": [
      " - COST: 712.5151673524095\n",
      "\n",
      " - ITERATION: 146\n"
     ]
    },
    {
     "name": "stderr",
     "output_type": "stream",
     "text": [
      "\r",
      "                                                                               \r",
      "\r",
      " 42% (85 of 200) |#########              | Elapsed Time: 0:05:38 ETA:   0:08:07"
     ]
    },
    {
     "name": "stdout",
     "output_type": "stream",
     "text": [
      " - COST: 712.4815750086059\n",
      "\n",
      " - ITERATION: 147\n"
     ]
    },
    {
     "name": "stderr",
     "output_type": "stream",
     "text": [
      "100% (200 of 200) |######################| Elapsed Time: 0:05:46 Time:  0:05:46\n"
     ]
    },
    {
     "name": "stdout",
     "output_type": "stream",
     "text": [
      " - COST: 712.4497514680132\n",
      "\n",
      " - ITERATION: 148\n",
      " - COST: 712.4196139888852\n",
      "\n",
      " - CONVERGENCE TEST - \n",
      " - CHANGE IN COST: 8.939549632073295e-05\n",
      "\n",
      " - Converged!\n"
     ]
    }
   ],
   "source": [
    "S, A = rca_runner.fit(stars, train_galaxies, stars_pos, train_galaxies_pos)"
   ]
  },
  {
   "cell_type": "code",
   "execution_count": 14,
   "metadata": {},
   "outputs": [],
   "source": [
    "rca_runner.quicksave('simulated_data_fitted_model')"
   ]
  },
  {
   "cell_type": "markdown",
   "metadata": {},
   "source": [
    "## PSF estimation"
   ]
  },
  {
   "cell_type": "markdown",
   "metadata": {},
   "source": [
    "To compare estimate PSFs with true PSFs, we need their shifts:"
   ]
  },
  {
   "cell_type": "code",
   "execution_count": 15,
   "metadata": {},
   "outputs": [],
   "source": [
    "cents = []\n",
    "for psf in test_PSFs_truth:\n",
    "    cents += [rca.utils.CentroidEstimator(psf)]\n",
    "test_shifts = np.array([ce.return_shifts() for ce in cents])"
   ]
  },
  {
   "cell_type": "markdown",
   "metadata": {},
   "source": [
    "Estimate PSF all the positions. `shifts` are set to get PSFs estimate sampled on the right grid for comparisons with true PSFs."
   ]
  },
  {
   "cell_type": "code",
   "execution_count": 16,
   "metadata": {},
   "outputs": [],
   "source": [
    "test_PSFs_estimate = rca_runner.estimate_psf(test_galaxies_pos, apply_degradation=True, shifts=test_shifts)"
   ]
  },
  {
   "cell_type": "markdown",
   "metadata": {},
   "source": [
    "Normalize all the PSFs for comparisons:"
   ]
  },
  {
   "cell_type": "code",
   "execution_count": 17,
   "metadata": {},
   "outputs": [],
   "source": [
    "for j in range(test_PSFs_estimate.shape[0]):\n",
    "    test_PSFs_estimate[j] /= test_PSFs_estimate[j].sum()\n",
    "    test_PSFs_truth[j] /= test_PSFs_truth[j].sum()"
   ]
  },
  {
   "cell_type": "markdown",
   "metadata": {},
   "source": [
    "## EigenPSFs"
   ]
  },
  {
   "cell_type": "code",
   "execution_count": 18,
   "metadata": {},
   "outputs": [
    {
     "data": {
      "image/png": "[encoded data removed]",
      "text/plain": [
       "<Figure size 432x288 with 2 Axes>"
      ]
     },
     "metadata": {
      "needs_background": "light"
     },
     "output_type": "display_data"
    },
    {
     "data": {
      "image/png": "[encoded data removed]",
      "text/plain": [
       "<Figure size 432x288 with 2 Axes>"
      ]
     },
     "metadata": {
      "needs_background": "light"
     },
     "output_type": "display_data"
    },
    {
     "data": {
      "image/png": "[encoded data removed]",
      "text/plain": [
       "<Figure size 432x288 with 2 Axes>"
      ]
     },
     "metadata": {
      "needs_background": "light"
     },
     "output_type": "display_data"
    },
    {
     "data": {
      "image/png": "[encoded data removed]",
      "text/plain": [
       "<Figure size 432x288 with 2 Axes>"
      ]
     },
     "metadata": {
      "needs_background": "light"
     },
     "output_type": "display_data"
    }
   ],
   "source": [
    "eigenPSFs = rca.utils.reg_format(S)\n",
    "for epsf in eigenPSFs:\n",
    "    plot_func(abs(epsf))"
   ]
  },
  {
   "cell_type": "markdown",
   "metadata": {},
   "source": [
    "## Few examples"
   ]
  },
  {
   "cell_type": "code",
   "execution_count": 19,
   "metadata": {
    "scrolled": false
   },
   "outputs": [
    {
     "data": {
      "image/png": "[encoded data removed]",
      "text/plain": [
       "<Figure size 432x288 with 2 Axes>"
      ]
     },
     "metadata": {
      "needs_background": "light"
     },
     "output_type": "display_data"
    },
    {
     "data": {
      "image/png": "[encoded data removed]",
      "text/plain": [
       "<Figure size 432x288 with 2 Axes>"
      ]
     },
     "metadata": {
      "needs_background": "light"
     },
     "output_type": "display_data"
    },
    {
     "data": {
      "image/png": "[encoded data removed]",
      "text/plain": [
       "<Figure size 432x288 with 2 Axes>"
      ]
     },
     "metadata": {
      "needs_background": "light"
     },
     "output_type": "display_data"
    },
    {
     "name": "stdout",
     "output_type": "stream",
     "text": [
      "7\n"
     ]
    },
    {
     "data": {
      "image/png": "[encoded data removed]",
      "text/plain": [
       "<Figure size 432x288 with 2 Axes>"
      ]
     },
     "metadata": {
      "needs_background": "light"
     },
     "output_type": "display_data"
    },
    {
     "data": {
      "image/png": "[encoded data removed]",
      "text/plain": [
       "<Figure size 432x288 with 2 Axes>"
      ]
     },
     "metadata": {
      "needs_background": "light"
     },
     "output_type": "display_data"
    },
    {
     "data": {
      "image/png": "[encoded data removed]",
      "text/plain": [
       "<Figure size 432x288 with 2 Axes>"
      ]
     },
     "metadata": {
      "needs_background": "light"
     },
     "output_type": "display_data"
    },
    {
     "name": "stdout",
     "output_type": "stream",
     "text": [
      "67\n"
     ]
    },
    {
     "data": {
      "image/png": "[encoded data removed]",
      "text/plain": [
       "<Figure size 432x288 with 2 Axes>"
      ]
     },
     "metadata": {
      "needs_background": "light"
     },
     "output_type": "display_data"
    },
    {
     "data": {
      "image/png": "[encoded data removed]",
      "text/plain": [
       "<Figure size 432x288 with 2 Axes>"
      ]
     },
     "metadata": {
      "needs_background": "light"
     },
     "output_type": "display_data"
    },
    {
     "data": {
      "image/png": "[encoded data removed]",
      "text/plain": [
       "<Figure size 432x288 with 2 Axes>"
      ]
     },
     "metadata": {
      "needs_background": "light"
     },
     "output_type": "display_data"
    },
    {
     "name": "stdout",
     "output_type": "stream",
     "text": [
      "21\n"
     ]
    }
   ],
   "source": [
    "for j in np.random.choice(test_galaxies.shape[0], 3, False):\n",
    "    true_psf = test_PSFs_truth[j]\n",
    "    plot_func(true_psf, title='True PSF')\n",
    "    est_psf = test_PSFs_estimate[j]\n",
    "    plot_func(est_psf, title=r'$RCA^{++}$ PSF model')\n",
    "    plot_func(np.abs(true_psf-est_psf), title='residual')\n",
    "    print j"
   ]
  }
 ],
 "metadata": {
  "kernelspec": {
   "display_name": "Python 2",
   "language": "python",
   "name": "python2"
  },
  "language_info": {
   "codemirror_mode": {
    "name": "ipython",
    "version": 2
   },
   "file_extension": ".py",
   "mimetype": "text/x-python",
   "name": "python",
   "nbconvert_exporter": "python",
   "pygments_lexer": "ipython2",
   "version": "2.7.15"
  }
 },
 "nbformat": 4,
 "nbformat_minor": 2
}
